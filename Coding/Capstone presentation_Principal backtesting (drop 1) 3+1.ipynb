{
 "cells": [
  {
   "cell_type": "markdown",
   "metadata": {},
   "source": [
    "\n",
    "\n",
    "<hr style=\"margin-bottom: 40px;\">\n",
    "\n",
    "# Principal - Backtesting"
   ]
  },
  {
   "cell_type": "markdown",
   "metadata": {},
   "source": [
    "![green-divider](https://user-images.githubusercontent.com/7065401/52071924-c003ad80-2562-11e9-8297-1c6595f8a7ff.png)\n",
    "\n",
    "## (A) (B) Simplified"
   ]
  },
  {
   "cell_type": "code",
   "execution_count": 2,
   "metadata": {},
   "outputs": [],
   "source": [
    "import pandas as pd\n",
    "import numpy as np\n",
    "from datetime import datetime\n",
    "from matplotlib import pyplot as plt\n",
    "\n",
    "df = pd.read_excel(\"Principal.xlsx\", parse_dates=True, index_col=\"date\")\n",
    "df.apply(pd.to_numeric, errors='ignore')\n",
    "df = df.rename(columns=lambda x: x.strip())\n",
    "df = df.dropna(axis=\"index\",how=\"all\") #drop NaN values. The earliest data starts from 2001-11-20.\n",
    "df = df.drop([\"PRSSCOA HK Equity\"],axis=1)"
   ]
  },
  {
   "cell_type": "code",
   "execution_count": 3,
   "metadata": {},
   "outputs": [],
   "source": [
    "from pypfopt.efficient_frontier import EfficientFrontier\n",
    "from pypfopt import risk_models\n",
    "from pypfopt import expected_returns\n",
    "from pypfopt import plotting\n",
    "from pypfopt.risk_models import CovarianceShrinkage\n",
    "from pypfopt.expected_returns import mean_historical_return"
   ]
  },
  {
   "cell_type": "code",
   "execution_count": 4,
   "metadata": {},
   "outputs": [
    {
     "data": {
      "text/html": [
       "<div>\n",
       "<style scoped>\n",
       "    .dataframe tbody tr th:only-of-type {\n",
       "        vertical-align: middle;\n",
       "    }\n",
       "\n",
       "    .dataframe tbody tr th {\n",
       "        vertical-align: top;\n",
       "    }\n",
       "\n",
       "    .dataframe thead th {\n",
       "        text-align: right;\n",
       "    }\n",
       "</style>\n",
       "<table border=\"1\" class=\"dataframe\">\n",
       "  <thead>\n",
       "    <tr style=\"text-align: right;\">\n",
       "      <th></th>\n",
       "      <th>count</th>\n",
       "      <th>mean</th>\n",
       "      <th>std</th>\n",
       "      <th>min</th>\n",
       "      <th>25%</th>\n",
       "      <th>50%</th>\n",
       "      <th>75%</th>\n",
       "      <th>max</th>\n",
       "    </tr>\n",
       "  </thead>\n",
       "  <tbody>\n",
       "    <tr>\n",
       "      <th>PRIAGSD HK Equity</th>\n",
       "      <td>1563.0</td>\n",
       "      <td>20.006846</td>\n",
       "      <td>2.112108</td>\n",
       "      <td>15.6100</td>\n",
       "      <td>18.160000</td>\n",
       "      <td>19.81000</td>\n",
       "      <td>21.940000</td>\n",
       "      <td>24.7500</td>\n",
       "    </tr>\n",
       "    <tr>\n",
       "      <th>PRIGLGC HK Equity</th>\n",
       "      <td>4801.0</td>\n",
       "      <td>16.644212</td>\n",
       "      <td>5.180473</td>\n",
       "      <td>7.4400</td>\n",
       "      <td>11.740000</td>\n",
       "      <td>17.18000</td>\n",
       "      <td>20.650000</td>\n",
       "      <td>26.5500</td>\n",
       "    </tr>\n",
       "    <tr>\n",
       "      <th>PRIHDSC HK Equity</th>\n",
       "      <td>4763.0</td>\n",
       "      <td>10.756074</td>\n",
       "      <td>0.300939</td>\n",
       "      <td>10.0390</td>\n",
       "      <td>10.383300</td>\n",
       "      <td>10.89080</td>\n",
       "      <td>10.937000</td>\n",
       "      <td>11.3056</td>\n",
       "    </tr>\n",
       "    <tr>\n",
       "      <th>PRILTAC HK Equity</th>\n",
       "      <td>4766.0</td>\n",
       "      <td>14.554230</td>\n",
       "      <td>3.491566</td>\n",
       "      <td>8.3228</td>\n",
       "      <td>11.042025</td>\n",
       "      <td>14.89255</td>\n",
       "      <td>17.333125</td>\n",
       "      <td>20.9627</td>\n",
       "    </tr>\n",
       "    <tr>\n",
       "      <th>PRILTGC HK Equity</th>\n",
       "      <td>4766.0</td>\n",
       "      <td>11.467751</td>\n",
       "      <td>1.366887</td>\n",
       "      <td>8.1355</td>\n",
       "      <td>10.296325</td>\n",
       "      <td>11.81295</td>\n",
       "      <td>12.709800</td>\n",
       "      <td>13.7850</td>\n",
       "    </tr>\n",
       "    <tr>\n",
       "      <th>PRICAPC HK Equity</th>\n",
       "      <td>4767.0</td>\n",
       "      <td>10.959695</td>\n",
       "      <td>0.402181</td>\n",
       "      <td>10.0980</td>\n",
       "      <td>10.450350</td>\n",
       "      <td>11.19940</td>\n",
       "      <td>11.229500</td>\n",
       "      <td>11.5160</td>\n",
       "    </tr>\n",
       "    <tr>\n",
       "      <th>PRASBON HK Equity</th>\n",
       "      <td>1798.0</td>\n",
       "      <td>9.981389</td>\n",
       "      <td>0.312778</td>\n",
       "      <td>9.4659</td>\n",
       "      <td>9.756450</td>\n",
       "      <td>9.90505</td>\n",
       "      <td>10.125125</td>\n",
       "      <td>10.9521</td>\n",
       "    </tr>\n",
       "    <tr>\n",
       "      <th>PRISTYC HK Equity</th>\n",
       "      <td>4766.0</td>\n",
       "      <td>14.457342</td>\n",
       "      <td>2.802819</td>\n",
       "      <td>9.4267</td>\n",
       "      <td>11.751625</td>\n",
       "      <td>14.97250</td>\n",
       "      <td>16.683100</td>\n",
       "      <td>19.5264</td>\n",
       "    </tr>\n",
       "  </tbody>\n",
       "</table>\n",
       "</div>"
      ],
      "text/plain": [
       "                    count       mean       std      min        25%       50%  \\\n",
       "PRIAGSD HK Equity  1563.0  20.006846  2.112108  15.6100  18.160000  19.81000   \n",
       "PRIGLGC HK Equity  4801.0  16.644212  5.180473   7.4400  11.740000  17.18000   \n",
       "PRIHDSC HK Equity  4763.0  10.756074  0.300939  10.0390  10.383300  10.89080   \n",
       "PRILTAC HK Equity  4766.0  14.554230  3.491566   8.3228  11.042025  14.89255   \n",
       "PRILTGC HK Equity  4766.0  11.467751  1.366887   8.1355  10.296325  11.81295   \n",
       "PRICAPC HK Equity  4767.0  10.959695  0.402181  10.0980  10.450350  11.19940   \n",
       "PRASBON HK Equity  1798.0   9.981389  0.312778   9.4659   9.756450   9.90505   \n",
       "PRISTYC HK Equity  4766.0  14.457342  2.802819   9.4267  11.751625  14.97250   \n",
       "\n",
       "                         75%      max  \n",
       "PRIAGSD HK Equity  21.940000  24.7500  \n",
       "PRIGLGC HK Equity  20.650000  26.5500  \n",
       "PRIHDSC HK Equity  10.937000  11.3056  \n",
       "PRILTAC HK Equity  17.333125  20.9627  \n",
       "PRILTGC HK Equity  12.709800  13.7850  \n",
       "PRICAPC HK Equity  11.229500  11.5160  \n",
       "PRASBON HK Equity  10.125125  10.9521  \n",
       "PRISTYC HK Equity  16.683100  19.5264  "
      ]
     },
     "execution_count": 4,
     "metadata": {},
     "output_type": "execute_result"
    }
   ],
   "source": [
    "describe = df.describe()\n",
    "describe = pd.DataFrame(describe)\n",
    "describe = describe.T\n",
    "describe"
   ]
  },
  {
   "cell_type": "code",
   "execution_count": 5,
   "metadata": {},
   "outputs": [
    {
     "ename": "AssertionError",
     "evalue": "coord len is not equal to labels len",
     "output_type": "error",
     "traceback": [
      "\u001b[0;31m---------------------------------------------------------------------------\u001b[0m",
      "\u001b[0;31mAssertionError\u001b[0m                            Traceback (most recent call last)",
      "\u001b[0;32m<ipython-input-5-87ec442d8920>\u001b[0m in \u001b[0;36m<module>\u001b[0;34m\u001b[0m\n\u001b[1;32m     26\u001b[0m     \u001b[0mplt\u001b[0m\u001b[0;34m.\u001b[0m\u001b[0mshow\u001b[0m\u001b[0;34m(\u001b[0m\u001b[0;34m)\u001b[0m\u001b[0;34m\u001b[0m\u001b[0;34m\u001b[0m\u001b[0m\n\u001b[1;32m     27\u001b[0m \u001b[0;34m\u001b[0m\u001b[0m\n\u001b[0;32m---> 28\u001b[0;31m \u001b[0mplot_with_labels\u001b[0m\u001b[0;34m(\u001b[0m\u001b[0mcoord\u001b[0m\u001b[0;34m,\u001b[0m \u001b[0mlabels\u001b[0m\u001b[0;34m)\u001b[0m\u001b[0;34m\u001b[0m\u001b[0;34m\u001b[0m\u001b[0m\n\u001b[0m",
      "\u001b[0;32m<ipython-input-5-87ec442d8920>\u001b[0m in \u001b[0;36mplot_with_labels\u001b[0;34m(coord, labels)\u001b[0m\n\u001b[1;32m      8\u001b[0m \u001b[0;34m\u001b[0m\u001b[0m\n\u001b[1;32m      9\u001b[0m \u001b[0;32mdef\u001b[0m \u001b[0mplot_with_labels\u001b[0m\u001b[0;34m(\u001b[0m\u001b[0mcoord\u001b[0m\u001b[0;34m,\u001b[0m \u001b[0mlabels\u001b[0m\u001b[0;34m)\u001b[0m\u001b[0;34m:\u001b[0m\u001b[0;34m\u001b[0m\u001b[0;34m\u001b[0m\u001b[0m\n\u001b[0;32m---> 10\u001b[0;31m     \u001b[0;32massert\u001b[0m \u001b[0mlen\u001b[0m\u001b[0;34m(\u001b[0m\u001b[0mcoord\u001b[0m\u001b[0;34m)\u001b[0m \u001b[0;34m==\u001b[0m \u001b[0mlen\u001b[0m\u001b[0;34m(\u001b[0m\u001b[0mlabels\u001b[0m\u001b[0;34m)\u001b[0m\u001b[0;34m,\u001b[0m \u001b[0;34m'coord len is not equal to labels len'\u001b[0m\u001b[0;34m\u001b[0m\u001b[0;34m\u001b[0m\u001b[0m\n\u001b[0m\u001b[1;32m     11\u001b[0m     \u001b[0mplt\u001b[0m\u001b[0;34m.\u001b[0m\u001b[0mfigure\u001b[0m\u001b[0;34m(\u001b[0m\u001b[0mfigsize\u001b[0m\u001b[0;34m=\u001b[0m\u001b[0;34m(\u001b[0m\u001b[0;36m10\u001b[0m\u001b[0;34m,\u001b[0m\u001b[0;36m30\u001b[0m\u001b[0;34m)\u001b[0m\u001b[0;34m)\u001b[0m\u001b[0;34m\u001b[0m\u001b[0;34m\u001b[0m\u001b[0m\n\u001b[1;32m     12\u001b[0m     \u001b[0mplt\u001b[0m\u001b[0;34m.\u001b[0m\u001b[0mxlabel\u001b[0m\u001b[0;34m(\u001b[0m\u001b[0;34m'Mean historic return'\u001b[0m\u001b[0;34m)\u001b[0m\u001b[0;34m\u001b[0m\u001b[0;34m\u001b[0m\u001b[0m\n",
      "\u001b[0;31mAssertionError\u001b[0m: coord len is not equal to labels len"
     ]
    }
   ],
   "source": [
    "# get a list of all the column names \n",
    "indexNamesArr = describe.index.values\n",
    "# convert ndarray to list\n",
    "listOfRowIndexLabels = list(indexNamesArr)\n",
    "\n",
    "coord = [(0.038802, 1.598254),( 0.023617, 0.745137),( 0.025753, 0.802417),( 0.045350, 2.066649),( 0.106415, 0.574546),( 0.053244, 0.432762),( 0.039204, 1.853161),( 0.059571, 0.444722),( 0.024976, 2.706996),( 0.012862, 0.312357),( 0.039587, 2.285998),( 0.001826, 0.044556),( 0.027979, 1.050875),( 0.032775, 1.438767),( 0.040590, 2.009521),( 0.042759, 2.400255)]\n",
    "labels = listOfRowIndexLabels\n",
    "\n",
    "def plot_with_labels(coord, labels):\n",
    "    assert len(coord) == len(labels), 'coord len is not equal to labels len'\n",
    "    plt.figure(figsize=(10,30))\n",
    "    plt.xlabel('Mean historic return')\n",
    "    plt.ylabel('volatility')\n",
    "    plt.title(\"Performance of Principal Funds\")\n",
    "    plt\n",
    "    for i, label in enumerate(labels): #get (0, label)\n",
    "        x, y = coord[i] #2 dim\n",
    "        plt.scatter(x, y,)\n",
    "                #\n",
    "        plt.annotate(label,\n",
    "                xy=(x, y), #show point \n",
    "                xytext=(5, 2), #show annotate\n",
    "                textcoords='offset points',\n",
    "                ha='right',\n",
    "                va='bottom')\n",
    "    plt.show()\n",
    "    \n",
    "plot_with_labels(coord, labels)"
   ]
  },
  {
   "cell_type": "markdown",
   "metadata": {},
   "source": [
    "![green-divider](https://user-images.githubusercontent.com/7065401/52071924-c003ad80-2562-11e9-8297-1c6595f8a7ff.png)\n",
    "\n",
    "## (C) - Backtesting and Optimization\n",
    "\n",
    "### Split training set and test set\n",
    "\n",
    "1. Split data in train and test set given a Date (i.e. test set is what happens after 31 July 2020 not included).\n",
    "\n",
    "2. Further split train set into train set and validation set (i.e. what happens before 31 July 2020 included) in 6 consecutive time folds.\n",
    "\n",
    "Then, in order not lo lose the time information, perform the following steps:\n",
    " \n",
    "one = Train on fold 10,11,12,13 (2010-08-01 to 2014-07-31) –>  Test on fold 14 (2014-08-01 to 2015-07-31)\n",
    "\n",
    "two = Train on fold 11,12,13,14 –>  Test on fold 15 \n",
    "\n",
    "three = Train on fold 12,13,14,15 –>  Test on fold 16\n",
    "\n",
    "four = Train on fold 13,14,15,16 –>  Test on fold 17\n",
    "\n",
    "five = Train on fold 14,15,16,17 –>  Test on fold 18\n",
    "\n",
    "six = Train on fold 15,16,17,18 –>  Test on fold 19 (2019-08-01 to 2020-07-31)\n",
    "\n",
    "Compute the average of the accuracies of the 6 test folds."
   ]
  },
  {
   "cell_type": "code",
   "execution_count": 8,
   "metadata": {},
   "outputs": [],
   "source": [
    "S = CovarianceShrinkage(df).ledoit_wolf()\n",
    "mu = mean_historical_return(df)\n",
    "from datetime import date\n",
    "#train sets\n",
    "one = df[(df.index > pd.Timestamp(date(2001,11,20))) & (df.index < pd.Timestamp(date(2004,7,31)))]\n",
    "two = df[(df.index > pd.Timestamp(date(2002,8,1))) & (df.index < pd.Timestamp(date(2005,7,31)))]\n",
    "three = df[(df.index > pd.Timestamp(date(2003,8,1))) & (df.index < pd.Timestamp(date(2006,7,31)))]\n",
    "four = df[(df.index > pd.Timestamp(date(2004,8,1))) & (df.index < pd.Timestamp(date(2007,7,31)))]\n",
    "five = df[(df.index > pd.Timestamp(date(2005,8,1))) & (df.index < pd.Timestamp(date(2008,7,31)))]\n",
    "six = df[(df.index > pd.Timestamp(date(2006,8,1))) & (df.index < pd.Timestamp(date(2009,7,31)))]\n",
    "seven = df[(df.index > pd.Timestamp(date(2007,8,1))) & (df.index < pd.Timestamp(date(2010,7,31)))]\n",
    "eight = df[(df.index > pd.Timestamp(date(2008,8,1))) & (df.index < pd.Timestamp(date(2011,7,31)))]\n",
    "nine = df[(df.index > pd.Timestamp(date(2009,8,1))) & (df.index < pd.Timestamp(date(2012,7,31)))]\n",
    "ten = df[(df.index > pd.Timestamp(date(2010,8,1))) & (df.index < pd.Timestamp(date(2013,7,31)))]\n",
    "eleven = df[(df.index > pd.Timestamp(date(2011,8,1))) & (df.index < pd.Timestamp(date(2014,7,31)))]\n",
    "twelve = df[(df.index > pd.Timestamp(date(2012,8,1))) & (df.index < pd.Timestamp(date(2015,7,31)))]\n",
    "thirteen = df[(df.index > pd.Timestamp(date(2013,8,1))) & (df.index < pd.Timestamp(date(2016,7,31)))]\n",
    "fourteen = df[(df.index > pd.Timestamp(date(2014,8,1))) & (df.index < pd.Timestamp(date(2017,7,31)))]\n",
    "fifteen = df[(df.index > pd.Timestamp(date(2015,8,1))) & (df.index < pd.Timestamp(date(2018,7,31)))]\n",
    "sixteen = df[(df.index > pd.Timestamp(date(2016,8,1))) & (df.index < pd.Timestamp(date(2019,7,31)))]\n",
    "\n",
    "\n",
    "#validation sets\n",
    "tone = df[(df.index > pd.Timestamp(date(2004,8,1))) & (df.index < pd.Timestamp(date(2005,7,31)))]\n",
    "ttwo = df[(df.index > pd.Timestamp(date(2005,8,1))) & (df.index < pd.Timestamp(date(2006,7,31)))]\n",
    "tthree = df[(df.index > pd.Timestamp(date(2006,8,1))) & (df.index < pd.Timestamp(date(2007,7,31)))]\n",
    "tfour = df[(df.index > pd.Timestamp(date(2007,8,1))) & (df.index < pd.Timestamp(date(2008,7,31)))]\n",
    "tfive = df[(df.index > pd.Timestamp(date(2008,8,1))) & (df.index < pd.Timestamp(date(2009,7,31)))]\n",
    "tsix = df[(df.index > pd.Timestamp(date(2009,8,1))) & (df.index < pd.Timestamp(date(2010,7,31)))]\n",
    "tseven = df[(df.index > pd.Timestamp(date(2010,8,1))) & (df.index < pd.Timestamp(date(2011,7,31)))]\n",
    "teight = df[(df.index > pd.Timestamp(date(2011,8,1))) & (df.index < pd.Timestamp(date(2012,7,31)))]\n",
    "tnine = df[(df.index > pd.Timestamp(date(2012,8,1))) & (df.index < pd.Timestamp(date(2013,7,31)))]\n",
    "tten = df[(df.index > pd.Timestamp(date(2013,8,1))) & (df.index < pd.Timestamp(date(2014,7,31)))]\n",
    "televen = df[(df.index > pd.Timestamp(date(2014,8,1))) & (df.index < pd.Timestamp(date(2015,7,31)))]\n",
    "ttwelve = df[(df.index > pd.Timestamp(date(2015,8,1))) & (df.index < pd.Timestamp(date(2016,7,31)))]\n",
    "tthirteen = df[(df.index > pd.Timestamp(date(2016,8,1))) & (df.index < pd.Timestamp(date(2017,7,31)))]\n",
    "tfourteen = df[(df.index > pd.Timestamp(date(2017,8,1))) & (df.index < pd.Timestamp(date(2018,7,31)))]\n",
    "tfifteen = df[(df.index > pd.Timestamp(date(2018,8,1))) & (df.index < pd.Timestamp(date(2019,7,31)))]\n",
    "tsixteen = df[(df.index > pd.Timestamp(date(2019,8,1))) & (df.index < pd.Timestamp(date(2020,7,31)))]\n",
    "\n"
   ]
  },
  {
   "cell_type": "code",
   "execution_count": 9,
   "metadata": {},
   "outputs": [],
   "source": [
    "#Calculating risk (covariance matrix) for different train periods.\n",
    "S1 = CovarianceShrinkage(one).ledoit_wolf()\n",
    "S2 = CovarianceShrinkage(two).ledoit_wolf()\n",
    "S3 = CovarianceShrinkage(three).ledoit_wolf()\n",
    "S4 = CovarianceShrinkage(four).ledoit_wolf()\n",
    "S5 = CovarianceShrinkage(five).ledoit_wolf()\n",
    "S6 = CovarianceShrinkage(six).ledoit_wolf()\n",
    "S7 = CovarianceShrinkage(seven).ledoit_wolf()\n",
    "S8 = CovarianceShrinkage(eight).ledoit_wolf()\n",
    "S9 = CovarianceShrinkage(nine).ledoit_wolf()\n",
    "S10 = CovarianceShrinkage(ten).ledoit_wolf()\n",
    "S11 = CovarianceShrinkage(eleven).ledoit_wolf()\n",
    "S12 = CovarianceShrinkage(twelve).ledoit_wolf()\n",
    "S13 = CovarianceShrinkage(thirteen).ledoit_wolf()\n",
    "S14 = CovarianceShrinkage(fourteen).ledoit_wolf()\n",
    "S15 = CovarianceShrinkage(fifteen).ledoit_wolf()\n",
    "S16 = CovarianceShrinkage(sixteen).ledoit_wolf()\n",
    "\n",
    "'''plot them for the presentation.\n",
    "plotting.plot_covariance(S1, plot_correlation=True)\n",
    "plotting.plot_covariance(S2, plot_correlation=True)\n",
    "plotting.plot_covariance(S3, plot_correlation=True)\n",
    "plotting.plot_covariance(S4, plot_correlation=True)\n",
    "plotting.plot_covariance(S5, plot_correlation=True)\n",
    "plotting.plot_covariance(S6, plot_correlation=True)\n",
    "'''\n",
    "\n",
    "#Calculating the expected returns for different train periods.\n",
    "mu1 = mean_historical_return(one)\n",
    "mu2 = mean_historical_return(two)\n",
    "mu3 = mean_historical_return(three)\n",
    "mu4 = mean_historical_return(four)\n",
    "mu5 = mean_historical_return(five)\n",
    "mu6 = mean_historical_return(six)\n",
    "mu7 = mean_historical_return(seven)\n",
    "mu8 = mean_historical_return(eight)\n",
    "mu9 = mean_historical_return(nine)\n",
    "mu10 = mean_historical_return(ten)\n",
    "mu11 = mean_historical_return(eleven)\n",
    "mu12 = mean_historical_return(twelve)\n",
    "mu13 = mean_historical_return(thirteen)\n",
    "mu14 = mean_historical_return(fourteen)\n",
    "mu15 = mean_historical_return(fifteen)\n",
    "mu16 = mean_historical_return(sixteen)\n",
    "\n",
    "'''plot and show them for the presentation.\n",
    "mu1\n",
    "mu1.plot.barh(figsize=(10,6))\n",
    "(same for others)\n",
    "'''\n",
    "\n",
    "#Calculating the expected returns for different validation periods.\n",
    "tmu1 = mean_historical_return(tone)\n",
    "tmu2 = mean_historical_return(ttwo)\n",
    "tmu3 = mean_historical_return(tthree)\n",
    "tmu4 = mean_historical_return(tfour)\n",
    "tmu5 = mean_historical_return(tfive)\n",
    "tmu6 = mean_historical_return(tsix)\n",
    "tmu7 = mean_historical_return(tseven)\n",
    "tmu8 = mean_historical_return(teight)\n",
    "tmu9 = mean_historical_return(tnine)\n",
    "tmu10 = mean_historical_return(tten)\n",
    "tmu11 = mean_historical_return(televen)\n",
    "tmu12 = mean_historical_return(ttwelve)\n",
    "tmu13 = mean_historical_return(tthirteen)\n",
    "tmu14 = mean_historical_return(tfourteen)\n",
    "tmu15 = mean_historical_return(tfifteen)\n",
    "tmu16 = mean_historical_return(tsixteen)"
   ]
  },
  {
   "cell_type": "code",
   "execution_count": 10,
   "metadata": {},
   "outputs": [],
   "source": [
    "B1 = -0.649\n",
    "B2 = 1.224\n",
    "B3 = 3.503\n",
    "B4 = 2.763\n",
    "B5 = -0.847\n",
    "B6 = -0.073\n",
    "B7 = -0.585\n",
    "B8 = -0.150\n",
    "B9 = 0.364\n",
    "B10 = 0.044\n",
    "B11 = 0.374\n",
    "B12 = -0.387\n",
    "B13 = 0.295\n",
    "B14 = 6.187\n",
    "B15 = 3.209\n",
    "B16 = 6.660\n"
   ]
  },
  {
   "cell_type": "markdown",
   "metadata": {},
   "source": [
    "![green-divider](https://user-images.githubusercontent.com/7065401/52071924-c003ad80-2562-11e9-8297-1c6595f8a7ff.png)\n",
    "![green-divider](https://user-images.githubusercontent.com/7065401/52071924-c003ad80-2562-11e9-8297-1c6595f8a7ff.png)\n",
    "![green-divider](https://user-images.githubusercontent.com/7065401/52071924-c003ad80-2562-11e9-8297-1c6595f8a7ff.png)\n",
    "## Function 1a - Portfolio Optimization for maximal Sharpe ratio\n",
    "![green-divider](https://user-images.githubusercontent.com/7065401/52071924-c003ad80-2562-11e9-8297-1c6595f8a7ff.png)\n",
    "![green-divider](https://user-images.githubusercontent.com/7065401/52071924-c003ad80-2562-11e9-8297-1c6595f8a7ff.png)\n",
    "![green-divider](https://user-images.githubusercontent.com/7065401/52071924-c003ad80-2562-11e9-8297-1c6595f8a7ff.png)\n",
    "![green-divider](https://user-images.githubusercontent.com/7065401/52071924-c003ad80-2562-11e9-8297-1c6595f8a7ff.png)\n"
   ]
  },
  {
   "cell_type": "markdown",
   "metadata": {},
   "source": [
    "\n",
    "## 1st five-year Backtesting (for Function 1a)\n",
    "### Run the function - what's the weighting for this period?"
   ]
  },
  {
   "cell_type": "code",
   "execution_count": 79,
   "metadata": {
    "scrolled": true
   },
   "outputs": [
    {
     "name": "stdout",
     "output_type": "stream",
     "text": [
      "OrderedDict([('PRIAGSD HK Equity', 0.0), ('PRIGLGC HK Equity', 0.0), ('PRIHDSC HK Equity', 0.0), ('PRILTAC HK Equity', 0.0), ('PRILTGC HK Equity', 0.0), ('PRICAPC HK Equity', 0.0), ('PRASBON HK Equity', 0.0), ('PRISTYC HK Equity', 0.99999)])\n",
      "Performance of function 1a portfolio in train period:\n"
     ]
    },
    {
     "data": {
      "text/plain": [
       "<matplotlib.axes._subplots.AxesSubplot at 0x7ff0ac55e730>"
      ]
     },
     "execution_count": 79,
     "metadata": {},
     "output_type": "execute_result"
    },
    {
     "data": {
      "image/png": "[encoded data removed]",
      "text/plain": [
       "<Figure size 360x360 with 1 Axes>"
      ]
     },
     "metadata": {},
     "output_type": "display_data"
    }
   ],
   "source": [
    "ef = EfficientFrontier(mu1, S1)\n",
    "\n",
    "weight1a = ef.max_sharpe() #raw weights\n",
    "cleanweight1a = ef.clean_weights() #cleaned weights\n",
    "print(cleanweight1a)\n",
    "print(\"Performance of function 1a portfolio in train period:\")\n",
    "pd.Series(cleanweight1a).plot.pie(figsize=(5,5))"
   ]
  },
  {
   "cell_type": "markdown",
   "metadata": {},
   "source": [
    "### Comparison - Performance of Portfolio during the Train period."
   ]
  },
  {
   "cell_type": "code",
   "execution_count": 80,
   "metadata": {
    "scrolled": true
   },
   "outputs": [
    {
     "name": "stdout",
     "output_type": "stream",
     "text": [
      "Expected annual return: 2.3%\n",
      "Annual volatility: 8.0%\n",
      "Sharpe Ratio: 0.04\n"
     ]
    },
    {
     "data": {
      "text/plain": [
       "<matplotlib.axes._subplots.AxesSubplot at 0x7ff0ac6bb040>"
      ]
     },
     "execution_count": 80,
     "metadata": {},
     "output_type": "execute_result"
    },
    {
     "data": {
      "image/png": "[encoded data removed]",
      "text/plain": [
       "<Figure size 720x432 with 1 Axes>"
      ]
     },
     "metadata": {
      "needs_background": "light"
     },
     "output_type": "display_data"
    }
   ],
   "source": [
    "ret,vol,sharpe = ef.portfolio_performance(verbose=True)\n",
    "\n",
    "mu1.plot.barh(figsize=(10,6))    #return of each funds from 2010 to 2014."
   ]
  },
  {
   "cell_type": "markdown",
   "metadata": {},
   "source": [
    "### Comparison - Performance of Portfolio during the Validation period."
   ]
  },
  {
   "cell_type": "code",
   "execution_count": 81,
   "metadata": {},
   "outputs": [
    {
     "name": "stdout",
     "output_type": "stream",
     "text": [
      "Portfolio return in test year(%):\n",
      "8.498448164436569\n",
      "Portfolio return compared to train set (+- %):\n",
      "6.186014875484279\n",
      "Percentage change compared to train set (+- %):\n",
      "267.5110631315561\n",
      "-0.649\n",
      "Compare to benchmark (+- %):\n",
      "9.147448164436568\n"
     ]
    },
    {
     "data": {
      "text/plain": [
       "<matplotlib.axes._subplots.AxesSubplot at 0x7ff0ac791310>"
      ]
     },
     "execution_count": 81,
     "metadata": {},
     "output_type": "execute_result"
    },
    {
     "data": {
      "image/png": "[encoded data removed]",
      "text/plain": [
       "<Figure size 720x432 with 1 Axes>"
      ]
     },
     "metadata": {
      "needs_background": "light"
     },
     "output_type": "display_data"
    }
   ],
   "source": [
    "#calculate the asset returns in our portfolio.\n",
    "ret_data = tone.pct_change()[1:]\n",
    "\n",
    "#calculate the weighted returns of our assets.\n",
    "weighted_returns = (cleanweight1a * ret_data)\n",
    "\n",
    "#portfolio returns are simply the sum of the weighted returns of the assets. So lets add the rows.\n",
    "port_ret1 = weighted_returns.sum(axis=1)\n",
    "print(\"Portfolio return in test year(%):\")\n",
    "print(sum(port_ret1)*100)\n",
    "print(\"Portfolio return compared to train set (+- %):\")\n",
    "diff1 = (sum(port_ret1) - ret)*100\n",
    "print(diff1)\n",
    "print(\"Percentage change compared to train set (+- %):\")\n",
    "perch1 = diff1/ret\n",
    "print(perch1)\n",
    "print(B1)\n",
    "compare1=((sum(port_ret1)*100)-B1)\n",
    "print(\"Compare to benchmark (+- %):\")\n",
    "print(compare1)\n",
    "\n",
    "tmu1.plot.barh(figsize=(10,6))  #return of each fund from 2014 to 2015. (test period)"
   ]
  },
  {
   "cell_type": "markdown",
   "metadata": {},
   "source": [
    "![green-divider](https://user-images.githubusercontent.com/7065401/52071924-c003ad80-2562-11e9-8297-1c6595f8a7ff.png)\n",
    "\n",
    "## 2nd five-year Backtesting  (for Function 1a)"
   ]
  },
  {
   "cell_type": "markdown",
   "metadata": {},
   "source": [
    "### Run the function - what's the weighting for this period?"
   ]
  },
  {
   "cell_type": "code",
   "execution_count": 82,
   "metadata": {},
   "outputs": [
    {
     "name": "stdout",
     "output_type": "stream",
     "text": [
      "OrderedDict([('PRIAGSD HK Equity', 0.0), ('PRIGLGC HK Equity', 0.46005), ('PRIHDSC HK Equity', 0.0), ('PRILTAC HK Equity', 0.07405), ('PRILTGC HK Equity', 0.0), ('PRICAPC HK Equity', 0.0), ('PRASBON HK Equity', 0.0), ('PRISTYC HK Equity', 0.4659)])\n",
      "Performance of function 1a portfolio in train period:\n"
     ]
    },
    {
     "data": {
      "text/plain": [
       "<matplotlib.axes._subplots.AxesSubplot at 0x7ff0aca3a2b0>"
      ]
     },
     "execution_count": 82,
     "metadata": {},
     "output_type": "execute_result"
    },
    {
     "data": {
      "image/png": "[encoded data removed]",
      "text/plain": [
       "<Figure size 360x360 with 1 Axes>"
      ]
     },
     "metadata": {},
     "output_type": "display_data"
    }
   ],
   "source": [
    "ef = EfficientFrontier(mu2, S2)\n",
    "\n",
    "weight1a = ef.max_sharpe() #raw weights\n",
    "cleanweight1a = ef.clean_weights() #cleaned weights\n",
    "print(cleanweight1a)\n",
    "print(\"Performance of function 1a portfolio in train period:\")\n",
    "pd.Series(cleanweight1a).plot.pie(figsize=(5,5))"
   ]
  },
  {
   "cell_type": "markdown",
   "metadata": {},
   "source": [
    "### Comparison - Performance of Portfolio during the Train period."
   ]
  },
  {
   "cell_type": "code",
   "execution_count": 83,
   "metadata": {},
   "outputs": [
    {
     "name": "stdout",
     "output_type": "stream",
     "text": [
      "Expected annual return: 6.7%\n",
      "Annual volatility: 5.9%\n",
      "Sharpe Ratio: 0.78\n"
     ]
    },
    {
     "data": {
      "text/plain": [
       "<matplotlib.axes._subplots.AxesSubplot at 0x7ff0ab22f4c0>"
      ]
     },
     "execution_count": 83,
     "metadata": {},
     "output_type": "execute_result"
    },
    {
     "data": {
      "image/png": "[encoded data removed]",
      "text/plain": [
       "<Figure size 720x432 with 1 Axes>"
      ]
     },
     "metadata": {
      "needs_background": "light"
     },
     "output_type": "display_data"
    }
   ],
   "source": [
    "ret,vol,sharpe = ef.portfolio_performance(verbose=True)\n",
    "\n",
    "mu2.plot.barh(figsize=(10,6))    #return of each funds from 2010 to 2014."
   ]
  },
  {
   "cell_type": "markdown",
   "metadata": {},
   "source": [
    "### Comparison - Performance of Portfolio during the Validation period."
   ]
  },
  {
   "cell_type": "code",
   "execution_count": 84,
   "metadata": {},
   "outputs": [
    {
     "name": "stdout",
     "output_type": "stream",
     "text": [
      "Portfolio return in test year(%):\n",
      "9.300984753528596\n",
      "Portfolio return compared to train set (+- %):\n",
      "2.6494192602590325\n",
      "Percentage change compared to train set (+- %):\n",
      "39.83151429449003\n",
      "1.224\n",
      "Compare to benchmark (+- %):\n",
      "8.076984753528595\n"
     ]
    },
    {
     "data": {
      "text/plain": [
       "<matplotlib.axes._subplots.AxesSubplot at 0x7ff0abc82430>"
      ]
     },
     "execution_count": 84,
     "metadata": {},
     "output_type": "execute_result"
    },
    {
     "data": {
      "image/png": "[encoded data removed]",
      "text/plain": [
       "<Figure size 720x432 with 1 Axes>"
      ]
     },
     "metadata": {
      "needs_background": "light"
     },
     "output_type": "display_data"
    }
   ],
   "source": [
    "#calculate the asset returns in our portfolio.\n",
    "ret_data = ttwo.pct_change()[1:]\n",
    "\n",
    "#calculate the weighted returns of our assets.\n",
    "weighted_returns = (cleanweight1a * ret_data)\n",
    "\n",
    "#portfolio returns are simply the sum of the weighted returns of the assets. So lets add the rows.\n",
    "port_ret2 = weighted_returns.sum(axis=1)\n",
    "print(\"Portfolio return in test year(%):\")\n",
    "print(sum(port_ret2)*100)\n",
    "print(\"Portfolio return compared to train set (+- %):\")\n",
    "diff2 = (sum(port_ret2) - ret)*100\n",
    "print(diff2)\n",
    "print(\"Percentage change compared to train set (+- %):\")\n",
    "perch2 = diff2/ret\n",
    "print(perch2)\n",
    "print(B2)\n",
    "compare2=((sum(port_ret2)*100)-B2)\n",
    "print(\"Compare to benchmark (+- %):\")\n",
    "print(compare2)\n",
    "\n",
    "tmu2.plot.barh(figsize=(10,6))  #return of each fund from 2014 to 2015. (test period)"
   ]
  },
  {
   "cell_type": "markdown",
   "metadata": {},
   "source": [
    "![green-divider](https://user-images.githubusercontent.com/7065401/52071924-c003ad80-2562-11e9-8297-1c6595f8a7ff.png)\n",
    "\n",
    "## 3rd five-year Backtesting  (for Function 1a)"
   ]
  },
  {
   "cell_type": "markdown",
   "metadata": {},
   "source": [
    "### Run the function - what's the weighting for this period?"
   ]
  },
  {
   "cell_type": "code",
   "execution_count": 85,
   "metadata": {},
   "outputs": [
    {
     "name": "stdout",
     "output_type": "stream",
     "text": [
      "OrderedDict([('PRIAGSD HK Equity', 0.0), ('PRIGLGC HK Equity', 0.56002), ('PRIHDSC HK Equity', 0.0), ('PRILTAC HK Equity', 0.06583), ('PRILTGC HK Equity', 0.0), ('PRICAPC HK Equity', 0.0), ('PRASBON HK Equity', 0.0), ('PRISTYC HK Equity', 0.37415)])\n",
      "Performance of function 1a portfolio in train period:\n"
     ]
    },
    {
     "data": {
      "text/plain": [
       "<matplotlib.axes._subplots.AxesSubplot at 0x7ff0acd54dc0>"
      ]
     },
     "execution_count": 85,
     "metadata": {},
     "output_type": "execute_result"
    },
    {
     "data": {
      "image/png": "[encoded data removed]",
      "text/plain": [
       "<Figure size 360x360 with 1 Axes>"
      ]
     },
     "metadata": {},
     "output_type": "display_data"
    }
   ],
   "source": [
    "ef = EfficientFrontier(mu3, S3)\n",
    "\n",
    "weight1a = ef.max_sharpe() #raw weights\n",
    "cleanweight1a = ef.clean_weights() #cleaned weights\n",
    "print(cleanweight1a)\n",
    "print(\"Performance of function 1a portfolio in train period:\")\n",
    "pd.Series(cleanweight1a).plot.pie(figsize=(5,5))"
   ]
  },
  {
   "cell_type": "markdown",
   "metadata": {},
   "source": [
    "### Comparison - Performance of Portfolio during the Train period."
   ]
  },
  {
   "cell_type": "code",
   "execution_count": 86,
   "metadata": {
    "scrolled": true
   },
   "outputs": [
    {
     "name": "stdout",
     "output_type": "stream",
     "text": [
      "Expected annual return: 12.7%\n",
      "Annual volatility: 5.9%\n",
      "Sharpe Ratio: 1.81\n"
     ]
    },
    {
     "data": {
      "text/plain": [
       "<matplotlib.axes._subplots.AxesSubplot at 0x7ff0acecbb50>"
      ]
     },
     "execution_count": 86,
     "metadata": {},
     "output_type": "execute_result"
    },
    {
     "data": {
      "image/png": "[encoded data removed]",
      "text/plain": [
       "<Figure size 720x432 with 1 Axes>"
      ]
     },
     "metadata": {
      "needs_background": "light"
     },
     "output_type": "display_data"
    }
   ],
   "source": [
    "ret,vol,sharpe = ef.portfolio_performance(verbose=True)\n",
    "\n",
    "mu3.plot.barh(figsize=(10,6))    #return of each funds from 2010 to 2014."
   ]
  },
  {
   "cell_type": "markdown",
   "metadata": {},
   "source": [
    "### Comparison - Performance of Portfolio during the Validation period."
   ]
  },
  {
   "cell_type": "code",
   "execution_count": 87,
   "metadata": {
    "scrolled": true
   },
   "outputs": [
    {
     "name": "stdout",
     "output_type": "stream",
     "text": [
      "Portfolio return in test year(%):\n",
      "13.695884937643186\n",
      "Portfolio return compared to train set (+- %):\n",
      "1.0113179869175344\n",
      "Percentage change compared to train set (+- %):\n",
      "7.972822334779663\n",
      "3.503\n",
      "Compare to benchmark (+- %):\n",
      "10.932884937643186\n"
     ]
    },
    {
     "data": {
      "text/plain": [
       "<matplotlib.axes._subplots.AxesSubplot at 0x7ff0acfafa60>"
      ]
     },
     "execution_count": 87,
     "metadata": {},
     "output_type": "execute_result"
    },
    {
     "data": {
      "image/png": "[encoded data removed]",
      "text/plain": [
       "<Figure size 720x432 with 1 Axes>"
      ]
     },
     "metadata": {
      "needs_background": "light"
     },
     "output_type": "display_data"
    }
   ],
   "source": [
    "#calculate the asset returns in our portfolio.\n",
    "ret_data = tthree.pct_change()[1:]\n",
    "\n",
    "#calculate the weighted returns of our assets.\n",
    "weighted_returns = (cleanweight1a * ret_data)\n",
    "\n",
    "#portfolio returns are simply the sum of the weighted returns of the assets. So lets add the rows.\n",
    "port_ret3 = weighted_returns.sum(axis=1)\n",
    "print(\"Portfolio return in test year(%):\")\n",
    "print(sum(port_ret3)*100)\n",
    "print(\"Portfolio return compared to train set (+- %):\")\n",
    "diff3 = (sum(port_ret3) - ret)*100\n",
    "print(diff3)\n",
    "print(\"Percentage change compared to train set (+- %):\")\n",
    "perch3 = diff3/ret\n",
    "print(perch3)\n",
    "print(B3)\n",
    "compare3=((sum(port_ret3)*100)-B4)\n",
    "print(\"Compare to benchmark (+- %):\")\n",
    "print(compare3)\n",
    "\n",
    "tmu3.plot.barh(figsize=(10,6))  #return of each fund from 2014 to 2015. (test period)"
   ]
  },
  {
   "cell_type": "markdown",
   "metadata": {},
   "source": [
    "![green-divider](https://user-images.githubusercontent.com/7065401/52071924-c003ad80-2562-11e9-8297-1c6595f8a7ff.png)\n",
    "\n",
    "## 4th five-year Backtesting  (for Function 1a)"
   ]
  },
  {
   "cell_type": "markdown",
   "metadata": {},
   "source": [
    "### Run the function - what's the weighting for this period?"
   ]
  },
  {
   "cell_type": "code",
   "execution_count": 88,
   "metadata": {
    "scrolled": true
   },
   "outputs": [
    {
     "name": "stdout",
     "output_type": "stream",
     "text": [
      "OrderedDict([('PRIAGSD HK Equity', 0.0), ('PRIGLGC HK Equity', 0.6386), ('PRIHDSC HK Equity', 0.0), ('PRILTAC HK Equity', 0.02752), ('PRILTGC HK Equity', 0.0), ('PRICAPC HK Equity', 0.0), ('PRASBON HK Equity', 0.0), ('PRISTYC HK Equity', 0.33388)])\n",
      "Performance of function 1a portfolio in train period:\n"
     ]
    },
    {
     "data": {
      "text/plain": [
       "<matplotlib.axes._subplots.AxesSubplot at 0x7ff0ad114c70>"
      ]
     },
     "execution_count": 88,
     "metadata": {},
     "output_type": "execute_result"
    },
    {
     "data": {
      "image/png": "[encoded data removed]",
      "text/plain": [
       "<Figure size 360x360 with 1 Axes>"
      ]
     },
     "metadata": {},
     "output_type": "display_data"
    }
   ],
   "source": [
    "ef = EfficientFrontier(mu4, S4)\n",
    "\n",
    "weight1a = ef.max_sharpe() #raw weights\n",
    "cleanweight1a = ef.clean_weights() #cleaned weights\n",
    "print(cleanweight1a)\n",
    "print(\"Performance of function 1a portfolio in train period:\")\n",
    "pd.Series(cleanweight1a).plot.pie(figsize=(5,5))"
   ]
  },
  {
   "cell_type": "markdown",
   "metadata": {},
   "source": [
    "### Comparison - Performance of Portfolio during the Train period."
   ]
  },
  {
   "cell_type": "code",
   "execution_count": 89,
   "metadata": {
    "scrolled": true
   },
   "outputs": [
    {
     "name": "stdout",
     "output_type": "stream",
     "text": [
      "Expected annual return: 12.9%\n",
      "Annual volatility: 5.6%\n",
      "Sharpe Ratio: 1.95\n"
     ]
    },
    {
     "data": {
      "text/plain": [
       "<matplotlib.axes._subplots.AxesSubplot at 0x7ff0ad269a30>"
      ]
     },
     "execution_count": 89,
     "metadata": {},
     "output_type": "execute_result"
    },
    {
     "data": {
      "image/png": "[encoded data removed]",
      "text/plain": [
       "<Figure size 720x432 with 1 Axes>"
      ]
     },
     "metadata": {
      "needs_background": "light"
     },
     "output_type": "display_data"
    }
   ],
   "source": [
    "ret,vol,sharpe = ef.portfolio_performance(verbose=True)\n",
    "\n",
    "mu4.plot.barh(figsize=(10,6))    #return of each funds from 2010 to 2014."
   ]
  },
  {
   "cell_type": "markdown",
   "metadata": {},
   "source": [
    "### Comparison - Performance of Portfolio during the Validation period."
   ]
  },
  {
   "cell_type": "code",
   "execution_count": 90,
   "metadata": {
    "scrolled": true
   },
   "outputs": [
    {
     "name": "stdout",
     "output_type": "stream",
     "text": [
      "Portfolio return in test year(%):\n",
      "10.444929704436852\n",
      "Portfolio return compared to train set (+- %):\n",
      "-2.4894454345112687\n",
      "Percentage change compared to train set (+- %):\n",
      "-19.246739079145968\n",
      "Compare to benchmark (+- %):\n",
      "7.681929704436852\n"
     ]
    },
    {
     "data": {
      "text/plain": [
       "<matplotlib.axes._subplots.AxesSubplot at 0x7ff0ad343820>"
      ]
     },
     "execution_count": 90,
     "metadata": {},
     "output_type": "execute_result"
    },
    {
     "data": {
      "image/png": "[encoded data removed]",
      "text/plain": [
       "<Figure size 720x432 with 1 Axes>"
      ]
     },
     "metadata": {
      "needs_background": "light"
     },
     "output_type": "display_data"
    }
   ],
   "source": [
    "#calculate the asset returns in our portfolio.\n",
    "ret_data = tfour.pct_change()[1:]\n",
    "\n",
    "#calculate the weighted returns of our assets.\n",
    "weighted_returns = (cleanweight1a * ret_data)\n",
    "\n",
    "#portfolio returns are simply the sum of the weighted returns of the assets. So lets add the rows.\n",
    "port_ret4 = weighted_returns.sum(axis=1)\n",
    "print(\"Portfolio return in test year(%):\")\n",
    "print(sum(port_ret4)*100)\n",
    "print(\"Portfolio return compared to train set (+- %):\")\n",
    "diff4 = (sum(port_ret4) - ret)*100\n",
    "print(diff4)\n",
    "print(\"Percentage change compared to train set (+- %):\")\n",
    "perch4 = diff4/ret\n",
    "print(perch4)\n",
    "compare4=((sum(port_ret4)*100)-B4)\n",
    "print(\"Compare to benchmark (+- %):\")\n",
    "print(compare4)\n",
    "\n",
    "tmu4.plot.barh(figsize=(10,6))  #return of each fund from 2014 to 2015. (test period)"
   ]
  },
  {
   "cell_type": "markdown",
   "metadata": {},
   "source": [
    "![green-divider](https://user-images.githubusercontent.com/7065401/52071924-c003ad80-2562-11e9-8297-1c6595f8a7ff.png)\n",
    "\n",
    "## 5th five-year Backtesting  (for Function 1a)"
   ]
  },
  {
   "cell_type": "markdown",
   "metadata": {},
   "source": [
    "### Run the function - what's the weighting for this period?"
   ]
  },
  {
   "cell_type": "code",
   "execution_count": 91,
   "metadata": {},
   "outputs": [
    {
     "name": "stdout",
     "output_type": "stream",
     "text": [
      "OrderedDict([('PRIAGSD HK Equity', 0.0), ('PRIGLGC HK Equity', 0.50291), ('PRIHDSC HK Equity', 0.06384), ('PRILTAC HK Equity', 0.0), ('PRILTGC HK Equity', 0.0), ('PRICAPC HK Equity', 0.05338), ('PRASBON HK Equity', 0.0), ('PRISTYC HK Equity', 0.37987)])\n",
      "Performance of function 1a portfolio in train period:\n"
     ]
    },
    {
     "data": {
      "text/plain": [
       "<matplotlib.axes._subplots.AxesSubplot at 0x7ff0ad0e1f40>"
      ]
     },
     "execution_count": 91,
     "metadata": {},
     "output_type": "execute_result"
    },
    {
     "data": {
      "image/png": "[encoded data removed]",
      "text/plain": [
       "<Figure size 360x360 with 1 Axes>"
      ]
     },
     "metadata": {},
     "output_type": "display_data"
    }
   ],
   "source": [
    "ef = EfficientFrontier(mu5, S5)\n",
    "\n",
    "weight1a = ef.max_sharpe() #raw weights\n",
    "cleanweight1a = ef.clean_weights() #cleaned weights\n",
    "print(cleanweight1a)\n",
    "print(\"Performance of function 1a portfolio in train period:\")\n",
    "pd.Series(cleanweight1a).plot.pie(figsize=(5,5))"
   ]
  },
  {
   "cell_type": "markdown",
   "metadata": {},
   "source": [
    "### Comparison - Performance of Portfolio during the Train period."
   ]
  },
  {
   "cell_type": "code",
   "execution_count": 92,
   "metadata": {
    "scrolled": true
   },
   "outputs": [
    {
     "name": "stdout",
     "output_type": "stream",
     "text": [
      "Expected annual return: 10.5%\n",
      "Annual volatility: 5.7%\n",
      "Sharpe Ratio: 1.50\n"
     ]
    },
    {
     "data": {
      "text/plain": [
       "<matplotlib.axes._subplots.AxesSubplot at 0x7ff0ad5f4eb0>"
      ]
     },
     "execution_count": 92,
     "metadata": {},
     "output_type": "execute_result"
    },
    {
     "data": {
      "image/png": "[encoded data removed]",
      "text/plain": [
       "<Figure size 720x432 with 1 Axes>"
      ]
     },
     "metadata": {
      "needs_background": "light"
     },
     "output_type": "display_data"
    }
   ],
   "source": [
    "ret,vol,sharpe = ef.portfolio_performance(verbose=True)\n",
    "\n",
    "mu5.plot.barh(figsize=(10,6))    #return of each funds from 2010 to 2014."
   ]
  },
  {
   "cell_type": "markdown",
   "metadata": {},
   "source": [
    "### Comparison - Performance of Portfolio during the Validation period."
   ]
  },
  {
   "cell_type": "code",
   "execution_count": 93,
   "metadata": {},
   "outputs": [
    {
     "name": "stdout",
     "output_type": "stream",
     "text": [
      "Portfolio return in test year(%):\n",
      "-25.317949043814618\n",
      "Portfolio return compared to train set (+- %):\n",
      "-35.81006036442507\n",
      "Percentage change compared to train set (+- %):\n",
      "-341.30461706101653\n",
      "Compare to benchmark (+- %):\n",
      "-24.470949043814617\n"
     ]
    },
    {
     "data": {
      "text/plain": [
       "<matplotlib.axes._subplots.AxesSubplot at 0x7ff0ad6c49a0>"
      ]
     },
     "execution_count": 93,
     "metadata": {},
     "output_type": "execute_result"
    },
    {
     "data": {
      "image/png": "[encoded data removed]",
      "text/plain": [
       "<Figure size 720x432 with 1 Axes>"
      ]
     },
     "metadata": {
      "needs_background": "light"
     },
     "output_type": "display_data"
    }
   ],
   "source": [
    "#calculate the asset returns in our portfolio.\n",
    "ret_data = tfive.pct_change()[1:]\n",
    "\n",
    "#calculate the weighted returns of our assets.\n",
    "weighted_returns = (cleanweight1a * ret_data)\n",
    "\n",
    "#portfolio returns are simply the sum of the weighted returns of the assets. So lets add the rows.\n",
    "port_ret5 = weighted_returns.sum(axis=1)\n",
    "print(\"Portfolio return in test year(%):\")\n",
    "print(sum(port_ret5)*100)\n",
    "print(\"Portfolio return compared to train set (+- %):\")\n",
    "diff5 = (sum(port_ret5) - ret)*100\n",
    "print(diff5)\n",
    "print(\"Percentage change compared to train set (+- %):\")\n",
    "perch5 = diff5/ret\n",
    "print(perch5)\n",
    "compare5=((sum(port_ret5)*100)-B5)\n",
    "print(\"Compare to benchmark (+- %):\")\n",
    "print(compare5)\n",
    "\n",
    "tmu5.plot.barh(figsize=(10,6))  #return of each fund from 2014 to 2015. (test period)"
   ]
  },
  {
   "cell_type": "markdown",
   "metadata": {},
   "source": [
    "![green-divider](https://user-images.githubusercontent.com/7065401/52071924-c003ad80-2562-11e9-8297-1c6595f8a7ff.png)\n",
    "\n",
    "## 6th five-year Backtesting  (for Function 1a)"
   ]
  },
  {
   "cell_type": "markdown",
   "metadata": {},
   "source": [
    "### Run the function - what's the weighting for this period?"
   ]
  },
  {
   "cell_type": "code",
   "execution_count": 94,
   "metadata": {
    "scrolled": true
   },
   "outputs": [
    {
     "name": "stdout",
     "output_type": "stream",
     "text": [
      "OrderedDict([('PRIAGSD HK Equity', 0.0), ('PRIGLGC HK Equity', 0.0), ('PRIHDSC HK Equity', 0.0), ('PRILTAC HK Equity', 0.0), ('PRILTGC HK Equity', 0.0), ('PRICAPC HK Equity', 1.0), ('PRASBON HK Equity', 0.0), ('PRISTYC HK Equity', 0.0)])\n",
      "Performance of function 1a portfolio in train period:\n"
     ]
    },
    {
     "data": {
      "text/plain": [
       "<matplotlib.axes._subplots.AxesSubplot at 0x7ff0ad843be0>"
      ]
     },
     "execution_count": 94,
     "metadata": {},
     "output_type": "execute_result"
    },
    {
     "data": {
      "image/png": "[encoded data removed]",
      "text/plain": [
       "<Figure size 360x360 with 1 Axes>"
      ]
     },
     "metadata": {},
     "output_type": "display_data"
    }
   ],
   "source": [
    "ef = EfficientFrontier(mu6, S6)\n",
    "\n",
    "weight1a = ef.max_sharpe() #raw weights\n",
    "cleanweight1a = ef.clean_weights() #cleaned weights\n",
    "print(cleanweight1a)\n",
    "print(\"Performance of function 1a portfolio in train period:\")\n",
    "pd.Series(cleanweight1a).plot.pie(figsize=(5,5))"
   ]
  },
  {
   "cell_type": "markdown",
   "metadata": {},
   "source": [
    "### Comparison - Performance of Portfolio during the Train period."
   ]
  },
  {
   "cell_type": "code",
   "execution_count": 95,
   "metadata": {
    "scrolled": false
   },
   "outputs": [
    {
     "name": "stdout",
     "output_type": "stream",
     "text": [
      "Expected annual return: 2.3%\n",
      "Annual volatility: 0.9%\n",
      "Sharpe Ratio: 0.29\n"
     ]
    },
    {
     "data": {
      "text/plain": [
       "<matplotlib.axes._subplots.AxesSubplot at 0x7ff0ad9975e0>"
      ]
     },
     "execution_count": 95,
     "metadata": {},
     "output_type": "execute_result"
    },
    {
     "data": {
      "image/png": "[encoded data removed]",
      "text/plain": [
       "<Figure size 720x432 with 1 Axes>"
      ]
     },
     "metadata": {
      "needs_background": "light"
     },
     "output_type": "display_data"
    }
   ],
   "source": [
    "ret,vol,sharpe = ef.portfolio_performance(verbose=True)\n",
    "\n",
    "mu6.plot.barh(figsize=(10,6))    #return of each funds from 2010 to 2014."
   ]
  },
  {
   "cell_type": "markdown",
   "metadata": {},
   "source": [
    "### Comparison - Performance of Portfolio during the Validation period."
   ]
  },
  {
   "cell_type": "code",
   "execution_count": 96,
   "metadata": {
    "scrolled": false
   },
   "outputs": [
    {
     "name": "stdout",
     "output_type": "stream",
     "text": [
      "Portfolio return in test year(%):\n",
      "0.008037508359526324\n",
      "Portfolio return compared to train set (+- %):\n",
      "-2.2457873874636713\n",
      "Percentage change compared to train set (+- %):\n",
      "-99.64338363754781\n",
      "Compare to benchmark (+- %):\n",
      "0.08103750835952632\n"
     ]
    },
    {
     "data": {
      "text/plain": [
       "<matplotlib.axes._subplots.AxesSubplot at 0x7ff0ada6bf70>"
      ]
     },
     "execution_count": 96,
     "metadata": {},
     "output_type": "execute_result"
    },
    {
     "data": {
      "image/png": "[encoded data removed]",
      "text/plain": [
       "<Figure size 720x432 with 1 Axes>"
      ]
     },
     "metadata": {
      "needs_background": "light"
     },
     "output_type": "display_data"
    }
   ],
   "source": [
    "#calculate the asset returns in our portfolio.\n",
    "ret_data = tsix.pct_change()[1:]\n",
    "\n",
    "#calculate the weighted returns of our assets.\n",
    "weighted_returns = (cleanweight1a * ret_data)\n",
    "\n",
    "#portfolio returns are simply the sum of the weighted returns of the assets. So lets add the rows.\n",
    "port_ret6 = weighted_returns.sum(axis=1)\n",
    "print(\"Portfolio return in test year(%):\")\n",
    "print(sum(port_ret6)*100)\n",
    "print(\"Portfolio return compared to train set (+- %):\")\n",
    "diff6 = (sum(port_ret6) - ret)*100\n",
    "print(diff6)\n",
    "print(\"Percentage change compared to train set (+- %):\")\n",
    "perch6 = diff6/ret\n",
    "print(perch6)\n",
    "compare6=((sum(port_ret6)*100)-B6)\n",
    "print(\"Compare to benchmark (+- %):\")\n",
    "print(compare6)\n",
    "\n",
    "tmu6.plot.barh(figsize=(10,6))  #return of each fund from 2014 to 2015. (test period)"
   ]
  },
  {
   "cell_type": "markdown",
   "metadata": {},
   "source": [
    "![green-divider](https://user-images.githubusercontent.com/7065401/52071924-c003ad80-2562-11e9-8297-1c6595f8a7ff.png)\n",
    "\n",
    "## 7th five-year Backtesting  (for Function 1a)"
   ]
  },
  {
   "cell_type": "markdown",
   "metadata": {},
   "source": [
    "### Run the function - what's the weighting for this period?"
   ]
  },
  {
   "cell_type": "code",
   "execution_count": 97,
   "metadata": {
    "scrolled": false
   },
   "outputs": [
    {
     "name": "stdout",
     "output_type": "stream",
     "text": [
      "OrderedDict([('PRIAGSD HK Equity', 0.0), ('PRIGLGC HK Equity', 0.0), ('PRIHDSC HK Equity', 0.0), ('PRILTAC HK Equity', 0.0), ('PRILTGC HK Equity', 0.0), ('PRICAPC HK Equity', 0.0), ('PRASBON HK Equity', 0.0), ('PRISTYC HK Equity', 1.0)])\n",
      "Performance of function 1a portfolio in train period:\n"
     ]
    },
    {
     "data": {
      "text/plain": [
       "<matplotlib.axes._subplots.AxesSubplot at 0x7ff0adbd6a60>"
      ]
     },
     "execution_count": 97,
     "metadata": {},
     "output_type": "execute_result"
    },
    {
     "data": {
      "image/png": "[encoded data removed]",
      "text/plain": [
       "<Figure size 360x360 with 1 Axes>"
      ]
     },
     "metadata": {},
     "output_type": "display_data"
    }
   ],
   "source": [
    "ef = EfficientFrontier(mu7, S7)\n",
    "\n",
    "weight1a = ef.max_sharpe() #raw weights\n",
    "cleanweight1a = ef.clean_weights() #cleaned weights\n",
    "print(cleanweight1a)\n",
    "print(\"Performance of function 1a portfolio in train period:\")\n",
    "pd.Series(cleanweight1a).plot.pie(figsize=(5,5))"
   ]
  },
  {
   "cell_type": "markdown",
   "metadata": {},
   "source": [
    "### Comparison - Performance of Portfolio during the Train period."
   ]
  },
  {
   "cell_type": "code",
   "execution_count": 98,
   "metadata": {
    "scrolled": false
   },
   "outputs": [
    {
     "name": "stdout",
     "output_type": "stream",
     "text": [
      "Expected annual return: 2.9%\n",
      "Annual volatility: 8.3%\n",
      "Sharpe Ratio: 0.11\n"
     ]
    },
    {
     "data": {
      "text/plain": [
       "<matplotlib.axes._subplots.AxesSubplot at 0x7ff0ade3d490>"
      ]
     },
     "execution_count": 98,
     "metadata": {},
     "output_type": "execute_result"
    },
    {
     "data": {
      "image/png": "[encoded data removed]",
      "text/plain": [
       "<Figure size 720x432 with 1 Axes>"
      ]
     },
     "metadata": {
      "needs_background": "light"
     },
     "output_type": "display_data"
    }
   ],
   "source": [
    "ret,vol,sharpe = ef.portfolio_performance(verbose=True)\n",
    "\n",
    "mu7.plot.barh(figsize=(10,6))    #return of each funds from 2010 to 2014."
   ]
  },
  {
   "cell_type": "code",
   "execution_count": 99,
   "metadata": {
    "scrolled": false
   },
   "outputs": [
    {
     "name": "stdout",
     "output_type": "stream",
     "text": [
      "Portfolio return in test year(%):\n",
      "10.895408017751663\n",
      "Portfolio return compared to train set (+- %):\n",
      "8.013269455583426\n",
      "Percentage change compared to train set (+- %):\n",
      "278.03206829705783\n",
      "Compare to benchmark (+- %):\n",
      "11.480408017751664\n"
     ]
    },
    {
     "data": {
      "text/plain": [
       "<matplotlib.axes._subplots.AxesSubplot at 0x7ff0adefe460>"
      ]
     },
     "execution_count": 99,
     "metadata": {},
     "output_type": "execute_result"
    },
    {
     "data": {
      "image/png": "[encoded data removed]",
      "text/plain": [
       "<Figure size 720x432 with 1 Axes>"
      ]
     },
     "metadata": {
      "needs_background": "light"
     },
     "output_type": "display_data"
    }
   ],
   "source": [
    "#calculate the asset returns in our portfolio.\n",
    "ret_data = tseven.pct_change()[1:]\n",
    "\n",
    "#calculate the weighted returns of our assets.\n",
    "weighted_returns = (cleanweight1a * ret_data)\n",
    "\n",
    "#portfolio returns are simply the sum of the weighted returns of the assets. So lets add the rows.\n",
    "port_ret7 = weighted_returns.sum(axis=1)\n",
    "print(\"Portfolio return in test year(%):\")\n",
    "print(sum(port_ret7)*100)\n",
    "print(\"Portfolio return compared to train set (+- %):\")\n",
    "diff7 = (sum(port_ret7) - ret)*100\n",
    "print(diff7)\n",
    "print(\"Percentage change compared to train set (+- %):\")\n",
    "perch7 = diff7/ret\n",
    "print(perch7)\n",
    "compare7=((sum(port_ret7)*100)-B7)\n",
    "print(\"Compare to benchmark (+- %):\")\n",
    "print(compare7)\n",
    "\n",
    "tmu7.plot.barh(figsize=(10,6))  #return of each fund from 2014 to 2015. (test period)"
   ]
  },
  {
   "cell_type": "markdown",
   "metadata": {},
   "source": [
    "![green-divider](https://user-images.githubusercontent.com/7065401/52071924-c003ad80-2562-11e9-8297-1c6595f8a7ff.png)\n",
    "\n",
    "## 8th five-year Backtesting  (for Function 1a)"
   ]
  },
  {
   "cell_type": "markdown",
   "metadata": {},
   "source": [
    "### Run the function - what's the weighting for this period?"
   ]
  },
  {
   "cell_type": "code",
   "execution_count": 100,
   "metadata": {
    "scrolled": false
   },
   "outputs": [
    {
     "name": "stdout",
     "output_type": "stream",
     "text": [
      "OrderedDict([('PRIAGSD HK Equity', 0.0), ('PRIGLGC HK Equity', 0.0), ('PRIHDSC HK Equity', 0.0), ('PRILTAC HK Equity', 0.28566), ('PRILTGC HK Equity', 0.0), ('PRICAPC HK Equity', 0.0), ('PRASBON HK Equity', 0.0), ('PRISTYC HK Equity', 0.71434)])\n",
      "Performance of function 1a portfolio in train period:\n"
     ]
    },
    {
     "data": {
      "text/plain": [
       "<matplotlib.axes._subplots.AxesSubplot at 0x7ff0ae06f7f0>"
      ]
     },
     "execution_count": 100,
     "metadata": {},
     "output_type": "execute_result"
    },
    {
     "data": {
      "image/png": "[encoded data removed]",
      "text/plain": [
       "<Figure size 360x360 with 1 Axes>"
      ]
     },
     "metadata": {},
     "output_type": "display_data"
    }
   ],
   "source": [
    "ef = EfficientFrontier(mu8, S8)\n",
    "\n",
    "weight1a = ef.max_sharpe() #raw weights\n",
    "cleanweight1a = ef.clean_weights() #cleaned weights\n",
    "print(cleanweight1a)\n",
    "print(\"Performance of function 1a portfolio in train period:\")\n",
    "pd.Series(cleanweight1a).plot.pie(figsize=(5,5))"
   ]
  },
  {
   "cell_type": "markdown",
   "metadata": {},
   "source": [
    "### Comparison - Performance of Portfolio during the Train period."
   ]
  },
  {
   "cell_type": "code",
   "execution_count": 101,
   "metadata": {
    "scrolled": false
   },
   "outputs": [
    {
     "name": "stdout",
     "output_type": "stream",
     "text": [
      "Expected annual return: 3.0%\n",
      "Annual volatility: 7.3%\n",
      "Sharpe Ratio: 0.14\n"
     ]
    },
    {
     "data": {
      "text/plain": [
       "<matplotlib.axes._subplots.AxesSubplot at 0x7ff0ae1c6220>"
      ]
     },
     "execution_count": 101,
     "metadata": {},
     "output_type": "execute_result"
    },
    {
     "data": {
      "image/png": "[encoded data removed]",
      "text/plain": [
       "<Figure size 720x432 with 1 Axes>"
      ]
     },
     "metadata": {
      "needs_background": "light"
     },
     "output_type": "display_data"
    }
   ],
   "source": [
    "ret,vol,sharpe = ef.portfolio_performance(verbose=True)\n",
    "\n",
    "mu8.plot.barh(figsize=(10,6))    #return of each funds from 2010 to 2014."
   ]
  },
  {
   "cell_type": "code",
   "execution_count": 134,
   "metadata": {
    "scrolled": true
   },
   "outputs": [
    {
     "data": {
      "text/plain": [
       "<matplotlib.axes._subplots.AxesSubplot at 0x7ff090c4a850>"
      ]
     },
     "execution_count": 134,
     "metadata": {},
     "output_type": "execute_result"
    },
    {
     "data": {
      "image/png": "[encoded data removed]",
      "text/plain": [
       "<Figure size 720x432 with 1 Axes>"
      ]
     },
     "metadata": {
      "needs_background": "light"
     },
     "output_type": "display_data"
    }
   ],
   "source": [
    "#calculate the asset returns in our portfolio.\n",
    "ret_data = teight.pct_change()[1:]\n",
    "\n",
    "#calculate the weighted returns of our assets.\n",
    "weighted_returns = (cleanweight1a * ret_data)\n",
    "\n",
    "#portfolio returns are simply the sum of the weighted returns of the assets. So lets add the rows.\n",
    "port_ret8 = weighted_returns.sum(axis=1)\n",
    "print(\"Portfolio return in test year(%):\")\n",
    "print(sum(port_ret8)*100)\n",
    "print(\"Portfolio return compared to train set (+- %):\")\n",
    "diff8 = (sum(port_ret8) - ret)*100\n",
    "print(diff9)\n",
    "print(\"Percentage change compared to train set (+- %):\")\n",
    "perch8 = diff8/ret\n",
    "print(perch8)\n",
    "compare8=((sum(port_ret8)*100)-B8)\n",
    "print(\"Compare to benchmark (+- %):\")\n",
    "print(compare8)\n",
    "\n",
    "tmu8.plot.barh(figsize=(10,6))  #return of each fund from 2014 to 2015. (test period)"
   ]
  },
  {
   "cell_type": "markdown",
   "metadata": {},
   "source": [
    "![green-divider](https://user-images.githubusercontent.com/7065401/52071924-c003ad80-2562-11e9-8297-1c6595f8a7ff.png)\n",
    "\n",
    "## 9th five-year Backtesting  (for Function 1a)"
   ]
  },
  {
   "cell_type": "markdown",
   "metadata": {},
   "source": [
    "### Run the function - what's the weighting for this period?"
   ]
  },
  {
   "cell_type": "code",
   "execution_count": 103,
   "metadata": {
    "scrolled": false
   },
   "outputs": [
    {
     "name": "stdout",
     "output_type": "stream",
     "text": [
      "OrderedDict([('PRIAGSD HK Equity', 0.0), ('PRIGLGC HK Equity', 0.0), ('PRIHDSC HK Equity', 0.0), ('PRILTAC HK Equity', 0.0), ('PRILTGC HK Equity', 0.86875), ('PRICAPC HK Equity', 0.0), ('PRASBON HK Equity', 0.0), ('PRISTYC HK Equity', 0.13125)])\n",
      "Performance of function 1a portfolio in train period:\n"
     ]
    },
    {
     "data": {
      "text/plain": [
       "<matplotlib.axes._subplots.AxesSubplot at 0x7ff0ae505ee0>"
      ]
     },
     "execution_count": 103,
     "metadata": {},
     "output_type": "execute_result"
    },
    {
     "data": {
      "image/png": "[encoded data removed]",
      "text/plain": [
       "<Figure size 360x360 with 1 Axes>"
      ]
     },
     "metadata": {},
     "output_type": "display_data"
    }
   ],
   "source": [
    "ef = EfficientFrontier(mu9, S9)\n",
    "\n",
    "weight1a = ef.max_sharpe() #raw weights\n",
    "cleanweight1a = ef.clean_weights() #cleaned weights\n",
    "print(cleanweight1a)\n",
    "print(\"Performance of function 1a portfolio in train period:\")\n",
    "pd.Series(cleanweight1a).plot.pie(figsize=(5,5))"
   ]
  },
  {
   "cell_type": "markdown",
   "metadata": {},
   "source": [
    "### Comparison - Performance of Portfolio during the Train period."
   ]
  },
  {
   "cell_type": "code",
   "execution_count": 104,
   "metadata": {
    "scrolled": false
   },
   "outputs": [
    {
     "name": "stdout",
     "output_type": "stream",
     "text": [
      "Expected annual return: 8.5%\n",
      "Annual volatility: 3.6%\n",
      "Sharpe Ratio: 1.79\n"
     ]
    },
    {
     "data": {
      "text/plain": [
       "<matplotlib.axes._subplots.AxesSubplot at 0x7ff0ae659490>"
      ]
     },
     "execution_count": 104,
     "metadata": {},
     "output_type": "execute_result"
    },
    {
     "data": {
      "image/png": "[encoded data removed]",
      "text/plain": [
       "<Figure size 720x432 with 1 Axes>"
      ]
     },
     "metadata": {
      "needs_background": "light"
     },
     "output_type": "display_data"
    }
   ],
   "source": [
    "ret,vol,sharpe = ef.portfolio_performance(verbose=True)\n",
    "\n",
    "mu9.plot.barh(figsize=(10,6))    #return of each funds from 2010 to 2014."
   ]
  },
  {
   "cell_type": "code",
   "execution_count": 105,
   "metadata": {
    "scrolled": true
   },
   "outputs": [
    {
     "name": "stdout",
     "output_type": "stream",
     "text": [
      "Portfolio return in test year(%):\n",
      "1.2441558299048818\n",
      "Portfolio return compared to train set (+- %):\n",
      "-7.242476371180497\n",
      "Percentage change compared to train set (+- %):\n",
      "-85.339816779785\n",
      "Compare to benchmark (+- %):\n",
      "0.8801558299048818\n"
     ]
    },
    {
     "data": {
      "text/plain": [
       "<matplotlib.axes._subplots.AxesSubplot at 0x7ff0ae735e20>"
      ]
     },
     "execution_count": 105,
     "metadata": {},
     "output_type": "execute_result"
    },
    {
     "data": {
      "image/png": "[encoded data removed]",
      "text/plain": [
       "<Figure size 720x432 with 1 Axes>"
      ]
     },
     "metadata": {
      "needs_background": "light"
     },
     "output_type": "display_data"
    }
   ],
   "source": [
    "#calculate the asset returns in our portfolio.\n",
    "ret_data = tnine.pct_change()[1:]\n",
    "\n",
    "#calculate the weighted returns of our assets.\n",
    "weighted_returns = (cleanweight1a * ret_data)\n",
    "\n",
    "#portfolio returns are simply the sum of the weighted returns of the assets. So lets add the rows.\n",
    "port_ret9 = weighted_returns.sum(axis=1)\n",
    "print(\"Portfolio return in test year(%):\")\n",
    "print(sum(port_ret9)*100)\n",
    "print(\"Portfolio return compared to train set (+- %):\")\n",
    "diff9 = (sum(port_ret9) - ret)*100\n",
    "print(diff9)\n",
    "print(\"Percentage change compared to train set (+- %):\")\n",
    "perch9 = diff9/ret\n",
    "print(perch9)\n",
    "compare9=((sum(port_ret9)*100)-B9)\n",
    "print(\"Compare to benchmark (+- %):\")\n",
    "print(compare9)\n",
    "\n",
    "tmu9.plot.barh(figsize=(10,6))  #return of each fund from 2014 to 2015. (test period)"
   ]
  },
  {
   "cell_type": "markdown",
   "metadata": {},
   "source": [
    "![green-divider](https://user-images.githubusercontent.com/7065401/52071924-c003ad80-2562-11e9-8297-1c6595f8a7ff.png)\n",
    "\n",
    "## 10th five-year Backtesting  (for Function 1a)"
   ]
  },
  {
   "cell_type": "markdown",
   "metadata": {},
   "source": [
    "### Run the function - what's the weighting for this period?"
   ]
  },
  {
   "cell_type": "code",
   "execution_count": 106,
   "metadata": {
    "scrolled": false
   },
   "outputs": [
    {
     "name": "stdout",
     "output_type": "stream",
     "text": [
      "OrderedDict([('PRIAGSD HK Equity', 0.0), ('PRIGLGC HK Equity', 0.37949), ('PRIHDSC HK Equity', 0.0), ('PRILTAC HK Equity', 0.0), ('PRILTGC HK Equity', 0.0), ('PRICAPC HK Equity', 0.0), ('PRASBON HK Equity', 0.0), ('PRISTYC HK Equity', 0.62051)])\n",
      "Performance of function 1a portfolio in train period:\n"
     ]
    },
    {
     "data": {
      "text/plain": [
       "<matplotlib.axes._subplots.AxesSubplot at 0x7ff0ae8a53a0>"
      ]
     },
     "execution_count": 106,
     "metadata": {},
     "output_type": "execute_result"
    },
    {
     "data": {
      "image/png": "[encoded data removed]",
      "text/plain": [
       "<Figure size 360x360 with 1 Axes>"
      ]
     },
     "metadata": {},
     "output_type": "display_data"
    }
   ],
   "source": [
    "ef = EfficientFrontier(mu10, S10)\n",
    "\n",
    "weight1a = ef.max_sharpe() #raw weights\n",
    "cleanweight1a = ef.clean_weights() #cleaned weights\n",
    "print(cleanweight1a)\n",
    "print(\"Performance of function 1a portfolio in train period:\")\n",
    "pd.Series(cleanweight1a).plot.pie(figsize=(5,5))"
   ]
  },
  {
   "cell_type": "markdown",
   "metadata": {},
   "source": [
    "### Comparison - Performance of Portfolio during the Train period."
   ]
  },
  {
   "cell_type": "code",
   "execution_count": 107,
   "metadata": {
    "scrolled": false
   },
   "outputs": [
    {
     "name": "stdout",
     "output_type": "stream",
     "text": [
      "Expected annual return: 3.6%\n",
      "Annual volatility: 6.6%\n",
      "Sharpe Ratio: 0.24\n"
     ]
    },
    {
     "data": {
      "text/plain": [
       "<matplotlib.axes._subplots.AxesSubplot at 0x7ff0ae9f81c0>"
      ]
     },
     "execution_count": 107,
     "metadata": {},
     "output_type": "execute_result"
    },
    {
     "data": {
      "image/png": "[encoded data removed]",
      "text/plain": [
       "<Figure size 720x432 with 1 Axes>"
      ]
     },
     "metadata": {
      "needs_background": "light"
     },
     "output_type": "display_data"
    }
   ],
   "source": [
    "ret,vol,sharpe = ef.portfolio_performance(verbose=True)\n",
    "\n",
    "mu10.plot.barh(figsize=(10,6))    #return of each funds from 2010 to 2014."
   ]
  },
  {
   "cell_type": "code",
   "execution_count": 108,
   "metadata": {
    "scrolled": true
   },
   "outputs": [
    {
     "name": "stdout",
     "output_type": "stream",
     "text": [
      "Portfolio return in test year(%):\n",
      "10.259611835469684\n",
      "Portfolio return compared to train set (+- %):\n",
      "6.703641566334382\n",
      "Percentage change compared to train set (+- %):\n",
      "188.51793066212824\n",
      "Compare to benchmark (+- %):\n",
      "10.215611835469684\n"
     ]
    },
    {
     "data": {
      "text/plain": [
       "<matplotlib.axes._subplots.AxesSubplot at 0x7ff0aeab07f0>"
      ]
     },
     "execution_count": 108,
     "metadata": {},
     "output_type": "execute_result"
    },
    {
     "data": {
      "image/png": "[encoded data removed]",
      "text/plain": [
       "<Figure size 720x432 with 1 Axes>"
      ]
     },
     "metadata": {
      "needs_background": "light"
     },
     "output_type": "display_data"
    }
   ],
   "source": [
    "#calculate the asset returns in our portfolio.\n",
    "ret_data = tten.pct_change()[1:]\n",
    "\n",
    "#calculate the weighted returns of our assets.\n",
    "weighted_returns = (cleanweight1a * ret_data)\n",
    "\n",
    "#portfolio returns are simply the sum of the weighted returns of the assets. So lets add the rows.\n",
    "port_ret10 = weighted_returns.sum(axis=1)\n",
    "print(\"Portfolio return in test year(%):\")\n",
    "print(sum(port_ret10)*100)\n",
    "print(\"Portfolio return compared to train set (+- %):\")\n",
    "diff10 = (sum(port_ret10) - ret)*100\n",
    "print(diff10)\n",
    "print(\"Percentage change compared to train set (+- %):\")\n",
    "perch10 = diff10/ret\n",
    "print(perch10)\n",
    "compare10=((sum(port_ret10)*100)-B10)\n",
    "print(\"Compare to benchmark (+- %):\")\n",
    "print(compare10)\n",
    "\n",
    "tmu10.plot.barh(figsize=(10,6))  #return of each fund from 2014 to 2015. (test period)"
   ]
  },
  {
   "cell_type": "markdown",
   "metadata": {},
   "source": [
    "![green-divider](https://user-images.githubusercontent.com/7065401/52071924-c003ad80-2562-11e9-8297-1c6595f8a7ff.png)\n",
    "\n",
    "## 11th five-year Backtesting  (for Function 1a)"
   ]
  },
  {
   "cell_type": "markdown",
   "metadata": {},
   "source": [
    "### Run the function - what's the weighting for this period?"
   ]
  },
  {
   "cell_type": "code",
   "execution_count": 109,
   "metadata": {
    "scrolled": false
   },
   "outputs": [
    {
     "name": "stdout",
     "output_type": "stream",
     "text": [
      "OrderedDict([('PRIAGSD HK Equity', 0.99642), ('PRIGLGC HK Equity', 0.0), ('PRIHDSC HK Equity', 0.0), ('PRILTAC HK Equity', 0.0), ('PRILTGC HK Equity', 0.0), ('PRICAPC HK Equity', 0.0), ('PRASBON HK Equity', 0.0), ('PRISTYC HK Equity', 0.00358)])\n",
      "Performance of function 1a portfolio in train period:\n"
     ]
    },
    {
     "data": {
      "text/plain": [
       "<matplotlib.axes._subplots.AxesSubplot at 0x7ff08ec48c10>"
      ]
     },
     "execution_count": 109,
     "metadata": {},
     "output_type": "execute_result"
    },
    {
     "data": {
      "image/png": "[encoded data removed]",
      "text/plain": [
       "<Figure size 360x360 with 1 Axes>"
      ]
     },
     "metadata": {},
     "output_type": "display_data"
    }
   ],
   "source": [
    "ef = EfficientFrontier(mu11, S11)\n",
    "\n",
    "weight1a = ef.max_sharpe() #raw weights\n",
    "cleanweight1a = ef.clean_weights() #cleaned weights\n",
    "print(cleanweight1a)\n",
    "print(\"Performance of function 1a portfolio in train period:\")\n",
    "pd.Series(cleanweight1a).plot.pie(figsize=(5,5))"
   ]
  },
  {
   "cell_type": "markdown",
   "metadata": {},
   "source": [
    "### Comparison - Performance of Portfolio during the Train period."
   ]
  },
  {
   "cell_type": "code",
   "execution_count": 110,
   "metadata": {
    "scrolled": false
   },
   "outputs": [
    {
     "name": "stdout",
     "output_type": "stream",
     "text": [
      "Expected annual return: 18.1%\n",
      "Annual volatility: 2.0%\n",
      "Sharpe Ratio: 8.22\n"
     ]
    },
    {
     "data": {
      "text/plain": [
       "<matplotlib.axes._subplots.AxesSubplot at 0x7ff0ad12b1f0>"
      ]
     },
     "execution_count": 110,
     "metadata": {},
     "output_type": "execute_result"
    },
    {
     "data": {
      "image/png": "[encoded data removed]",
      "text/plain": [
       "<Figure size 720x432 with 1 Axes>"
      ]
     },
     "metadata": {
      "needs_background": "light"
     },
     "output_type": "display_data"
    }
   ],
   "source": [
    "ret,vol,sharpe = ef.portfolio_performance(verbose=True)\n",
    "\n",
    "mu11.plot.barh(figsize=(10,6))    #return of each funds from 2010 to 2014."
   ]
  },
  {
   "cell_type": "code",
   "execution_count": 111,
   "metadata": {
    "scrolled": true
   },
   "outputs": [
    {
     "name": "stdout",
     "output_type": "stream",
     "text": [
      "Portfolio return in test year(%):\n",
      "1.838073984619629\n",
      "Portfolio return compared to train set (+- %):\n",
      "-16.22208708010807\n",
      "Percentage change compared to train set (+- %):\n",
      "-89.82249395211946\n",
      "Compare to benchmark (+- %):\n",
      "1.464073984619629\n"
     ]
    },
    {
     "data": {
      "text/plain": [
       "<matplotlib.axes._subplots.AxesSubplot at 0x7ff0ad32b970>"
      ]
     },
     "execution_count": 111,
     "metadata": {},
     "output_type": "execute_result"
    },
    {
     "data": {
      "image/png": "[encoded data removed]",
      "text/plain": [
       "<Figure size 720x432 with 1 Axes>"
      ]
     },
     "metadata": {
      "needs_background": "light"
     },
     "output_type": "display_data"
    }
   ],
   "source": [
    "#calculate the asset returns in our portfolio.\n",
    "ret_data = televen.pct_change()[1:]\n",
    "\n",
    "#calculate the weighted returns of our assets.\n",
    "weighted_returns = (cleanweight1a * ret_data)\n",
    "\n",
    "#portfolio returns are simply the sum of the weighted returns of the assets. So lets add the rows.\n",
    "port_ret11 = weighted_returns.sum(axis=1)\n",
    "print(\"Portfolio return in test year(%):\")\n",
    "print(sum(port_ret11)*100)\n",
    "print(\"Portfolio return compared to train set (+- %):\")\n",
    "diff11 = (sum(port_ret11) - ret)*100\n",
    "print(diff11)\n",
    "print(\"Percentage change compared to train set (+- %):\")\n",
    "perch11 = diff11/ret\n",
    "print(perch11)\n",
    "compare11=((sum(port_ret11)*100)-B11)\n",
    "print(\"Compare to benchmark (+- %):\")\n",
    "print(compare11)\n",
    "\n",
    "tmu11.plot.barh(figsize=(10,6))  #return of each fund from 2014 to 2015. (test period)"
   ]
  },
  {
   "cell_type": "markdown",
   "metadata": {},
   "source": [
    "![green-divider](https://user-images.githubusercontent.com/7065401/52071924-c003ad80-2562-11e9-8297-1c6595f8a7ff.png)\n",
    "\n",
    "## 12th five-year Backtesting  (for Function 1a)"
   ]
  },
  {
   "cell_type": "markdown",
   "metadata": {},
   "source": [
    "### Run the function - what's the weighting for this period?"
   ]
  },
  {
   "cell_type": "code",
   "execution_count": 112,
   "metadata": {
    "scrolled": false
   },
   "outputs": [
    {
     "name": "stdout",
     "output_type": "stream",
     "text": [
      "OrderedDict([('PRIAGSD HK Equity', 0.0), ('PRIGLGC HK Equity', 0.81216), ('PRIHDSC HK Equity', 0.0), ('PRILTAC HK Equity', 0.0), ('PRILTGC HK Equity', 0.0), ('PRICAPC HK Equity', 0.0), ('PRASBON HK Equity', 0.0), ('PRISTYC HK Equity', 0.18784)])\n",
      "Performance of function 1a portfolio in train period:\n"
     ]
    },
    {
     "data": {
      "text/plain": [
       "<matplotlib.axes._subplots.AxesSubplot at 0x7ff08f0f1a60>"
      ]
     },
     "execution_count": 112,
     "metadata": {},
     "output_type": "execute_result"
    },
    {
     "data": {
      "image/png": "[encoded data removed]",
      "text/plain": [
       "<Figure size 360x360 with 1 Axes>"
      ]
     },
     "metadata": {},
     "output_type": "display_data"
    }
   ],
   "source": [
    "ef = EfficientFrontier(mu12, S12)\n",
    "\n",
    "weight1a = ef.max_sharpe() #raw weights\n",
    "cleanweight1a = ef.clean_weights() #cleaned weights\n",
    "print(cleanweight1a)\n",
    "print(\"Performance of function 1a portfolio in train period:\")\n",
    "pd.Series(cleanweight1a).plot.pie(figsize=(5,5))"
   ]
  },
  {
   "cell_type": "markdown",
   "metadata": {},
   "source": [
    "### Comparison - Performance of Portfolio during the Train period."
   ]
  },
  {
   "cell_type": "code",
   "execution_count": 135,
   "metadata": {
    "scrolled": true
   },
   "outputs": [
    {
     "name": "stdout",
     "output_type": "stream",
     "text": [
      "Expected annual return: 5.2%\n",
      "Annual volatility: 5.3%\n",
      "Sharpe Ratio: 0.61\n"
     ]
    },
    {
     "data": {
      "text/plain": [
       "<matplotlib.axes._subplots.AxesSubplot at 0x7ff090da0070>"
      ]
     },
     "execution_count": 135,
     "metadata": {},
     "output_type": "execute_result"
    },
    {
     "data": {
      "image/png": "[encoded data removed]",
      "text/plain": [
       "<Figure size 720x432 with 1 Axes>"
      ]
     },
     "metadata": {
      "needs_background": "light"
     },
     "output_type": "display_data"
    }
   ],
   "source": [
    "ret,vol,sharpe = ef.portfolio_performance(verbose=True)\n",
    "\n",
    "mu12.plot.barh(figsize=(10,6))    #return of each funds from 2010 to 2014."
   ]
  },
  {
   "cell_type": "code",
   "execution_count": 114,
   "metadata": {
    "scrolled": true
   },
   "outputs": [
    {
     "name": "stdout",
     "output_type": "stream",
     "text": [
      "Portfolio return in test year(%):\n",
      "-0.7229213351782496\n",
      "Portfolio return compared to train set (+- %):\n",
      "-8.723724787942157\n",
      "Percentage change compared to train set (+- %):\n",
      "-109.03560922907702\n",
      "Compare to benchmark (+- %):\n",
      "-0.3359213351782496\n"
     ]
    },
    {
     "data": {
      "text/plain": [
       "<matplotlib.axes._subplots.AxesSubplot at 0x7ff08f30c190>"
      ]
     },
     "execution_count": 114,
     "metadata": {},
     "output_type": "execute_result"
    },
    {
     "data": {
      "image/png": "[encoded data removed]",
      "text/plain": [
       "<Figure size 720x432 with 1 Axes>"
      ]
     },
     "metadata": {
      "needs_background": "light"
     },
     "output_type": "display_data"
    }
   ],
   "source": [
    "#calculate the asset returns in our portfolio.\n",
    "ret_data = ttwelve.pct_change()[1:]\n",
    "\n",
    "#calculate the weighted returns of our assets.\n",
    "weighted_returns = (cleanweight1a * ret_data)\n",
    "\n",
    "#portfolio returns are simply the sum of the weighted returns of the assets. So lets add the rows.\n",
    "port_ret12 = weighted_returns.sum(axis=1)\n",
    "print(\"Portfolio return in test year(%):\")\n",
    "print(sum(port_ret12)*100)\n",
    "print(\"Portfolio return compared to train set (+- %):\")\n",
    "diff12 = (sum(port_ret12) - ret)*100\n",
    "print(diff12)\n",
    "print(\"Percentage change compared to train set (+- %):\")\n",
    "perch12 = diff12/ret\n",
    "print(perch12)\n",
    "compare12=(sum(port_ret12)*100)-B12\n",
    "print(\"Compare to benchmark (+- %):\")\n",
    "print(compare12)\n",
    "\n",
    "tmu12.plot.barh(figsize=(10,6))  #return of each fund from 2014 to 2015. (test period)"
   ]
  },
  {
   "cell_type": "markdown",
   "metadata": {},
   "source": [
    "![green-divider](https://user-images.githubusercontent.com/7065401/52071924-c003ad80-2562-11e9-8297-1c6595f8a7ff.png)\n",
    "\n",
    "## 13th five-year Backtesting  (for Function 1a)"
   ]
  },
  {
   "cell_type": "markdown",
   "metadata": {},
   "source": [
    "### Run the function - what's the weighting for this period?"
   ]
  },
  {
   "cell_type": "code",
   "execution_count": 115,
   "metadata": {
    "scrolled": false
   },
   "outputs": [
    {
     "name": "stdout",
     "output_type": "stream",
     "text": [
      "OrderedDict([('PRIAGSD HK Equity', 0.0), ('PRIGLGC HK Equity', 1.0), ('PRIHDSC HK Equity', 0.0), ('PRILTAC HK Equity', 0.0), ('PRILTGC HK Equity', 0.0), ('PRICAPC HK Equity', 0.0), ('PRASBON HK Equity', 0.0), ('PRISTYC HK Equity', 0.0)])\n",
      "Performance of function 1a portfolio in train period:\n"
     ]
    },
    {
     "data": {
      "text/plain": [
       "<matplotlib.axes._subplots.AxesSubplot at 0x7ff0aeaa99a0>"
      ]
     },
     "execution_count": 115,
     "metadata": {},
     "output_type": "execute_result"
    },
    {
     "data": {
      "image/png": "[encoded data removed]",
      "text/plain": [
       "<Figure size 360x360 with 1 Axes>"
      ]
     },
     "metadata": {},
     "output_type": "display_data"
    }
   ],
   "source": [
    "ef = EfficientFrontier(mu13, S13)\n",
    "\n",
    "weight1a = ef.max_sharpe() #raw weights\n",
    "cleanweight1a = ef.clean_weights() #cleaned weights\n",
    "print(cleanweight1a)\n",
    "print(\"Performance of function 1a portfolio in train period:\")\n",
    "pd.Series(cleanweight1a).plot.pie(figsize=(5,5))"
   ]
  },
  {
   "cell_type": "markdown",
   "metadata": {},
   "source": [
    "### Comparison - Performance of Portfolio during the Train period."
   ]
  },
  {
   "cell_type": "code",
   "execution_count": 116,
   "metadata": {
    "scrolled": false
   },
   "outputs": [
    {
     "name": "stdout",
     "output_type": "stream",
     "text": [
      "Expected annual return: 3.4%\n",
      "Annual volatility: 8.7%\n",
      "Sharpe Ratio: 0.16\n"
     ]
    },
    {
     "data": {
      "text/plain": [
       "<matplotlib.axes._subplots.AxesSubplot at 0x7ff08f5bf580>"
      ]
     },
     "execution_count": 116,
     "metadata": {},
     "output_type": "execute_result"
    },
    {
     "data": {
      "image/png": "[encoded data removed]",
      "text/plain": [
       "<Figure size 720x432 with 1 Axes>"
      ]
     },
     "metadata": {
      "needs_background": "light"
     },
     "output_type": "display_data"
    }
   ],
   "source": [
    "ret,vol,sharpe = ef.portfolio_performance(verbose=True)\n",
    "\n",
    "mu13.plot.barh(figsize=(10,6))    #return of each funds from 2010 to 2014."
   ]
  },
  {
   "cell_type": "code",
   "execution_count": 117,
   "metadata": {
    "scrolled": true
   },
   "outputs": [
    {
     "name": "stdout",
     "output_type": "stream",
     "text": [
      "Portfolio return in test year(%):\n",
      "14.115149196321063\n",
      "Portfolio return compared to train set (+- %):\n",
      "10.707190636157948\n",
      "Percentage change compared to train set (+- %):\n",
      "314.18194931470845\n",
      "Compare to benchmark (+- %):\n",
      "13.820149196321063\n"
     ]
    },
    {
     "data": {
      "text/plain": [
       "<matplotlib.axes._subplots.AxesSubplot at 0x7ff08f68d9a0>"
      ]
     },
     "execution_count": 117,
     "metadata": {},
     "output_type": "execute_result"
    },
    {
     "data": {
      "image/png": "[encoded data removed]",
      "text/plain": [
       "<Figure size 720x432 with 1 Axes>"
      ]
     },
     "metadata": {
      "needs_background": "light"
     },
     "output_type": "display_data"
    }
   ],
   "source": [
    "#calculate the asset returns in our portfolio.\n",
    "ret_data = tthirteen.pct_change()[1:]\n",
    "\n",
    "#calculate the weighted returns of our assets.\n",
    "weighted_returns = (cleanweight1a * ret_data)\n",
    "\n",
    "#portfolio returns are simply the sum of the weighted returns of the assets. So lets add the rows.\n",
    "port_ret13 = weighted_returns.sum(axis=1)\n",
    "print(\"Portfolio return in test year(%):\")\n",
    "print(sum(port_ret13)*100)\n",
    "print(\"Portfolio return compared to train set (+- %):\")\n",
    "diff13 = (sum(port_ret13) - ret)*100\n",
    "print(diff13)\n",
    "print(\"Percentage change compared to train set (+- %):\")\n",
    "perch13 = diff13/ret\n",
    "print(perch13)\n",
    "compare13=((sum(port_ret13)*100)-B13)\n",
    "print(\"Compare to benchmark (+- %):\")\n",
    "print(compare13)\n",
    "\n",
    "tmu13.plot.barh(figsize=(10,6))  #return of each fund from 2014 to 2015. (test period)"
   ]
  },
  {
   "cell_type": "markdown",
   "metadata": {},
   "source": [
    "![green-divider](https://user-images.githubusercontent.com/7065401/52071924-c003ad80-2562-11e9-8297-1c6595f8a7ff.png)\n",
    "\n",
    "## 14th five-year Backtesting  (for Function 1a)"
   ]
  },
  {
   "cell_type": "markdown",
   "metadata": {},
   "source": [
    "### Run the function - what's the weighting for this period?"
   ]
  },
  {
   "cell_type": "code",
   "execution_count": 118,
   "metadata": {
    "scrolled": false
   },
   "outputs": [
    {
     "name": "stdout",
     "output_type": "stream",
     "text": [
      "OrderedDict([('PRIAGSD HK Equity', 1.0), ('PRIGLGC HK Equity', 0.0), ('PRIHDSC HK Equity', 0.0), ('PRILTAC HK Equity', 0.0), ('PRILTGC HK Equity', 0.0), ('PRICAPC HK Equity', 0.0), ('PRASBON HK Equity', 0.0), ('PRISTYC HK Equity', 0.0)])\n",
      "Performance of function 1a portfolio in train period:\n"
     ]
    },
    {
     "data": {
      "text/plain": [
       "<matplotlib.axes._subplots.AxesSubplot at 0x7ff08f7f0b80>"
      ]
     },
     "execution_count": 118,
     "metadata": {},
     "output_type": "execute_result"
    },
    {
     "data": {
      "image/png": "[encoded data removed]",
      "text/plain": [
       "<Figure size 360x360 with 1 Axes>"
      ]
     },
     "metadata": {},
     "output_type": "display_data"
    }
   ],
   "source": [
    "ef = EfficientFrontier(mu14, S14)\n",
    "\n",
    "weight1a = ef.max_sharpe() #raw weights\n",
    "cleanweight1a = ef.clean_weights() #cleaned weights\n",
    "print(cleanweight1a)\n",
    "print(\"Performance of function 1a portfolio in train period:\")\n",
    "pd.Series(cleanweight1a).plot.pie(figsize=(5,5))"
   ]
  },
  {
   "cell_type": "markdown",
   "metadata": {},
   "source": [
    "### Comparison - Performance of Portfolio during the Train period."
   ]
  },
  {
   "cell_type": "code",
   "execution_count": 119,
   "metadata": {
    "scrolled": true
   },
   "outputs": [
    {
     "name": "stdout",
     "output_type": "stream",
     "text": [
      "Expected annual return: 4.8%\n",
      "Annual volatility: 10.9%\n",
      "Sharpe Ratio: 0.25\n"
     ]
    },
    {
     "data": {
      "text/plain": [
       "<matplotlib.axes._subplots.AxesSubplot at 0x7ff09015f580>"
      ]
     },
     "execution_count": 119,
     "metadata": {},
     "output_type": "execute_result"
    },
    {
     "data": {
      "image/png": "[encoded data removed]",
      "text/plain": [
       "<Figure size 720x432 with 1 Axes>"
      ]
     },
     "metadata": {
      "needs_background": "light"
     },
     "output_type": "display_data"
    }
   ],
   "source": [
    "ret,vol,sharpe = ef.portfolio_performance(verbose=True)\n",
    "\n",
    "mu14.plot.barh(figsize=(10,6))    #return of each funds from 2010 to 2014."
   ]
  },
  {
   "cell_type": "code",
   "execution_count": 120,
   "metadata": {
    "scrolled": true
   },
   "outputs": [
    {
     "name": "stdout",
     "output_type": "stream",
     "text": [
      "Portfolio return in test year(%):\n",
      "7.575767698219272\n",
      "Portfolio return compared to train set (+- %):\n",
      "2.811157209615678\n",
      "Percentage change compared to train set (+- %):\n",
      "59.00077700663352\n",
      "Compare to benchmark (+- %):\n",
      "1.3887676982192714\n"
     ]
    },
    {
     "data": {
      "text/plain": [
       "<matplotlib.axes._subplots.AxesSubplot at 0x7ff0902392b0>"
      ]
     },
     "execution_count": 120,
     "metadata": {},
     "output_type": "execute_result"
    },
    {
     "data": {
      "image/png": "[encoded data removed]",
      "text/plain": [
       "<Figure size 720x432 with 1 Axes>"
      ]
     },
     "metadata": {
      "needs_background": "light"
     },
     "output_type": "display_data"
    }
   ],
   "source": [
    "#calculate the asset returns in our portfolio.\n",
    "ret_data = tfourteen.pct_change()[1:]\n",
    "\n",
    "#calculate the weighted returns of our assets.\n",
    "weighted_returns = (cleanweight1a * ret_data)\n",
    "\n",
    "#portfolio returns are simply the sum of the weighted returns of the assets. So lets add the rows.\n",
    "port_ret14 = weighted_returns.sum(axis=1)\n",
    "print(\"Portfolio return in test year(%):\")\n",
    "print(sum(port_ret14)*100)\n",
    "print(\"Portfolio return compared to train set (+- %):\")\n",
    "diff14 = (sum(port_ret14) - ret)*100\n",
    "print(diff14)\n",
    "print(\"Percentage change compared to train set (+- %):\")\n",
    "perch14 = diff14 /ret\n",
    "print(perch14)\n",
    "compare14=((sum(port_ret14)*100)-B14)\n",
    "print(\"Compare to benchmark (+- %):\")\n",
    "print(compare14)\n",
    "\n",
    "tmu14.plot.barh(figsize=(10,6))  #return of each fund from 2014 to 2015. (test period)"
   ]
  },
  {
   "cell_type": "markdown",
   "metadata": {},
   "source": [
    "![green-divider](https://user-images.githubusercontent.com/7065401/52071924-c003ad80-2562-11e9-8297-1c6595f8a7ff.png)\n",
    "\n",
    "## 15th five-year Backtesting  (for Function 1a)"
   ]
  },
  {
   "cell_type": "markdown",
   "metadata": {},
   "source": [
    "### Run the function - what's the weighting for this period?"
   ]
  },
  {
   "cell_type": "code",
   "execution_count": 121,
   "metadata": {
    "scrolled": false
   },
   "outputs": [
    {
     "name": "stdout",
     "output_type": "stream",
     "text": [
      "OrderedDict([('PRIAGSD HK Equity', 0.37686), ('PRIGLGC HK Equity', 0.0), ('PRIHDSC HK Equity', 0.0), ('PRILTAC HK Equity', 0.0), ('PRILTGC HK Equity', 0.0), ('PRICAPC HK Equity', 0.0), ('PRASBON HK Equity', 0.0), ('PRISTYC HK Equity', 0.62314)])\n",
      "Performance of function 1a portfolio in train period:\n"
     ]
    },
    {
     "data": {
      "text/plain": [
       "<matplotlib.axes._subplots.AxesSubplot at 0x7ff09038f820>"
      ]
     },
     "execution_count": 121,
     "metadata": {},
     "output_type": "execute_result"
    },
    {
     "data": {
      "image/png": "[encoded data removed]",
      "text/plain": [
       "<Figure size 360x360 with 1 Axes>"
      ]
     },
     "metadata": {},
     "output_type": "display_data"
    }
   ],
   "source": [
    "ef = EfficientFrontier(mu15, S15)\n",
    "\n",
    "weight1a = ef.max_sharpe() #raw weights\n",
    "cleanweight1a = ef.clean_weights() #cleaned weights\n",
    "print(cleanweight1a)\n",
    "print(\"Performance of function 1a portfolio in train period:\")\n",
    "pd.Series(cleanweight1a).plot.pie(figsize=(5,5))"
   ]
  },
  {
   "cell_type": "markdown",
   "metadata": {},
   "source": [
    "### Comparison - Performance of Portfolio during the Train period."
   ]
  },
  {
   "cell_type": "code",
   "execution_count": 122,
   "metadata": {
    "scrolled": true
   },
   "outputs": [
    {
     "name": "stdout",
     "output_type": "stream",
     "text": [
      "Expected annual return: 4.9%\n",
      "Annual volatility: 5.3%\n",
      "Sharpe Ratio: 0.56\n"
     ]
    },
    {
     "data": {
      "text/plain": [
       "<matplotlib.axes._subplots.AxesSubplot at 0x7ff090515d00>"
      ]
     },
     "execution_count": 122,
     "metadata": {},
     "output_type": "execute_result"
    },
    {
     "data": {
      "image/png": "[encoded data removed]",
      "text/plain": [
       "<Figure size 720x432 with 1 Axes>"
      ]
     },
     "metadata": {
      "needs_background": "light"
     },
     "output_type": "display_data"
    }
   ],
   "source": [
    "ret,vol,sharpe = ef.portfolio_performance(verbose=True)\n",
    "\n",
    "mu15.plot.barh(figsize=(10,6))    #return of each funds from 2010 to 2014."
   ]
  },
  {
   "cell_type": "code",
   "execution_count": 123,
   "metadata": {
    "scrolled": true
   },
   "outputs": [
    {
     "name": "stdout",
     "output_type": "stream",
     "text": [
      "Portfolio return in test year(%):\n",
      "-0.1112885293017936\n",
      "Portfolio return compared to train set (+- %):\n",
      "-5.040929777002809\n",
      "Percentage change compared to train set (+- %):\n",
      "-102.2575380988159\n",
      "Compare to benchmark (+- %):\n",
      "-3.3202885293017936\n"
     ]
    },
    {
     "data": {
      "text/plain": [
       "<matplotlib.axes._subplots.AxesSubplot at 0x7ff0905f60a0>"
      ]
     },
     "execution_count": 123,
     "metadata": {},
     "output_type": "execute_result"
    },
    {
     "data": {
      "image/png": "[encoded data removed]",
      "text/plain": [
       "<Figure size 720x432 with 1 Axes>"
      ]
     },
     "metadata": {
      "needs_background": "light"
     },
     "output_type": "display_data"
    }
   ],
   "source": [
    "#calculate the asset returns in our portfolio.\n",
    "ret_data = tfifteen.pct_change()[1:]\n",
    "\n",
    "#calculate the weighted returns of our assets.\n",
    "weighted_returns = (cleanweight1a * ret_data)\n",
    "\n",
    "#portfolio returns are simply the sum of the weighted returns of the assets. So lets add the rows.\n",
    "port_ret15 = weighted_returns.sum(axis=1)\n",
    "print(\"Portfolio return in test year(%):\")\n",
    "print(sum(port_ret15)*100)\n",
    "print(\"Portfolio return compared to train set (+- %):\")\n",
    "diff15 = (sum(port_ret15) - ret)*100\n",
    "print(diff15)\n",
    "print(\"Percentage change compared to train set (+- %):\")\n",
    "perch15 = diff15/ret\n",
    "print(perch15)\n",
    "compare15=((sum(port_ret15)*100)-B15)\n",
    "print(\"Compare to benchmark (+- %):\")\n",
    "print(compare15)\n",
    "\n",
    "tmu15.plot.barh(figsize=(10,6))  #return of each fund from 2014 to 2015. (test period)"
   ]
  },
  {
   "cell_type": "markdown",
   "metadata": {},
   "source": [
    "![green-divider](https://user-images.githubusercontent.com/7065401/52071924-c003ad80-2562-11e9-8297-1c6595f8a7ff.png)\n",
    "\n",
    "## 16th five-year Backtesting  (for Function 1a)"
   ]
  },
  {
   "cell_type": "markdown",
   "metadata": {},
   "source": [
    "### Run the function - what's the weighting for this period?"
   ]
  },
  {
   "cell_type": "code",
   "execution_count": 124,
   "metadata": {
    "scrolled": false
   },
   "outputs": [
    {
     "name": "stdout",
     "output_type": "stream",
     "text": [
      "OrderedDict([('PRIAGSD HK Equity', 0.49936), ('PRIGLGC HK Equity', 0.0), ('PRIHDSC HK Equity', 0.0), ('PRILTAC HK Equity', 0.0), ('PRILTGC HK Equity', 0.0), ('PRICAPC HK Equity', 0.0), ('PRASBON HK Equity', 0.0), ('PRISTYC HK Equity', 0.50064)])\n",
      "Performance of function 1a portfolio in train period:\n"
     ]
    },
    {
     "data": {
      "text/plain": [
       "<matplotlib.axes._subplots.AxesSubplot at 0x7ff0903a5070>"
      ]
     },
     "execution_count": 124,
     "metadata": {},
     "output_type": "execute_result"
    },
    {
     "data": {
      "image/png": "[encoded data removed]",
      "text/plain": [
       "<Figure size 360x360 with 1 Axes>"
      ]
     },
     "metadata": {},
     "output_type": "display_data"
    }
   ],
   "source": [
    "ef = EfficientFrontier(mu16, S16)\n",
    "\n",
    "weight1a = ef.max_sharpe() #raw weights\n",
    "cleanweight1a = ef.clean_weights() #cleaned weights\n",
    "print(cleanweight1a)\n",
    "print(\"Performance of function 1a portfolio in train period:\")\n",
    "pd.Series(cleanweight1a).plot.pie(figsize=(5,5))"
   ]
  },
  {
   "cell_type": "markdown",
   "metadata": {},
   "source": [
    "### Comparison - Performance of Portfolio during the Train period."
   ]
  },
  {
   "cell_type": "code",
   "execution_count": 125,
   "metadata": {
    "scrolled": false
   },
   "outputs": [
    {
     "name": "stdout",
     "output_type": "stream",
     "text": [
      "Expected annual return: 5.2%\n",
      "Annual volatility: 5.3%\n",
      "Sharpe Ratio: 0.61\n"
     ]
    },
    {
     "data": {
      "text/plain": [
       "<matplotlib.axes._subplots.AxesSubplot at 0x7ff0908a75e0>"
      ]
     },
     "execution_count": 125,
     "metadata": {},
     "output_type": "execute_result"
    },
    {
     "data": {
      "image/png": "[encoded data removed]",
      "text/plain": [
       "<Figure size 720x432 with 1 Axes>"
      ]
     },
     "metadata": {
      "needs_background": "light"
     },
     "output_type": "display_data"
    }
   ],
   "source": [
    "ret,vol,sharpe = ef.portfolio_performance(verbose=True)\n",
    "\n",
    "mu16.plot.barh(figsize=(10,6))    #return of each funds from 2010 to 2014."
   ]
  },
  {
   "cell_type": "code",
   "execution_count": 126,
   "metadata": {
    "scrolled": true
   },
   "outputs": [
    {
     "name": "stdout",
     "output_type": "stream",
     "text": [
      "Portfolio return in test year(%):\n",
      "6.731148598849307\n",
      "Portfolio return compared to train set (+- %):\n",
      "1.4827108191189917\n",
      "Percentage change compared to train set (+- %):\n",
      "28.25051722715057\n",
      "Compare to benchmark (+- %):\n",
      "0.07114859884930702\n"
     ]
    },
    {
     "data": {
      "text/plain": [
       "<matplotlib.axes._subplots.AxesSubplot at 0x7ff09096b0d0>"
      ]
     },
     "execution_count": 126,
     "metadata": {},
     "output_type": "execute_result"
    },
    {
     "data": {
      "image/png": "[encoded data removed]",
      "text/plain": [
       "<Figure size 720x432 with 1 Axes>"
      ]
     },
     "metadata": {
      "needs_background": "light"
     },
     "output_type": "display_data"
    }
   ],
   "source": [
    "#calculate the asset returns in our portfolio.\n",
    "ret_data = tsixteen.pct_change()[1:]\n",
    "\n",
    "#calculate the weighted returns of our assets.\n",
    "weighted_returns = (cleanweight1a * ret_data)\n",
    "\n",
    "#portfolio returns are simply the sum of the weighted returns of the assets. So lets add the rows.\n",
    "port_ret16 = weighted_returns.sum(axis=1)\n",
    "print(\"Portfolio return in test year(%):\")\n",
    "print(sum(port_ret16)*100)\n",
    "print(\"Portfolio return compared to train set (+- %):\")\n",
    "diff16 = (sum(port_ret16) - ret)*100\n",
    "print(diff16)\n",
    "print(\"Percentage change compared to train set (+- %):\")\n",
    "perch16 = diff16/ret\n",
    "print(perch16)\n",
    "compare16=((sum(port_ret16)*100)-B16)\n",
    "print(\"Compare to benchmark (+- %):\")\n",
    "print(compare16)\n",
    "\n",
    "tmu16.plot.barh(figsize=(10,6))  #return of each fund from 2014 to 2015. (test period)"
   ]
  },
  {
   "cell_type": "markdown",
   "metadata": {},
   "source": [
    "## Summary of Backtesting of Function 1a"
   ]
  },
  {
   "cell_type": "code",
   "execution_count": 127,
   "metadata": {
    "scrolled": true
   },
   "outputs": [
    {
     "name": "stdout",
     "output_type": "stream",
     "text": [
      "Function 1a Average error (%): 38.02801924411993\n",
      "Function 1a Average return compare to Benchmark(%): 2.3247711257819197\n",
      "Return Overall(%): 29.931466313638744\n",
      "Benchmark Overall(%): 16.784660679940643\n"
     ]
    }
   ],
   "source": [
    "perch_all = [perch12,perch13,perch14,perch15,perch16]\n",
    "compare_all = [compare12,compare13,compare14,compare15,compare16]\n",
    "mean_perch = sum(perch_all) / len(perch_all)\n",
    "mean_compare = sum(compare_all) / len(compare_all)\n",
    "overall = ((1+sum(port_ret12))*(1+sum(port_ret13))*(1+sum(port_ret14))*(1+sum(port_ret15))*(1+sum(port_ret16))-1)*100\n",
    "benchmark = ((1+B12/100)*(1+B13/100)*(1+B14/100)*(1+B15/100)*(1+B16/100)-1)*100\n",
    "\n",
    "print( \"Function 1a Average error (%): \" + str(mean_perch))\n",
    "print( \"Function 1a Average return compare to Benchmark(%): \" + str(mean_compare))\n",
    "print( \"Return Overall(%): \" + str(overall))\n",
    "print( \"Benchmark Overall(%): \" + str(benchmark))\n",
    "#print( \"Function 1a Accuracy (%): \" + str(100-mean_perch))"
   ]
  },
  {
   "cell_type": "code",
   "execution_count": 128,
   "metadata": {},
   "outputs": [
    {
     "name": "stdout",
     "output_type": "stream",
     "text": [
      "Function 1a Average error (%): 20.527933560462152\n",
      "Function 1a Average return compare to Benchmark(%): 3.046961495306751\n",
      "Return Overall(%): 55.04951101633764\n",
      "Benchmark Overall(%): 16.835825159467266\n"
     ]
    }
   ],
   "source": [
    "perch_all = [perch7,perch8,perch9,perch10,perch11,perch12,perch13,perch14,perch15,perch16]\n",
    "compare_all = [compare7,compare8,compare9,compare10,compare11,compare12,compare13,compare14,compare15,compare16]\n",
    "mean_perch = sum(perch_all) / len(perch_all)\n",
    "mean_compare = sum(compare_all) / len(compare_all)\n",
    "overall = ((1+sum(port_ret7))*(1+sum(port_ret8))*(1+sum(port_ret9))*(1+sum(port_ret10))*(1+sum(port_ret11))*(1+sum(port_ret12))*(1+sum(port_ret13))*(1+sum(port_ret14))*(1+sum(port_ret15))*(1+sum(port_ret16))-1)*100\n",
    "benchmark = ((1+B7/100)*(1+B8/100)*(1+B9/100)*(1+B10/100)*(1+B11/100)*(1+B12/100)*(1+B13/100)*(1+B14/100)*(1+B15/100)*(1+B16/100)-1)*100\n",
    "\n",
    "print( \"Function 1a Average error (%): \" + str(mean_perch))\n",
    "print( \"Function 1a Average return compare to Benchmark(%): \" + str(mean_compare))\n",
    "print( \"Return Overall(%): \" + str(overall))\n",
    "print( \"Benchmark Overall(%): \" + str(benchmark))\n",
    "#print( \"Function 1a Accuracy (%): \" + str(100-mean_perch))"
   ]
  },
  {
   "cell_type": "code",
   "execution_count": 129,
   "metadata": {
    "scrolled": true
   },
   "outputs": [
    {
     "name": "stdout",
     "output_type": "stream",
     "text": [
      "Function 1a Average error (%): -9.04719127586734\n",
      "Function 1a Average return compare to Benchmark(%): 2.2736597032461168\n",
      "Return Overall(%): 11.212695499803838\n",
      "Benchmark Overall(%): 6.059923333425643\n"
     ]
    }
   ],
   "source": [
    "perch_all = [perch1,perch2,perch3,perch4,perch5]\n",
    "compare_all = [compare1,compare2,compare3,compare4,compare5]\n",
    "mean_perch = sum(perch_all) / len(perch_all)\n",
    "mean_compare = sum(compare_all) / len(compare_all)\n",
    "overall = ((1+sum(port_ret1))*(1+sum(port_ret2))*(1+sum(port_ret3))*(1+sum(port_ret4))*(1+sum(port_ret5))-1)*100\n",
    "benchmark = ((1+B1/100)*(1+B2/100)*(1+B3/100)*(1+B4/100)*(1+B5/100)-1)*100\n",
    "\n",
    "print( \"Function 1a Average error (%): \" + str(mean_perch))\n",
    "print( \"Function 1a Average return compare to Benchmark(%): \" + str(mean_compare))\n",
    "print( \"Return Overall(%): \" + str(overall))\n",
    "print( \"Benchmark Overall(%): \" + str(benchmark))\n",
    "#print( \"Function 1a Accuracy (%): \" + str(100-mean_perch))"
   ]
  },
  {
   "cell_type": "code",
   "execution_count": 130,
   "metadata": {
    "scrolled": true
   },
   "outputs": [
    {
     "name": "stdout",
     "output_type": "stream",
     "text": [
      "Function 1a Average error (%): 1.0636699397187102\n",
      "Function 1a Average return compare to Benchmark(%): 3.4925445695795623\n",
      "Return Overall(%): 17.187365040719182\n",
      "Benchmark Overall(%): -0.401718595693612\n"
     ]
    }
   ],
   "source": [
    "perch_all = [perch6,perch7,perch8,perch9,perch10]\n",
    "compare_all = [compare6,compare7,compare8,compare9,compare10]\n",
    "mean_perch = sum(perch_all) / len(perch_all)\n",
    "mean_compare = sum(compare_all) / len(compare_all)\n",
    "overall = ((1+sum(port_ret6))*(1+sum(port_ret7))*(1+sum(port_ret8))*(1+sum(port_ret9))*(1+sum(port_ret10))-1)*100\n",
    "benchmark = ((1+B6/100)*(1+B7/100)*(1+B8/100)*(1+B9/100)*(1+B10/100)-1)*100\n",
    "\n",
    "print( \"Function 1a Average error (%): \" + str(mean_perch))\n",
    "print( \"Function 1a Average return compare to Benchmark(%): \" + str(mean_compare))\n",
    "print( \"Return Overall(%): \" + str(overall))\n",
    "print( \"Benchmark Overall(%): \" + str(benchmark))\n",
    "#print( \"Function 1a Accuracy (%): \" + str(100-mean_perch))\n"
   ]
  },
  {
   "cell_type": "code",
   "execution_count": 131,
   "metadata": {
    "scrolled": true
   },
   "outputs": [
    {
     "name": "stdout",
     "output_type": "stream",
     "text": [
      "Function 1a Average error (%): -3.9917606680743147\n",
      "Function 1a Average return compare to Benchmark(%): 2.8831021364128397\n",
      "Return Overall(%): 30.327227446978622\n",
      "Benchmark Overall(%): 5.633860898816856\n"
     ]
    }
   ],
   "source": [
    "perch_all = [perch1,perch2,perch3,perch4,perch5,perch6,perch7,perch8,perch9,perch10]\n",
    "compare_all = [compare1,compare2,compare3,compare4,compare5,compare6,compare7,compare8,compare9,compare10]\n",
    "mean_perch = sum(perch_all) / len(perch_all)\n",
    "mean_compare = sum(compare_all) / len(compare_all)\n",
    "overall = ((1+sum(port_ret1))*(1+sum(port_ret2))*(1+sum(port_ret3))*(1+sum(port_ret4))*(1+sum(port_ret5))*(1+sum(port_ret6))*(1+sum(port_ret7))*(1+sum(port_ret8))*(1+sum(port_ret9))*(1+sum(port_ret10))-1)*100\n",
    "benchmark = ((1+B1/100)*(1+B2/100)*(1+B3/100)*(1+B4/100)*(1+B5/100)*(1+B6/100)*(1+B7/100)*(1+B8/100)*(1+B9/100)*(1+B10/100)-1)*100\n",
    "\n",
    "print( \"Function 1a Average error (%): \" + str(mean_perch))\n",
    "print( \"Function 1a Average return compare to Benchmark(%): \" + str(mean_compare))\n",
    "print( \"Return Overall(%): \" + str(overall))\n",
    "print( \"Benchmark Overall(%): \" + str(benchmark))\n",
    "#print( \"Function 1a Accuracy (%): \" + str(100-mean_perch))\n"
   ]
  },
  {
   "cell_type": "code",
   "execution_count": 132,
   "metadata": {
    "scrolled": false
   },
   "outputs": [
    {
     "name": "stdout",
     "output_type": "stream",
     "text": [
      "Function 1a Average error (%): 3.774999724233563\n",
      "Function 1a Average return compare to Benchmark(%): 2.6199344361036014\n",
      "Return Overall(%): 72.44860001722174\n",
      "Benchmark Overall(%): 23.825527919895407\n"
     ]
    }
   ],
   "source": [
    "perch_all = [perch1,perch2,perch3,perch4,perch5,perch6,perch7,perch8,perch9,perch10,perch11,perch12,perch13,perch14,perch15,perch16]\n",
    "compare_all = [compare1,compare2,compare3,compare4,compare5,compare6,compare7,compare8,compare9,compare10,compare11,compare12,compare13,compare14,compare15,compare16]\n",
    "mean_perch = sum(perch_all) / len(perch_all)\n",
    "mean_compare = sum(compare_all) / len(compare_all)\n",
    "overall = ((1+sum(port_ret1))*(1+sum(port_ret2))*(1+sum(port_ret3))*(1+sum(port_ret4))*(1+sum(port_ret5))*(1+sum(port_ret6))*(1+sum(port_ret7))*(1+sum(port_ret8))*(1+sum(port_ret9))*(1+sum(port_ret10))*(1+sum(port_ret11))*(1+sum(port_ret12))*(1+sum(port_ret13))*(1+sum(port_ret14))*(1+sum(port_ret15))*(1+sum(port_ret16))-1)*100\n",
    "benchmark = ((1+B1/100)*(1+B2/100)*(1+B3/100)*(1+B4/100)*(1+B5/100)*(1+B6/100)*(1+B7/100)*(1+B8/100)*(1+B9/100)*(1+B10/100)*(1+B11/100)*(1+B12/100)*(1+B13/100)*(1+B14/100)*(1+B15/100)*(1+B16/100)-1)*100\n",
    "\n",
    "print( \"Function 1a Average error (%): \" + str(mean_perch))\n",
    "print( \"Function 1a Average return compare to Benchmark(%): \" + str(mean_compare))\n",
    "print( \"Return Overall(%): \" + str(overall))\n",
    "print( \"Benchmark Overall(%): \" + str(benchmark))\n",
    "#print( \"Function 1a Accuracy (%): \" + str(100-mean_perch))"
   ]
  },
  {
   "cell_type": "markdown",
   "metadata": {},
   "source": [
    "![green-divider](https://user-images.githubusercontent.com/7065401/52071924-c003ad80-2562-11e9-8297-1c6595f8a7ff.png)\n",
    "![green-divider](https://user-images.githubusercontent.com/7065401/52071924-c003ad80-2562-11e9-8297-1c6595f8a7ff.png)\n",
    "![green-divider](https://user-images.githubusercontent.com/7065401/52071924-c003ad80-2562-11e9-8297-1c6595f8a7ff.png)\n",
    "## Function 1b - Long/short min variance\n",
    "![green-divider](https://user-images.githubusercontent.com/7065401/52071924-c003ad80-2562-11e9-8297-1c6595f8a7ff.png)\n",
    "![green-divider](https://user-images.githubusercontent.com/7065401/52071924-c003ad80-2562-11e9-8297-1c6595f8a7ff.png)\n",
    "![green-divider](https://user-images.githubusercontent.com/7065401/52071924-c003ad80-2562-11e9-8297-1c6595f8a7ff.png)"
   ]
  },
  {
   "cell_type": "code",
   "execution_count": 100,
   "metadata": {
    "scrolled": false
   },
   "outputs": [
    {
     "name": "stdout",
     "output_type": "stream",
     "text": [
      "OrderedDict([('PRIAGSD HK Equity', 0.20382), ('PRIGLGC HK Equity', 0.04955), ('PRIHDSC HK Equity', 0.18541), ('PRILTAC HK Equity', 0.02463), ('PRILTGC HK Equity', 0.01249), ('PRICAPC HK Equity', 0.20387), ('PRASBON HK Equity', 0.20382), ('PRISTYC HK Equity', 0.1164)])\n",
      "Expected annual return: 0.6%\n",
      "Annual volatility: 2.6%\n",
      "Sharpe Ratio: -0.56\n"
     ]
    },
    {
     "data": {
      "text/plain": [
       "Text(0.5, 1.0, 'Fund Portfolio')"
      ]
     },
     "execution_count": 100,
     "metadata": {},
     "output_type": "execute_result"
    },
    {
     "data": {
      "image/png": "[encoded data removed]",
      "text/plain": [
       "<Figure size 360x360 with 1 Axes>"
      ]
     },
     "metadata": {},
     "output_type": "display_data"
    }
   ],
   "source": [
    "ef = EfficientFrontier(mu1, S1)\n",
    "\n",
    "ef.min_volatility() #input desired volatility - default as ten percent\n",
    "cleanweight2b = ef.clean_weights()\n",
    "print(cleanweight2b)\n",
    "\n",
    "ret,vol,sharpe = ef.portfolio_performance(verbose=True)\n",
    "\n",
    "\n",
    "pd.Series(cleanweight2b).plot.pie(figsize=(5,5))\n",
    "plt.title(\"Fund Portfolio\")"
   ]
  },
  {
   "cell_type": "markdown",
   "metadata": {},
   "source": [
    "![green-divider](https://user-images.githubusercontent.com/7065401/52071924-c003ad80-2562-11e9-8297-1c6595f8a7ff.png)\n",
    "![green-divider](https://user-images.githubusercontent.com/7065401/52071924-c003ad80-2562-11e9-8297-1c6595f8a7ff.png)\n",
    "![green-divider](https://user-images.githubusercontent.com/7065401/52071924-c003ad80-2562-11e9-8297-1c6595f8a7ff.png)\n",
    "## Function 2- Portfolio Optimization with given Risk Tolerance\n",
    "![green-divider](https://user-images.githubusercontent.com/7065401/52071924-c003ad80-2562-11e9-8297-1c6595f8a7ff.png)\n",
    "![green-divider](https://user-images.githubusercontent.com/7065401/52071924-c003ad80-2562-11e9-8297-1c6595f8a7ff.png)\n",
    "![green-divider](https://user-images.githubusercontent.com/7065401/52071924-c003ad80-2562-11e9-8297-1c6595f8a7ff.png)"
   ]
  },
  {
   "cell_type": "code",
   "execution_count": 105,
   "metadata": {
    "scrolled": true
   },
   "outputs": [
    {
     "name": "stdout",
     "output_type": "stream",
     "text": [
      "OrderedDict([('PRIAGSD HK Equity', 0.0), ('PRIGLGC HK Equity', 0.0), ('PRIHDSC HK Equity', 0.24216), ('PRILTAC HK Equity', 0.0), ('PRILTGC HK Equity', 0.0), ('PRICAPC HK Equity', 0.17525), ('PRASBON HK Equity', 0.0), ('PRISTYC HK Equity', 0.58258)])\n",
      "Expected annual return: 1.8%\n",
      "Annual volatility: 5.0%\n",
      "Sharpe Ratio: -0.05\n"
     ]
    },
    {
     "data": {
      "text/plain": [
       "Text(0.5, 1.0, 'Fund Portfolio')"
      ]
     },
     "execution_count": 105,
     "metadata": {},
     "output_type": "execute_result"
    },
    {
     "data": {
      "image/png": "[encoded data removed]",
      "text/plain": [
       "<Figure size 360x360 with 1 Axes>"
      ]
     },
     "metadata": {},
     "output_type": "display_data"
    }
   ],
   "source": [
    "ef = EfficientFrontier(mu1, S1)\n",
    "\n",
    "ef.efficient_risk(target_volatility=0.05) #input desired volatility - default as ten percent\n",
    "cleanweight2a = ef.clean_weights()\n",
    "print(cleanweight2a)\n",
    "\n",
    "ret,vol,sharpe = ef.portfolio_performance(verbose=True)\n",
    "\n",
    "\n",
    "pd.Series(cleanweight2a).plot.pie(figsize=(5,5))\n",
    "plt.title(\"Fund Portfolio\")"
   ]
  },
  {
   "cell_type": "markdown",
   "metadata": {},
   "source": [
    "![green-divider](https://user-images.githubusercontent.com/7065401/52071924-c003ad80-2562-11e9-8297-1c6595f8a7ff.png)\n",
    "![green-divider](https://user-images.githubusercontent.com/7065401/52071924-c003ad80-2562-11e9-8297-1c6595f8a7ff.png)\n",
    "![green-divider](https://user-images.githubusercontent.com/7065401/52071924-c003ad80-2562-11e9-8297-1c6595f8a7ff.png)\n",
    "## Function 3 - Minimise risk for a given return\n",
    "![green-divider](https://user-images.githubusercontent.com/7065401/52071924-c003ad80-2562-11e9-8297-1c6595f8a7ff.png)\n",
    "![green-divider](https://user-images.githubusercontent.com/7065401/52071924-c003ad80-2562-11e9-8297-1c6595f8a7ff.png)\n",
    "![green-divider](https://user-images.githubusercontent.com/7065401/52071924-c003ad80-2562-11e9-8297-1c6595f8a7ff.png)"
   ]
  },
  {
   "cell_type": "code",
   "execution_count": 103,
   "metadata": {
    "scrolled": false
   },
   "outputs": [
    {
     "name": "stdout",
     "output_type": "stream",
     "text": [
      "OrderedDict([('PRIAGSD HK Equity', -0.28), ('PRIGLGC HK Equity', -0.25242), ('PRIHDSC HK Equity', 0.22225), ('PRILTAC HK Equity', 0.19365), ('PRILTGC HK Equity', -0.21455), ('PRICAPC HK Equity', 0.18793), ('PRASBON HK Equity', -0.28), ('PRISTYC HK Equity', 0.42313)])\n"
     ]
    }
   ],
   "source": [
    "ef = EfficientFrontier(mu1, S1, weight_bounds=(None, None))\n",
    "ef.efficient_return(target_return=0.02, market_neutral=True)\n",
    "cleanweight3 = ef.clean_weights()\n",
    "print(cleanweight3)"
   ]
  },
  {
   "cell_type": "markdown",
   "metadata": {},
   "source": [
    "![green-divider](https://user-images.githubusercontent.com/7065401/52071924-c003ad80-2562-11e9-8297-1c6595f8a7ff.png)\n",
    "![green-divider](https://user-images.githubusercontent.com/7065401/52071924-c003ad80-2562-11e9-8297-1c6595f8a7ff.png)\n",
    "![green-divider](https://user-images.githubusercontent.com/7065401/52071924-c003ad80-2562-11e9-8297-1c6595f8a7ff.png)\n",
    "![green-divider](https://user-images.githubusercontent.com/7065401/52071924-c003ad80-2562-11e9-8297-1c6595f8a7ff.png)\n",
    "![green-divider](https://user-images.githubusercontent.com/7065401/52071924-c003ad80-2562-11e9-8297-1c6595f8a7ff.png)\n",
    "![green-divider](https://user-images.githubusercontent.com/7065401/52071924-c003ad80-2562-11e9-8297-1c6595f8a7ff.png)\n",
    "\n",
    "## Plotting Efficient Frontier"
   ]
  },
  {
   "cell_type": "code",
   "execution_count": 64,
   "metadata": {
    "scrolled": true
   },
   "outputs": [
    {
     "name": "stdout",
     "output_type": "stream",
     "text": [
      "Expected annual return: 1.5%\n",
      "Annual volatility: 3.9%\n",
      "Sharpe Ratio: -0.14\n"
     ]
    }
   ],
   "source": [
    "from pypfopt import CLA, plotting\n",
    "\n",
    "cla = CLA(mu1, S1)\n",
    "cla.max_sharpe()\n",
    "cla.portfolio_performance(verbose=True);"
   ]
  },
  {
   "cell_type": "code",
   "execution_count": 65,
   "metadata": {},
   "outputs": [
    {
     "data": {
      "image/png": "[encoded data removed]",
      "text/plain": [
       "<Figure size 432x288 with 1 Axes>"
      ]
     },
     "metadata": {
      "needs_background": "light"
     },
     "output_type": "display_data"
    }
   ],
   "source": [
    "ax = plotting.plot_efficient_frontier(cla, showfig=False)"
   ]
  },
  {
   "cell_type": "markdown",
   "metadata": {},
   "source": [
    "![green-divider](https://user-images.githubusercontent.com/7065401/52071924-c003ad80-2562-11e9-8297-1c6595f8a7ff.png)\n",
    "![green-divider](https://user-images.githubusercontent.com/7065401/52071924-c003ad80-2562-11e9-8297-1c6595f8a7ff.png)\n",
    "![green-divider](https://user-images.githubusercontent.com/7065401/52071924-c003ad80-2562-11e9-8297-1c6595f8a7ff.png)\n",
    "![green-divider](https://user-images.githubusercontent.com/7065401/52071924-c003ad80-2562-11e9-8297-1c6595f8a7ff.png)\n",
    "![green-divider](https://user-images.githubusercontent.com/7065401/52071924-c003ad80-2562-11e9-8297-1c6595f8a7ff.png)\n",
    "![green-divider](https://user-images.githubusercontent.com/7065401/52071924-c003ad80-2562-11e9-8297-1c6595f8a7ff.png)\n",
    "\n",
    "# This scheme in a nutshell:"
   ]
  },
  {
   "cell_type": "markdown",
   "metadata": {},
   "source": [
    "##         Any portfolio with volatility higher than 11.1% is bad because you earn the same afterwards. The highest return you can get is 5.0%."
   ]
  },
  {
   "cell_type": "code",
   "execution_count": 66,
   "metadata": {},
   "outputs": [
    {
     "name": "stdout",
     "output_type": "stream",
     "text": [
      "Expected annual return: 2.0%\n",
      "Annual volatility: 2.0%\n",
      "Sharpe Ratio: -0.02\n",
      "Expected annual return: 2.0%\n",
      "Annual volatility: 2.1%\n",
      "Sharpe Ratio: 0.02\n",
      "Expected annual return: 2.1%\n",
      "Annual volatility: 2.2%\n",
      "Sharpe Ratio: 0.05\n",
      "Expected annual return: 2.2%\n",
      "Annual volatility: 2.3%\n",
      "Sharpe Ratio: 0.08\n",
      "Expected annual return: 2.3%\n",
      "Annual volatility: 2.4%\n",
      "Sharpe Ratio: 0.11\n",
      "Expected annual return: 2.3%\n",
      "Annual volatility: 2.5%\n",
      "Sharpe Ratio: 0.13\n",
      "Expected annual return: 2.4%\n",
      "Annual volatility: 2.6%\n",
      "Sharpe Ratio: 0.15\n",
      "Expected annual return: 2.5%\n",
      "Annual volatility: 2.7%\n",
      "Sharpe Ratio: 0.18\n",
      "Expected annual return: 2.5%\n",
      "Annual volatility: 2.8%\n",
      "Sharpe Ratio: 0.19\n",
      "Expected annual return: 2.6%\n",
      "Annual volatility: 2.9%\n",
      "Sharpe Ratio: 0.21\n",
      "Expected annual return: 2.7%\n",
      "Annual volatility: 3.0%\n",
      "Sharpe Ratio: 0.23\n",
      "Expected annual return: 2.8%\n",
      "Annual volatility: 3.1%\n",
      "Sharpe Ratio: 0.24\n",
      "Expected annual return: 2.8%\n",
      "Annual volatility: 3.2%\n",
      "Sharpe Ratio: 0.26\n",
      "Expected annual return: 2.9%\n",
      "Annual volatility: 3.3%\n",
      "Sharpe Ratio: 0.27\n",
      "Expected annual return: 3.0%\n",
      "Annual volatility: 3.4%\n",
      "Sharpe Ratio: 0.28\n",
      "Expected annual return: 3.0%\n",
      "Annual volatility: 3.5%\n",
      "Sharpe Ratio: 0.29\n",
      "Expected annual return: 3.1%\n",
      "Annual volatility: 3.6%\n",
      "Sharpe Ratio: 0.30\n",
      "Expected annual return: 3.2%\n",
      "Annual volatility: 3.7%\n",
      "Sharpe Ratio: 0.31\n",
      "Expected annual return: 3.2%\n",
      "Annual volatility: 3.8%\n",
      "Sharpe Ratio: 0.32\n",
      "Expected annual return: 3.3%\n",
      "Annual volatility: 3.9%\n",
      "Sharpe Ratio: 0.33\n",
      "Expected annual return: 3.3%\n",
      "Annual volatility: 4.0%\n",
      "Sharpe Ratio: 0.34\n",
      "Expected annual return: 3.4%\n",
      "Annual volatility: 4.1%\n",
      "Sharpe Ratio: 0.34\n",
      "Expected annual return: 3.5%\n",
      "Annual volatility: 4.2%\n",
      "Sharpe Ratio: 0.35\n",
      "Expected annual return: 3.5%\n",
      "Annual volatility: 4.3%\n",
      "Sharpe Ratio: 0.36\n",
      "Expected annual return: 3.6%\n",
      "Annual volatility: 4.4%\n",
      "Sharpe Ratio: 0.36\n",
      "Expected annual return: 3.6%\n",
      "Annual volatility: 4.5%\n",
      "Sharpe Ratio: 0.37\n",
      "Expected annual return: 3.7%\n",
      "Annual volatility: 4.6%\n",
      "Sharpe Ratio: 0.37\n",
      "Expected annual return: 3.8%\n",
      "Annual volatility: 4.7%\n",
      "Sharpe Ratio: 0.38\n",
      "Expected annual return: 3.8%\n",
      "Annual volatility: 4.8%\n",
      "Sharpe Ratio: 0.38\n",
      "Expected annual return: 3.9%\n",
      "Annual volatility: 4.9%\n",
      "Sharpe Ratio: 0.38\n",
      "Expected annual return: 3.9%\n",
      "Annual volatility: 5.0%\n",
      "Sharpe Ratio: 0.38\n",
      "Expected annual return: 4.0%\n",
      "Annual volatility: 5.1%\n",
      "Sharpe Ratio: 0.38\n",
      "Expected annual return: 4.0%\n",
      "Annual volatility: 5.2%\n",
      "Sharpe Ratio: 0.38\n",
      "Expected annual return: 4.0%\n",
      "Annual volatility: 5.3%\n",
      "Sharpe Ratio: 0.38\n",
      "Expected annual return: 4.0%\n",
      "Annual volatility: 5.4%\n",
      "Sharpe Ratio: 0.38\n",
      "Expected annual return: 4.1%\n",
      "Annual volatility: 5.5%\n",
      "Sharpe Ratio: 0.38\n",
      "Expected annual return: 4.1%\n",
      "Annual volatility: 5.6%\n",
      "Sharpe Ratio: 0.38\n",
      "Expected annual return: 4.1%\n",
      "Annual volatility: 5.7%\n",
      "Sharpe Ratio: 0.37\n",
      "Expected annual return: 4.1%\n",
      "Annual volatility: 5.8%\n",
      "Sharpe Ratio: 0.37\n",
      "Expected annual return: 4.2%\n",
      "Annual volatility: 5.9%\n",
      "Sharpe Ratio: 0.37\n",
      "Expected annual return: 4.2%\n",
      "Annual volatility: 6.0%\n",
      "Sharpe Ratio: 0.36\n",
      "Expected annual return: 4.2%\n",
      "Annual volatility: 6.1%\n",
      "Sharpe Ratio: 0.36\n",
      "Expected annual return: 4.2%\n",
      "Annual volatility: 6.2%\n",
      "Sharpe Ratio: 0.36\n",
      "Expected annual return: 4.2%\n",
      "Annual volatility: 6.3%\n",
      "Sharpe Ratio: 0.36\n",
      "Expected annual return: 4.3%\n",
      "Annual volatility: 6.4%\n",
      "Sharpe Ratio: 0.35\n",
      "Expected annual return: 4.3%\n",
      "Annual volatility: 6.5%\n",
      "Sharpe Ratio: 0.35\n",
      "Expected annual return: 4.3%\n",
      "Annual volatility: 6.6%\n",
      "Sharpe Ratio: 0.35\n",
      "Expected annual return: 4.3%\n",
      "Annual volatility: 6.7%\n",
      "Sharpe Ratio: 0.35\n",
      "Expected annual return: 4.3%\n",
      "Annual volatility: 6.8%\n",
      "Sharpe Ratio: 0.34\n",
      "Expected annual return: 4.4%\n",
      "Annual volatility: 6.9%\n",
      "Sharpe Ratio: 0.34\n",
      "Expected annual return: 4.4%\n",
      "Annual volatility: 7.0%\n",
      "Sharpe Ratio: 0.34\n",
      "Expected annual return: 4.4%\n",
      "Annual volatility: 7.1%\n",
      "Sharpe Ratio: 0.34\n",
      "Expected annual return: 4.4%\n",
      "Annual volatility: 7.2%\n",
      "Sharpe Ratio: 0.33\n",
      "Expected annual return: 4.4%\n",
      "Annual volatility: 7.3%\n",
      "Sharpe Ratio: 0.33\n",
      "Expected annual return: 4.4%\n",
      "Annual volatility: 7.4%\n",
      "Sharpe Ratio: 0.33\n",
      "Expected annual return: 4.5%\n",
      "Annual volatility: 7.5%\n",
      "Sharpe Ratio: 0.33\n",
      "Expected annual return: 4.5%\n",
      "Annual volatility: 7.6%\n",
      "Sharpe Ratio: 0.32\n",
      "Expected annual return: 4.5%\n",
      "Annual volatility: 7.7%\n",
      "Sharpe Ratio: 0.32\n",
      "Expected annual return: 4.5%\n",
      "Annual volatility: 7.8%\n",
      "Sharpe Ratio: 0.32\n",
      "Expected annual return: 4.5%\n",
      "Annual volatility: 7.9%\n",
      "Sharpe Ratio: 0.32\n",
      "Expected annual return: 4.5%\n",
      "Annual volatility: 8.0%\n",
      "Sharpe Ratio: 0.32\n",
      "Expected annual return: 4.5%\n",
      "Annual volatility: 8.1%\n",
      "Sharpe Ratio: 0.31\n",
      "Expected annual return: 4.6%\n",
      "Annual volatility: 8.2%\n",
      "Sharpe Ratio: 0.31\n",
      "Expected annual return: 4.6%\n",
      "Annual volatility: 8.3%\n",
      "Sharpe Ratio: 0.31\n",
      "Expected annual return: 4.6%\n",
      "Annual volatility: 8.4%\n",
      "Sharpe Ratio: 0.31\n",
      "Expected annual return: 4.6%\n",
      "Annual volatility: 8.5%\n",
      "Sharpe Ratio: 0.31\n",
      "Expected annual return: 4.6%\n",
      "Annual volatility: 8.6%\n",
      "Sharpe Ratio: 0.30\n",
      "Expected annual return: 4.6%\n",
      "Annual volatility: 8.7%\n",
      "Sharpe Ratio: 0.30\n",
      "Expected annual return: 4.6%\n",
      "Annual volatility: 8.8%\n",
      "Sharpe Ratio: 0.30\n",
      "Expected annual return: 4.7%\n",
      "Annual volatility: 8.9%\n",
      "Sharpe Ratio: 0.30\n",
      "Expected annual return: 4.7%\n",
      "Annual volatility: 9.0%\n",
      "Sharpe Ratio: 0.30\n",
      "Expected annual return: 4.7%\n",
      "Annual volatility: 9.1%\n",
      "Sharpe Ratio: 0.30\n",
      "Expected annual return: 4.7%\n",
      "Annual volatility: 9.2%\n",
      "Sharpe Ratio: 0.29\n",
      "Expected annual return: 4.7%\n",
      "Annual volatility: 9.3%\n",
      "Sharpe Ratio: 0.29\n",
      "Expected annual return: 4.7%\n",
      "Annual volatility: 9.4%\n",
      "Sharpe Ratio: 0.29\n",
      "Expected annual return: 4.7%\n",
      "Annual volatility: 9.5%\n",
      "Sharpe Ratio: 0.29\n",
      "Expected annual return: 4.8%\n",
      "Annual volatility: 9.6%\n",
      "Sharpe Ratio: 0.29\n",
      "Expected annual return: 4.8%\n",
      "Annual volatility: 9.7%\n",
      "Sharpe Ratio: 0.29\n",
      "Expected annual return: 4.8%\n",
      "Annual volatility: 9.8%\n",
      "Sharpe Ratio: 0.28\n",
      "Expected annual return: 4.8%\n",
      "Annual volatility: 9.9%\n",
      "Sharpe Ratio: 0.28\n",
      "Expected annual return: 4.8%\n",
      "Annual volatility: 10.0%\n",
      "Sharpe Ratio: 0.28\n",
      "Expected annual return: 4.8%\n",
      "Annual volatility: 10.1%\n",
      "Sharpe Ratio: 0.28\n",
      "Expected annual return: 4.8%\n",
      "Annual volatility: 10.2%\n",
      "Sharpe Ratio: 0.28\n",
      "Expected annual return: 4.9%\n",
      "Annual volatility: 10.3%\n",
      "Sharpe Ratio: 0.28\n",
      "Expected annual return: 4.9%\n",
      "Annual volatility: 10.4%\n",
      "Sharpe Ratio: 0.28\n",
      "Expected annual return: 4.9%\n",
      "Annual volatility: 10.5%\n",
      "Sharpe Ratio: 0.27\n",
      "Expected annual return: 4.9%\n",
      "Annual volatility: 10.6%\n",
      "Sharpe Ratio: 0.27\n",
      "Expected annual return: 4.9%\n",
      "Annual volatility: 10.7%\n",
      "Sharpe Ratio: 0.27\n",
      "Expected annual return: 4.9%\n",
      "Annual volatility: 10.8%\n",
      "Sharpe Ratio: 0.27\n",
      "Expected annual return: 4.9%\n",
      "Annual volatility: 10.9%\n",
      "Sharpe Ratio: 0.27\n",
      "Expected annual return: 4.9%\n",
      "Annual volatility: 11.0%\n",
      "Sharpe Ratio: 0.27\n",
      "Expected annual return: 5.0%\n",
      "Annual volatility: 11.1%\n",
      "Sharpe Ratio: 0.27\n",
      "Expected annual return: 5.0%\n",
      "Annual volatility: 11.2%\n",
      "Sharpe Ratio: 0.27\n",
      "Expected annual return: 5.0%\n",
      "Annual volatility: 11.3%\n",
      "Sharpe Ratio: 0.26\n",
      "Expected annual return: 5.0%\n",
      "Annual volatility: 11.4%\n",
      "Sharpe Ratio: 0.26\n",
      "Expected annual return: 5.0%\n",
      "Annual volatility: 11.5%\n",
      "Sharpe Ratio: 0.26\n",
      "Expected annual return: 5.0%\n",
      "Annual volatility: 11.5%\n",
      "Sharpe Ratio: 0.26\n",
      "Expected annual return: 5.0%\n",
      "Annual volatility: 11.5%\n",
      "Sharpe Ratio: 0.26\n",
      "Expected annual return: 5.0%\n",
      "Annual volatility: 11.5%\n",
      "Sharpe Ratio: 0.26\n",
      "Expected annual return: 5.0%\n",
      "Annual volatility: 11.5%\n",
      "Sharpe Ratio: 0.26\n",
      "Expected annual return: 5.0%\n",
      "Annual volatility: 11.5%\n",
      "Sharpe Ratio: 0.26\n",
      "Expected annual return: 5.0%\n",
      "Annual volatility: 11.5%\n",
      "Sharpe Ratio: 0.26\n",
      "Expected annual return: 5.0%\n",
      "Annual volatility: 11.5%\n",
      "Sharpe Ratio: 0.26\n",
      "Expected annual return: 5.0%\n",
      "Annual volatility: 11.5%\n",
      "Sharpe Ratio: 0.26\n",
      "Expected annual return: 5.0%\n",
      "Annual volatility: 11.5%\n",
      "Sharpe Ratio: 0.26\n",
      "Expected annual return: 5.0%\n",
      "Annual volatility: 11.5%\n",
      "Sharpe Ratio: 0.26\n",
      "Expected annual return: 5.0%\n",
      "Annual volatility: 11.5%\n",
      "Sharpe Ratio: 0.26\n",
      "Expected annual return: 5.0%\n",
      "Annual volatility: 11.5%\n",
      "Sharpe Ratio: 0.26\n",
      "Expected annual return: 5.0%\n",
      "Annual volatility: 11.5%\n",
      "Sharpe Ratio: 0.26\n",
      "Expected annual return: 5.0%\n",
      "Annual volatility: 11.5%\n",
      "Sharpe Ratio: 0.26\n",
      "Expected annual return: 5.0%\n",
      "Annual volatility: 11.5%\n",
      "Sharpe Ratio: 0.26\n",
      "Expected annual return: 5.0%\n",
      "Annual volatility: 11.5%\n",
      "Sharpe Ratio: 0.26\n",
      "Expected annual return: 5.0%\n",
      "Annual volatility: 11.5%\n",
      "Sharpe Ratio: 0.26\n",
      "Expected annual return: 5.0%\n",
      "Annual volatility: 11.5%\n",
      "Sharpe Ratio: 0.26\n",
      "Expected annual return: 5.0%\n",
      "Annual volatility: 11.5%\n",
      "Sharpe Ratio: 0.26\n",
      "Expected annual return: 5.0%\n",
      "Annual volatility: 11.5%\n",
      "Sharpe Ratio: 0.26\n",
      "Expected annual return: 5.0%\n",
      "Annual volatility: 11.5%\n",
      "Sharpe Ratio: 0.26\n",
      "Expected annual return: 5.0%\n",
      "Annual volatility: 11.5%\n",
      "Sharpe Ratio: 0.26\n",
      "Expected annual return: 5.0%\n",
      "Annual volatility: 11.5%\n",
      "Sharpe Ratio: 0.26\n"
     ]
    },
    {
     "name": "stdout",
     "output_type": "stream",
     "text": [
      "Expected annual return: 5.0%\n",
      "Annual volatility: 11.5%\n",
      "Sharpe Ratio: 0.26\n",
      "Expected annual return: 5.0%\n",
      "Annual volatility: 11.5%\n",
      "Sharpe Ratio: 0.26\n",
      "Expected annual return: 5.0%\n",
      "Annual volatility: 11.5%\n",
      "Sharpe Ratio: 0.26\n",
      "Expected annual return: 5.0%\n",
      "Annual volatility: 11.5%\n",
      "Sharpe Ratio: 0.26\n",
      "Expected annual return: 5.0%\n",
      "Annual volatility: 11.5%\n",
      "Sharpe Ratio: 0.26\n",
      "Expected annual return: 5.0%\n",
      "Annual volatility: 11.5%\n",
      "Sharpe Ratio: 0.26\n",
      "Expected annual return: 5.0%\n",
      "Annual volatility: 11.5%\n",
      "Sharpe Ratio: 0.26\n",
      "Expected annual return: 5.0%\n",
      "Annual volatility: 11.5%\n",
      "Sharpe Ratio: 0.26\n",
      "Expected annual return: 5.0%\n",
      "Annual volatility: 11.5%\n",
      "Sharpe Ratio: 0.26\n",
      "Expected annual return: 5.0%\n",
      "Annual volatility: 11.5%\n",
      "Sharpe Ratio: 0.26\n",
      "Expected annual return: 5.0%\n",
      "Annual volatility: 11.5%\n",
      "Sharpe Ratio: 0.26\n",
      "Expected annual return: 5.0%\n",
      "Annual volatility: 11.5%\n",
      "Sharpe Ratio: 0.26\n",
      "Expected annual return: 5.0%\n",
      "Annual volatility: 11.5%\n",
      "Sharpe Ratio: 0.26\n",
      "Expected annual return: 5.0%\n",
      "Annual volatility: 11.5%\n",
      "Sharpe Ratio: 0.26\n",
      "Expected annual return: 5.0%\n",
      "Annual volatility: 11.5%\n",
      "Sharpe Ratio: 0.26\n",
      "Expected annual return: 5.0%\n",
      "Annual volatility: 11.5%\n",
      "Sharpe Ratio: 0.26\n",
      "Expected annual return: 5.0%\n",
      "Annual volatility: 11.5%\n",
      "Sharpe Ratio: 0.26\n",
      "Expected annual return: 5.0%\n",
      "Annual volatility: 11.5%\n",
      "Sharpe Ratio: 0.26\n",
      "Expected annual return: 5.0%\n",
      "Annual volatility: 11.5%\n",
      "Sharpe Ratio: 0.26\n",
      "Expected annual return: 5.0%\n",
      "Annual volatility: 11.5%\n",
      "Sharpe Ratio: 0.26\n",
      "Expected annual return: 5.0%\n",
      "Annual volatility: 11.5%\n",
      "Sharpe Ratio: 0.26\n",
      "Expected annual return: 5.0%\n",
      "Annual volatility: 11.5%\n",
      "Sharpe Ratio: 0.26\n",
      "Expected annual return: 5.0%\n",
      "Annual volatility: 11.5%\n",
      "Sharpe Ratio: 0.26\n",
      "Expected annual return: 5.0%\n",
      "Annual volatility: 11.5%\n",
      "Sharpe Ratio: 0.26\n",
      "Expected annual return: 5.0%\n",
      "Annual volatility: 11.5%\n",
      "Sharpe Ratio: 0.26\n",
      "Expected annual return: 5.0%\n",
      "Annual volatility: 11.5%\n",
      "Sharpe Ratio: 0.26\n",
      "Expected annual return: 5.0%\n",
      "Annual volatility: 11.5%\n",
      "Sharpe Ratio: 0.26\n",
      "Expected annual return: 5.0%\n",
      "Annual volatility: 11.5%\n",
      "Sharpe Ratio: 0.26\n",
      "Expected annual return: 5.0%\n",
      "Annual volatility: 11.5%\n",
      "Sharpe Ratio: 0.26\n",
      "Expected annual return: 5.0%\n",
      "Annual volatility: 11.5%\n",
      "Sharpe Ratio: 0.26\n",
      "Expected annual return: 5.0%\n",
      "Annual volatility: 11.5%\n",
      "Sharpe Ratio: 0.26\n",
      "Expected annual return: 5.0%\n",
      "Annual volatility: 11.5%\n",
      "Sharpe Ratio: 0.26\n",
      "Expected annual return: 5.0%\n",
      "Annual volatility: 11.5%\n",
      "Sharpe Ratio: 0.26\n",
      "Expected annual return: 5.0%\n",
      "Annual volatility: 11.5%\n",
      "Sharpe Ratio: 0.26\n",
      "Expected annual return: 5.0%\n",
      "Annual volatility: 11.5%\n",
      "Sharpe Ratio: 0.26\n",
      "Expected annual return: 5.0%\n",
      "Annual volatility: 11.5%\n",
      "Sharpe Ratio: 0.26\n",
      "Expected annual return: 5.0%\n",
      "Annual volatility: 11.5%\n",
      "Sharpe Ratio: 0.26\n",
      "Expected annual return: 5.0%\n",
      "Annual volatility: 11.5%\n",
      "Sharpe Ratio: 0.26\n",
      "Expected annual return: 5.0%\n",
      "Annual volatility: 11.5%\n",
      "Sharpe Ratio: 0.26\n",
      "Expected annual return: 5.0%\n",
      "Annual volatility: 11.5%\n",
      "Sharpe Ratio: 0.26\n",
      "Expected annual return: 5.0%\n",
      "Annual volatility: 11.5%\n",
      "Sharpe Ratio: 0.26\n",
      "Expected annual return: 5.0%\n",
      "Annual volatility: 11.5%\n",
      "Sharpe Ratio: 0.26\n",
      "Expected annual return: 5.0%\n",
      "Annual volatility: 11.5%\n",
      "Sharpe Ratio: 0.26\n",
      "Expected annual return: 5.0%\n",
      "Annual volatility: 11.5%\n",
      "Sharpe Ratio: 0.26\n",
      "Expected annual return: 5.0%\n",
      "Annual volatility: 11.5%\n",
      "Sharpe Ratio: 0.26\n",
      "Expected annual return: 5.0%\n",
      "Annual volatility: 11.5%\n",
      "Sharpe Ratio: 0.26\n",
      "Expected annual return: 5.0%\n",
      "Annual volatility: 11.5%\n",
      "Sharpe Ratio: 0.26\n",
      "Expected annual return: 5.0%\n",
      "Annual volatility: 11.5%\n",
      "Sharpe Ratio: 0.26\n",
      "Expected annual return: 5.0%\n",
      "Annual volatility: 11.5%\n",
      "Sharpe Ratio: 0.26\n",
      "Expected annual return: 5.0%\n",
      "Annual volatility: 11.5%\n",
      "Sharpe Ratio: 0.26\n",
      "Expected annual return: 5.0%\n",
      "Annual volatility: 11.5%\n",
      "Sharpe Ratio: 0.26\n",
      "Expected annual return: 5.0%\n",
      "Annual volatility: 11.5%\n",
      "Sharpe Ratio: 0.26\n",
      "Expected annual return: 5.0%\n",
      "Annual volatility: 11.5%\n",
      "Sharpe Ratio: 0.26\n",
      "Expected annual return: 5.0%\n",
      "Annual volatility: 11.5%\n",
      "Sharpe Ratio: 0.26\n",
      "Expected annual return: 5.0%\n",
      "Annual volatility: 11.5%\n",
      "Sharpe Ratio: 0.26\n",
      "Expected annual return: 5.0%\n",
      "Annual volatility: 11.5%\n",
      "Sharpe Ratio: 0.26\n",
      "Expected annual return: 5.0%\n",
      "Annual volatility: 11.5%\n",
      "Sharpe Ratio: 0.26\n",
      "Expected annual return: 5.0%\n",
      "Annual volatility: 11.5%\n",
      "Sharpe Ratio: 0.26\n",
      "Expected annual return: 5.0%\n",
      "Annual volatility: 11.5%\n",
      "Sharpe Ratio: 0.26\n",
      "Expected annual return: 5.0%\n",
      "Annual volatility: 11.5%\n",
      "Sharpe Ratio: 0.26\n",
      "Expected annual return: 5.0%\n",
      "Annual volatility: 11.5%\n",
      "Sharpe Ratio: 0.26\n",
      "Expected annual return: 5.0%\n",
      "Annual volatility: 11.5%\n",
      "Sharpe Ratio: 0.26\n",
      "Expected annual return: 5.0%\n",
      "Annual volatility: 11.5%\n",
      "Sharpe Ratio: 0.26\n",
      "Expected annual return: 5.0%\n",
      "Annual volatility: 11.5%\n",
      "Sharpe Ratio: 0.26\n",
      "Expected annual return: 5.0%\n",
      "Annual volatility: 11.5%\n",
      "Sharpe Ratio: 0.26\n",
      "Expected annual return: 5.0%\n",
      "Annual volatility: 11.5%\n",
      "Sharpe Ratio: 0.26\n",
      "Expected annual return: 5.0%\n",
      "Annual volatility: 11.5%\n",
      "Sharpe Ratio: 0.26\n",
      "Expected annual return: 5.0%\n",
      "Annual volatility: 11.5%\n",
      "Sharpe Ratio: 0.26\n",
      "Expected annual return: 5.0%\n",
      "Annual volatility: 11.5%\n",
      "Sharpe Ratio: 0.26\n",
      "Expected annual return: 5.0%\n",
      "Annual volatility: 11.5%\n",
      "Sharpe Ratio: 0.26\n",
      "Expected annual return: 5.0%\n",
      "Annual volatility: 11.5%\n",
      "Sharpe Ratio: 0.26\n",
      "Expected annual return: 5.0%\n",
      "Annual volatility: 11.5%\n",
      "Sharpe Ratio: 0.26\n",
      "Expected annual return: 5.0%\n",
      "Annual volatility: 11.5%\n",
      "Sharpe Ratio: 0.26\n",
      "Expected annual return: 5.0%\n",
      "Annual volatility: 11.5%\n",
      "Sharpe Ratio: 0.26\n",
      "Expected annual return: 5.0%\n",
      "Annual volatility: 11.5%\n",
      "Sharpe Ratio: 0.26\n",
      "Expected annual return: 5.0%\n",
      "Annual volatility: 11.5%\n",
      "Sharpe Ratio: 0.26\n",
      "Expected annual return: 5.0%\n",
      "Annual volatility: 11.5%\n",
      "Sharpe Ratio: 0.26\n",
      "Expected annual return: 5.0%\n",
      "Annual volatility: 11.5%\n",
      "Sharpe Ratio: 0.26\n",
      "Expected annual return: 5.0%\n",
      "Annual volatility: 11.5%\n",
      "Sharpe Ratio: 0.26\n",
      "Expected annual return: 5.0%\n",
      "Annual volatility: 11.5%\n",
      "Sharpe Ratio: 0.26\n",
      "Expected annual return: 5.0%\n",
      "Annual volatility: 11.5%\n",
      "Sharpe Ratio: 0.26\n",
      "Expected annual return: 5.0%\n",
      "Annual volatility: 11.5%\n",
      "Sharpe Ratio: 0.26\n",
      "Expected annual return: 5.0%\n",
      "Annual volatility: 11.5%\n",
      "Sharpe Ratio: 0.26\n",
      "Expected annual return: 5.0%\n",
      "Annual volatility: 11.5%\n",
      "Sharpe Ratio: 0.26\n",
      "Expected annual return: 5.0%\n",
      "Annual volatility: 11.5%\n",
      "Sharpe Ratio: 0.26\n",
      "Expected annual return: 5.0%\n",
      "Annual volatility: 11.5%\n",
      "Sharpe Ratio: 0.26\n",
      "Expected annual return: 5.0%\n",
      "Annual volatility: 11.5%\n",
      "Sharpe Ratio: 0.26\n",
      "Expected annual return: 5.0%\n",
      "Annual volatility: 11.5%\n",
      "Sharpe Ratio: 0.26\n",
      "Expected annual return: 5.0%\n",
      "Annual volatility: 11.5%\n",
      "Sharpe Ratio: 0.26\n",
      "Expected annual return: 5.0%\n",
      "Annual volatility: 11.5%\n",
      "Sharpe Ratio: 0.26\n",
      "Expected annual return: 5.0%\n",
      "Annual volatility: 11.5%\n",
      "Sharpe Ratio: 0.26\n",
      "Expected annual return: 5.0%\n",
      "Annual volatility: 11.5%\n",
      "Sharpe Ratio: 0.26\n",
      "Expected annual return: 5.0%\n",
      "Annual volatility: 11.5%\n",
      "Sharpe Ratio: 0.26\n",
      "Expected annual return: 5.0%\n",
      "Annual volatility: 11.5%\n",
      "Sharpe Ratio: 0.26\n",
      "Expected annual return: 5.0%\n",
      "Annual volatility: 11.5%\n",
      "Sharpe Ratio: 0.26\n",
      "Expected annual return: 5.0%\n",
      "Annual volatility: 11.5%\n",
      "Sharpe Ratio: 0.26\n",
      "Expected annual return: 5.0%\n",
      "Annual volatility: 11.5%\n",
      "Sharpe Ratio: 0.26\n",
      "Expected annual return: 5.0%\n",
      "Annual volatility: 11.5%\n",
      "Sharpe Ratio: 0.26\n",
      "Expected annual return: 5.0%\n",
      "Annual volatility: 11.5%\n",
      "Sharpe Ratio: 0.26\n",
      "Expected annual return: 5.0%\n",
      "Annual volatility: 11.5%\n",
      "Sharpe Ratio: 0.26\n",
      "Expected annual return: 5.0%\n",
      "Annual volatility: 11.5%\n",
      "Sharpe Ratio: 0.26\n",
      "Expected annual return: 5.0%\n",
      "Annual volatility: 11.5%\n",
      "Sharpe Ratio: 0.26\n",
      "Expected annual return: 5.0%\n",
      "Annual volatility: 11.5%\n",
      "Sharpe Ratio: 0.26\n",
      "Expected annual return: 5.0%\n",
      "Annual volatility: 11.5%\n",
      "Sharpe Ratio: 0.26\n",
      "Expected annual return: 5.0%\n",
      "Annual volatility: 11.5%\n",
      "Sharpe Ratio: 0.26\n",
      "Expected annual return: 5.0%\n",
      "Annual volatility: 11.5%\n",
      "Sharpe Ratio: 0.26\n",
      "Expected annual return: 5.0%\n",
      "Annual volatility: 11.5%\n",
      "Sharpe Ratio: 0.26\n",
      "Expected annual return: 5.0%\n",
      "Annual volatility: 11.5%\n",
      "Sharpe Ratio: 0.26\n",
      "Expected annual return: 5.0%\n",
      "Annual volatility: 11.5%\n",
      "Sharpe Ratio: 0.26\n",
      "Expected annual return: 5.0%\n",
      "Annual volatility: 11.5%\n",
      "Sharpe Ratio: 0.26\n",
      "Expected annual return: 5.0%\n",
      "Annual volatility: 11.5%\n",
      "Sharpe Ratio: 0.26\n",
      "Expected annual return: 5.0%\n",
      "Annual volatility: 11.5%\n",
      "Sharpe Ratio: 0.26\n",
      "Expected annual return: 5.0%\n",
      "Annual volatility: 11.5%\n",
      "Sharpe Ratio: 0.26\n",
      "Expected annual return: 5.0%\n",
      "Annual volatility: 11.5%\n",
      "Sharpe Ratio: 0.26\n",
      "Expected annual return: 5.0%\n",
      "Annual volatility: 11.5%\n",
      "Sharpe Ratio: 0.26\n",
      "Expected annual return: 5.0%\n",
      "Annual volatility: 11.5%\n",
      "Sharpe Ratio: 0.26\n",
      "Expected annual return: 5.0%\n",
      "Annual volatility: 11.5%\n",
      "Sharpe Ratio: 0.26\n",
      "Expected annual return: 5.0%\n",
      "Annual volatility: 11.5%\n",
      "Sharpe Ratio: 0.26\n"
     ]
    },
    {
     "name": "stdout",
     "output_type": "stream",
     "text": [
      "Expected annual return: 5.0%\n",
      "Annual volatility: 11.5%\n",
      "Sharpe Ratio: 0.26\n",
      "Expected annual return: 5.0%\n",
      "Annual volatility: 11.5%\n",
      "Sharpe Ratio: 0.26\n",
      "Expected annual return: 5.0%\n",
      "Annual volatility: 11.5%\n",
      "Sharpe Ratio: 0.26\n",
      "Expected annual return: 5.0%\n",
      "Annual volatility: 11.5%\n",
      "Sharpe Ratio: 0.26\n",
      "Expected annual return: 5.0%\n",
      "Annual volatility: 11.5%\n",
      "Sharpe Ratio: 0.26\n",
      "Expected annual return: 5.0%\n",
      "Annual volatility: 11.5%\n",
      "Sharpe Ratio: 0.26\n",
      "Expected annual return: 5.0%\n",
      "Annual volatility: 11.5%\n",
      "Sharpe Ratio: 0.26\n",
      "Expected annual return: 5.0%\n",
      "Annual volatility: 11.5%\n",
      "Sharpe Ratio: 0.26\n",
      "Expected annual return: 5.0%\n",
      "Annual volatility: 11.5%\n",
      "Sharpe Ratio: 0.26\n",
      "Expected annual return: 5.0%\n",
      "Annual volatility: 11.5%\n",
      "Sharpe Ratio: 0.26\n",
      "Expected annual return: 5.0%\n",
      "Annual volatility: 11.5%\n",
      "Sharpe Ratio: 0.26\n",
      "Expected annual return: 5.0%\n",
      "Annual volatility: 11.5%\n",
      "Sharpe Ratio: 0.26\n",
      "Expected annual return: 5.0%\n",
      "Annual volatility: 11.5%\n",
      "Sharpe Ratio: 0.26\n",
      "Expected annual return: 5.0%\n",
      "Annual volatility: 11.5%\n",
      "Sharpe Ratio: 0.26\n",
      "Expected annual return: 5.0%\n",
      "Annual volatility: 11.5%\n",
      "Sharpe Ratio: 0.26\n",
      "Expected annual return: 5.0%\n",
      "Annual volatility: 11.5%\n",
      "Sharpe Ratio: 0.26\n",
      "Expected annual return: 5.0%\n",
      "Annual volatility: 11.5%\n",
      "Sharpe Ratio: 0.26\n",
      "Expected annual return: 5.0%\n",
      "Annual volatility: 11.5%\n",
      "Sharpe Ratio: 0.26\n",
      "Expected annual return: 5.0%\n",
      "Annual volatility: 11.5%\n",
      "Sharpe Ratio: 0.26\n",
      "Expected annual return: 5.0%\n",
      "Annual volatility: 11.5%\n",
      "Sharpe Ratio: 0.26\n",
      "Expected annual return: 5.0%\n",
      "Annual volatility: 11.5%\n",
      "Sharpe Ratio: 0.26\n",
      "Expected annual return: 5.0%\n",
      "Annual volatility: 11.5%\n",
      "Sharpe Ratio: 0.26\n",
      "Expected annual return: 5.0%\n",
      "Annual volatility: 11.5%\n",
      "Sharpe Ratio: 0.26\n",
      "Expected annual return: 5.0%\n",
      "Annual volatility: 11.5%\n",
      "Sharpe Ratio: 0.26\n",
      "Expected annual return: 5.0%\n",
      "Annual volatility: 11.5%\n",
      "Sharpe Ratio: 0.26\n",
      "Expected annual return: 5.0%\n",
      "Annual volatility: 11.5%\n",
      "Sharpe Ratio: 0.26\n",
      "Expected annual return: 5.0%\n",
      "Annual volatility: 11.5%\n",
      "Sharpe Ratio: 0.26\n",
      "Expected annual return: 5.0%\n",
      "Annual volatility: 11.5%\n",
      "Sharpe Ratio: 0.26\n",
      "Expected annual return: 5.0%\n",
      "Annual volatility: 11.5%\n",
      "Sharpe Ratio: 0.26\n",
      "Expected annual return: 5.0%\n",
      "Annual volatility: 11.5%\n",
      "Sharpe Ratio: 0.26\n",
      "Expected annual return: 5.0%\n",
      "Annual volatility: 11.5%\n",
      "Sharpe Ratio: 0.26\n",
      "Expected annual return: 5.0%\n",
      "Annual volatility: 11.5%\n",
      "Sharpe Ratio: 0.26\n",
      "Expected annual return: 5.0%\n",
      "Annual volatility: 11.5%\n",
      "Sharpe Ratio: 0.26\n",
      "Expected annual return: 5.0%\n",
      "Annual volatility: 11.5%\n",
      "Sharpe Ratio: 0.26\n",
      "Expected annual return: 5.0%\n",
      "Annual volatility: 11.5%\n",
      "Sharpe Ratio: 0.26\n",
      "Expected annual return: 5.0%\n",
      "Annual volatility: 11.5%\n",
      "Sharpe Ratio: 0.26\n",
      "Expected annual return: 5.0%\n",
      "Annual volatility: 11.5%\n",
      "Sharpe Ratio: 0.26\n",
      "Expected annual return: 5.0%\n",
      "Annual volatility: 11.5%\n",
      "Sharpe Ratio: 0.26\n",
      "Expected annual return: 5.0%\n",
      "Annual volatility: 11.5%\n",
      "Sharpe Ratio: 0.26\n",
      "Expected annual return: 5.0%\n",
      "Annual volatility: 11.5%\n",
      "Sharpe Ratio: 0.26\n",
      "Expected annual return: 5.0%\n",
      "Annual volatility: 11.5%\n",
      "Sharpe Ratio: 0.26\n",
      "Expected annual return: 5.0%\n",
      "Annual volatility: 11.5%\n",
      "Sharpe Ratio: 0.26\n",
      "Expected annual return: 5.0%\n",
      "Annual volatility: 11.5%\n",
      "Sharpe Ratio: 0.26\n",
      "Expected annual return: 5.0%\n",
      "Annual volatility: 11.5%\n",
      "Sharpe Ratio: 0.26\n",
      "Expected annual return: 5.0%\n",
      "Annual volatility: 11.5%\n",
      "Sharpe Ratio: 0.26\n",
      "Expected annual return: 5.0%\n",
      "Annual volatility: 11.5%\n",
      "Sharpe Ratio: 0.26\n",
      "Expected annual return: 5.0%\n",
      "Annual volatility: 11.5%\n",
      "Sharpe Ratio: 0.26\n",
      "Expected annual return: 5.0%\n",
      "Annual volatility: 11.5%\n",
      "Sharpe Ratio: 0.26\n",
      "Expected annual return: 5.0%\n",
      "Annual volatility: 11.5%\n",
      "Sharpe Ratio: 0.26\n",
      "Expected annual return: 5.0%\n",
      "Annual volatility: 11.5%\n",
      "Sharpe Ratio: 0.26\n",
      "Expected annual return: 5.0%\n",
      "Annual volatility: 11.5%\n",
      "Sharpe Ratio: 0.26\n",
      "Expected annual return: 5.0%\n",
      "Annual volatility: 11.5%\n",
      "Sharpe Ratio: 0.26\n",
      "Expected annual return: 5.0%\n",
      "Annual volatility: 11.5%\n",
      "Sharpe Ratio: 0.26\n",
      "Expected annual return: 5.0%\n",
      "Annual volatility: 11.5%\n",
      "Sharpe Ratio: 0.26\n",
      "Expected annual return: 5.0%\n",
      "Annual volatility: 11.5%\n",
      "Sharpe Ratio: 0.26\n",
      "Expected annual return: 5.0%\n",
      "Annual volatility: 11.5%\n",
      "Sharpe Ratio: 0.26\n",
      "Expected annual return: 5.0%\n",
      "Annual volatility: 11.5%\n",
      "Sharpe Ratio: 0.26\n",
      "Expected annual return: 5.0%\n",
      "Annual volatility: 11.5%\n",
      "Sharpe Ratio: 0.26\n",
      "Expected annual return: 5.0%\n",
      "Annual volatility: 11.5%\n",
      "Sharpe Ratio: 0.26\n",
      "Expected annual return: 5.0%\n",
      "Annual volatility: 11.5%\n",
      "Sharpe Ratio: 0.26\n",
      "Expected annual return: 5.0%\n",
      "Annual volatility: 11.5%\n",
      "Sharpe Ratio: 0.26\n",
      "Expected annual return: 5.0%\n",
      "Annual volatility: 11.5%\n",
      "Sharpe Ratio: 0.26\n",
      "Expected annual return: 5.0%\n",
      "Annual volatility: 11.5%\n",
      "Sharpe Ratio: 0.26\n",
      "Expected annual return: 5.0%\n",
      "Annual volatility: 11.5%\n",
      "Sharpe Ratio: 0.26\n",
      "Expected annual return: 5.0%\n",
      "Annual volatility: 11.5%\n",
      "Sharpe Ratio: 0.26\n",
      "Expected annual return: 5.0%\n",
      "Annual volatility: 11.5%\n",
      "Sharpe Ratio: 0.26\n",
      "Expected annual return: 5.0%\n",
      "Annual volatility: 11.5%\n",
      "Sharpe Ratio: 0.26\n",
      "Expected annual return: 5.0%\n",
      "Annual volatility: 11.5%\n",
      "Sharpe Ratio: 0.26\n",
      "Expected annual return: 5.0%\n",
      "Annual volatility: 11.5%\n",
      "Sharpe Ratio: 0.26\n",
      "Expected annual return: 5.0%\n",
      "Annual volatility: 11.5%\n",
      "Sharpe Ratio: 0.26\n",
      "Expected annual return: 5.0%\n",
      "Annual volatility: 11.5%\n",
      "Sharpe Ratio: 0.26\n",
      "Expected annual return: 5.0%\n",
      "Annual volatility: 11.5%\n",
      "Sharpe Ratio: 0.26\n",
      "Expected annual return: 5.0%\n",
      "Annual volatility: 11.5%\n",
      "Sharpe Ratio: 0.26\n",
      "Expected annual return: 5.0%\n",
      "Annual volatility: 11.5%\n",
      "Sharpe Ratio: 0.26\n",
      "Expected annual return: 5.0%\n",
      "Annual volatility: 11.5%\n",
      "Sharpe Ratio: 0.26\n",
      "Expected annual return: 5.0%\n",
      "Annual volatility: 11.5%\n",
      "Sharpe Ratio: 0.26\n",
      "Expected annual return: 5.0%\n",
      "Annual volatility: 11.5%\n",
      "Sharpe Ratio: 0.26\n",
      "Expected annual return: 5.0%\n",
      "Annual volatility: 11.5%\n",
      "Sharpe Ratio: 0.26\n",
      "Expected annual return: 5.0%\n",
      "Annual volatility: 11.5%\n",
      "Sharpe Ratio: 0.26\n",
      "Expected annual return: 5.0%\n",
      "Annual volatility: 11.5%\n",
      "Sharpe Ratio: 0.26\n",
      "Expected annual return: 5.0%\n",
      "Annual volatility: 11.5%\n",
      "Sharpe Ratio: 0.26\n",
      "Expected annual return: 5.0%\n",
      "Annual volatility: 11.5%\n",
      "Sharpe Ratio: 0.26\n",
      "Expected annual return: 5.0%\n",
      "Annual volatility: 11.5%\n",
      "Sharpe Ratio: 0.26\n",
      "Expected annual return: 5.0%\n",
      "Annual volatility: 11.5%\n",
      "Sharpe Ratio: 0.26\n",
      "Expected annual return: 5.0%\n",
      "Annual volatility: 11.5%\n",
      "Sharpe Ratio: 0.26\n",
      "Expected annual return: 5.0%\n",
      "Annual volatility: 11.5%\n",
      "Sharpe Ratio: 0.26\n",
      "Expected annual return: 5.0%\n",
      "Annual volatility: 11.5%\n",
      "Sharpe Ratio: 0.26\n",
      "Expected annual return: 5.0%\n",
      "Annual volatility: 11.5%\n",
      "Sharpe Ratio: 0.26\n",
      "Expected annual return: 5.0%\n",
      "Annual volatility: 11.5%\n",
      "Sharpe Ratio: 0.26\n",
      "Expected annual return: 5.0%\n",
      "Annual volatility: 11.5%\n",
      "Sharpe Ratio: 0.26\n",
      "Expected annual return: 5.0%\n",
      "Annual volatility: 11.5%\n",
      "Sharpe Ratio: 0.26\n",
      "Expected annual return: 5.0%\n",
      "Annual volatility: 11.5%\n",
      "Sharpe Ratio: 0.26\n",
      "Expected annual return: 5.0%\n",
      "Annual volatility: 11.5%\n",
      "Sharpe Ratio: 0.26\n",
      "Expected annual return: 5.0%\n",
      "Annual volatility: 11.5%\n",
      "Sharpe Ratio: 0.26\n",
      "Expected annual return: 5.0%\n",
      "Annual volatility: 11.5%\n",
      "Sharpe Ratio: 0.26\n",
      "Expected annual return: 5.0%\n",
      "Annual volatility: 11.5%\n",
      "Sharpe Ratio: 0.26\n",
      "Expected annual return: 5.0%\n",
      "Annual volatility: 11.5%\n",
      "Sharpe Ratio: 0.26\n",
      "Expected annual return: 5.0%\n",
      "Annual volatility: 11.5%\n",
      "Sharpe Ratio: 0.26\n",
      "Expected annual return: 5.0%\n",
      "Annual volatility: 11.5%\n",
      "Sharpe Ratio: 0.26\n",
      "Expected annual return: 5.0%\n",
      "Annual volatility: 11.5%\n",
      "Sharpe Ratio: 0.26\n",
      "Expected annual return: 5.0%\n",
      "Annual volatility: 11.5%\n",
      "Sharpe Ratio: 0.26\n",
      "Expected annual return: 5.0%\n",
      "Annual volatility: 11.5%\n",
      "Sharpe Ratio: 0.26\n",
      "Expected annual return: 5.0%\n",
      "Annual volatility: 11.5%\n",
      "Sharpe Ratio: 0.26\n",
      "Expected annual return: 5.0%\n",
      "Annual volatility: 11.5%\n",
      "Sharpe Ratio: 0.26\n",
      "Expected annual return: 5.0%\n",
      "Annual volatility: 11.5%\n",
      "Sharpe Ratio: 0.26\n",
      "Expected annual return: 5.0%\n",
      "Annual volatility: 11.5%\n",
      "Sharpe Ratio: 0.26\n",
      "Expected annual return: 5.0%\n",
      "Annual volatility: 11.5%\n",
      "Sharpe Ratio: 0.26\n",
      "Expected annual return: 5.0%\n",
      "Annual volatility: 11.5%\n",
      "Sharpe Ratio: 0.26\n",
      "Expected annual return: 5.0%\n",
      "Annual volatility: 11.5%\n",
      "Sharpe Ratio: 0.26\n",
      "Expected annual return: 5.0%\n",
      "Annual volatility: 11.5%\n",
      "Sharpe Ratio: 0.26\n",
      "Expected annual return: 5.0%\n",
      "Annual volatility: 11.5%\n",
      "Sharpe Ratio: 0.26\n",
      "Expected annual return: 5.0%\n",
      "Annual volatility: 11.5%\n",
      "Sharpe Ratio: 0.26\n",
      "Expected annual return: 5.0%\n",
      "Annual volatility: 11.5%\n",
      "Sharpe Ratio: 0.26\n",
      "Expected annual return: 5.0%\n",
      "Annual volatility: 11.5%\n",
      "Sharpe Ratio: 0.26\n",
      "Expected annual return: 5.0%\n",
      "Annual volatility: 11.5%\n",
      "Sharpe Ratio: 0.26\n",
      "Expected annual return: 5.0%\n",
      "Annual volatility: 11.5%\n",
      "Sharpe Ratio: 0.26\n",
      "Expected annual return: 5.0%\n",
      "Annual volatility: 11.5%\n",
      "Sharpe Ratio: 0.26\n",
      "Expected annual return: 5.0%\n",
      "Annual volatility: 11.5%\n",
      "Sharpe Ratio: 0.26\n",
      "Expected annual return: 5.0%\n",
      "Annual volatility: 11.5%\n",
      "Sharpe Ratio: 0.26\n",
      "Expected annual return: 5.0%\n",
      "Annual volatility: 11.5%\n",
      "Sharpe Ratio: 0.26\n",
      "Expected annual return: 5.0%\n",
      "Annual volatility: 11.5%\n",
      "Sharpe Ratio: 0.26\n",
      "Expected annual return: 5.0%\n",
      "Annual volatility: 11.5%\n",
      "Sharpe Ratio: 0.26\n"
     ]
    },
    {
     "name": "stdout",
     "output_type": "stream",
     "text": [
      "Expected annual return: 5.0%\n",
      "Annual volatility: 11.5%\n",
      "Sharpe Ratio: 0.26\n",
      "Expected annual return: 5.0%\n",
      "Annual volatility: 11.5%\n",
      "Sharpe Ratio: 0.26\n",
      "Expected annual return: 5.0%\n",
      "Annual volatility: 11.5%\n",
      "Sharpe Ratio: 0.26\n",
      "Expected annual return: 5.0%\n",
      "Annual volatility: 11.5%\n",
      "Sharpe Ratio: 0.26\n",
      "Expected annual return: 5.0%\n",
      "Annual volatility: 11.5%\n",
      "Sharpe Ratio: 0.26\n",
      "Expected annual return: 5.0%\n",
      "Annual volatility: 11.5%\n",
      "Sharpe Ratio: 0.26\n",
      "Expected annual return: 5.0%\n",
      "Annual volatility: 11.5%\n",
      "Sharpe Ratio: 0.26\n",
      "Expected annual return: 5.0%\n",
      "Annual volatility: 11.5%\n",
      "Sharpe Ratio: 0.26\n",
      "Expected annual return: 5.0%\n",
      "Annual volatility: 11.5%\n",
      "Sharpe Ratio: 0.26\n",
      "Expected annual return: 5.0%\n",
      "Annual volatility: 11.5%\n",
      "Sharpe Ratio: 0.26\n",
      "Expected annual return: 5.0%\n",
      "Annual volatility: 11.5%\n",
      "Sharpe Ratio: 0.26\n",
      "Expected annual return: 5.0%\n",
      "Annual volatility: 11.5%\n",
      "Sharpe Ratio: 0.26\n",
      "Expected annual return: 5.0%\n",
      "Annual volatility: 11.5%\n",
      "Sharpe Ratio: 0.26\n",
      "Expected annual return: 5.0%\n",
      "Annual volatility: 11.5%\n",
      "Sharpe Ratio: 0.26\n",
      "Expected annual return: 5.0%\n",
      "Annual volatility: 11.5%\n",
      "Sharpe Ratio: 0.26\n",
      "Expected annual return: 5.0%\n",
      "Annual volatility: 11.5%\n",
      "Sharpe Ratio: 0.26\n",
      "Expected annual return: 5.0%\n",
      "Annual volatility: 11.5%\n",
      "Sharpe Ratio: 0.26\n",
      "Expected annual return: 5.0%\n",
      "Annual volatility: 11.5%\n",
      "Sharpe Ratio: 0.26\n",
      "Expected annual return: 5.0%\n",
      "Annual volatility: 11.5%\n",
      "Sharpe Ratio: 0.26\n",
      "Expected annual return: 5.0%\n",
      "Annual volatility: 11.5%\n",
      "Sharpe Ratio: 0.26\n",
      "Expected annual return: 5.0%\n",
      "Annual volatility: 11.5%\n",
      "Sharpe Ratio: 0.26\n",
      "Expected annual return: 5.0%\n",
      "Annual volatility: 11.5%\n",
      "Sharpe Ratio: 0.26\n",
      "Expected annual return: 5.0%\n",
      "Annual volatility: 11.5%\n",
      "Sharpe Ratio: 0.26\n",
      "Expected annual return: 5.0%\n",
      "Annual volatility: 11.5%\n",
      "Sharpe Ratio: 0.26\n",
      "Expected annual return: 5.0%\n",
      "Annual volatility: 11.5%\n",
      "Sharpe Ratio: 0.26\n",
      "Expected annual return: 5.0%\n",
      "Annual volatility: 11.5%\n",
      "Sharpe Ratio: 0.26\n",
      "Expected annual return: 5.0%\n",
      "Annual volatility: 11.5%\n",
      "Sharpe Ratio: 0.26\n",
      "Expected annual return: 5.0%\n",
      "Annual volatility: 11.5%\n",
      "Sharpe Ratio: 0.26\n",
      "Expected annual return: 5.0%\n",
      "Annual volatility: 11.5%\n",
      "Sharpe Ratio: 0.26\n",
      "Expected annual return: 5.0%\n",
      "Annual volatility: 11.5%\n",
      "Sharpe Ratio: 0.26\n",
      "Expected annual return: 5.0%\n",
      "Annual volatility: 11.5%\n",
      "Sharpe Ratio: 0.26\n",
      "Expected annual return: 5.0%\n",
      "Annual volatility: 11.5%\n",
      "Sharpe Ratio: 0.26\n",
      "Expected annual return: 5.0%\n",
      "Annual volatility: 11.5%\n",
      "Sharpe Ratio: 0.26\n",
      "Expected annual return: 5.0%\n",
      "Annual volatility: 11.5%\n",
      "Sharpe Ratio: 0.26\n",
      "Expected annual return: 5.0%\n",
      "Annual volatility: 11.5%\n",
      "Sharpe Ratio: 0.26\n",
      "Expected annual return: 5.0%\n",
      "Annual volatility: 11.5%\n",
      "Sharpe Ratio: 0.26\n",
      "Expected annual return: 5.0%\n",
      "Annual volatility: 11.5%\n",
      "Sharpe Ratio: 0.26\n",
      "Expected annual return: 5.0%\n",
      "Annual volatility: 11.5%\n",
      "Sharpe Ratio: 0.26\n",
      "Expected annual return: 5.0%\n",
      "Annual volatility: 11.5%\n",
      "Sharpe Ratio: 0.26\n",
      "Expected annual return: 5.0%\n",
      "Annual volatility: 11.5%\n",
      "Sharpe Ratio: 0.26\n",
      "Expected annual return: 5.0%\n",
      "Annual volatility: 11.5%\n",
      "Sharpe Ratio: 0.26\n",
      "Expected annual return: 5.0%\n",
      "Annual volatility: 11.5%\n",
      "Sharpe Ratio: 0.26\n",
      "Expected annual return: 5.0%\n",
      "Annual volatility: 11.5%\n",
      "Sharpe Ratio: 0.26\n",
      "Expected annual return: 5.0%\n",
      "Annual volatility: 11.5%\n",
      "Sharpe Ratio: 0.26\n",
      "Expected annual return: 5.0%\n",
      "Annual volatility: 11.5%\n",
      "Sharpe Ratio: 0.26\n",
      "Expected annual return: 5.0%\n",
      "Annual volatility: 11.5%\n",
      "Sharpe Ratio: 0.26\n",
      "Expected annual return: 5.0%\n",
      "Annual volatility: 11.5%\n",
      "Sharpe Ratio: 0.26\n",
      "Expected annual return: 5.0%\n",
      "Annual volatility: 11.5%\n",
      "Sharpe Ratio: 0.26\n",
      "Expected annual return: 5.0%\n",
      "Annual volatility: 11.5%\n",
      "Sharpe Ratio: 0.26\n",
      "Expected annual return: 5.0%\n",
      "Annual volatility: 11.5%\n",
      "Sharpe Ratio: 0.26\n",
      "Expected annual return: 5.0%\n",
      "Annual volatility: 11.5%\n",
      "Sharpe Ratio: 0.26\n",
      "Expected annual return: 5.0%\n",
      "Annual volatility: 11.5%\n",
      "Sharpe Ratio: 0.26\n",
      "Expected annual return: 5.0%\n",
      "Annual volatility: 11.5%\n",
      "Sharpe Ratio: 0.26\n",
      "Expected annual return: 5.0%\n",
      "Annual volatility: 11.5%\n",
      "Sharpe Ratio: 0.26\n",
      "Expected annual return: 5.0%\n",
      "Annual volatility: 11.5%\n",
      "Sharpe Ratio: 0.26\n",
      "Expected annual return: 5.0%\n",
      "Annual volatility: 11.5%\n",
      "Sharpe Ratio: 0.26\n",
      "Expected annual return: 5.0%\n",
      "Annual volatility: 11.5%\n",
      "Sharpe Ratio: 0.26\n",
      "Expected annual return: 5.0%\n",
      "Annual volatility: 11.5%\n",
      "Sharpe Ratio: 0.26\n",
      "Expected annual return: 5.0%\n",
      "Annual volatility: 11.5%\n",
      "Sharpe Ratio: 0.26\n",
      "Expected annual return: 5.0%\n",
      "Annual volatility: 11.5%\n",
      "Sharpe Ratio: 0.26\n",
      "Expected annual return: 5.0%\n",
      "Annual volatility: 11.5%\n",
      "Sharpe Ratio: 0.26\n",
      "Expected annual return: 5.0%\n",
      "Annual volatility: 11.5%\n",
      "Sharpe Ratio: 0.26\n",
      "Expected annual return: 5.0%\n",
      "Annual volatility: 11.5%\n",
      "Sharpe Ratio: 0.26\n",
      "Expected annual return: 5.0%\n",
      "Annual volatility: 11.5%\n",
      "Sharpe Ratio: 0.26\n",
      "Expected annual return: 5.0%\n",
      "Annual volatility: 11.5%\n",
      "Sharpe Ratio: 0.26\n",
      "Expected annual return: 5.0%\n",
      "Annual volatility: 11.5%\n",
      "Sharpe Ratio: 0.26\n",
      "Expected annual return: 5.0%\n",
      "Annual volatility: 11.5%\n",
      "Sharpe Ratio: 0.26\n",
      "Expected annual return: 5.0%\n",
      "Annual volatility: 11.5%\n",
      "Sharpe Ratio: 0.26\n",
      "Expected annual return: 5.0%\n",
      "Annual volatility: 11.5%\n",
      "Sharpe Ratio: 0.26\n",
      "Expected annual return: 5.0%\n",
      "Annual volatility: 11.5%\n",
      "Sharpe Ratio: 0.26\n",
      "Expected annual return: 5.0%\n",
      "Annual volatility: 11.5%\n",
      "Sharpe Ratio: 0.26\n",
      "Expected annual return: 5.0%\n",
      "Annual volatility: 11.5%\n",
      "Sharpe Ratio: 0.26\n",
      "Expected annual return: 5.0%\n",
      "Annual volatility: 11.5%\n",
      "Sharpe Ratio: 0.26\n",
      "Expected annual return: 5.0%\n",
      "Annual volatility: 11.5%\n",
      "Sharpe Ratio: 0.26\n",
      "Expected annual return: 5.0%\n",
      "Annual volatility: 11.5%\n",
      "Sharpe Ratio: 0.26\n",
      "Expected annual return: 5.0%\n",
      "Annual volatility: 11.5%\n",
      "Sharpe Ratio: 0.26\n",
      "Expected annual return: 5.0%\n",
      "Annual volatility: 11.5%\n",
      "Sharpe Ratio: 0.26\n",
      "Expected annual return: 5.0%\n",
      "Annual volatility: 11.5%\n",
      "Sharpe Ratio: 0.26\n",
      "Expected annual return: 5.0%\n",
      "Annual volatility: 11.5%\n",
      "Sharpe Ratio: 0.26\n",
      "Expected annual return: 5.0%\n",
      "Annual volatility: 11.5%\n",
      "Sharpe Ratio: 0.26\n",
      "Expected annual return: 5.0%\n",
      "Annual volatility: 11.5%\n",
      "Sharpe Ratio: 0.26\n",
      "Expected annual return: 5.0%\n",
      "Annual volatility: 11.5%\n",
      "Sharpe Ratio: 0.26\n",
      "Expected annual return: 5.0%\n",
      "Annual volatility: 11.5%\n",
      "Sharpe Ratio: 0.26\n",
      "Expected annual return: 5.0%\n",
      "Annual volatility: 11.5%\n",
      "Sharpe Ratio: 0.26\n",
      "Expected annual return: 5.0%\n",
      "Annual volatility: 11.5%\n",
      "Sharpe Ratio: 0.26\n",
      "Expected annual return: 5.0%\n",
      "Annual volatility: 11.5%\n",
      "Sharpe Ratio: 0.26\n",
      "Expected annual return: 5.0%\n",
      "Annual volatility: 11.5%\n",
      "Sharpe Ratio: 0.26\n",
      "Expected annual return: 5.0%\n",
      "Annual volatility: 11.5%\n",
      "Sharpe Ratio: 0.26\n",
      "Expected annual return: 5.0%\n",
      "Annual volatility: 11.5%\n",
      "Sharpe Ratio: 0.26\n",
      "Expected annual return: 5.0%\n",
      "Annual volatility: 11.5%\n",
      "Sharpe Ratio: 0.26\n",
      "Expected annual return: 5.0%\n",
      "Annual volatility: 11.5%\n",
      "Sharpe Ratio: 0.26\n",
      "Expected annual return: 5.0%\n",
      "Annual volatility: 11.5%\n",
      "Sharpe Ratio: 0.26\n",
      "Expected annual return: 5.0%\n",
      "Annual volatility: 11.5%\n",
      "Sharpe Ratio: 0.26\n",
      "Expected annual return: 5.0%\n",
      "Annual volatility: 11.5%\n",
      "Sharpe Ratio: 0.26\n",
      "Expected annual return: 5.0%\n",
      "Annual volatility: 11.5%\n",
      "Sharpe Ratio: 0.26\n",
      "Expected annual return: 5.0%\n",
      "Annual volatility: 11.5%\n",
      "Sharpe Ratio: 0.26\n",
      "Expected annual return: 5.0%\n",
      "Annual volatility: 11.5%\n",
      "Sharpe Ratio: 0.26\n",
      "Expected annual return: 5.0%\n",
      "Annual volatility: 11.5%\n",
      "Sharpe Ratio: 0.26\n",
      "Expected annual return: 5.0%\n",
      "Annual volatility: 11.5%\n",
      "Sharpe Ratio: 0.26\n",
      "Expected annual return: 5.0%\n",
      "Annual volatility: 11.5%\n",
      "Sharpe Ratio: 0.26\n",
      "Expected annual return: 5.0%\n",
      "Annual volatility: 11.5%\n",
      "Sharpe Ratio: 0.26\n",
      "Expected annual return: 5.0%\n",
      "Annual volatility: 11.5%\n",
      "Sharpe Ratio: 0.26\n",
      "Expected annual return: 5.0%\n",
      "Annual volatility: 11.5%\n",
      "Sharpe Ratio: 0.26\n",
      "Expected annual return: 5.0%\n",
      "Annual volatility: 11.5%\n",
      "Sharpe Ratio: 0.26\n",
      "Expected annual return: 5.0%\n",
      "Annual volatility: 11.5%\n",
      "Sharpe Ratio: 0.26\n",
      "Expected annual return: 5.0%\n",
      "Annual volatility: 11.5%\n",
      "Sharpe Ratio: 0.26\n",
      "Expected annual return: 5.0%\n",
      "Annual volatility: 11.5%\n",
      "Sharpe Ratio: 0.26\n",
      "Expected annual return: 5.0%\n",
      "Annual volatility: 11.5%\n",
      "Sharpe Ratio: 0.26\n",
      "Expected annual return: 5.0%\n",
      "Annual volatility: 11.5%\n",
      "Sharpe Ratio: 0.26\n",
      "Expected annual return: 5.0%\n",
      "Annual volatility: 11.5%\n",
      "Sharpe Ratio: 0.26\n",
      "Expected annual return: 5.0%\n",
      "Annual volatility: 11.5%\n",
      "Sharpe Ratio: 0.26\n",
      "Expected annual return: 5.0%\n",
      "Annual volatility: 11.5%\n",
      "Sharpe Ratio: 0.26\n",
      "Expected annual return: 5.0%\n",
      "Annual volatility: 11.5%\n",
      "Sharpe Ratio: 0.26\n"
     ]
    },
    {
     "name": "stdout",
     "output_type": "stream",
     "text": [
      "Expected annual return: 5.0%\n",
      "Annual volatility: 11.5%\n",
      "Sharpe Ratio: 0.26\n",
      "Expected annual return: 5.0%\n",
      "Annual volatility: 11.5%\n",
      "Sharpe Ratio: 0.26\n",
      "Expected annual return: 5.0%\n",
      "Annual volatility: 11.5%\n",
      "Sharpe Ratio: 0.26\n",
      "Expected annual return: 5.0%\n",
      "Annual volatility: 11.5%\n",
      "Sharpe Ratio: 0.26\n",
      "Expected annual return: 5.0%\n",
      "Annual volatility: 11.5%\n",
      "Sharpe Ratio: 0.26\n",
      "Expected annual return: 5.0%\n",
      "Annual volatility: 11.5%\n",
      "Sharpe Ratio: 0.26\n",
      "Expected annual return: 5.0%\n",
      "Annual volatility: 11.5%\n",
      "Sharpe Ratio: 0.26\n",
      "Expected annual return: 5.0%\n",
      "Annual volatility: 11.5%\n",
      "Sharpe Ratio: 0.26\n",
      "Expected annual return: 5.0%\n",
      "Annual volatility: 11.5%\n",
      "Sharpe Ratio: 0.26\n",
      "Expected annual return: 5.0%\n",
      "Annual volatility: 11.5%\n",
      "Sharpe Ratio: 0.26\n",
      "Expected annual return: 5.0%\n",
      "Annual volatility: 11.5%\n",
      "Sharpe Ratio: 0.26\n",
      "Expected annual return: 5.0%\n",
      "Annual volatility: 11.5%\n",
      "Sharpe Ratio: 0.26\n",
      "Expected annual return: 5.0%\n",
      "Annual volatility: 11.5%\n",
      "Sharpe Ratio: 0.26\n",
      "Expected annual return: 5.0%\n",
      "Annual volatility: 11.5%\n",
      "Sharpe Ratio: 0.26\n",
      "Expected annual return: 5.0%\n",
      "Annual volatility: 11.5%\n",
      "Sharpe Ratio: 0.26\n",
      "Expected annual return: 5.0%\n",
      "Annual volatility: 11.5%\n",
      "Sharpe Ratio: 0.26\n",
      "Expected annual return: 5.0%\n",
      "Annual volatility: 11.5%\n",
      "Sharpe Ratio: 0.26\n",
      "Expected annual return: 5.0%\n",
      "Annual volatility: 11.5%\n",
      "Sharpe Ratio: 0.26\n",
      "Expected annual return: 5.0%\n",
      "Annual volatility: 11.5%\n",
      "Sharpe Ratio: 0.26\n",
      "Expected annual return: 5.0%\n",
      "Annual volatility: 11.5%\n",
      "Sharpe Ratio: 0.26\n",
      "Expected annual return: 5.0%\n",
      "Annual volatility: 11.5%\n",
      "Sharpe Ratio: 0.26\n",
      "Expected annual return: 5.0%\n",
      "Annual volatility: 11.5%\n",
      "Sharpe Ratio: 0.26\n",
      "Expected annual return: 5.0%\n",
      "Annual volatility: 11.5%\n",
      "Sharpe Ratio: 0.26\n",
      "Expected annual return: 5.0%\n",
      "Annual volatility: 11.5%\n",
      "Sharpe Ratio: 0.26\n",
      "Expected annual return: 5.0%\n",
      "Annual volatility: 11.5%\n",
      "Sharpe Ratio: 0.26\n",
      "Expected annual return: 5.0%\n",
      "Annual volatility: 11.5%\n",
      "Sharpe Ratio: 0.26\n",
      "Expected annual return: 5.0%\n",
      "Annual volatility: 11.5%\n",
      "Sharpe Ratio: 0.26\n",
      "Expected annual return: 5.0%\n",
      "Annual volatility: 11.5%\n",
      "Sharpe Ratio: 0.26\n",
      "Expected annual return: 5.0%\n",
      "Annual volatility: 11.5%\n",
      "Sharpe Ratio: 0.26\n",
      "Expected annual return: 5.0%\n",
      "Annual volatility: 11.5%\n",
      "Sharpe Ratio: 0.26\n",
      "Expected annual return: 5.0%\n",
      "Annual volatility: 11.5%\n",
      "Sharpe Ratio: 0.26\n",
      "Expected annual return: 5.0%\n",
      "Annual volatility: 11.5%\n",
      "Sharpe Ratio: 0.26\n",
      "Expected annual return: 5.0%\n",
      "Annual volatility: 11.5%\n",
      "Sharpe Ratio: 0.26\n",
      "Expected annual return: 5.0%\n",
      "Annual volatility: 11.5%\n",
      "Sharpe Ratio: 0.26\n",
      "Expected annual return: 5.0%\n",
      "Annual volatility: 11.5%\n",
      "Sharpe Ratio: 0.26\n",
      "Expected annual return: 5.0%\n",
      "Annual volatility: 11.5%\n",
      "Sharpe Ratio: 0.26\n",
      "Expected annual return: 5.0%\n",
      "Annual volatility: 11.5%\n",
      "Sharpe Ratio: 0.26\n",
      "Expected annual return: 5.0%\n",
      "Annual volatility: 11.5%\n",
      "Sharpe Ratio: 0.26\n",
      "Expected annual return: 5.0%\n",
      "Annual volatility: 11.5%\n",
      "Sharpe Ratio: 0.26\n",
      "Expected annual return: 5.0%\n",
      "Annual volatility: 11.5%\n",
      "Sharpe Ratio: 0.26\n",
      "Expected annual return: 5.0%\n",
      "Annual volatility: 11.5%\n",
      "Sharpe Ratio: 0.26\n",
      "Expected annual return: 5.0%\n",
      "Annual volatility: 11.5%\n",
      "Sharpe Ratio: 0.26\n",
      "Expected annual return: 5.0%\n",
      "Annual volatility: 11.5%\n",
      "Sharpe Ratio: 0.26\n",
      "Expected annual return: 5.0%\n",
      "Annual volatility: 11.5%\n",
      "Sharpe Ratio: 0.26\n",
      "Expected annual return: 5.0%\n",
      "Annual volatility: 11.5%\n",
      "Sharpe Ratio: 0.26\n",
      "Expected annual return: 5.0%\n",
      "Annual volatility: 11.5%\n",
      "Sharpe Ratio: 0.26\n",
      "Expected annual return: 5.0%\n",
      "Annual volatility: 11.5%\n",
      "Sharpe Ratio: 0.26\n",
      "Expected annual return: 5.0%\n",
      "Annual volatility: 11.5%\n",
      "Sharpe Ratio: 0.26\n",
      "Expected annual return: 5.0%\n",
      "Annual volatility: 11.5%\n",
      "Sharpe Ratio: 0.26\n",
      "Expected annual return: 5.0%\n",
      "Annual volatility: 11.5%\n",
      "Sharpe Ratio: 0.26\n",
      "Expected annual return: 5.0%\n",
      "Annual volatility: 11.5%\n",
      "Sharpe Ratio: 0.26\n",
      "Expected annual return: 5.0%\n",
      "Annual volatility: 11.5%\n",
      "Sharpe Ratio: 0.26\n",
      "Expected annual return: 5.0%\n",
      "Annual volatility: 11.5%\n",
      "Sharpe Ratio: 0.26\n",
      "Expected annual return: 5.0%\n",
      "Annual volatility: 11.5%\n",
      "Sharpe Ratio: 0.26\n",
      "Expected annual return: 5.0%\n",
      "Annual volatility: 11.5%\n",
      "Sharpe Ratio: 0.26\n",
      "Expected annual return: 5.0%\n",
      "Annual volatility: 11.5%\n",
      "Sharpe Ratio: 0.26\n",
      "Expected annual return: 5.0%\n",
      "Annual volatility: 11.5%\n",
      "Sharpe Ratio: 0.26\n",
      "Expected annual return: 5.0%\n",
      "Annual volatility: 11.5%\n",
      "Sharpe Ratio: 0.26\n",
      "Expected annual return: 5.0%\n",
      "Annual volatility: 11.5%\n",
      "Sharpe Ratio: 0.26\n",
      "Expected annual return: 5.0%\n",
      "Annual volatility: 11.5%\n",
      "Sharpe Ratio: 0.26\n",
      "Expected annual return: 5.0%\n",
      "Annual volatility: 11.5%\n",
      "Sharpe Ratio: 0.26\n",
      "Expected annual return: 5.0%\n",
      "Annual volatility: 11.5%\n",
      "Sharpe Ratio: 0.26\n",
      "Expected annual return: 5.0%\n",
      "Annual volatility: 11.5%\n",
      "Sharpe Ratio: 0.26\n",
      "Expected annual return: 5.0%\n",
      "Annual volatility: 11.5%\n",
      "Sharpe Ratio: 0.26\n",
      "Expected annual return: 5.0%\n",
      "Annual volatility: 11.5%\n",
      "Sharpe Ratio: 0.26\n",
      "Expected annual return: 5.0%\n",
      "Annual volatility: 11.5%\n",
      "Sharpe Ratio: 0.26\n",
      "Expected annual return: 5.0%\n",
      "Annual volatility: 11.5%\n",
      "Sharpe Ratio: 0.26\n",
      "Expected annual return: 5.0%\n",
      "Annual volatility: 11.5%\n",
      "Sharpe Ratio: 0.26\n",
      "Expected annual return: 5.0%\n",
      "Annual volatility: 11.5%\n",
      "Sharpe Ratio: 0.26\n",
      "Expected annual return: 5.0%\n",
      "Annual volatility: 11.5%\n",
      "Sharpe Ratio: 0.26\n",
      "Expected annual return: 5.0%\n",
      "Annual volatility: 11.5%\n",
      "Sharpe Ratio: 0.26\n",
      "Expected annual return: 5.0%\n",
      "Annual volatility: 11.5%\n",
      "Sharpe Ratio: 0.26\n",
      "Expected annual return: 5.0%\n",
      "Annual volatility: 11.5%\n",
      "Sharpe Ratio: 0.26\n",
      "Expected annual return: 5.0%\n",
      "Annual volatility: 11.5%\n",
      "Sharpe Ratio: 0.26\n",
      "Expected annual return: 5.0%\n",
      "Annual volatility: 11.5%\n",
      "Sharpe Ratio: 0.26\n",
      "Expected annual return: 5.0%\n",
      "Annual volatility: 11.5%\n",
      "Sharpe Ratio: 0.26\n",
      "Expected annual return: 5.0%\n",
      "Annual volatility: 11.5%\n",
      "Sharpe Ratio: 0.26\n",
      "Expected annual return: 5.0%\n",
      "Annual volatility: 11.5%\n",
      "Sharpe Ratio: 0.26\n",
      "Expected annual return: 5.0%\n",
      "Annual volatility: 11.5%\n",
      "Sharpe Ratio: 0.26\n",
      "Expected annual return: 5.0%\n",
      "Annual volatility: 11.5%\n",
      "Sharpe Ratio: 0.26\n",
      "Expected annual return: 5.0%\n",
      "Annual volatility: 11.5%\n",
      "Sharpe Ratio: 0.26\n",
      "Expected annual return: 5.0%\n",
      "Annual volatility: 11.5%\n",
      "Sharpe Ratio: 0.26\n",
      "Expected annual return: 5.0%\n",
      "Annual volatility: 11.5%\n",
      "Sharpe Ratio: 0.26\n",
      "Expected annual return: 5.0%\n",
      "Annual volatility: 11.5%\n",
      "Sharpe Ratio: 0.26\n",
      "Expected annual return: 5.0%\n",
      "Annual volatility: 11.5%\n",
      "Sharpe Ratio: 0.26\n",
      "Expected annual return: 5.0%\n",
      "Annual volatility: 11.5%\n",
      "Sharpe Ratio: 0.26\n",
      "Expected annual return: 5.0%\n",
      "Annual volatility: 11.5%\n",
      "Sharpe Ratio: 0.26\n",
      "Expected annual return: 5.0%\n",
      "Annual volatility: 11.5%\n",
      "Sharpe Ratio: 0.26\n",
      "Expected annual return: 5.0%\n",
      "Annual volatility: 11.5%\n",
      "Sharpe Ratio: 0.26\n",
      "Expected annual return: 5.0%\n",
      "Annual volatility: 11.5%\n",
      "Sharpe Ratio: 0.26\n",
      "Expected annual return: 5.0%\n",
      "Annual volatility: 11.5%\n",
      "Sharpe Ratio: 0.26\n",
      "Expected annual return: 5.0%\n",
      "Annual volatility: 11.5%\n",
      "Sharpe Ratio: 0.26\n",
      "Expected annual return: 5.0%\n",
      "Annual volatility: 11.5%\n",
      "Sharpe Ratio: 0.26\n",
      "Expected annual return: 5.0%\n",
      "Annual volatility: 11.5%\n",
      "Sharpe Ratio: 0.26\n",
      "Expected annual return: 5.0%\n",
      "Annual volatility: 11.5%\n",
      "Sharpe Ratio: 0.26\n",
      "Expected annual return: 5.0%\n",
      "Annual volatility: 11.5%\n",
      "Sharpe Ratio: 0.26\n",
      "Expected annual return: 5.0%\n",
      "Annual volatility: 11.5%\n",
      "Sharpe Ratio: 0.26\n",
      "Expected annual return: 5.0%\n",
      "Annual volatility: 11.5%\n",
      "Sharpe Ratio: 0.26\n",
      "Expected annual return: 5.0%\n",
      "Annual volatility: 11.5%\n",
      "Sharpe Ratio: 0.26\n",
      "Expected annual return: 5.0%\n",
      "Annual volatility: 11.5%\n",
      "Sharpe Ratio: 0.26\n",
      "Expected annual return: 5.0%\n",
      "Annual volatility: 11.5%\n",
      "Sharpe Ratio: 0.26\n",
      "Expected annual return: 5.0%\n",
      "Annual volatility: 11.5%\n",
      "Sharpe Ratio: 0.26\n",
      "Expected annual return: 5.0%\n",
      "Annual volatility: 11.5%\n",
      "Sharpe Ratio: 0.26\n",
      "Expected annual return: 5.0%\n",
      "Annual volatility: 11.5%\n",
      "Sharpe Ratio: 0.26\n",
      "Expected annual return: 5.0%\n",
      "Annual volatility: 11.5%\n",
      "Sharpe Ratio: 0.26\n",
      "Expected annual return: 5.0%\n",
      "Annual volatility: 11.5%\n",
      "Sharpe Ratio: 0.26\n",
      "Expected annual return: 5.0%\n",
      "Annual volatility: 11.5%\n",
      "Sharpe Ratio: 0.26\n",
      "Expected annual return: 5.0%\n",
      "Annual volatility: 11.5%\n",
      "Sharpe Ratio: 0.26\n",
      "Expected annual return: 5.0%\n",
      "Annual volatility: 11.5%\n",
      "Sharpe Ratio: 0.26\n",
      "Expected annual return: 5.0%\n",
      "Annual volatility: 11.5%\n",
      "Sharpe Ratio: 0.26\n",
      "Expected annual return: 5.0%\n",
      "Annual volatility: 11.5%\n",
      "Sharpe Ratio: 0.26\n",
      "Expected annual return: 5.0%\n",
      "Annual volatility: 11.5%\n",
      "Sharpe Ratio: 0.26\n",
      "Expected annual return: 5.0%\n",
      "Annual volatility: 11.5%\n",
      "Sharpe Ratio: 0.26\n",
      "Expected annual return: 5.0%\n",
      "Annual volatility: 11.5%\n",
      "Sharpe Ratio: 0.26\n"
     ]
    },
    {
     "name": "stdout",
     "output_type": "stream",
     "text": [
      "Expected annual return: 5.0%\n",
      "Annual volatility: 11.5%\n",
      "Sharpe Ratio: 0.26\n",
      "Expected annual return: 5.0%\n",
      "Annual volatility: 11.5%\n",
      "Sharpe Ratio: 0.26\n",
      "Expected annual return: 5.0%\n",
      "Annual volatility: 11.5%\n",
      "Sharpe Ratio: 0.26\n",
      "Expected annual return: 5.0%\n",
      "Annual volatility: 11.5%\n",
      "Sharpe Ratio: 0.26\n",
      "Expected annual return: 5.0%\n",
      "Annual volatility: 11.5%\n",
      "Sharpe Ratio: 0.26\n",
      "Expected annual return: 5.0%\n",
      "Annual volatility: 11.5%\n",
      "Sharpe Ratio: 0.26\n",
      "Expected annual return: 5.0%\n",
      "Annual volatility: 11.5%\n",
      "Sharpe Ratio: 0.26\n",
      "Expected annual return: 5.0%\n",
      "Annual volatility: 11.5%\n",
      "Sharpe Ratio: 0.26\n",
      "Expected annual return: 5.0%\n",
      "Annual volatility: 11.5%\n",
      "Sharpe Ratio: 0.26\n",
      "Expected annual return: 5.0%\n",
      "Annual volatility: 11.5%\n",
      "Sharpe Ratio: 0.26\n",
      "Expected annual return: 5.0%\n",
      "Annual volatility: 11.5%\n",
      "Sharpe Ratio: 0.26\n",
      "Expected annual return: 5.0%\n",
      "Annual volatility: 11.5%\n",
      "Sharpe Ratio: 0.26\n",
      "Expected annual return: 5.0%\n",
      "Annual volatility: 11.5%\n",
      "Sharpe Ratio: 0.26\n",
      "Expected annual return: 5.0%\n",
      "Annual volatility: 11.5%\n",
      "Sharpe Ratio: 0.26\n",
      "Expected annual return: 5.0%\n",
      "Annual volatility: 11.5%\n",
      "Sharpe Ratio: 0.26\n",
      "Expected annual return: 5.0%\n",
      "Annual volatility: 11.5%\n",
      "Sharpe Ratio: 0.26\n",
      "Expected annual return: 5.0%\n",
      "Annual volatility: 11.5%\n",
      "Sharpe Ratio: 0.26\n",
      "Expected annual return: 5.0%\n",
      "Annual volatility: 11.5%\n",
      "Sharpe Ratio: 0.26\n",
      "Expected annual return: 5.0%\n",
      "Annual volatility: 11.5%\n",
      "Sharpe Ratio: 0.26\n",
      "Expected annual return: 5.0%\n",
      "Annual volatility: 11.5%\n",
      "Sharpe Ratio: 0.26\n",
      "Expected annual return: 5.0%\n",
      "Annual volatility: 11.5%\n",
      "Sharpe Ratio: 0.26\n",
      "Expected annual return: 5.0%\n",
      "Annual volatility: 11.5%\n",
      "Sharpe Ratio: 0.26\n",
      "Expected annual return: 5.0%\n",
      "Annual volatility: 11.5%\n",
      "Sharpe Ratio: 0.26\n",
      "Expected annual return: 5.0%\n",
      "Annual volatility: 11.5%\n",
      "Sharpe Ratio: 0.26\n",
      "Expected annual return: 5.0%\n",
      "Annual volatility: 11.5%\n",
      "Sharpe Ratio: 0.26\n",
      "Expected annual return: 5.0%\n",
      "Annual volatility: 11.5%\n",
      "Sharpe Ratio: 0.26\n",
      "Expected annual return: 5.0%\n",
      "Annual volatility: 11.5%\n",
      "Sharpe Ratio: 0.26\n",
      "Expected annual return: 5.0%\n",
      "Annual volatility: 11.5%\n",
      "Sharpe Ratio: 0.26\n",
      "Expected annual return: 5.0%\n",
      "Annual volatility: 11.5%\n",
      "Sharpe Ratio: 0.26\n",
      "Expected annual return: 5.0%\n",
      "Annual volatility: 11.5%\n",
      "Sharpe Ratio: 0.26\n",
      "Expected annual return: 5.0%\n",
      "Annual volatility: 11.5%\n",
      "Sharpe Ratio: 0.26\n",
      "Expected annual return: 5.0%\n",
      "Annual volatility: 11.5%\n",
      "Sharpe Ratio: 0.26\n",
      "Expected annual return: 5.0%\n",
      "Annual volatility: 11.5%\n",
      "Sharpe Ratio: 0.26\n",
      "Expected annual return: 5.0%\n",
      "Annual volatility: 11.5%\n",
      "Sharpe Ratio: 0.26\n",
      "Expected annual return: 5.0%\n",
      "Annual volatility: 11.5%\n",
      "Sharpe Ratio: 0.26\n",
      "Expected annual return: 5.0%\n",
      "Annual volatility: 11.5%\n",
      "Sharpe Ratio: 0.26\n",
      "Expected annual return: 5.0%\n",
      "Annual volatility: 11.5%\n",
      "Sharpe Ratio: 0.26\n",
      "Expected annual return: 5.0%\n",
      "Annual volatility: 11.5%\n",
      "Sharpe Ratio: 0.26\n",
      "Expected annual return: 5.0%\n",
      "Annual volatility: 11.5%\n",
      "Sharpe Ratio: 0.26\n",
      "Expected annual return: 5.0%\n",
      "Annual volatility: 11.5%\n",
      "Sharpe Ratio: 0.26\n",
      "Expected annual return: 5.0%\n",
      "Annual volatility: 11.5%\n",
      "Sharpe Ratio: 0.26\n",
      "Expected annual return: 5.0%\n",
      "Annual volatility: 11.5%\n",
      "Sharpe Ratio: 0.26\n",
      "Expected annual return: 5.0%\n",
      "Annual volatility: 11.5%\n",
      "Sharpe Ratio: 0.26\n",
      "Expected annual return: 5.0%\n",
      "Annual volatility: 11.5%\n",
      "Sharpe Ratio: 0.26\n",
      "Expected annual return: 5.0%\n",
      "Annual volatility: 11.5%\n",
      "Sharpe Ratio: 0.26\n",
      "Expected annual return: 5.0%\n",
      "Annual volatility: 11.5%\n",
      "Sharpe Ratio: 0.26\n",
      "Expected annual return: 5.0%\n",
      "Annual volatility: 11.5%\n",
      "Sharpe Ratio: 0.26\n",
      "Expected annual return: 5.0%\n",
      "Annual volatility: 11.5%\n",
      "Sharpe Ratio: 0.26\n",
      "Expected annual return: 5.0%\n",
      "Annual volatility: 11.5%\n",
      "Sharpe Ratio: 0.26\n",
      "Expected annual return: 5.0%\n",
      "Annual volatility: 11.5%\n",
      "Sharpe Ratio: 0.26\n",
      "Expected annual return: 5.0%\n",
      "Annual volatility: 11.5%\n",
      "Sharpe Ratio: 0.26\n",
      "Expected annual return: 5.0%\n",
      "Annual volatility: 11.5%\n",
      "Sharpe Ratio: 0.26\n",
      "Expected annual return: 5.0%\n",
      "Annual volatility: 11.5%\n",
      "Sharpe Ratio: 0.26\n",
      "Expected annual return: 5.0%\n",
      "Annual volatility: 11.5%\n",
      "Sharpe Ratio: 0.26\n",
      "Expected annual return: 5.0%\n",
      "Annual volatility: 11.5%\n",
      "Sharpe Ratio: 0.26\n",
      "Expected annual return: 5.0%\n",
      "Annual volatility: 11.5%\n",
      "Sharpe Ratio: 0.26\n",
      "Expected annual return: 5.0%\n",
      "Annual volatility: 11.5%\n",
      "Sharpe Ratio: 0.26\n",
      "Expected annual return: 5.0%\n",
      "Annual volatility: 11.5%\n",
      "Sharpe Ratio: 0.26\n",
      "Expected annual return: 5.0%\n",
      "Annual volatility: 11.5%\n",
      "Sharpe Ratio: 0.26\n",
      "Expected annual return: 5.0%\n",
      "Annual volatility: 11.5%\n",
      "Sharpe Ratio: 0.26\n",
      "Expected annual return: 5.0%\n",
      "Annual volatility: 11.5%\n",
      "Sharpe Ratio: 0.26\n",
      "Expected annual return: 5.0%\n",
      "Annual volatility: 11.5%\n",
      "Sharpe Ratio: 0.26\n",
      "Expected annual return: 5.0%\n",
      "Annual volatility: 11.5%\n",
      "Sharpe Ratio: 0.26\n",
      "Expected annual return: 5.0%\n",
      "Annual volatility: 11.5%\n",
      "Sharpe Ratio: 0.26\n",
      "Expected annual return: 5.0%\n",
      "Annual volatility: 11.5%\n",
      "Sharpe Ratio: 0.26\n",
      "Expected annual return: 5.0%\n",
      "Annual volatility: 11.5%\n",
      "Sharpe Ratio: 0.26\n",
      "Expected annual return: 5.0%\n",
      "Annual volatility: 11.5%\n",
      "Sharpe Ratio: 0.26\n",
      "Expected annual return: 5.0%\n",
      "Annual volatility: 11.5%\n",
      "Sharpe Ratio: 0.26\n",
      "Expected annual return: 5.0%\n",
      "Annual volatility: 11.5%\n",
      "Sharpe Ratio: 0.26\n",
      "Expected annual return: 5.0%\n",
      "Annual volatility: 11.5%\n",
      "Sharpe Ratio: 0.26\n",
      "Expected annual return: 5.0%\n",
      "Annual volatility: 11.5%\n",
      "Sharpe Ratio: 0.26\n",
      "Expected annual return: 5.0%\n",
      "Annual volatility: 11.5%\n",
      "Sharpe Ratio: 0.26\n",
      "Expected annual return: 5.0%\n",
      "Annual volatility: 11.5%\n",
      "Sharpe Ratio: 0.26\n",
      "Expected annual return: 5.0%\n",
      "Annual volatility: 11.5%\n",
      "Sharpe Ratio: 0.26\n",
      "Expected annual return: 5.0%\n",
      "Annual volatility: 11.5%\n",
      "Sharpe Ratio: 0.26\n",
      "Expected annual return: 5.0%\n",
      "Annual volatility: 11.5%\n",
      "Sharpe Ratio: 0.26\n",
      "Expected annual return: 5.0%\n",
      "Annual volatility: 11.5%\n",
      "Sharpe Ratio: 0.26\n",
      "Expected annual return: 5.0%\n",
      "Annual volatility: 11.5%\n",
      "Sharpe Ratio: 0.26\n",
      "Expected annual return: 5.0%\n",
      "Annual volatility: 11.5%\n",
      "Sharpe Ratio: 0.26\n",
      "Expected annual return: 5.0%\n",
      "Annual volatility: 11.5%\n",
      "Sharpe Ratio: 0.26\n",
      "Expected annual return: 5.0%\n",
      "Annual volatility: 11.5%\n",
      "Sharpe Ratio: 0.26\n",
      "Expected annual return: 5.0%\n",
      "Annual volatility: 11.5%\n",
      "Sharpe Ratio: 0.26\n",
      "Expected annual return: 5.0%\n",
      "Annual volatility: 11.5%\n",
      "Sharpe Ratio: 0.26\n",
      "Expected annual return: 5.0%\n",
      "Annual volatility: 11.5%\n",
      "Sharpe Ratio: 0.26\n",
      "Expected annual return: 5.0%\n",
      "Annual volatility: 11.5%\n",
      "Sharpe Ratio: 0.26\n",
      "Expected annual return: 5.0%\n",
      "Annual volatility: 11.5%\n",
      "Sharpe Ratio: 0.26\n",
      "Expected annual return: 5.0%\n",
      "Annual volatility: 11.5%\n",
      "Sharpe Ratio: 0.26\n",
      "Expected annual return: 5.0%\n",
      "Annual volatility: 11.5%\n",
      "Sharpe Ratio: 0.26\n",
      "Expected annual return: 5.0%\n",
      "Annual volatility: 11.5%\n",
      "Sharpe Ratio: 0.26\n",
      "Expected annual return: 5.0%\n",
      "Annual volatility: 11.5%\n",
      "Sharpe Ratio: 0.26\n",
      "Expected annual return: 5.0%\n",
      "Annual volatility: 11.5%\n",
      "Sharpe Ratio: 0.26\n",
      "Expected annual return: 5.0%\n",
      "Annual volatility: 11.5%\n",
      "Sharpe Ratio: 0.26\n",
      "Expected annual return: 5.0%\n",
      "Annual volatility: 11.5%\n",
      "Sharpe Ratio: 0.26\n",
      "Expected annual return: 5.0%\n",
      "Annual volatility: 11.5%\n",
      "Sharpe Ratio: 0.26\n",
      "Expected annual return: 5.0%\n",
      "Annual volatility: 11.5%\n",
      "Sharpe Ratio: 0.26\n",
      "Expected annual return: 5.0%\n",
      "Annual volatility: 11.5%\n",
      "Sharpe Ratio: 0.26\n",
      "Expected annual return: 5.0%\n",
      "Annual volatility: 11.5%\n",
      "Sharpe Ratio: 0.26\n",
      "Expected annual return: 5.0%\n",
      "Annual volatility: 11.5%\n",
      "Sharpe Ratio: 0.26\n",
      "Expected annual return: 5.0%\n",
      "Annual volatility: 11.5%\n",
      "Sharpe Ratio: 0.26\n",
      "Expected annual return: 5.0%\n",
      "Annual volatility: 11.5%\n",
      "Sharpe Ratio: 0.26\n",
      "Expected annual return: 5.0%\n",
      "Annual volatility: 11.5%\n",
      "Sharpe Ratio: 0.26\n",
      "Expected annual return: 5.0%\n",
      "Annual volatility: 11.5%\n",
      "Sharpe Ratio: 0.26\n",
      "Expected annual return: 5.0%\n",
      "Annual volatility: 11.5%\n",
      "Sharpe Ratio: 0.26\n",
      "Expected annual return: 5.0%\n",
      "Annual volatility: 11.5%\n",
      "Sharpe Ratio: 0.26\n",
      "Expected annual return: 5.0%\n",
      "Annual volatility: 11.5%\n",
      "Sharpe Ratio: 0.26\n",
      "Expected annual return: 5.0%\n",
      "Annual volatility: 11.5%\n",
      "Sharpe Ratio: 0.26\n",
      "Expected annual return: 5.0%\n",
      "Annual volatility: 11.5%\n",
      "Sharpe Ratio: 0.26\n",
      "Expected annual return: 5.0%\n",
      "Annual volatility: 11.5%\n",
      "Sharpe Ratio: 0.26\n",
      "Expected annual return: 5.0%\n",
      "Annual volatility: 11.5%\n",
      "Sharpe Ratio: 0.26\n",
      "Expected annual return: 5.0%\n",
      "Annual volatility: 11.5%\n",
      "Sharpe Ratio: 0.26\n",
      "Expected annual return: 5.0%\n",
      "Annual volatility: 11.5%\n",
      "Sharpe Ratio: 0.26\n",
      "Expected annual return: 5.0%\n",
      "Annual volatility: 11.5%\n",
      "Sharpe Ratio: 0.26\n",
      "Expected annual return: 5.0%\n",
      "Annual volatility: 11.5%\n",
      "Sharpe Ratio: 0.26\n",
      "Expected annual return: 5.0%\n",
      "Annual volatility: 11.5%\n",
      "Sharpe Ratio: 0.26\n",
      "Expected annual return: 5.0%\n",
      "Annual volatility: 11.5%\n",
      "Sharpe Ratio: 0.26\n",
      "Expected annual return: 5.0%\n",
      "Annual volatility: 11.5%\n",
      "Sharpe Ratio: 0.26\n",
      "Expected annual return: 5.0%\n",
      "Annual volatility: 11.5%\n",
      "Sharpe Ratio: 0.26\n",
      "Expected annual return: 5.0%\n",
      "Annual volatility: 11.5%\n",
      "Sharpe Ratio: 0.26\n",
      "Expected annual return: 5.0%\n",
      "Annual volatility: 11.5%\n",
      "Sharpe Ratio: 0.26\n"
     ]
    },
    {
     "name": "stdout",
     "output_type": "stream",
     "text": [
      "Expected annual return: 5.0%\n",
      "Annual volatility: 11.5%\n",
      "Sharpe Ratio: 0.26\n",
      "Expected annual return: 5.0%\n",
      "Annual volatility: 11.5%\n",
      "Sharpe Ratio: 0.26\n",
      "Expected annual return: 5.0%\n",
      "Annual volatility: 11.5%\n",
      "Sharpe Ratio: 0.26\n",
      "Expected annual return: 5.0%\n",
      "Annual volatility: 11.5%\n",
      "Sharpe Ratio: 0.26\n",
      "Expected annual return: 5.0%\n",
      "Annual volatility: 11.5%\n",
      "Sharpe Ratio: 0.26\n",
      "Expected annual return: 5.0%\n",
      "Annual volatility: 11.5%\n",
      "Sharpe Ratio: 0.26\n",
      "Expected annual return: 5.0%\n",
      "Annual volatility: 11.5%\n",
      "Sharpe Ratio: 0.26\n",
      "Expected annual return: 5.0%\n",
      "Annual volatility: 11.5%\n",
      "Sharpe Ratio: 0.26\n",
      "Expected annual return: 5.0%\n",
      "Annual volatility: 11.5%\n",
      "Sharpe Ratio: 0.26\n",
      "Expected annual return: 5.0%\n",
      "Annual volatility: 11.5%\n",
      "Sharpe Ratio: 0.26\n",
      "Expected annual return: 5.0%\n",
      "Annual volatility: 11.5%\n",
      "Sharpe Ratio: 0.26\n",
      "Expected annual return: 5.0%\n",
      "Annual volatility: 11.5%\n",
      "Sharpe Ratio: 0.26\n",
      "Expected annual return: 5.0%\n",
      "Annual volatility: 11.5%\n",
      "Sharpe Ratio: 0.26\n",
      "Expected annual return: 5.0%\n",
      "Annual volatility: 11.5%\n",
      "Sharpe Ratio: 0.26\n",
      "Expected annual return: 5.0%\n",
      "Annual volatility: 11.5%\n",
      "Sharpe Ratio: 0.26\n",
      "Expected annual return: 5.0%\n",
      "Annual volatility: 11.5%\n",
      "Sharpe Ratio: 0.26\n",
      "Expected annual return: 5.0%\n",
      "Annual volatility: 11.5%\n",
      "Sharpe Ratio: 0.26\n",
      "Expected annual return: 5.0%\n",
      "Annual volatility: 11.5%\n",
      "Sharpe Ratio: 0.26\n",
      "Expected annual return: 5.0%\n",
      "Annual volatility: 11.5%\n",
      "Sharpe Ratio: 0.26\n",
      "Expected annual return: 5.0%\n",
      "Annual volatility: 11.5%\n",
      "Sharpe Ratio: 0.26\n",
      "Expected annual return: 5.0%\n",
      "Annual volatility: 11.5%\n",
      "Sharpe Ratio: 0.26\n",
      "Expected annual return: 5.0%\n",
      "Annual volatility: 11.5%\n",
      "Sharpe Ratio: 0.26\n",
      "Expected annual return: 5.0%\n",
      "Annual volatility: 11.5%\n",
      "Sharpe Ratio: 0.26\n",
      "Expected annual return: 5.0%\n",
      "Annual volatility: 11.5%\n",
      "Sharpe Ratio: 0.26\n",
      "Expected annual return: 5.0%\n",
      "Annual volatility: 11.5%\n",
      "Sharpe Ratio: 0.26\n",
      "Expected annual return: 5.0%\n",
      "Annual volatility: 11.5%\n",
      "Sharpe Ratio: 0.26\n",
      "Expected annual return: 5.0%\n",
      "Annual volatility: 11.5%\n",
      "Sharpe Ratio: 0.26\n",
      "Expected annual return: 5.0%\n",
      "Annual volatility: 11.5%\n",
      "Sharpe Ratio: 0.26\n",
      "Expected annual return: 5.0%\n",
      "Annual volatility: 11.5%\n",
      "Sharpe Ratio: 0.26\n",
      "Expected annual return: 5.0%\n",
      "Annual volatility: 11.5%\n",
      "Sharpe Ratio: 0.26\n",
      "Expected annual return: 5.0%\n",
      "Annual volatility: 11.5%\n",
      "Sharpe Ratio: 0.26\n",
      "Expected annual return: 5.0%\n",
      "Annual volatility: 11.5%\n",
      "Sharpe Ratio: 0.26\n",
      "Expected annual return: 5.0%\n",
      "Annual volatility: 11.5%\n",
      "Sharpe Ratio: 0.26\n",
      "Expected annual return: 5.0%\n",
      "Annual volatility: 11.5%\n",
      "Sharpe Ratio: 0.26\n",
      "Expected annual return: 5.0%\n",
      "Annual volatility: 11.5%\n",
      "Sharpe Ratio: 0.26\n",
      "Expected annual return: 5.0%\n",
      "Annual volatility: 11.5%\n",
      "Sharpe Ratio: 0.26\n",
      "Expected annual return: 5.0%\n",
      "Annual volatility: 11.5%\n",
      "Sharpe Ratio: 0.26\n",
      "Expected annual return: 5.0%\n",
      "Annual volatility: 11.5%\n",
      "Sharpe Ratio: 0.26\n",
      "Expected annual return: 5.0%\n",
      "Annual volatility: 11.5%\n",
      "Sharpe Ratio: 0.26\n",
      "Expected annual return: 5.0%\n",
      "Annual volatility: 11.5%\n",
      "Sharpe Ratio: 0.26\n",
      "Expected annual return: 5.0%\n",
      "Annual volatility: 11.5%\n",
      "Sharpe Ratio: 0.26\n",
      "Expected annual return: 5.0%\n",
      "Annual volatility: 11.5%\n",
      "Sharpe Ratio: 0.26\n",
      "Expected annual return: 5.0%\n",
      "Annual volatility: 11.5%\n",
      "Sharpe Ratio: 0.26\n",
      "Expected annual return: 5.0%\n",
      "Annual volatility: 11.5%\n",
      "Sharpe Ratio: 0.26\n",
      "Expected annual return: 5.0%\n",
      "Annual volatility: 11.5%\n",
      "Sharpe Ratio: 0.26\n",
      "Expected annual return: 5.0%\n",
      "Annual volatility: 11.5%\n",
      "Sharpe Ratio: 0.26\n",
      "Expected annual return: 5.0%\n",
      "Annual volatility: 11.5%\n",
      "Sharpe Ratio: 0.26\n",
      "Expected annual return: 5.0%\n",
      "Annual volatility: 11.5%\n",
      "Sharpe Ratio: 0.26\n",
      "Expected annual return: 5.0%\n",
      "Annual volatility: 11.5%\n",
      "Sharpe Ratio: 0.26\n",
      "Expected annual return: 5.0%\n",
      "Annual volatility: 11.5%\n",
      "Sharpe Ratio: 0.26\n",
      "Expected annual return: 5.0%\n",
      "Annual volatility: 11.5%\n",
      "Sharpe Ratio: 0.26\n",
      "Expected annual return: 5.0%\n",
      "Annual volatility: 11.5%\n",
      "Sharpe Ratio: 0.26\n",
      "Expected annual return: 5.0%\n",
      "Annual volatility: 11.5%\n",
      "Sharpe Ratio: 0.26\n",
      "Expected annual return: 5.0%\n",
      "Annual volatility: 11.5%\n",
      "Sharpe Ratio: 0.26\n",
      "Expected annual return: 5.0%\n",
      "Annual volatility: 11.5%\n",
      "Sharpe Ratio: 0.26\n",
      "Expected annual return: 5.0%\n",
      "Annual volatility: 11.5%\n",
      "Sharpe Ratio: 0.26\n",
      "Expected annual return: 5.0%\n",
      "Annual volatility: 11.5%\n",
      "Sharpe Ratio: 0.26\n",
      "Expected annual return: 5.0%\n",
      "Annual volatility: 11.5%\n",
      "Sharpe Ratio: 0.26\n",
      "Expected annual return: 5.0%\n",
      "Annual volatility: 11.5%\n",
      "Sharpe Ratio: 0.26\n",
      "Expected annual return: 5.0%\n",
      "Annual volatility: 11.5%\n",
      "Sharpe Ratio: 0.26\n",
      "Expected annual return: 5.0%\n",
      "Annual volatility: 11.5%\n",
      "Sharpe Ratio: 0.26\n",
      "Expected annual return: 5.0%\n",
      "Annual volatility: 11.5%\n",
      "Sharpe Ratio: 0.26\n",
      "Expected annual return: 5.0%\n",
      "Annual volatility: 11.5%\n",
      "Sharpe Ratio: 0.26\n",
      "Expected annual return: 5.0%\n",
      "Annual volatility: 11.5%\n",
      "Sharpe Ratio: 0.26\n",
      "Expected annual return: 5.0%\n",
      "Annual volatility: 11.5%\n",
      "Sharpe Ratio: 0.26\n",
      "Expected annual return: 5.0%\n",
      "Annual volatility: 11.5%\n",
      "Sharpe Ratio: 0.26\n",
      "Expected annual return: 5.0%\n",
      "Annual volatility: 11.5%\n",
      "Sharpe Ratio: 0.26\n",
      "Expected annual return: 5.0%\n",
      "Annual volatility: 11.5%\n",
      "Sharpe Ratio: 0.26\n",
      "Expected annual return: 5.0%\n",
      "Annual volatility: 11.5%\n",
      "Sharpe Ratio: 0.26\n",
      "Expected annual return: 5.0%\n",
      "Annual volatility: 11.5%\n",
      "Sharpe Ratio: 0.26\n",
      "Expected annual return: 5.0%\n",
      "Annual volatility: 11.5%\n",
      "Sharpe Ratio: 0.26\n",
      "Expected annual return: 5.0%\n",
      "Annual volatility: 11.5%\n",
      "Sharpe Ratio: 0.26\n",
      "Expected annual return: 5.0%\n",
      "Annual volatility: 11.5%\n",
      "Sharpe Ratio: 0.26\n",
      "Expected annual return: 5.0%\n",
      "Annual volatility: 11.5%\n",
      "Sharpe Ratio: 0.26\n",
      "Expected annual return: 5.0%\n",
      "Annual volatility: 11.5%\n",
      "Sharpe Ratio: 0.26\n",
      "Expected annual return: 5.0%\n",
      "Annual volatility: 11.5%\n",
      "Sharpe Ratio: 0.26\n",
      "Expected annual return: 5.0%\n",
      "Annual volatility: 11.5%\n",
      "Sharpe Ratio: 0.26\n",
      "Expected annual return: 5.0%\n",
      "Annual volatility: 11.5%\n",
      "Sharpe Ratio: 0.26\n",
      "Expected annual return: 5.0%\n",
      "Annual volatility: 11.5%\n",
      "Sharpe Ratio: 0.26\n",
      "Expected annual return: 5.0%\n",
      "Annual volatility: 11.5%\n",
      "Sharpe Ratio: 0.26\n",
      "Expected annual return: 5.0%\n",
      "Annual volatility: 11.5%\n",
      "Sharpe Ratio: 0.26\n",
      "Expected annual return: 5.0%\n",
      "Annual volatility: 11.5%\n",
      "Sharpe Ratio: 0.26\n",
      "Expected annual return: 5.0%\n",
      "Annual volatility: 11.5%\n",
      "Sharpe Ratio: 0.26\n",
      "Expected annual return: 5.0%\n",
      "Annual volatility: 11.5%\n",
      "Sharpe Ratio: 0.26\n",
      "Expected annual return: 5.0%\n",
      "Annual volatility: 11.5%\n",
      "Sharpe Ratio: 0.26\n",
      "Expected annual return: 5.0%\n",
      "Annual volatility: 11.5%\n",
      "Sharpe Ratio: 0.26\n",
      "Expected annual return: 5.0%\n",
      "Annual volatility: 11.5%\n",
      "Sharpe Ratio: 0.26\n",
      "Expected annual return: 5.0%\n",
      "Annual volatility: 11.5%\n",
      "Sharpe Ratio: 0.26\n",
      "Expected annual return: 5.0%\n",
      "Annual volatility: 11.5%\n",
      "Sharpe Ratio: 0.26\n",
      "Expected annual return: 5.0%\n",
      "Annual volatility: 11.5%\n",
      "Sharpe Ratio: 0.26\n",
      "Expected annual return: 5.0%\n",
      "Annual volatility: 11.5%\n",
      "Sharpe Ratio: 0.26\n",
      "Expected annual return: 5.0%\n",
      "Annual volatility: 11.5%\n",
      "Sharpe Ratio: 0.26\n",
      "Expected annual return: 5.0%\n",
      "Annual volatility: 11.5%\n",
      "Sharpe Ratio: 0.26\n",
      "Expected annual return: 5.0%\n",
      "Annual volatility: 11.5%\n",
      "Sharpe Ratio: 0.26\n",
      "Expected annual return: 5.0%\n",
      "Annual volatility: 11.5%\n",
      "Sharpe Ratio: 0.26\n",
      "Expected annual return: 5.0%\n",
      "Annual volatility: 11.5%\n",
      "Sharpe Ratio: 0.26\n",
      "Expected annual return: 5.0%\n",
      "Annual volatility: 11.5%\n",
      "Sharpe Ratio: 0.26\n",
      "Expected annual return: 5.0%\n",
      "Annual volatility: 11.5%\n",
      "Sharpe Ratio: 0.26\n",
      "Expected annual return: 5.0%\n",
      "Annual volatility: 11.5%\n",
      "Sharpe Ratio: 0.26\n",
      "Expected annual return: 5.0%\n",
      "Annual volatility: 11.5%\n",
      "Sharpe Ratio: 0.26\n",
      "Expected annual return: 5.0%\n",
      "Annual volatility: 11.5%\n",
      "Sharpe Ratio: 0.26\n",
      "Expected annual return: 5.0%\n",
      "Annual volatility: 11.5%\n",
      "Sharpe Ratio: 0.26\n",
      "Expected annual return: 5.0%\n",
      "Annual volatility: 11.5%\n",
      "Sharpe Ratio: 0.26\n",
      "Expected annual return: 5.0%\n",
      "Annual volatility: 11.5%\n",
      "Sharpe Ratio: 0.26\n",
      "Expected annual return: 5.0%\n",
      "Annual volatility: 11.5%\n",
      "Sharpe Ratio: 0.26\n",
      "Expected annual return: 5.0%\n",
      "Annual volatility: 11.5%\n",
      "Sharpe Ratio: 0.26\n",
      "Expected annual return: 5.0%\n",
      "Annual volatility: 11.5%\n",
      "Sharpe Ratio: 0.26\n",
      "Expected annual return: 5.0%\n",
      "Annual volatility: 11.5%\n",
      "Sharpe Ratio: 0.26\n",
      "Expected annual return: 5.0%\n",
      "Annual volatility: 11.5%\n",
      "Sharpe Ratio: 0.26\n",
      "Expected annual return: 5.0%\n",
      "Annual volatility: 11.5%\n",
      "Sharpe Ratio: 0.26\n",
      "Expected annual return: 5.0%\n",
      "Annual volatility: 11.5%\n",
      "Sharpe Ratio: 0.26\n",
      "Expected annual return: 5.0%\n",
      "Annual volatility: 11.5%\n",
      "Sharpe Ratio: 0.26\n",
      "Expected annual return: 5.0%\n",
      "Annual volatility: 11.5%\n",
      "Sharpe Ratio: 0.26\n",
      "Expected annual return: 5.0%\n",
      "Annual volatility: 11.5%\n",
      "Sharpe Ratio: 0.26\n",
      "Expected annual return: 5.0%\n",
      "Annual volatility: 11.5%\n",
      "Sharpe Ratio: 0.26\n",
      "Expected annual return: 5.0%\n"
     ]
    },
    {
     "name": "stdout",
     "output_type": "stream",
     "text": [
      "Annual volatility: 11.5%\n",
      "Sharpe Ratio: 0.26\n",
      "Expected annual return: 5.0%\n",
      "Annual volatility: 11.5%\n",
      "Sharpe Ratio: 0.26\n",
      "Expected annual return: 5.0%\n",
      "Annual volatility: 11.5%\n",
      "Sharpe Ratio: 0.26\n",
      "Expected annual return: 5.0%\n",
      "Annual volatility: 11.5%\n",
      "Sharpe Ratio: 0.26\n",
      "Expected annual return: 5.0%\n",
      "Annual volatility: 11.5%\n",
      "Sharpe Ratio: 0.26\n",
      "Expected annual return: 5.0%\n",
      "Annual volatility: 11.5%\n",
      "Sharpe Ratio: 0.26\n",
      "Expected annual return: 5.0%\n",
      "Annual volatility: 11.5%\n",
      "Sharpe Ratio: 0.26\n",
      "Expected annual return: 5.0%\n",
      "Annual volatility: 11.5%\n",
      "Sharpe Ratio: 0.26\n",
      "Expected annual return: 5.0%\n",
      "Annual volatility: 11.5%\n",
      "Sharpe Ratio: 0.26\n",
      "Expected annual return: 5.0%\n",
      "Annual volatility: 11.5%\n",
      "Sharpe Ratio: 0.26\n",
      "Expected annual return: 5.0%\n",
      "Annual volatility: 11.5%\n",
      "Sharpe Ratio: 0.26\n",
      "Expected annual return: 5.0%\n",
      "Annual volatility: 11.5%\n",
      "Sharpe Ratio: 0.26\n",
      "Expected annual return: 5.0%\n",
      "Annual volatility: 11.5%\n",
      "Sharpe Ratio: 0.26\n",
      "Expected annual return: 5.0%\n",
      "Annual volatility: 11.5%\n",
      "Sharpe Ratio: 0.26\n",
      "Expected annual return: 5.0%\n",
      "Annual volatility: 11.5%\n",
      "Sharpe Ratio: 0.26\n",
      "Expected annual return: 5.0%\n",
      "Annual volatility: 11.5%\n",
      "Sharpe Ratio: 0.26\n",
      "Expected annual return: 5.0%\n",
      "Annual volatility: 11.5%\n",
      "Sharpe Ratio: 0.26\n",
      "Expected annual return: 5.0%\n",
      "Annual volatility: 11.5%\n",
      "Sharpe Ratio: 0.26\n",
      "Expected annual return: 5.0%\n",
      "Annual volatility: 11.5%\n",
      "Sharpe Ratio: 0.26\n",
      "Expected annual return: 5.0%\n",
      "Annual volatility: 11.5%\n",
      "Sharpe Ratio: 0.26\n",
      "Expected annual return: 5.0%\n",
      "Annual volatility: 11.5%\n",
      "Sharpe Ratio: 0.26\n",
      "Expected annual return: 5.0%\n",
      "Annual volatility: 11.5%\n",
      "Sharpe Ratio: 0.26\n",
      "Expected annual return: 5.0%\n",
      "Annual volatility: 11.5%\n",
      "Sharpe Ratio: 0.26\n",
      "Expected annual return: 5.0%\n",
      "Annual volatility: 11.5%\n",
      "Sharpe Ratio: 0.26\n",
      "Expected annual return: 5.0%\n",
      "Annual volatility: 11.5%\n",
      "Sharpe Ratio: 0.26\n",
      "Expected annual return: 5.0%\n",
      "Annual volatility: 11.5%\n",
      "Sharpe Ratio: 0.26\n",
      "Expected annual return: 5.0%\n",
      "Annual volatility: 11.5%\n",
      "Sharpe Ratio: 0.26\n",
      "Expected annual return: 5.0%\n",
      "Annual volatility: 11.5%\n",
      "Sharpe Ratio: 0.26\n",
      "Expected annual return: 5.0%\n",
      "Annual volatility: 11.5%\n",
      "Sharpe Ratio: 0.26\n",
      "Expected annual return: 5.0%\n",
      "Annual volatility: 11.5%\n",
      "Sharpe Ratio: 0.26\n",
      "Expected annual return: 5.0%\n",
      "Annual volatility: 11.5%\n",
      "Sharpe Ratio: 0.26\n",
      "Expected annual return: 5.0%\n",
      "Annual volatility: 11.5%\n",
      "Sharpe Ratio: 0.26\n",
      "Expected annual return: 5.0%\n",
      "Annual volatility: 11.5%\n",
      "Sharpe Ratio: 0.26\n",
      "Expected annual return: 5.0%\n",
      "Annual volatility: 11.5%\n",
      "Sharpe Ratio: 0.26\n",
      "Expected annual return: 5.0%\n",
      "Annual volatility: 11.5%\n",
      "Sharpe Ratio: 0.26\n",
      "Expected annual return: 5.0%\n",
      "Annual volatility: 11.5%\n",
      "Sharpe Ratio: 0.26\n",
      "Expected annual return: 5.0%\n",
      "Annual volatility: 11.5%\n",
      "Sharpe Ratio: 0.26\n",
      "Expected annual return: 5.0%\n",
      "Annual volatility: 11.5%\n",
      "Sharpe Ratio: 0.26\n",
      "Expected annual return: 5.0%\n",
      "Annual volatility: 11.5%\n",
      "Sharpe Ratio: 0.26\n",
      "Expected annual return: 5.0%\n",
      "Annual volatility: 11.5%\n",
      "Sharpe Ratio: 0.26\n",
      "Expected annual return: 5.0%\n",
      "Annual volatility: 11.5%\n",
      "Sharpe Ratio: 0.26\n",
      "Expected annual return: 5.0%\n",
      "Annual volatility: 11.5%\n",
      "Sharpe Ratio: 0.26\n",
      "Expected annual return: 5.0%\n",
      "Annual volatility: 11.5%\n",
      "Sharpe Ratio: 0.26\n",
      "Expected annual return: 5.0%\n",
      "Annual volatility: 11.5%\n",
      "Sharpe Ratio: 0.26\n",
      "Expected annual return: 5.0%\n",
      "Annual volatility: 11.5%\n",
      "Sharpe Ratio: 0.26\n",
      "Expected annual return: 5.0%\n",
      "Annual volatility: 11.5%\n",
      "Sharpe Ratio: 0.26\n",
      "Expected annual return: 5.0%\n",
      "Annual volatility: 11.5%\n",
      "Sharpe Ratio: 0.26\n",
      "Expected annual return: 5.0%\n",
      "Annual volatility: 11.5%\n",
      "Sharpe Ratio: 0.26\n",
      "Expected annual return: 5.0%\n",
      "Annual volatility: 11.5%\n",
      "Sharpe Ratio: 0.26\n",
      "Expected annual return: 5.0%\n",
      "Annual volatility: 11.5%\n",
      "Sharpe Ratio: 0.26\n",
      "Expected annual return: 5.0%\n",
      "Annual volatility: 11.5%\n",
      "Sharpe Ratio: 0.26\n",
      "Expected annual return: 5.0%\n",
      "Annual volatility: 11.5%\n",
      "Sharpe Ratio: 0.26\n",
      "Expected annual return: 5.0%\n",
      "Annual volatility: 11.5%\n",
      "Sharpe Ratio: 0.26\n",
      "Expected annual return: 5.0%\n",
      "Annual volatility: 11.5%\n",
      "Sharpe Ratio: 0.26\n",
      "Expected annual return: 5.0%\n",
      "Annual volatility: 11.5%\n",
      "Sharpe Ratio: 0.26\n",
      "Expected annual return: 5.0%\n",
      "Annual volatility: 11.5%\n",
      "Sharpe Ratio: 0.26\n",
      "Expected annual return: 5.0%\n",
      "Annual volatility: 11.5%\n",
      "Sharpe Ratio: 0.26\n",
      "Expected annual return: 5.0%\n",
      "Annual volatility: 11.5%\n",
      "Sharpe Ratio: 0.26\n",
      "Expected annual return: 5.0%\n",
      "Annual volatility: 11.5%\n",
      "Sharpe Ratio: 0.26\n",
      "Expected annual return: 5.0%\n",
      "Annual volatility: 11.5%\n",
      "Sharpe Ratio: 0.26\n",
      "Expected annual return: 5.0%\n",
      "Annual volatility: 11.5%\n",
      "Sharpe Ratio: 0.26\n",
      "Expected annual return: 5.0%\n",
      "Annual volatility: 11.5%\n",
      "Sharpe Ratio: 0.26\n",
      "Expected annual return: 5.0%\n",
      "Annual volatility: 11.5%\n",
      "Sharpe Ratio: 0.26\n",
      "Expected annual return: 5.0%\n",
      "Annual volatility: 11.5%\n",
      "Sharpe Ratio: 0.26\n",
      "Expected annual return: 5.0%\n",
      "Annual volatility: 11.5%\n",
      "Sharpe Ratio: 0.26\n",
      "Expected annual return: 5.0%\n",
      "Annual volatility: 11.5%\n",
      "Sharpe Ratio: 0.26\n",
      "Expected annual return: 5.0%\n",
      "Annual volatility: 11.5%\n",
      "Sharpe Ratio: 0.26\n",
      "Expected annual return: 5.0%\n",
      "Annual volatility: 11.5%\n",
      "Sharpe Ratio: 0.26\n",
      "Expected annual return: 5.0%\n",
      "Annual volatility: 11.5%\n",
      "Sharpe Ratio: 0.26\n",
      "Expected annual return: 5.0%\n",
      "Annual volatility: 11.5%\n",
      "Sharpe Ratio: 0.26\n",
      "Expected annual return: 5.0%\n",
      "Annual volatility: 11.5%\n",
      "Sharpe Ratio: 0.26\n",
      "Expected annual return: 5.0%\n",
      "Annual volatility: 11.5%\n",
      "Sharpe Ratio: 0.26\n",
      "Expected annual return: 5.0%\n",
      "Annual volatility: 11.5%\n",
      "Sharpe Ratio: 0.26\n",
      "Expected annual return: 5.0%\n",
      "Annual volatility: 11.5%\n",
      "Sharpe Ratio: 0.26\n",
      "Expected annual return: 5.0%\n",
      "Annual volatility: 11.5%\n",
      "Sharpe Ratio: 0.26\n",
      "Expected annual return: 5.0%\n",
      "Annual volatility: 11.5%\n",
      "Sharpe Ratio: 0.26\n",
      "Expected annual return: 5.0%\n",
      "Annual volatility: 11.5%\n",
      "Sharpe Ratio: 0.26\n",
      "Expected annual return: 5.0%\n",
      "Annual volatility: 11.5%\n",
      "Sharpe Ratio: 0.26\n",
      "Expected annual return: 5.0%\n",
      "Annual volatility: 11.5%\n",
      "Sharpe Ratio: 0.26\n",
      "Expected annual return: 5.0%\n",
      "Annual volatility: 11.5%\n",
      "Sharpe Ratio: 0.26\n",
      "Expected annual return: 5.0%\n",
      "Annual volatility: 11.5%\n",
      "Sharpe Ratio: 0.26\n",
      "Expected annual return: 5.0%\n",
      "Annual volatility: 11.5%\n",
      "Sharpe Ratio: 0.26\n",
      "Expected annual return: 5.0%\n",
      "Annual volatility: 11.5%\n",
      "Sharpe Ratio: 0.26\n",
      "Expected annual return: 5.0%\n",
      "Annual volatility: 11.5%\n",
      "Sharpe Ratio: 0.26\n",
      "Expected annual return: 5.0%\n",
      "Annual volatility: 11.5%\n",
      "Sharpe Ratio: 0.26\n",
      "Expected annual return: 5.0%\n",
      "Annual volatility: 11.5%\n",
      "Sharpe Ratio: 0.26\n",
      "Expected annual return: 5.0%\n",
      "Annual volatility: 11.5%\n",
      "Sharpe Ratio: 0.26\n",
      "Expected annual return: 5.0%\n",
      "Annual volatility: 11.5%\n",
      "Sharpe Ratio: 0.26\n",
      "Expected annual return: 5.0%\n",
      "Annual volatility: 11.5%\n",
      "Sharpe Ratio: 0.26\n",
      "Expected annual return: 5.0%\n",
      "Annual volatility: 11.5%\n",
      "Sharpe Ratio: 0.26\n",
      "Expected annual return: 5.0%\n",
      "Annual volatility: 11.5%\n",
      "Sharpe Ratio: 0.26\n",
      "Expected annual return: 5.0%\n",
      "Annual volatility: 11.5%\n",
      "Sharpe Ratio: 0.26\n",
      "Expected annual return: 5.0%\n",
      "Annual volatility: 11.5%\n",
      "Sharpe Ratio: 0.26\n",
      "Expected annual return: 5.0%\n",
      "Annual volatility: 11.5%\n",
      "Sharpe Ratio: 0.26\n",
      "Expected annual return: 5.0%\n",
      "Annual volatility: 11.5%\n",
      "Sharpe Ratio: 0.26\n",
      "Expected annual return: 5.0%\n",
      "Annual volatility: 11.5%\n",
      "Sharpe Ratio: 0.26\n",
      "Expected annual return: 5.0%\n",
      "Annual volatility: 11.5%\n",
      "Sharpe Ratio: 0.26\n",
      "Expected annual return: 5.0%\n",
      "Annual volatility: 11.5%\n",
      "Sharpe Ratio: 0.26\n",
      "Expected annual return: 5.0%\n",
      "Annual volatility: 11.5%\n",
      "Sharpe Ratio: 0.26\n",
      "Expected annual return: 5.0%\n",
      "Annual volatility: 11.5%\n",
      "Sharpe Ratio: 0.26\n",
      "Expected annual return: 5.0%\n",
      "Annual volatility: 11.5%\n",
      "Sharpe Ratio: 0.26\n",
      "Expected annual return: 5.0%\n",
      "Annual volatility: 11.5%\n",
      "Sharpe Ratio: 0.26\n",
      "Expected annual return: 5.0%\n",
      "Annual volatility: 11.5%\n",
      "Sharpe Ratio: 0.26\n",
      "Expected annual return: 5.0%\n",
      "Annual volatility: 11.5%\n",
      "Sharpe Ratio: 0.26\n",
      "Expected annual return: 5.0%\n",
      "Annual volatility: 11.5%\n",
      "Sharpe Ratio: 0.26\n",
      "Expected annual return: 5.0%\n",
      "Annual volatility: 11.5%\n",
      "Sharpe Ratio: 0.26\n",
      "Expected annual return: 5.0%\n",
      "Annual volatility: 11.5%\n",
      "Sharpe Ratio: 0.26\n",
      "Expected annual return: 5.0%\n",
      "Annual volatility: 11.5%\n",
      "Sharpe Ratio: 0.26\n",
      "Expected annual return: 5.0%\n",
      "Annual volatility: 11.5%\n",
      "Sharpe Ratio: 0.26\n",
      "Expected annual return: 5.0%\n",
      "Annual volatility: 11.5%\n",
      "Sharpe Ratio: 0.26\n",
      "Expected annual return: 5.0%\n",
      "Annual volatility: 11.5%\n",
      "Sharpe Ratio: 0.26\n",
      "Expected annual return: 5.0%\n",
      "Annual volatility: 11.5%\n",
      "Sharpe Ratio: 0.26\n",
      "Expected annual return: 5.0%\n",
      "Annual volatility: 11.5%\n",
      "Sharpe Ratio: 0.26\n",
      "Expected annual return: 5.0%\n",
      "Annual volatility: 11.5%\n",
      "Sharpe Ratio: 0.26\n",
      "Expected annual return: 5.0%\n",
      "Annual volatility: 11.5%\n",
      "Sharpe Ratio: 0.26\n",
      "Expected annual return: 5.0%\n",
      "Annual volatility: 11.5%\n",
      "Sharpe Ratio: 0.26\n",
      "Expected annual return: 5.0%\n",
      "Annual volatility: 11.5%\n",
      "Sharpe Ratio: 0.26\n",
      "Expected annual return: 5.0%\n",
      "Annual volatility: 11.5%\n",
      "Sharpe Ratio: 0.26\n",
      "Expected annual return: 5.0%\n",
      "Annual volatility: 11.5%\n",
      "Sharpe Ratio: 0.26\n",
      "Expected annual return: 5.0%\n",
      "Annual volatility: 11.5%\n",
      "Sharpe Ratio: 0.26\n"
     ]
    },
    {
     "name": "stdout",
     "output_type": "stream",
     "text": [
      "Expected annual return: 5.0%\n",
      "Annual volatility: 11.5%\n",
      "Sharpe Ratio: 0.26\n",
      "Expected annual return: 5.0%\n",
      "Annual volatility: 11.5%\n",
      "Sharpe Ratio: 0.26\n",
      "Expected annual return: 5.0%\n",
      "Annual volatility: 11.5%\n",
      "Sharpe Ratio: 0.26\n",
      "Expected annual return: 5.0%\n",
      "Annual volatility: 11.5%\n",
      "Sharpe Ratio: 0.26\n",
      "Expected annual return: 5.0%\n",
      "Annual volatility: 11.5%\n",
      "Sharpe Ratio: 0.26\n",
      "Expected annual return: 5.0%\n",
      "Annual volatility: 11.5%\n",
      "Sharpe Ratio: 0.26\n",
      "Expected annual return: 5.0%\n",
      "Annual volatility: 11.5%\n",
      "Sharpe Ratio: 0.26\n",
      "Expected annual return: 5.0%\n",
      "Annual volatility: 11.5%\n",
      "Sharpe Ratio: 0.26\n",
      "Expected annual return: 5.0%\n",
      "Annual volatility: 11.5%\n",
      "Sharpe Ratio: 0.26\n",
      "Expected annual return: 5.0%\n",
      "Annual volatility: 11.5%\n",
      "Sharpe Ratio: 0.26\n",
      "Expected annual return: 5.0%\n",
      "Annual volatility: 11.5%\n",
      "Sharpe Ratio: 0.26\n",
      "Expected annual return: 5.0%\n",
      "Annual volatility: 11.5%\n",
      "Sharpe Ratio: 0.26\n",
      "Expected annual return: 5.0%\n",
      "Annual volatility: 11.5%\n",
      "Sharpe Ratio: 0.26\n",
      "Expected annual return: 5.0%\n",
      "Annual volatility: 11.5%\n",
      "Sharpe Ratio: 0.26\n",
      "Expected annual return: 5.0%\n",
      "Annual volatility: 11.5%\n",
      "Sharpe Ratio: 0.26\n",
      "Expected annual return: 5.0%\n",
      "Annual volatility: 11.5%\n",
      "Sharpe Ratio: 0.26\n",
      "Expected annual return: 5.0%\n",
      "Annual volatility: 11.5%\n",
      "Sharpe Ratio: 0.26\n",
      "Expected annual return: 5.0%\n",
      "Annual volatility: 11.5%\n",
      "Sharpe Ratio: 0.26\n",
      "Expected annual return: 5.0%\n",
      "Annual volatility: 11.5%\n",
      "Sharpe Ratio: 0.26\n",
      "Expected annual return: 5.0%\n",
      "Annual volatility: 11.5%\n",
      "Sharpe Ratio: 0.26\n",
      "Expected annual return: 5.0%\n",
      "Annual volatility: 11.5%\n",
      "Sharpe Ratio: 0.26\n",
      "Expected annual return: 5.0%\n",
      "Annual volatility: 11.5%\n",
      "Sharpe Ratio: 0.26\n",
      "Expected annual return: 5.0%\n",
      "Annual volatility: 11.5%\n",
      "Sharpe Ratio: 0.26\n",
      "Expected annual return: 5.0%\n",
      "Annual volatility: 11.5%\n",
      "Sharpe Ratio: 0.26\n",
      "Expected annual return: 5.0%\n",
      "Annual volatility: 11.5%\n",
      "Sharpe Ratio: 0.26\n",
      "Expected annual return: 5.0%\n",
      "Annual volatility: 11.5%\n",
      "Sharpe Ratio: 0.26\n",
      "Expected annual return: 5.0%\n",
      "Annual volatility: 11.5%\n",
      "Sharpe Ratio: 0.26\n",
      "Expected annual return: 5.0%\n",
      "Annual volatility: 11.5%\n",
      "Sharpe Ratio: 0.26\n",
      "Expected annual return: 5.0%\n",
      "Annual volatility: 11.5%\n",
      "Sharpe Ratio: 0.26\n",
      "Expected annual return: 5.0%\n",
      "Annual volatility: 11.5%\n",
      "Sharpe Ratio: 0.26\n",
      "Expected annual return: 5.0%\n",
      "Annual volatility: 11.5%\n",
      "Sharpe Ratio: 0.26\n",
      "Expected annual return: 5.0%\n",
      "Annual volatility: 11.5%\n",
      "Sharpe Ratio: 0.26\n",
      "Expected annual return: 5.0%\n",
      "Annual volatility: 11.5%\n",
      "Sharpe Ratio: 0.26\n",
      "Expected annual return: 5.0%\n",
      "Annual volatility: 11.5%\n",
      "Sharpe Ratio: 0.26\n",
      "Expected annual return: 5.0%\n",
      "Annual volatility: 11.5%\n",
      "Sharpe Ratio: 0.26\n",
      "Expected annual return: 5.0%\n",
      "Annual volatility: 11.5%\n",
      "Sharpe Ratio: 0.26\n",
      "Expected annual return: 5.0%\n",
      "Annual volatility: 11.5%\n",
      "Sharpe Ratio: 0.26\n",
      "Expected annual return: 5.0%\n",
      "Annual volatility: 11.5%\n",
      "Sharpe Ratio: 0.26\n",
      "Expected annual return: 5.0%\n",
      "Annual volatility: 11.5%\n",
      "Sharpe Ratio: 0.26\n",
      "Expected annual return: 5.0%\n",
      "Annual volatility: 11.5%\n",
      "Sharpe Ratio: 0.26\n"
     ]
    }
   ],
   "source": [
    "risktolerance, annualreturn = [], []\n",
    "for rt2 in np.arange(0.02, 1, 0.001):\n",
    "    ef = EfficientFrontier(mu, S)\n",
    "    ef.efficient_risk(target_volatility=rt2)\n",
    "    weights = ef.clean_weights()\n",
    "    ret, volatility, Sharpe = ef.portfolio_performance(verbose=True)\n",
    "    annualreturn.append(ret)\n",
    "    risktolerance.append(rt2)\n"
   ]
  },
  {
   "cell_type": "code",
   "execution_count": 67,
   "metadata": {},
   "outputs": [
    {
     "data": {
      "text/plain": [
       "[<matplotlib.lines.Line2D at 0x7fdc42226340>]"
      ]
     },
     "execution_count": 67,
     "metadata": {},
     "output_type": "execute_result"
    },
    {
     "data": {
      "image/png": "[encoded data removed]",
      "text/plain": [
       "<Figure size 432x288 with 1 Axes>"
      ]
     },
     "metadata": {
      "needs_background": "light"
     },
     "output_type": "display_data"
    }
   ],
   "source": [
    "plt.plot(annualreturn, risktolerance)"
   ]
  },
  {
   "cell_type": "markdown",
   "metadata": {},
   "source": [
    "![purple-divider](https://user-images.githubusercontent.com/7065401/52071927-c1cd7100-2562-11e9-908a-dde91ba14e59.png)"
   ]
  },
  {
   "cell_type": "code",
   "execution_count": null,
   "metadata": {},
   "outputs": [],
   "source": []
  },
  {
   "cell_type": "code",
   "execution_count": 61,
   "metadata": {},
   "outputs": [
    {
     "name": "stdout",
     "output_type": "stream",
     "text": [
      "Function 1a Average error (%): 3.7750335038429235\n",
      "Function 1a Average return compare to Benchmark(%): 2.6199344361036014\n",
      "Return Overall(%): 72.44860001722174\n",
      "Benchmark Overall(%): 23.825527919895407\n"
     ]
    }
   ],
   "source": [
    "perch_all = [perch1,perch2,perch3,perch4,perch5,perch6,perch7,perch8,perch9,perch10,perch11,perch12,perch13,perch14,perch15,perch16]\n",
    "compare_all = [compare1,compare2,compare3,compare4,compare5,compare6,compare7,compare8,compare9,compare10,compare11,compare12,compare13,compare14,compare15,compare16]\n",
    "mean_perch = sum(perch_all) / len(perch_all)\n",
    "mean_compare = sum(compare_all) / len(compare_all)\n",
    "overall = ((1+sum(port_ret1))*(1+sum(port_ret2))*(1+sum(port_ret3))*(1+sum(port_ret4))*(1+sum(port_ret5))*(1+sum(port_ret6))*(1+sum(port_ret7))*(1+sum(port_ret8))*(1+sum(port_ret9))*(1+sum(port_ret10))*(1+sum(port_ret11))*(1+sum(port_ret12))*(1+sum(port_ret13))*(1+sum(port_ret14))*(1+sum(port_ret15))*(1+sum(port_ret16))-1)*100\n",
    "benchmark = ((1+B1/100)*(1+B2/100)*(1+B3/100)*(1+B4/100)*(1+B5/100)*(1+B6/100)*(1+B7/100)*(1+B8/100)*(1+B9/100)*(1+B10/100)*(1+B11/100)*(1+B12/100)*(1+B13/100)*(1+B14/100)*(1+B15/100)*(1+B16/100)-1)*100\n",
    "\n",
    "print( \"Function 1a Average error (%): \" + str(mean_perch))\n",
    "print( \"Function 1a Average return compare to Benchmark(%): \" + str(mean_compare))\n",
    "print( \"Return Overall(%): \" + str(overall))\n",
    "print( \"Benchmark Overall(%): \" + str(benchmark))\n",
    "#print( \"Function 1a Accuracy (%): \" + str(100-mean_perch))"
   ]
  }
 ],
 "metadata": {
  "kernelspec": {
   "display_name": "Python 3",
   "language": "python",
   "name": "python3"
  },
  "language_info": {
   "codemirror_mode": {
    "name": "ipython",
    "version": 3
   },
   "file_extension": ".py",
   "mimetype": "text/x-python",
   "name": "python",
   "nbconvert_exporter": "python",
   "pygments_lexer": "ipython3",
   "version": "3.8.3"
  }
 },
 "nbformat": 4,
 "nbformat_minor": 4
}
