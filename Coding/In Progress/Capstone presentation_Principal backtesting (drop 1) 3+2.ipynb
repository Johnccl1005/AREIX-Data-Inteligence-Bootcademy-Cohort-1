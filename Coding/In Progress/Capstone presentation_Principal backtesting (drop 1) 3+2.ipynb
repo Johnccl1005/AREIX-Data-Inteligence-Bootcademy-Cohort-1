{
 "cells": [
  {
   "cell_type": "markdown",
   "metadata": {},
   "source": [
    "\n",
    "\n",
    "<hr style=\"margin-bottom: 40px;\">\n",
    "\n",
    "# Principal - Backtesting"
   ]
  },
  {
   "cell_type": "markdown",
   "metadata": {},
   "source": [
    "![green-divider](https://user-images.githubusercontent.com/7065401/52071924-c003ad80-2562-11e9-8297-1c6595f8a7ff.png)\n",
    "\n",
    "## (A) (B) Simplified"
   ]
  },
  {
   "cell_type": "code",
   "execution_count": 344,
   "metadata": {},
   "outputs": [],
   "source": [
    "import pandas as pd\n",
    "import numpy as np\n",
    "from datetime import datetime\n",
    "from matplotlib import pyplot as plt\n",
    "\n",
    "df = pd.read_excel(\"Principal.xlsx\", parse_dates=True, index_col=\"date\")\n",
    "df.apply(pd.to_numeric, errors='ignore')\n",
    "df = df.rename(columns=lambda x: x.strip())\n",
    "df = df.dropna(axis=\"index\",how=\"all\") #drop NaN values. The earliest data starts from 2001-11-20.\n",
    "df = df.drop([\"PRSSCOA HK Equity\"],axis=1)"
   ]
  },
  {
   "cell_type": "code",
   "execution_count": 345,
   "metadata": {},
   "outputs": [],
   "source": [
    "from pypfopt.efficient_frontier import EfficientFrontier\n",
    "from pypfopt import risk_models\n",
    "from pypfopt import expected_returns\n",
    "from pypfopt import plotting\n",
    "from pypfopt.risk_models import CovarianceShrinkage\n",
    "from pypfopt.expected_returns import mean_historical_return"
   ]
  },
  {
   "cell_type": "code",
   "execution_count": 346,
   "metadata": {},
   "outputs": [
    {
     "data": {
      "text/html": [
       "<div>\n",
       "<style scoped>\n",
       "    .dataframe tbody tr th:only-of-type {\n",
       "        vertical-align: middle;\n",
       "    }\n",
       "\n",
       "    .dataframe tbody tr th {\n",
       "        vertical-align: top;\n",
       "    }\n",
       "\n",
       "    .dataframe thead th {\n",
       "        text-align: right;\n",
       "    }\n",
       "</style>\n",
       "<table border=\"1\" class=\"dataframe\">\n",
       "  <thead>\n",
       "    <tr style=\"text-align: right;\">\n",
       "      <th></th>\n",
       "      <th>count</th>\n",
       "      <th>mean</th>\n",
       "      <th>std</th>\n",
       "      <th>min</th>\n",
       "      <th>25%</th>\n",
       "      <th>50%</th>\n",
       "      <th>75%</th>\n",
       "      <th>max</th>\n",
       "    </tr>\n",
       "  </thead>\n",
       "  <tbody>\n",
       "    <tr>\n",
       "      <th>PRIAGSD HK Equity</th>\n",
       "      <td>1563.0</td>\n",
       "      <td>20.006846</td>\n",
       "      <td>2.112108</td>\n",
       "      <td>15.6100</td>\n",
       "      <td>18.160000</td>\n",
       "      <td>19.81000</td>\n",
       "      <td>21.940000</td>\n",
       "      <td>24.7500</td>\n",
       "    </tr>\n",
       "    <tr>\n",
       "      <th>PRIGLGC HK Equity</th>\n",
       "      <td>4801.0</td>\n",
       "      <td>16.644212</td>\n",
       "      <td>5.180473</td>\n",
       "      <td>7.4400</td>\n",
       "      <td>11.740000</td>\n",
       "      <td>17.18000</td>\n",
       "      <td>20.650000</td>\n",
       "      <td>26.5500</td>\n",
       "    </tr>\n",
       "    <tr>\n",
       "      <th>PRIHDSC HK Equity</th>\n",
       "      <td>4763.0</td>\n",
       "      <td>10.756074</td>\n",
       "      <td>0.300939</td>\n",
       "      <td>10.0390</td>\n",
       "      <td>10.383300</td>\n",
       "      <td>10.89080</td>\n",
       "      <td>10.937000</td>\n",
       "      <td>11.3056</td>\n",
       "    </tr>\n",
       "    <tr>\n",
       "      <th>PRILTAC HK Equity</th>\n",
       "      <td>4766.0</td>\n",
       "      <td>14.554230</td>\n",
       "      <td>3.491566</td>\n",
       "      <td>8.3228</td>\n",
       "      <td>11.042025</td>\n",
       "      <td>14.89255</td>\n",
       "      <td>17.333125</td>\n",
       "      <td>20.9627</td>\n",
       "    </tr>\n",
       "    <tr>\n",
       "      <th>PRILTGC HK Equity</th>\n",
       "      <td>4766.0</td>\n",
       "      <td>11.467751</td>\n",
       "      <td>1.366887</td>\n",
       "      <td>8.1355</td>\n",
       "      <td>10.296325</td>\n",
       "      <td>11.81295</td>\n",
       "      <td>12.709800</td>\n",
       "      <td>13.7850</td>\n",
       "    </tr>\n",
       "    <tr>\n",
       "      <th>PRICAPC HK Equity</th>\n",
       "      <td>4767.0</td>\n",
       "      <td>10.959695</td>\n",
       "      <td>0.402181</td>\n",
       "      <td>10.0980</td>\n",
       "      <td>10.450350</td>\n",
       "      <td>11.19940</td>\n",
       "      <td>11.229500</td>\n",
       "      <td>11.5160</td>\n",
       "    </tr>\n",
       "    <tr>\n",
       "      <th>PRASBON HK Equity</th>\n",
       "      <td>1798.0</td>\n",
       "      <td>9.981389</td>\n",
       "      <td>0.312778</td>\n",
       "      <td>9.4659</td>\n",
       "      <td>9.756450</td>\n",
       "      <td>9.90505</td>\n",
       "      <td>10.125125</td>\n",
       "      <td>10.9521</td>\n",
       "    </tr>\n",
       "    <tr>\n",
       "      <th>PRISTYC HK Equity</th>\n",
       "      <td>4766.0</td>\n",
       "      <td>14.457342</td>\n",
       "      <td>2.802819</td>\n",
       "      <td>9.4267</td>\n",
       "      <td>11.751625</td>\n",
       "      <td>14.97250</td>\n",
       "      <td>16.683100</td>\n",
       "      <td>19.5264</td>\n",
       "    </tr>\n",
       "  </tbody>\n",
       "</table>\n",
       "</div>"
      ],
      "text/plain": [
       "                    count       mean       std      min        25%       50%  \\\n",
       "PRIAGSD HK Equity  1563.0  20.006846  2.112108  15.6100  18.160000  19.81000   \n",
       "PRIGLGC HK Equity  4801.0  16.644212  5.180473   7.4400  11.740000  17.18000   \n",
       "PRIHDSC HK Equity  4763.0  10.756074  0.300939  10.0390  10.383300  10.89080   \n",
       "PRILTAC HK Equity  4766.0  14.554230  3.491566   8.3228  11.042025  14.89255   \n",
       "PRILTGC HK Equity  4766.0  11.467751  1.366887   8.1355  10.296325  11.81295   \n",
       "PRICAPC HK Equity  4767.0  10.959695  0.402181  10.0980  10.450350  11.19940   \n",
       "PRASBON HK Equity  1798.0   9.981389  0.312778   9.4659   9.756450   9.90505   \n",
       "PRISTYC HK Equity  4766.0  14.457342  2.802819   9.4267  11.751625  14.97250   \n",
       "\n",
       "                         75%      max  \n",
       "PRIAGSD HK Equity  21.940000  24.7500  \n",
       "PRIGLGC HK Equity  20.650000  26.5500  \n",
       "PRIHDSC HK Equity  10.937000  11.3056  \n",
       "PRILTAC HK Equity  17.333125  20.9627  \n",
       "PRILTGC HK Equity  12.709800  13.7850  \n",
       "PRICAPC HK Equity  11.229500  11.5160  \n",
       "PRASBON HK Equity  10.125125  10.9521  \n",
       "PRISTYC HK Equity  16.683100  19.5264  "
      ]
     },
     "execution_count": 346,
     "metadata": {},
     "output_type": "execute_result"
    }
   ],
   "source": [
    "describe = df.describe()\n",
    "describe = pd.DataFrame(describe)\n",
    "describe = describe.T\n",
    "describe"
   ]
  },
  {
   "cell_type": "code",
   "execution_count": 347,
   "metadata": {},
   "outputs": [
    {
     "ename": "AssertionError",
     "evalue": "coord len is not equal to labels len",
     "output_type": "error",
     "traceback": [
      "\u001b[0;31m---------------------------------------------------------------------------\u001b[0m",
      "\u001b[0;31mAssertionError\u001b[0m                            Traceback (most recent call last)",
      "\u001b[0;32m<ipython-input-347-87ec442d8920>\u001b[0m in \u001b[0;36m<module>\u001b[0;34m\u001b[0m\n\u001b[1;32m     26\u001b[0m     \u001b[0mplt\u001b[0m\u001b[0;34m.\u001b[0m\u001b[0mshow\u001b[0m\u001b[0;34m(\u001b[0m\u001b[0;34m)\u001b[0m\u001b[0;34m\u001b[0m\u001b[0;34m\u001b[0m\u001b[0m\n\u001b[1;32m     27\u001b[0m \u001b[0;34m\u001b[0m\u001b[0m\n\u001b[0;32m---> 28\u001b[0;31m \u001b[0mplot_with_labels\u001b[0m\u001b[0;34m(\u001b[0m\u001b[0mcoord\u001b[0m\u001b[0;34m,\u001b[0m \u001b[0mlabels\u001b[0m\u001b[0;34m)\u001b[0m\u001b[0;34m\u001b[0m\u001b[0;34m\u001b[0m\u001b[0m\n\u001b[0m",
      "\u001b[0;32m<ipython-input-347-87ec442d8920>\u001b[0m in \u001b[0;36mplot_with_labels\u001b[0;34m(coord, labels)\u001b[0m\n\u001b[1;32m      8\u001b[0m \u001b[0;34m\u001b[0m\u001b[0m\n\u001b[1;32m      9\u001b[0m \u001b[0;32mdef\u001b[0m \u001b[0mplot_with_labels\u001b[0m\u001b[0;34m(\u001b[0m\u001b[0mcoord\u001b[0m\u001b[0;34m,\u001b[0m \u001b[0mlabels\u001b[0m\u001b[0;34m)\u001b[0m\u001b[0;34m:\u001b[0m\u001b[0;34m\u001b[0m\u001b[0;34m\u001b[0m\u001b[0m\n\u001b[0;32m---> 10\u001b[0;31m     \u001b[0;32massert\u001b[0m \u001b[0mlen\u001b[0m\u001b[0;34m(\u001b[0m\u001b[0mcoord\u001b[0m\u001b[0;34m)\u001b[0m \u001b[0;34m==\u001b[0m \u001b[0mlen\u001b[0m\u001b[0;34m(\u001b[0m\u001b[0mlabels\u001b[0m\u001b[0;34m)\u001b[0m\u001b[0;34m,\u001b[0m \u001b[0;34m'coord len is not equal to labels len'\u001b[0m\u001b[0;34m\u001b[0m\u001b[0;34m\u001b[0m\u001b[0m\n\u001b[0m\u001b[1;32m     11\u001b[0m     \u001b[0mplt\u001b[0m\u001b[0;34m.\u001b[0m\u001b[0mfigure\u001b[0m\u001b[0;34m(\u001b[0m\u001b[0mfigsize\u001b[0m\u001b[0;34m=\u001b[0m\u001b[0;34m(\u001b[0m\u001b[0;36m10\u001b[0m\u001b[0;34m,\u001b[0m\u001b[0;36m30\u001b[0m\u001b[0;34m)\u001b[0m\u001b[0;34m)\u001b[0m\u001b[0;34m\u001b[0m\u001b[0;34m\u001b[0m\u001b[0m\n\u001b[1;32m     12\u001b[0m     \u001b[0mplt\u001b[0m\u001b[0;34m.\u001b[0m\u001b[0mxlabel\u001b[0m\u001b[0;34m(\u001b[0m\u001b[0;34m'Mean historic return'\u001b[0m\u001b[0;34m)\u001b[0m\u001b[0;34m\u001b[0m\u001b[0;34m\u001b[0m\u001b[0m\n",
      "\u001b[0;31mAssertionError\u001b[0m: coord len is not equal to labels len"
     ]
    }
   ],
   "source": [
    "# get a list of all the column names \n",
    "indexNamesArr = describe.index.values\n",
    "# convert ndarray to list\n",
    "listOfRowIndexLabels = list(indexNamesArr)\n",
    "\n",
    "coord = [(0.038802, 1.598254),( 0.023617, 0.745137),( 0.025753, 0.802417),( 0.045350, 2.066649),( 0.106415, 0.574546),( 0.053244, 0.432762),( 0.039204, 1.853161),( 0.059571, 0.444722),( 0.024976, 2.706996),( 0.012862, 0.312357),( 0.039587, 2.285998),( 0.001826, 0.044556),( 0.027979, 1.050875),( 0.032775, 1.438767),( 0.040590, 2.009521),( 0.042759, 2.400255)]\n",
    "labels = listOfRowIndexLabels\n",
    "\n",
    "def plot_with_labels(coord, labels):\n",
    "    assert len(coord) == len(labels), 'coord len is not equal to labels len'\n",
    "    plt.figure(figsize=(10,30))\n",
    "    plt.xlabel('Mean historic return')\n",
    "    plt.ylabel('volatility')\n",
    "    plt.title(\"Performance of Principal Funds\")\n",
    "    plt\n",
    "    for i, label in enumerate(labels): #get (0, label)\n",
    "        x, y = coord[i] #2 dim\n",
    "        plt.scatter(x, y,)\n",
    "                #\n",
    "        plt.annotate(label,\n",
    "                xy=(x, y), #show point \n",
    "                xytext=(5, 2), #show annotate\n",
    "                textcoords='offset points',\n",
    "                ha='right',\n",
    "                va='bottom')\n",
    "    plt.show()\n",
    "    \n",
    "plot_with_labels(coord, labels)"
   ]
  },
  {
   "cell_type": "markdown",
   "metadata": {},
   "source": [
    "![green-divider](https://user-images.githubusercontent.com/7065401/52071924-c003ad80-2562-11e9-8297-1c6595f8a7ff.png)\n",
    "\n",
    "## (C) - Backtesting and Optimization\n",
    "\n",
    "### Split training set and test set\n",
    "\n",
    "1. Split data in train and test set given a Date (i.e. test set is what happens after 31 July 2020 not included).\n",
    "\n",
    "2. Further split train set into train set and validation set (i.e. what happens before 31 July 2020 included) in 6 consecutive time folds.\n",
    "\n",
    "Then, in order not lo lose the time information, perform the following steps:\n",
    " \n",
    "one = Train on fold 10,11,12,13 (2010-08-01 to 2014-07-31) –>  Test on fold 14 (2014-08-01 to 2015-07-31)\n",
    "\n",
    "two = Train on fold 11,12,13,14 –>  Test on fold 15 \n",
    "\n",
    "three = Train on fold 12,13,14,15 –>  Test on fold 16\n",
    "\n",
    "four = Train on fold 13,14,15,16 –>  Test on fold 17\n",
    "\n",
    "five = Train on fold 14,15,16,17 –>  Test on fold 18\n",
    "\n",
    "six = Train on fold 15,16,17,18 –>  Test on fold 19 (2019-08-01 to 2020-07-31)\n",
    "\n",
    "Compute the average of the accuracies of the 6 test folds."
   ]
  },
  {
   "cell_type": "code",
   "execution_count": 367,
   "metadata": {},
   "outputs": [],
   "source": [
    "S = CovarianceShrinkage(df).ledoit_wolf()\n",
    "mu = mean_historical_return(df)\n",
    "from datetime import date\n",
    "#train sets\n",
    "one = df[(df.index > pd.Timestamp(date(2001,11,20))) & (df.index < pd.Timestamp(date(2004,7,31)))]\n",
    "two = df[(df.index > pd.Timestamp(date(2002,8,1))) & (df.index < pd.Timestamp(date(2005,7,31)))]\n",
    "three = df[(df.index > pd.Timestamp(date(2003,8,1))) & (df.index < pd.Timestamp(date(2006,7,31)))]\n",
    "four = df[(df.index > pd.Timestamp(date(2004,8,1))) & (df.index < pd.Timestamp(date(2007,7,31)))]\n",
    "five = df[(df.index > pd.Timestamp(date(2005,8,1))) & (df.index < pd.Timestamp(date(2008,7,31)))]\n",
    "six = df[(df.index > pd.Timestamp(date(2006,8,1))) & (df.index < pd.Timestamp(date(2009,7,31)))]\n",
    "seven = df[(df.index > pd.Timestamp(date(2007,8,1))) & (df.index < pd.Timestamp(date(2010,7,31)))]\n",
    "eight = df[(df.index > pd.Timestamp(date(2008,8,1))) & (df.index < pd.Timestamp(date(2011,7,31)))]\n",
    "nine = df[(df.index > pd.Timestamp(date(2009,8,1))) & (df.index < pd.Timestamp(date(2012,7,31)))]\n",
    "ten = df[(df.index > pd.Timestamp(date(2010,8,1))) & (df.index < pd.Timestamp(date(2013,7,31)))]\n",
    "eleven = df[(df.index > pd.Timestamp(date(2011,8,1))) & (df.index < pd.Timestamp(date(2014,7,31)))]\n",
    "twelve = df[(df.index > pd.Timestamp(date(2012,8,1))) & (df.index < pd.Timestamp(date(2015,7,31)))]\n",
    "thirteen = df[(df.index > pd.Timestamp(date(2013,8,1))) & (df.index < pd.Timestamp(date(2016,7,31)))]\n",
    "fourteen = df[(df.index > pd.Timestamp(date(2014,8,1))) & (df.index < pd.Timestamp(date(2017,7,31)))]\n",
    "fifteen = df[(df.index > pd.Timestamp(date(2015,8,1))) & (df.index < pd.Timestamp(date(2018,7,31)))]\n",
    "\n",
    "#validation sets\n",
    "tone = df[(df.index > pd.Timestamp(date(2004,8,1))) & (df.index < pd.Timestamp(date(2006,7,31)))]\n",
    "ttwo = df[(df.index > pd.Timestamp(date(2005,8,1))) & (df.index < pd.Timestamp(date(2007,7,31)))]\n",
    "tthree = df[(df.index > pd.Timestamp(date(2006,8,1))) & (df.index < pd.Timestamp(date(2008,7,31)))]\n",
    "tfour = df[(df.index > pd.Timestamp(date(2007,8,1))) & (df.index < pd.Timestamp(date(2009,7,31)))]\n",
    "tfive = df[(df.index > pd.Timestamp(date(2008,8,1))) & (df.index < pd.Timestamp(date(2010,7,31)))]\n",
    "tsix = df[(df.index > pd.Timestamp(date(2009,8,1))) & (df.index < pd.Timestamp(date(2011,7,31)))]\n",
    "tseven = df[(df.index > pd.Timestamp(date(2010,8,1))) & (df.index < pd.Timestamp(date(2012,7,31)))]\n",
    "teight = df[(df.index > pd.Timestamp(date(2011,8,1))) & (df.index < pd.Timestamp(date(2013,7,31)))]\n",
    "tnine = df[(df.index > pd.Timestamp(date(2012,8,1))) & (df.index < pd.Timestamp(date(2014,7,31)))]\n",
    "tten = df[(df.index > pd.Timestamp(date(2013,8,1))) & (df.index < pd.Timestamp(date(2015,7,31)))]\n",
    "televen = df[(df.index > pd.Timestamp(date(2014,8,1))) & (df.index < pd.Timestamp(date(2016,7,31)))]\n",
    "ttwelve = df[(df.index > pd.Timestamp(date(2015,8,1))) & (df.index < pd.Timestamp(date(2017,7,31)))]\n",
    "tthirteen = df[(df.index > pd.Timestamp(date(2016,8,1))) & (df.index < pd.Timestamp(date(2018,7,31)))]\n",
    "tfourteen = df[(df.index > pd.Timestamp(date(2017,8,1))) & (df.index < pd.Timestamp(date(2019,7,31)))]\n",
    "tfifteen = df[(df.index > pd.Timestamp(date(2018,8,1))) & (df.index < pd.Timestamp(date(2020,7,31)))]\n",
    "\n"
   ]
  },
  {
   "cell_type": "code",
   "execution_count": 368,
   "metadata": {},
   "outputs": [],
   "source": [
    "#Calculating risk (covariance matrix) for different train periods.\n",
    "S1 = CovarianceShrinkage(one).ledoit_wolf()\n",
    "S2 = CovarianceShrinkage(two).ledoit_wolf()\n",
    "S3 = CovarianceShrinkage(three).ledoit_wolf()\n",
    "S4 = CovarianceShrinkage(four).ledoit_wolf()\n",
    "S5 = CovarianceShrinkage(five).ledoit_wolf()\n",
    "S6 = CovarianceShrinkage(six).ledoit_wolf()\n",
    "S7 = CovarianceShrinkage(seven).ledoit_wolf()\n",
    "S8 = CovarianceShrinkage(eight).ledoit_wolf()\n",
    "S9 = CovarianceShrinkage(nine).ledoit_wolf()\n",
    "S10 = CovarianceShrinkage(ten).ledoit_wolf()\n",
    "S11 = CovarianceShrinkage(eleven).ledoit_wolf()\n",
    "S12 = CovarianceShrinkage(twelve).ledoit_wolf()\n",
    "S13 = CovarianceShrinkage(thirteen).ledoit_wolf()\n",
    "S14 = CovarianceShrinkage(fourteen).ledoit_wolf()\n",
    "S15 = CovarianceShrinkage(fifteen).ledoit_wolf()\n",
    "\n",
    "'''plot them for the presentation.\n",
    "plotting.plot_covariance(S1, plot_correlation=True)\n",
    "plotting.plot_covariance(S2, plot_correlation=True)\n",
    "plotting.plot_covariance(S3, plot_correlation=True)\n",
    "plotting.plot_covariance(S4, plot_correlation=True)\n",
    "plotting.plot_covariance(S5, plot_correlation=True)\n",
    "plotting.plot_covariance(S6, plot_correlation=True)\n",
    "'''\n",
    "\n",
    "#Calculating the expected returns for different train periods.\n",
    "mu1 = mean_historical_return(one)\n",
    "mu2 = mean_historical_return(two)\n",
    "mu3 = mean_historical_return(three)\n",
    "mu4 = mean_historical_return(four)\n",
    "mu5 = mean_historical_return(five)\n",
    "mu6 = mean_historical_return(six)\n",
    "mu7 = mean_historical_return(seven)\n",
    "mu8 = mean_historical_return(eight)\n",
    "mu9 = mean_historical_return(nine)\n",
    "mu10 = mean_historical_return(ten)\n",
    "mu11 = mean_historical_return(eleven)\n",
    "mu12 = mean_historical_return(twelve)\n",
    "mu13 = mean_historical_return(thirteen)\n",
    "mu14 = mean_historical_return(fourteen)\n",
    "mu15 = mean_historical_return(fifteen)\n",
    "\n",
    "'''plot and show them for the presentation.\n",
    "mu1\n",
    "mu1.plot.barh(figsize=(10,6))\n",
    "(same for others)\n",
    "'''\n",
    "\n",
    "#Calculating the expected returns for different validation periods.\n",
    "tmu1 = mean_historical_return(tone)\n",
    "tmu2 = mean_historical_return(ttwo)\n",
    "tmu3 = mean_historical_return(tthree)\n",
    "tmu4 = mean_historical_return(tfour)\n",
    "tmu5 = mean_historical_return(tfive)\n",
    "tmu6 = mean_historical_return(tsix)\n",
    "tmu7 = mean_historical_return(tseven)\n",
    "tmu8 = mean_historical_return(teight)\n",
    "tmu9 = mean_historical_return(tnine)\n",
    "tmu10 = mean_historical_return(tten)\n",
    "tmu11 = mean_historical_return(televen)\n",
    "tmu12 = mean_historical_return(ttwelve)\n",
    "tmu13 = mean_historical_return(tthirteen)\n",
    "tmu14 = mean_historical_return(tfourteen)\n",
    "tmu15 = mean_historical_return(tfifteen)"
   ]
  },
  {
   "cell_type": "markdown",
   "metadata": {},
   "source": [
    "![green-divider](https://user-images.githubusercontent.com/7065401/52071924-c003ad80-2562-11e9-8297-1c6595f8a7ff.png)\n",
    "![green-divider](https://user-images.githubusercontent.com/7065401/52071924-c003ad80-2562-11e9-8297-1c6595f8a7ff.png)\n",
    "![green-divider](https://user-images.githubusercontent.com/7065401/52071924-c003ad80-2562-11e9-8297-1c6595f8a7ff.png)\n",
    "## Function 1a - Portfolio Optimization for maximal Sharpe ratio\n",
    "![green-divider](https://user-images.githubusercontent.com/7065401/52071924-c003ad80-2562-11e9-8297-1c6595f8a7ff.png)\n",
    "![green-divider](https://user-images.githubusercontent.com/7065401/52071924-c003ad80-2562-11e9-8297-1c6595f8a7ff.png)\n",
    "![green-divider](https://user-images.githubusercontent.com/7065401/52071924-c003ad80-2562-11e9-8297-1c6595f8a7ff.png)\n",
    "![green-divider](https://user-images.githubusercontent.com/7065401/52071924-c003ad80-2562-11e9-8297-1c6595f8a7ff.png)\n"
   ]
  },
  {
   "cell_type": "markdown",
   "metadata": {},
   "source": [
    "\n",
    "## 1st five-year Backtesting (for Function 1a)\n",
    "### Run the function - what's the weighting for this period?"
   ]
  },
  {
   "cell_type": "code",
   "execution_count": 369,
   "metadata": {},
   "outputs": [
    {
     "name": "stdout",
     "output_type": "stream",
     "text": [
      "OrderedDict([('PRIAGSD HK Equity', 0.0), ('PRIGLGC HK Equity', 0.0), ('PRIHDSC HK Equity', 0.0), ('PRILTAC HK Equity', 0.0), ('PRILTGC HK Equity', 0.0), ('PRICAPC HK Equity', 0.0), ('PRASBON HK Equity', 0.0), ('PRISTYC HK Equity', 0.99999)])\n",
      "Performance of function 1a portfolio in train period:\n"
     ]
    },
    {
     "data": {
      "text/plain": [
       "<matplotlib.axes._subplots.AxesSubplot at 0x7fb598a5dc40>"
      ]
     },
     "execution_count": 369,
     "metadata": {},
     "output_type": "execute_result"
    },
    {
     "data": {
      "image/png": "[encoded data removed]",
      "text/plain": [
       "<Figure size 360x360 with 1 Axes>"
      ]
     },
     "metadata": {},
     "output_type": "display_data"
    }
   ],
   "source": [
    "ef = EfficientFrontier(mu1, S1)\n",
    "\n",
    "weight1a = ef.max_sharpe() #raw weights\n",
    "cleanweight1a = ef.clean_weights() #cleaned weights\n",
    "print(cleanweight1a)\n",
    "print(\"Performance of function 1a portfolio in train period:\")\n",
    "pd.Series(cleanweight1a).plot.pie(figsize=(5,5))"
   ]
  },
  {
   "cell_type": "markdown",
   "metadata": {},
   "source": [
    "### Comparison - Performance of Portfolio during the Train period."
   ]
  },
  {
   "cell_type": "code",
   "execution_count": 370,
   "metadata": {},
   "outputs": [
    {
     "name": "stdout",
     "output_type": "stream",
     "text": [
      "Expected annual return: 2.3%\n",
      "Annual volatility: 8.0%\n",
      "Sharpe Ratio: 0.04\n"
     ]
    },
    {
     "data": {
      "text/plain": [
       "<matplotlib.axes._subplots.AxesSubplot at 0x7fb59e73d490>"
      ]
     },
     "execution_count": 370,
     "metadata": {},
     "output_type": "execute_result"
    },
    {
     "data": {
      "image/png": "[encoded data removed]",
      "text/plain": [
       "<Figure size 720x432 with 1 Axes>"
      ]
     },
     "metadata": {
      "needs_background": "light"
     },
     "output_type": "display_data"
    }
   ],
   "source": [
    "ret,vol,sharpe = ef.portfolio_performance(verbose=True)\n",
    "\n",
    "mu1.plot.barh(figsize=(10,6))    #return of each funds from 2010 to 2014."
   ]
  },
  {
   "cell_type": "markdown",
   "metadata": {},
   "source": [
    "### Comparison - Performance of Portfolio during the Validation period."
   ]
  },
  {
   "cell_type": "code",
   "execution_count": 371,
   "metadata": {},
   "outputs": [
    {
     "name": "stdout",
     "output_type": "stream",
     "text": [
      "Portfolio return in test year(%):\n",
      "11.295773031832784\n",
      "Portfolio return compared to train set (+- %):\n",
      "8.983339742880494\n",
      "Percentage change compared to train set (+- %):\n",
      "388.4799525157605\n",
      "Compare to benchmark (+- %):\n",
      "6.195773031832784\n"
     ]
    },
    {
     "data": {
      "text/plain": [
       "<matplotlib.axes._subplots.AxesSubplot at 0x7fb59f25e160>"
      ]
     },
     "execution_count": 371,
     "metadata": {},
     "output_type": "execute_result"
    },
    {
     "data": {
      "image/png": "[encoded data removed]",
      "text/plain": [
       "<Figure size 720x432 with 1 Axes>"
      ]
     },
     "metadata": {
      "needs_background": "light"
     },
     "output_type": "display_data"
    }
   ],
   "source": [
    "#calculate the asset returns in our portfolio.\n",
    "ret_data = tone.pct_change()[1:]\n",
    "\n",
    "#calculate the weighted returns of our assets.\n",
    "weighted_returns = (cleanweight1a * ret_data)\n",
    "\n",
    "#portfolio returns are simply the sum of the weighted returns of the assets. So lets add the rows.\n",
    "port_ret = weighted_returns.sum(axis=1)\n",
    "print(\"Portfolio return in test year(%):\")\n",
    "print(sum(port_ret)*100)\n",
    "print(\"Portfolio return compared to train set (+- %):\")\n",
    "diff1 = (sum(port_ret) - ret)*100\n",
    "print(diff1)\n",
    "print(\"Percentage change compared to train set (+- %):\")\n",
    "perch1 = diff1/ret\n",
    "print(perch1)\n",
    "compare1=((sum(port_ret)*100)-5.1)\n",
    "print(\"Compare to benchmark (+- %):\")\n",
    "print(compare1)\n",
    "\n",
    "tmu1.plot.barh(figsize=(10,6))  #return of each fund from 2014 to 2015. (test period)"
   ]
  },
  {
   "cell_type": "markdown",
   "metadata": {},
   "source": [
    "![green-divider](https://user-images.githubusercontent.com/7065401/52071924-c003ad80-2562-11e9-8297-1c6595f8a7ff.png)\n",
    "\n",
    "## 2nd five-year Backtesting  (for Function 1a)"
   ]
  },
  {
   "cell_type": "markdown",
   "metadata": {},
   "source": [
    "### Run the function - what's the weighting for this period?"
   ]
  },
  {
   "cell_type": "code",
   "execution_count": 372,
   "metadata": {},
   "outputs": [
    {
     "name": "stdout",
     "output_type": "stream",
     "text": [
      "OrderedDict([('PRIAGSD HK Equity', 0.0), ('PRIGLGC HK Equity', 0.46005), ('PRIHDSC HK Equity', 0.0), ('PRILTAC HK Equity', 0.07405), ('PRILTGC HK Equity', 0.0), ('PRICAPC HK Equity', 0.0), ('PRASBON HK Equity', 0.0), ('PRISTYC HK Equity', 0.4659)])\n",
      "Performance of function 1a portfolio in train period:\n"
     ]
    },
    {
     "data": {
      "text/plain": [
       "<matplotlib.axes._subplots.AxesSubplot at 0x7fb59d8a9c70>"
      ]
     },
     "execution_count": 372,
     "metadata": {},
     "output_type": "execute_result"
    },
    {
     "data": {
      "image/png": "[encoded data removed]",
      "text/plain": [
       "<Figure size 360x360 with 1 Axes>"
      ]
     },
     "metadata": {},
     "output_type": "display_data"
    }
   ],
   "source": [
    "ef = EfficientFrontier(mu2, S2)\n",
    "\n",
    "weight1a = ef.max_sharpe() #raw weights\n",
    "cleanweight1a = ef.clean_weights() #cleaned weights\n",
    "print(cleanweight1a)\n",
    "print(\"Performance of function 1a portfolio in train period:\")\n",
    "pd.Series(cleanweight1a).plot.pie(figsize=(5,5))"
   ]
  },
  {
   "cell_type": "markdown",
   "metadata": {},
   "source": [
    "### Comparison - Performance of Portfolio during the Train period."
   ]
  },
  {
   "cell_type": "code",
   "execution_count": 373,
   "metadata": {},
   "outputs": [
    {
     "name": "stdout",
     "output_type": "stream",
     "text": [
      "Expected annual return: 6.7%\n",
      "Annual volatility: 5.9%\n",
      "Sharpe Ratio: 0.78\n"
     ]
    },
    {
     "data": {
      "text/plain": [
       "<matplotlib.axes._subplots.AxesSubplot at 0x7fb59df3d250>"
      ]
     },
     "execution_count": 373,
     "metadata": {},
     "output_type": "execute_result"
    },
    {
     "data": {
      "image/png": "[encoded data removed]",
      "text/plain": [
       "<Figure size 720x432 with 1 Axes>"
      ]
     },
     "metadata": {
      "needs_background": "light"
     },
     "output_type": "display_data"
    }
   ],
   "source": [
    "ret,vol,sharpe = ef.portfolio_performance(verbose=True)\n",
    "\n",
    "mu2.plot.barh(figsize=(10,6))    #return of each funds from 2010 to 2014."
   ]
  },
  {
   "cell_type": "markdown",
   "metadata": {},
   "source": [
    "### Comparison - Performance of Portfolio during the Validation period."
   ]
  },
  {
   "cell_type": "code",
   "execution_count": 374,
   "metadata": {},
   "outputs": [
    {
     "name": "stdout",
     "output_type": "stream",
     "text": [
      "Portfolio return in test year(%):\n",
      "22.33714931755408\n",
      "Portfolio return compared to train set (+- %):\n",
      "15.685583824284516\n",
      "Percentage change compared to train set (+- %):\n",
      "235.81792647394198\n",
      "Compare to benchmark (+- %):\n",
      "17.237149317554078\n"
     ]
    },
    {
     "data": {
      "text/plain": [
       "<matplotlib.axes._subplots.AxesSubplot at 0x7fb598e021c0>"
      ]
     },
     "execution_count": 374,
     "metadata": {},
     "output_type": "execute_result"
    },
    {
     "data": {
      "image/png": "[encoded data removed]",
      "text/plain": [
       "<Figure size 720x432 with 1 Axes>"
      ]
     },
     "metadata": {
      "needs_background": "light"
     },
     "output_type": "display_data"
    }
   ],
   "source": [
    "#calculate the asset returns in our portfolio.\n",
    "ret_data = ttwo.pct_change()[1:]\n",
    "\n",
    "#calculate the weighted returns of our assets.\n",
    "weighted_returns = (cleanweight1a * ret_data)\n",
    "\n",
    "#portfolio returns are simply the sum of the weighted returns of the assets. So lets add the rows.\n",
    "port_ret = weighted_returns.sum(axis=1)\n",
    "print(\"Portfolio return in test year(%):\")\n",
    "print(sum(port_ret)*100)\n",
    "print(\"Portfolio return compared to train set (+- %):\")\n",
    "diff2 = (sum(port_ret) - ret)*100\n",
    "print(diff2)\n",
    "print(\"Percentage change compared to train set (+- %):\")\n",
    "perch2 = diff2/ret\n",
    "print(perch2)\n",
    "compare2=((sum(port_ret)*100)-5.1)\n",
    "print(\"Compare to benchmark (+- %):\")\n",
    "print(compare2)\n",
    "\n",
    "tmu2.plot.barh(figsize=(10,6))  #return of each fund from 2014 to 2015. (test period)"
   ]
  },
  {
   "cell_type": "markdown",
   "metadata": {},
   "source": [
    "![green-divider](https://user-images.githubusercontent.com/7065401/52071924-c003ad80-2562-11e9-8297-1c6595f8a7ff.png)\n",
    "\n",
    "## 3rd five-year Backtesting  (for Function 1a)"
   ]
  },
  {
   "cell_type": "markdown",
   "metadata": {},
   "source": [
    "### Run the function - what's the weighting for this period?"
   ]
  },
  {
   "cell_type": "code",
   "execution_count": 375,
   "metadata": {},
   "outputs": [
    {
     "name": "stdout",
     "output_type": "stream",
     "text": [
      "OrderedDict([('PRIAGSD HK Equity', 0.0), ('PRIGLGC HK Equity', 0.56002), ('PRIHDSC HK Equity', 0.0), ('PRILTAC HK Equity', 0.06583), ('PRILTGC HK Equity', 0.0), ('PRICAPC HK Equity', 0.0), ('PRASBON HK Equity', 0.0), ('PRISTYC HK Equity', 0.37415)])\n",
      "Performance of function 1a portfolio in train period:\n"
     ]
    },
    {
     "data": {
      "text/plain": [
       "<matplotlib.axes._subplots.AxesSubplot at 0x7fb59e70c0d0>"
      ]
     },
     "execution_count": 375,
     "metadata": {},
     "output_type": "execute_result"
    },
    {
     "data": {
      "image/png": "[encoded data removed]",
      "text/plain": [
       "<Figure size 360x360 with 1 Axes>"
      ]
     },
     "metadata": {},
     "output_type": "display_data"
    }
   ],
   "source": [
    "ef = EfficientFrontier(mu3, S3)\n",
    "\n",
    "weight1a = ef.max_sharpe() #raw weights\n",
    "cleanweight1a = ef.clean_weights() #cleaned weights\n",
    "print(cleanweight1a)\n",
    "print(\"Performance of function 1a portfolio in train period:\")\n",
    "pd.Series(cleanweight1a).plot.pie(figsize=(5,5))"
   ]
  },
  {
   "cell_type": "markdown",
   "metadata": {},
   "source": [
    "### Comparison - Performance of Portfolio during the Train period."
   ]
  },
  {
   "cell_type": "code",
   "execution_count": 376,
   "metadata": {
    "scrolled": true
   },
   "outputs": [
    {
     "name": "stdout",
     "output_type": "stream",
     "text": [
      "Expected annual return: 12.7%\n",
      "Annual volatility: 5.9%\n",
      "Sharpe Ratio: 1.81\n"
     ]
    },
    {
     "data": {
      "text/plain": [
       "<matplotlib.axes._subplots.AxesSubplot at 0x7fb59edc7ee0>"
      ]
     },
     "execution_count": 376,
     "metadata": {},
     "output_type": "execute_result"
    },
    {
     "data": {
      "image/png": "[encoded data removed]",
      "text/plain": [
       "<Figure size 720x432 with 1 Axes>"
      ]
     },
     "metadata": {
      "needs_background": "light"
     },
     "output_type": "display_data"
    }
   ],
   "source": [
    "ret,vol,sharpe = ef.portfolio_performance(verbose=True)\n",
    "\n",
    "mu3.plot.barh(figsize=(10,6))    #return of each funds from 2010 to 2014."
   ]
  },
  {
   "cell_type": "markdown",
   "metadata": {},
   "source": [
    "### Comparison - Performance of Portfolio during the Validation period."
   ]
  },
  {
   "cell_type": "code",
   "execution_count": 377,
   "metadata": {
    "scrolled": true
   },
   "outputs": [
    {
     "name": "stdout",
     "output_type": "stream",
     "text": [
      "Portfolio return in test year(%):\n",
      "24.60747925463673\n",
      "Portfolio return compared to train set (+- %):\n",
      "11.92291230391108\n",
      "Percentage change compared to train set (+- %):\n",
      "93.99542254951795\n",
      "Compare to benchmark (+- %):\n",
      "19.507479254636728\n"
     ]
    },
    {
     "data": {
      "text/plain": [
       "<matplotlib.axes._subplots.AxesSubplot at 0x7fb59f2c42b0>"
      ]
     },
     "execution_count": 377,
     "metadata": {},
     "output_type": "execute_result"
    },
    {
     "data": {
      "image/png": "[encoded data removed]",
      "text/plain": [
       "<Figure size 720x432 with 1 Axes>"
      ]
     },
     "metadata": {
      "needs_background": "light"
     },
     "output_type": "display_data"
    }
   ],
   "source": [
    "#calculate the asset returns in our portfolio.\n",
    "ret_data = tthree.pct_change()[1:]\n",
    "\n",
    "#calculate the weighted returns of our assets.\n",
    "weighted_returns = (cleanweight1a * ret_data)\n",
    "\n",
    "#portfolio returns are simply the sum of the weighted returns of the assets. So lets add the rows.\n",
    "port_ret = weighted_returns.sum(axis=1)\n",
    "print(\"Portfolio return in test year(%):\")\n",
    "print(sum(port_ret)*100)\n",
    "print(\"Portfolio return compared to train set (+- %):\")\n",
    "diff3 = (sum(port_ret) - ret)*100\n",
    "print(diff3)\n",
    "print(\"Percentage change compared to train set (+- %):\")\n",
    "perch3 = diff3/ret\n",
    "print(perch3)\n",
    "compare3=((sum(port_ret)*100)-5.1)\n",
    "print(\"Compare to benchmark (+- %):\")\n",
    "print(compare3)\n",
    "\n",
    "tmu3.plot.barh(figsize=(10,6))  #return of each fund from 2014 to 2015. (test period)"
   ]
  },
  {
   "cell_type": "markdown",
   "metadata": {},
   "source": [
    "![green-divider](https://user-images.githubusercontent.com/7065401/52071924-c003ad80-2562-11e9-8297-1c6595f8a7ff.png)\n",
    "\n",
    "## 4th five-year Backtesting  (for Function 1a)"
   ]
  },
  {
   "cell_type": "markdown",
   "metadata": {},
   "source": [
    "### Run the function - what's the weighting for this period?"
   ]
  },
  {
   "cell_type": "code",
   "execution_count": 378,
   "metadata": {
    "scrolled": true
   },
   "outputs": [
    {
     "name": "stdout",
     "output_type": "stream",
     "text": [
      "OrderedDict([('PRIAGSD HK Equity', 0.0), ('PRIGLGC HK Equity', 0.6386), ('PRIHDSC HK Equity', 0.0), ('PRILTAC HK Equity', 0.02752), ('PRILTGC HK Equity', 0.0), ('PRICAPC HK Equity', 0.0), ('PRASBON HK Equity', 0.0), ('PRISTYC HK Equity', 0.33388)])\n",
      "Performance of function 1a portfolio in train period:\n"
     ]
    },
    {
     "data": {
      "text/plain": [
       "<matplotlib.axes._subplots.AxesSubplot at 0x7fb59e430520>"
      ]
     },
     "execution_count": 378,
     "metadata": {},
     "output_type": "execute_result"
    },
    {
     "data": {
      "image/png": "[encoded data removed]",
      "text/plain": [
       "<Figure size 360x360 with 1 Axes>"
      ]
     },
     "metadata": {},
     "output_type": "display_data"
    }
   ],
   "source": [
    "ef = EfficientFrontier(mu4, S4)\n",
    "\n",
    "weight1a = ef.max_sharpe() #raw weights\n",
    "cleanweight1a = ef.clean_weights() #cleaned weights\n",
    "print(cleanweight1a)\n",
    "print(\"Performance of function 1a portfolio in train period:\")\n",
    "pd.Series(cleanweight1a).plot.pie(figsize=(5,5))"
   ]
  },
  {
   "cell_type": "markdown",
   "metadata": {},
   "source": [
    "### Comparison - Performance of Portfolio during the Train period."
   ]
  },
  {
   "cell_type": "code",
   "execution_count": 379,
   "metadata": {
    "scrolled": true
   },
   "outputs": [
    {
     "name": "stdout",
     "output_type": "stream",
     "text": [
      "Expected annual return: 12.9%\n",
      "Annual volatility: 5.6%\n",
      "Sharpe Ratio: 1.95\n"
     ]
    },
    {
     "data": {
      "text/plain": [
       "<matplotlib.axes._subplots.AxesSubplot at 0x7fb59dac6850>"
      ]
     },
     "execution_count": 379,
     "metadata": {},
     "output_type": "execute_result"
    },
    {
     "data": {
      "image/png": "[encoded data removed]",
      "text/plain": [
       "<Figure size 720x432 with 1 Axes>"
      ]
     },
     "metadata": {
      "needs_background": "light"
     },
     "output_type": "display_data"
    }
   ],
   "source": [
    "ret,vol,sharpe = ef.portfolio_performance(verbose=True)\n",
    "\n",
    "mu4.plot.barh(figsize=(10,6))    #return of each funds from 2010 to 2014."
   ]
  },
  {
   "cell_type": "markdown",
   "metadata": {},
   "source": [
    "### Comparison - Performance of Portfolio during the Validation period."
   ]
  },
  {
   "cell_type": "code",
   "execution_count": 380,
   "metadata": {
    "scrolled": true
   },
   "outputs": [
    {
     "name": "stdout",
     "output_type": "stream",
     "text": [
      "Portfolio return in test year(%):\n",
      "-20.450834949359315\n",
      "Portfolio return compared to train set (+- %):\n",
      "-33.38521008830744\n",
      "Percentage change compared to train set (+- %):\n",
      "-258.11227623805\n",
      "Compare to benchmark (+- %):\n",
      "-25.550834949359313\n"
     ]
    },
    {
     "data": {
      "text/plain": [
       "<matplotlib.axes._subplots.AxesSubplot at 0x7fb59dc82040>"
      ]
     },
     "execution_count": 380,
     "metadata": {},
     "output_type": "execute_result"
    },
    {
     "data": {
      "image/png": "[encoded data removed]",
      "text/plain": [
       "<Figure size 720x432 with 1 Axes>"
      ]
     },
     "metadata": {
      "needs_background": "light"
     },
     "output_type": "display_data"
    }
   ],
   "source": [
    "#calculate the asset returns in our portfolio.\n",
    "ret_data = tfour.pct_change()[1:]\n",
    "\n",
    "#calculate the weighted returns of our assets.\n",
    "weighted_returns = (cleanweight1a * ret_data)\n",
    "\n",
    "#portfolio returns are simply the sum of the weighted returns of the assets. So lets add the rows.\n",
    "port_ret = weighted_returns.sum(axis=1)\n",
    "print(\"Portfolio return in test year(%):\")\n",
    "print(sum(port_ret)*100)\n",
    "print(\"Portfolio return compared to train set (+- %):\")\n",
    "diff4 = (sum(port_ret) - ret)*100\n",
    "print(diff4)\n",
    "print(\"Percentage change compared to train set (+- %):\")\n",
    "perch4 = diff4/ret\n",
    "print(perch4)\n",
    "compare4=((sum(port_ret)*100)-5.1)\n",
    "print(\"Compare to benchmark (+- %):\")\n",
    "print(compare4)\n",
    "\n",
    "tmu4.plot.barh(figsize=(10,6))  #return of each fund from 2014 to 2015. (test period)"
   ]
  },
  {
   "cell_type": "markdown",
   "metadata": {},
   "source": [
    "![green-divider](https://user-images.githubusercontent.com/7065401/52071924-c003ad80-2562-11e9-8297-1c6595f8a7ff.png)\n",
    "\n",
    "## 5th five-year Backtesting  (for Function 1a)"
   ]
  },
  {
   "cell_type": "markdown",
   "metadata": {},
   "source": [
    "### Run the function - what's the weighting for this period?"
   ]
  },
  {
   "cell_type": "code",
   "execution_count": 381,
   "metadata": {},
   "outputs": [
    {
     "name": "stdout",
     "output_type": "stream",
     "text": [
      "OrderedDict([('PRIAGSD HK Equity', 0.0), ('PRIGLGC HK Equity', 0.50291), ('PRIHDSC HK Equity', 0.06384), ('PRILTAC HK Equity', 0.0), ('PRILTGC HK Equity', 0.0), ('PRICAPC HK Equity', 0.05338), ('PRASBON HK Equity', 0.0), ('PRISTYC HK Equity', 0.37987)])\n",
      "Performance of function 1a portfolio in train period:\n"
     ]
    },
    {
     "data": {
      "text/plain": [
       "<matplotlib.axes._subplots.AxesSubplot at 0x7fb598e32fa0>"
      ]
     },
     "execution_count": 381,
     "metadata": {},
     "output_type": "execute_result"
    },
    {
     "data": {
      "image/png": "[encoded data removed]",
      "text/plain": [
       "<Figure size 360x360 with 1 Axes>"
      ]
     },
     "metadata": {},
     "output_type": "display_data"
    }
   ],
   "source": [
    "ef = EfficientFrontier(mu5, S5)\n",
    "\n",
    "weight1a = ef.max_sharpe() #raw weights\n",
    "cleanweight1a = ef.clean_weights() #cleaned weights\n",
    "print(cleanweight1a)\n",
    "print(\"Performance of function 1a portfolio in train period:\")\n",
    "pd.Series(cleanweight1a).plot.pie(figsize=(5,5))"
   ]
  },
  {
   "cell_type": "markdown",
   "metadata": {},
   "source": [
    "### Comparison - Performance of Portfolio during the Train period."
   ]
  },
  {
   "cell_type": "code",
   "execution_count": 382,
   "metadata": {
    "scrolled": true
   },
   "outputs": [
    {
     "name": "stdout",
     "output_type": "stream",
     "text": [
      "Expected annual return: 10.5%\n",
      "Annual volatility: 5.7%\n",
      "Sharpe Ratio: 1.50\n"
     ]
    },
    {
     "data": {
      "text/plain": [
       "<matplotlib.axes._subplots.AxesSubplot at 0x7fb59d869ac0>"
      ]
     },
     "execution_count": 382,
     "metadata": {},
     "output_type": "execute_result"
    },
    {
     "data": {
      "image/png": "[encoded data removed]",
      "text/plain": [
       "<Figure size 720x432 with 1 Axes>"
      ]
     },
     "metadata": {
      "needs_background": "light"
     },
     "output_type": "display_data"
    }
   ],
   "source": [
    "ret,vol,sharpe = ef.portfolio_performance(verbose=True)\n",
    "\n",
    "mu5.plot.barh(figsize=(10,6))    #return of each funds from 2010 to 2014."
   ]
  },
  {
   "cell_type": "markdown",
   "metadata": {},
   "source": [
    "### Comparison - Performance of Portfolio during the Validation period."
   ]
  },
  {
   "cell_type": "code",
   "execution_count": 383,
   "metadata": {},
   "outputs": [
    {
     "name": "stdout",
     "output_type": "stream",
     "text": [
      "Portfolio return in test year(%):\n",
      "-0.9974010612932407\n",
      "Portfolio return compared to train set (+- %):\n",
      "-11.489512381903694\n",
      "Percentage change compared to train set (+- %):\n",
      "-109.5061997610907\n",
      "Compare to benchmark (+- %):\n",
      "-6.09740106129324\n"
     ]
    },
    {
     "data": {
      "text/plain": [
       "<matplotlib.axes._subplots.AxesSubplot at 0x7fb59d8ed490>"
      ]
     },
     "execution_count": 383,
     "metadata": {},
     "output_type": "execute_result"
    },
    {
     "data": {
      "image/png": "[encoded data removed]",
      "text/plain": [
       "<Figure size 720x432 with 1 Axes>"
      ]
     },
     "metadata": {
      "needs_background": "light"
     },
     "output_type": "display_data"
    }
   ],
   "source": [
    "#calculate the asset returns in our portfolio.\n",
    "ret_data = tfive.pct_change()[1:]\n",
    "\n",
    "#calculate the weighted returns of our assets.\n",
    "weighted_returns = (cleanweight1a * ret_data)\n",
    "\n",
    "#portfolio returns are simply the sum of the weighted returns of the assets. So lets add the rows.\n",
    "port_ret = weighted_returns.sum(axis=1)\n",
    "print(\"Portfolio return in test year(%):\")\n",
    "print(sum(port_ret)*100)\n",
    "print(\"Portfolio return compared to train set (+- %):\")\n",
    "diff5 = (sum(port_ret) - ret)*100\n",
    "print(diff5)\n",
    "print(\"Percentage change compared to train set (+- %):\")\n",
    "perch5 = diff5/ret\n",
    "print(perch5)\n",
    "compare5=((sum(port_ret)*100)-5.1)\n",
    "print(\"Compare to benchmark (+- %):\")\n",
    "print(compare5)\n",
    "\n",
    "tmu5.plot.barh(figsize=(10,6))  #return of each fund from 2014 to 2015. (test period)"
   ]
  },
  {
   "cell_type": "markdown",
   "metadata": {},
   "source": [
    "![green-divider](https://user-images.githubusercontent.com/7065401/52071924-c003ad80-2562-11e9-8297-1c6595f8a7ff.png)\n",
    "\n",
    "## 6th five-year Backtesting  (for Function 1a)"
   ]
  },
  {
   "cell_type": "markdown",
   "metadata": {},
   "source": [
    "### Run the function - what's the weighting for this period?"
   ]
  },
  {
   "cell_type": "code",
   "execution_count": 384,
   "metadata": {
    "scrolled": true
   },
   "outputs": [
    {
     "name": "stdout",
     "output_type": "stream",
     "text": [
      "OrderedDict([('PRIAGSD HK Equity', 0.0), ('PRIGLGC HK Equity', 0.0), ('PRIHDSC HK Equity', 0.0), ('PRILTAC HK Equity', 0.0), ('PRILTGC HK Equity', 0.0), ('PRICAPC HK Equity', 1.0), ('PRASBON HK Equity', 0.0), ('PRISTYC HK Equity', 0.0)])\n",
      "Performance of function 1a portfolio in train period:\n"
     ]
    },
    {
     "data": {
      "text/plain": [
       "<matplotlib.axes._subplots.AxesSubplot at 0x7fb59df8d2e0>"
      ]
     },
     "execution_count": 384,
     "metadata": {},
     "output_type": "execute_result"
    },
    {
     "data": {
      "image/png": "[encoded data removed]",
      "text/plain": [
       "<Figure size 360x360 with 1 Axes>"
      ]
     },
     "metadata": {},
     "output_type": "display_data"
    }
   ],
   "source": [
    "ef = EfficientFrontier(mu6, S6)\n",
    "\n",
    "weight1a = ef.max_sharpe() #raw weights\n",
    "cleanweight1a = ef.clean_weights() #cleaned weights\n",
    "print(cleanweight1a)\n",
    "print(\"Performance of function 1a portfolio in train period:\")\n",
    "pd.Series(cleanweight1a).plot.pie(figsize=(5,5))"
   ]
  },
  {
   "cell_type": "markdown",
   "metadata": {},
   "source": [
    "### Comparison - Performance of Portfolio during the Train period."
   ]
  },
  {
   "cell_type": "code",
   "execution_count": 385,
   "metadata": {
    "scrolled": false
   },
   "outputs": [
    {
     "name": "stdout",
     "output_type": "stream",
     "text": [
      "Expected annual return: 2.3%\n",
      "Annual volatility: 0.9%\n",
      "Sharpe Ratio: 0.29\n"
     ]
    },
    {
     "data": {
      "text/plain": [
       "<matplotlib.axes._subplots.AxesSubplot at 0x7fb59db957f0>"
      ]
     },
     "execution_count": 385,
     "metadata": {},
     "output_type": "execute_result"
    },
    {
     "data": {
      "image/png": "[encoded data removed]",
      "text/plain": [
       "<Figure size 720x432 with 1 Axes>"
      ]
     },
     "metadata": {
      "needs_background": "light"
     },
     "output_type": "display_data"
    }
   ],
   "source": [
    "ret,vol,sharpe = ef.portfolio_performance(verbose=True)\n",
    "\n",
    "mu6.plot.barh(figsize=(10,6))    #return of each funds from 2010 to 2014."
   ]
  },
  {
   "cell_type": "markdown",
   "metadata": {},
   "source": [
    "### Comparison - Performance of Portfolio during the Validation period."
   ]
  },
  {
   "cell_type": "code",
   "execution_count": 386,
   "metadata": {
    "scrolled": false
   },
   "outputs": [
    {
     "name": "stdout",
     "output_type": "stream",
     "text": [
      "Portfolio return in test year(%):\n",
      "0.015183483154446176\n",
      "Portfolio return compared to train set (+- %):\n",
      "-2.2386414126687515\n",
      "Percentage change compared to train set (+- %):\n",
      "-99.32632374491097\n",
      "Compare to benchmark (+- %):\n",
      "-5.084816516845553\n"
     ]
    },
    {
     "data": {
      "text/plain": [
       "<matplotlib.axes._subplots.AxesSubplot at 0x7fb59eef11c0>"
      ]
     },
     "execution_count": 386,
     "metadata": {},
     "output_type": "execute_result"
    },
    {
     "data": {
      "image/png": "[encoded data removed]",
      "text/plain": [
       "<Figure size 720x432 with 1 Axes>"
      ]
     },
     "metadata": {
      "needs_background": "light"
     },
     "output_type": "display_data"
    }
   ],
   "source": [
    "#calculate the asset returns in our portfolio.\n",
    "ret_data = tsix.pct_change()[1:]\n",
    "\n",
    "#calculate the weighted returns of our assets.\n",
    "weighted_returns = (cleanweight1a * ret_data)\n",
    "\n",
    "#portfolio returns are simply the sum of the weighted returns of the assets. So lets add the rows.\n",
    "port_ret = weighted_returns.sum(axis=1)\n",
    "print(\"Portfolio return in test year(%):\")\n",
    "print(sum(port_ret)*100)\n",
    "print(\"Portfolio return compared to train set (+- %):\")\n",
    "diff6 = (sum(port_ret) - ret)*100\n",
    "print(diff6)\n",
    "print(\"Percentage change compared to train set (+- %):\")\n",
    "perch6 = diff6/ret\n",
    "print(perch6)\n",
    "compare6=((sum(port_ret)*100)-5.1)\n",
    "print(\"Compare to benchmark (+- %):\")\n",
    "print(compare6)\n",
    "\n",
    "tmu6.plot.barh(figsize=(10,6))  #return of each fund from 2014 to 2015. (test period)"
   ]
  },
  {
   "cell_type": "markdown",
   "metadata": {},
   "source": [
    "![green-divider](https://user-images.githubusercontent.com/7065401/52071924-c003ad80-2562-11e9-8297-1c6595f8a7ff.png)\n",
    "\n",
    "## 7th five-year Backtesting  (for Function 1a)"
   ]
  },
  {
   "cell_type": "markdown",
   "metadata": {},
   "source": [
    "### Run the function - what's the weighting for this period?"
   ]
  },
  {
   "cell_type": "code",
   "execution_count": 387,
   "metadata": {
    "scrolled": false
   },
   "outputs": [
    {
     "name": "stdout",
     "output_type": "stream",
     "text": [
      "OrderedDict([('PRIAGSD HK Equity', 0.0), ('PRIGLGC HK Equity', 0.0), ('PRIHDSC HK Equity', 0.0), ('PRILTAC HK Equity', 0.0), ('PRILTGC HK Equity', 0.0), ('PRICAPC HK Equity', 0.0), ('PRASBON HK Equity', 0.0), ('PRISTYC HK Equity', 1.0)])\n",
      "Performance of function 1a portfolio in train period:\n"
     ]
    },
    {
     "data": {
      "text/plain": [
       "<matplotlib.axes._subplots.AxesSubplot at 0x7fb59f382a90>"
      ]
     },
     "execution_count": 387,
     "metadata": {},
     "output_type": "execute_result"
    },
    {
     "data": {
      "image/png": "[encoded data removed]",
      "text/plain": [
       "<Figure size 360x360 with 1 Axes>"
      ]
     },
     "metadata": {},
     "output_type": "display_data"
    }
   ],
   "source": [
    "ef = EfficientFrontier(mu7, S7)\n",
    "\n",
    "weight1a = ef.max_sharpe() #raw weights\n",
    "cleanweight1a = ef.clean_weights() #cleaned weights\n",
    "print(cleanweight1a)\n",
    "print(\"Performance of function 1a portfolio in train period:\")\n",
    "pd.Series(cleanweight1a).plot.pie(figsize=(5,5))"
   ]
  },
  {
   "cell_type": "markdown",
   "metadata": {},
   "source": [
    "### Comparison - Performance of Portfolio during the Train period."
   ]
  },
  {
   "cell_type": "code",
   "execution_count": 388,
   "metadata": {
    "scrolled": false
   },
   "outputs": [
    {
     "name": "stdout",
     "output_type": "stream",
     "text": [
      "Expected annual return: 2.9%\n",
      "Annual volatility: 8.3%\n",
      "Sharpe Ratio: 0.11\n"
     ]
    },
    {
     "data": {
      "text/plain": [
       "<matplotlib.axes._subplots.AxesSubplot at 0x7fb59ee83700>"
      ]
     },
     "execution_count": 388,
     "metadata": {},
     "output_type": "execute_result"
    },
    {
     "data": {
      "image/png": "[encoded data removed]",
      "text/plain": [
       "<Figure size 720x432 with 1 Axes>"
      ]
     },
     "metadata": {
      "needs_background": "light"
     },
     "output_type": "display_data"
    }
   ],
   "source": [
    "ret,vol,sharpe = ef.portfolio_performance(verbose=True)\n",
    "\n",
    "mu7.plot.barh(figsize=(10,6))    #return of each funds from 2010 to 2014."
   ]
  },
  {
   "cell_type": "code",
   "execution_count": 389,
   "metadata": {
    "scrolled": false
   },
   "outputs": [
    {
     "name": "stdout",
     "output_type": "stream",
     "text": [
      "Portfolio return in test year(%):\n",
      "5.855560532866311\n",
      "Portfolio return compared to train set (+- %):\n",
      "2.9734219706980762\n",
      "Percentage change compared to train set (+- %):\n",
      "103.16721096369389\n",
      "Compare to benchmark (+- %):\n",
      "0.7555605328663111\n"
     ]
    },
    {
     "data": {
      "text/plain": [
       "<matplotlib.axes._subplots.AxesSubplot at 0x7fb59d90dac0>"
      ]
     },
     "execution_count": 389,
     "metadata": {},
     "output_type": "execute_result"
    },
    {
     "data": {
      "image/png": "[encoded data removed]",
      "text/plain": [
       "<Figure size 720x432 with 1 Axes>"
      ]
     },
     "metadata": {
      "needs_background": "light"
     },
     "output_type": "display_data"
    }
   ],
   "source": [
    "#calculate the asset returns in our portfolio.\n",
    "ret_data = tseven.pct_change()[1:]\n",
    "\n",
    "#calculate the weighted returns of our assets.\n",
    "weighted_returns = (cleanweight1a * ret_data)\n",
    "\n",
    "#portfolio returns are simply the sum of the weighted returns of the assets. So lets add the rows.\n",
    "port_ret = weighted_returns.sum(axis=1)\n",
    "print(\"Portfolio return in test year(%):\")\n",
    "print(sum(port_ret)*100)\n",
    "print(\"Portfolio return compared to train set (+- %):\")\n",
    "diff7 = (sum(port_ret) - ret)*100\n",
    "print(diff7)\n",
    "print(\"Percentage change compared to train set (+- %):\")\n",
    "perch7 = diff7/ret\n",
    "print(perch7)\n",
    "compare7=((sum(port_ret)*100)-5.1)\n",
    "print(\"Compare to benchmark (+- %):\")\n",
    "print(compare7)\n",
    "\n",
    "tmu7.plot.barh(figsize=(10,6))  #return of each fund from 2014 to 2015. (test period)"
   ]
  },
  {
   "cell_type": "markdown",
   "metadata": {},
   "source": [
    "![green-divider](https://user-images.githubusercontent.com/7065401/52071924-c003ad80-2562-11e9-8297-1c6595f8a7ff.png)\n",
    "\n",
    "## 8th five-year Backtesting  (for Function 1a)"
   ]
  },
  {
   "cell_type": "markdown",
   "metadata": {},
   "source": [
    "### Run the function - what's the weighting for this period?"
   ]
  },
  {
   "cell_type": "code",
   "execution_count": 390,
   "metadata": {
    "scrolled": false
   },
   "outputs": [
    {
     "name": "stdout",
     "output_type": "stream",
     "text": [
      "OrderedDict([('PRIAGSD HK Equity', 0.0), ('PRIGLGC HK Equity', 0.0), ('PRIHDSC HK Equity', 0.0), ('PRILTAC HK Equity', 0.28566), ('PRILTGC HK Equity', 0.0), ('PRICAPC HK Equity', 0.0), ('PRASBON HK Equity', 0.0), ('PRISTYC HK Equity', 0.71434)])\n",
      "Performance of function 1a portfolio in train period:\n"
     ]
    },
    {
     "data": {
      "text/plain": [
       "<matplotlib.axes._subplots.AxesSubplot at 0x7fb59e3ffc70>"
      ]
     },
     "execution_count": 390,
     "metadata": {},
     "output_type": "execute_result"
    },
    {
     "data": {
      "image/png": "[encoded data removed]",
      "text/plain": [
       "<Figure size 360x360 with 1 Axes>"
      ]
     },
     "metadata": {},
     "output_type": "display_data"
    }
   ],
   "source": [
    "ef = EfficientFrontier(mu8, S8)\n",
    "\n",
    "weight1a = ef.max_sharpe() #raw weights\n",
    "cleanweight1a = ef.clean_weights() #cleaned weights\n",
    "print(cleanweight1a)\n",
    "print(\"Performance of function 1a portfolio in train period:\")\n",
    "pd.Series(cleanweight1a).plot.pie(figsize=(5,5))"
   ]
  },
  {
   "cell_type": "markdown",
   "metadata": {},
   "source": [
    "### Comparison - Performance of Portfolio during the Train period."
   ]
  },
  {
   "cell_type": "code",
   "execution_count": 391,
   "metadata": {
    "scrolled": false
   },
   "outputs": [
    {
     "name": "stdout",
     "output_type": "stream",
     "text": [
      "Expected annual return: 3.0%\n",
      "Annual volatility: 7.3%\n",
      "Sharpe Ratio: 0.14\n"
     ]
    },
    {
     "data": {
      "text/plain": [
       "<matplotlib.axes._subplots.AxesSubplot at 0x7fb59f15ca60>"
      ]
     },
     "execution_count": 391,
     "metadata": {},
     "output_type": "execute_result"
    },
    {
     "data": {
      "image/png": "[encoded data removed]",
      "text/plain": [
       "<Figure size 720x432 with 1 Axes>"
      ]
     },
     "metadata": {
      "needs_background": "light"
     },
     "output_type": "display_data"
    }
   ],
   "source": [
    "ret,vol,sharpe = ef.portfolio_performance(verbose=True)\n",
    "\n",
    "mu8.plot.barh(figsize=(10,6))    #return of each funds from 2010 to 2014."
   ]
  },
  {
   "cell_type": "code",
   "execution_count": 392,
   "metadata": {
    "scrolled": true
   },
   "outputs": [
    {
     "name": "stdout",
     "output_type": "stream",
     "text": [
      "Portfolio return in test year(%):\n",
      "-0.15191065516592944\n",
      "Portfolio return compared to train set (+- %):\n",
      "-3.1842722893615742\n",
      "Percentage change compared to train set (+- %):\n",
      "-105.00964836953641\n",
      "Compare to benchmark (+- %):\n",
      "-5.251910655165929\n"
     ]
    },
    {
     "data": {
      "text/plain": [
       "<matplotlib.axes._subplots.AxesSubplot at 0x7fb59c7c0910>"
      ]
     },
     "execution_count": 392,
     "metadata": {},
     "output_type": "execute_result"
    },
    {
     "data": {
      "image/png": "[encoded data removed]",
      "text/plain": [
       "<Figure size 720x432 with 1 Axes>"
      ]
     },
     "metadata": {
      "needs_background": "light"
     },
     "output_type": "display_data"
    }
   ],
   "source": [
    "#calculate the asset returns in our portfolio.\n",
    "ret_data = teight.pct_change()[1:]\n",
    "\n",
    "#calculate the weighted returns of our assets.\n",
    "weighted_returns = (cleanweight1a * ret_data)\n",
    "\n",
    "#portfolio returns are simply the sum of the weighted returns of the assets. So lets add the rows.\n",
    "port_ret = weighted_returns.sum(axis=1)\n",
    "print(\"Portfolio return in test year(%):\")\n",
    "print(sum(port_ret)*100)\n",
    "print(\"Portfolio return compared to train set (+- %):\")\n",
    "diff8 = (sum(port_ret) - ret)*100\n",
    "print(diff8)\n",
    "print(\"Percentage change compared to train set (+- %):\")\n",
    "perch8 = diff8/ret\n",
    "print(perch8)\n",
    "compare8=((sum(port_ret)*100)-5.1)\n",
    "print(\"Compare to benchmark (+- %):\")\n",
    "print(compare8)\n",
    "\n",
    "tmu8.plot.barh(figsize=(10,6))  #return of each fund from 2014 to 2015. (test period)"
   ]
  },
  {
   "cell_type": "markdown",
   "metadata": {},
   "source": [
    "![green-divider](https://user-images.githubusercontent.com/7065401/52071924-c003ad80-2562-11e9-8297-1c6595f8a7ff.png)\n",
    "\n",
    "## 9th five-year Backtesting  (for Function 1a)"
   ]
  },
  {
   "cell_type": "markdown",
   "metadata": {},
   "source": [
    "### Run the function - what's the weighting for this period?"
   ]
  },
  {
   "cell_type": "code",
   "execution_count": 393,
   "metadata": {
    "scrolled": false
   },
   "outputs": [
    {
     "name": "stdout",
     "output_type": "stream",
     "text": [
      "OrderedDict([('PRIAGSD HK Equity', 0.0), ('PRIGLGC HK Equity', 0.0), ('PRIHDSC HK Equity', 0.0), ('PRILTAC HK Equity', 0.0), ('PRILTGC HK Equity', 0.86875), ('PRICAPC HK Equity', 0.0), ('PRASBON HK Equity', 0.0), ('PRISTYC HK Equity', 0.13125)])\n",
      "Performance of function 1a portfolio in train period:\n"
     ]
    },
    {
     "data": {
      "text/plain": [
       "<matplotlib.axes._subplots.AxesSubplot at 0x7fb59e3b0e80>"
      ]
     },
     "execution_count": 393,
     "metadata": {},
     "output_type": "execute_result"
    },
    {
     "data": {
      "image/png": "[encoded data removed]",
      "text/plain": [
       "<Figure size 360x360 with 1 Axes>"
      ]
     },
     "metadata": {},
     "output_type": "display_data"
    }
   ],
   "source": [
    "ef = EfficientFrontier(mu9, S9)\n",
    "\n",
    "weight1a = ef.max_sharpe() #raw weights\n",
    "cleanweight1a = ef.clean_weights() #cleaned weights\n",
    "print(cleanweight1a)\n",
    "print(\"Performance of function 1a portfolio in train period:\")\n",
    "pd.Series(cleanweight1a).plot.pie(figsize=(5,5))"
   ]
  },
  {
   "cell_type": "markdown",
   "metadata": {},
   "source": [
    "### Comparison - Performance of Portfolio during the Train period."
   ]
  },
  {
   "cell_type": "code",
   "execution_count": 394,
   "metadata": {
    "scrolled": false
   },
   "outputs": [
    {
     "name": "stdout",
     "output_type": "stream",
     "text": [
      "Expected annual return: 8.5%\n",
      "Annual volatility: 3.6%\n",
      "Sharpe Ratio: 1.79\n"
     ]
    },
    {
     "data": {
      "text/plain": [
       "<matplotlib.axes._subplots.AxesSubplot at 0x7fb59ef9b520>"
      ]
     },
     "execution_count": 394,
     "metadata": {},
     "output_type": "execute_result"
    },
    {
     "data": {
      "image/png": "[encoded data removed]",
      "text/plain": [
       "<Figure size 720x432 with 1 Axes>"
      ]
     },
     "metadata": {
      "needs_background": "light"
     },
     "output_type": "display_data"
    }
   ],
   "source": [
    "ret,vol,sharpe = ef.portfolio_performance(verbose=True)\n",
    "\n",
    "mu9.plot.barh(figsize=(10,6))    #return of each funds from 2010 to 2014."
   ]
  },
  {
   "cell_type": "code",
   "execution_count": 395,
   "metadata": {
    "scrolled": true
   },
   "outputs": [
    {
     "name": "stdout",
     "output_type": "stream",
     "text": [
      "Portfolio return in test year(%):\n",
      "6.617562213145739\n",
      "Portfolio return compared to train set (+- %):\n",
      "-1.8690699879396395\n",
      "Percentage change compared to train set (+- %):\n",
      "-22.023694955233232\n",
      "Compare to benchmark (+- %):\n",
      "1.5175622131457391\n"
     ]
    },
    {
     "data": {
      "text/plain": [
       "<matplotlib.axes._subplots.AxesSubplot at 0x7fb59eac7ca0>"
      ]
     },
     "execution_count": 395,
     "metadata": {},
     "output_type": "execute_result"
    },
    {
     "data": {
      "image/png": "[encoded data removed]",
      "text/plain": [
       "<Figure size 720x432 with 1 Axes>"
      ]
     },
     "metadata": {
      "needs_background": "light"
     },
     "output_type": "display_data"
    }
   ],
   "source": [
    "#calculate the asset returns in our portfolio.\n",
    "ret_data = tnine.pct_change()[1:]\n",
    "\n",
    "#calculate the weighted returns of our assets.\n",
    "weighted_returns = (cleanweight1a * ret_data)\n",
    "\n",
    "#portfolio returns are simply the sum of the weighted returns of the assets. So lets add the rows.\n",
    "port_ret = weighted_returns.sum(axis=1)\n",
    "print(\"Portfolio return in test year(%):\")\n",
    "print(sum(port_ret)*100)\n",
    "print(\"Portfolio return compared to train set (+- %):\")\n",
    "diff9 = (sum(port_ret) - ret)*100\n",
    "print(diff9)\n",
    "print(\"Percentage change compared to train set (+- %):\")\n",
    "perch9 = diff9/ret\n",
    "print(perch9)\n",
    "compare9=((sum(port_ret)*100)-5.1)\n",
    "print(\"Compare to benchmark (+- %):\")\n",
    "print(compare9)\n",
    "\n",
    "tmu9.plot.barh(figsize=(10,6))  #return of each fund from 2014 to 2015. (test period)"
   ]
  },
  {
   "cell_type": "markdown",
   "metadata": {},
   "source": [
    "![green-divider](https://user-images.githubusercontent.com/7065401/52071924-c003ad80-2562-11e9-8297-1c6595f8a7ff.png)\n",
    "\n",
    "## 10th five-year Backtesting  (for Function 1a)"
   ]
  },
  {
   "cell_type": "markdown",
   "metadata": {},
   "source": [
    "### Run the function - what's the weighting for this period?"
   ]
  },
  {
   "cell_type": "code",
   "execution_count": 396,
   "metadata": {
    "scrolled": false
   },
   "outputs": [
    {
     "name": "stdout",
     "output_type": "stream",
     "text": [
      "OrderedDict([('PRIAGSD HK Equity', 0.0), ('PRIGLGC HK Equity', 0.37949), ('PRIHDSC HK Equity', 0.0), ('PRILTAC HK Equity', 0.0), ('PRILTGC HK Equity', 0.0), ('PRICAPC HK Equity', 0.0), ('PRASBON HK Equity', 0.0), ('PRISTYC HK Equity', 0.62051)])\n",
      "Performance of function 1a portfolio in train period:\n"
     ]
    },
    {
     "data": {
      "text/plain": [
       "<matplotlib.axes._subplots.AxesSubplot at 0x7fb59eded1c0>"
      ]
     },
     "execution_count": 396,
     "metadata": {},
     "output_type": "execute_result"
    },
    {
     "data": {
      "image/png": "[encoded data removed]",
      "text/plain": [
       "<Figure size 360x360 with 1 Axes>"
      ]
     },
     "metadata": {},
     "output_type": "display_data"
    }
   ],
   "source": [
    "ef = EfficientFrontier(mu10, S10)\n",
    "\n",
    "weight1a = ef.max_sharpe() #raw weights\n",
    "cleanweight1a = ef.clean_weights() #cleaned weights\n",
    "print(cleanweight1a)\n",
    "print(\"Performance of function 1a portfolio in train period:\")\n",
    "pd.Series(cleanweight1a).plot.pie(figsize=(5,5))"
   ]
  },
  {
   "cell_type": "markdown",
   "metadata": {},
   "source": [
    "### Comparison - Performance of Portfolio during the Train period."
   ]
  },
  {
   "cell_type": "code",
   "execution_count": 397,
   "metadata": {
    "scrolled": false
   },
   "outputs": [
    {
     "name": "stdout",
     "output_type": "stream",
     "text": [
      "Expected annual return: 3.6%\n",
      "Annual volatility: 6.6%\n",
      "Sharpe Ratio: 0.24\n"
     ]
    },
    {
     "data": {
      "text/plain": [
       "<matplotlib.axes._subplots.AxesSubplot at 0x7fb59e7b3fa0>"
      ]
     },
     "execution_count": 397,
     "metadata": {},
     "output_type": "execute_result"
    },
    {
     "data": {
      "image/png": "[encoded data removed]",
      "text/plain": [
       "<Figure size 720x432 with 1 Axes>"
      ]
     },
     "metadata": {
      "needs_background": "light"
     },
     "output_type": "display_data"
    }
   ],
   "source": [
    "ret,vol,sharpe = ef.portfolio_performance(verbose=True)\n",
    "\n",
    "mu10.plot.barh(figsize=(10,6))    #return of each funds from 2010 to 2014."
   ]
  },
  {
   "cell_type": "code",
   "execution_count": 398,
   "metadata": {
    "scrolled": true
   },
   "outputs": [
    {
     "name": "stdout",
     "output_type": "stream",
     "text": [
      "Portfolio return in test year(%):\n",
      "7.209128019411651\n",
      "Portfolio return compared to train set (+- %):\n",
      "3.6531577502763493\n",
      "Percentage change compared to train set (+- %):\n",
      "102.73307912567786\n",
      "Compare to benchmark (+- %):\n",
      "2.109128019411651\n"
     ]
    },
    {
     "data": {
      "text/plain": [
       "<matplotlib.axes._subplots.AxesSubplot at 0x7fb59d824160>"
      ]
     },
     "execution_count": 398,
     "metadata": {},
     "output_type": "execute_result"
    },
    {
     "data": {
      "image/png": "[encoded data removed]",
      "text/plain": [
       "<Figure size 720x432 with 1 Axes>"
      ]
     },
     "metadata": {
      "needs_background": "light"
     },
     "output_type": "display_data"
    }
   ],
   "source": [
    "#calculate the asset returns in our portfolio.\n",
    "ret_data = tten.pct_change()[1:]\n",
    "\n",
    "#calculate the weighted returns of our assets.\n",
    "weighted_returns = (cleanweight1a * ret_data)\n",
    "\n",
    "#portfolio returns are simply the sum of the weighted returns of the assets. So lets add the rows.\n",
    "port_ret = weighted_returns.sum(axis=1)\n",
    "print(\"Portfolio return in test year(%):\")\n",
    "print(sum(port_ret)*100)\n",
    "print(\"Portfolio return compared to train set (+- %):\")\n",
    "diff10 = (sum(port_ret) - ret)*100\n",
    "print(diff10)\n",
    "print(\"Percentage change compared to train set (+- %):\")\n",
    "perch10 = diff10/ret\n",
    "print(perch10)\n",
    "compare10=((sum(port_ret)*100)-5.1)\n",
    "print(\"Compare to benchmark (+- %):\")\n",
    "print(compare10)\n",
    "\n",
    "tmu10.plot.barh(figsize=(10,6))  #return of each fund from 2014 to 2015. (test period)"
   ]
  },
  {
   "cell_type": "markdown",
   "metadata": {},
   "source": [
    "![green-divider](https://user-images.githubusercontent.com/7065401/52071924-c003ad80-2562-11e9-8297-1c6595f8a7ff.png)\n",
    "\n",
    "## 11th five-year Backtesting  (for Function 1a)"
   ]
  },
  {
   "cell_type": "markdown",
   "metadata": {},
   "source": [
    "### Run the function - what's the weighting for this period?"
   ]
  },
  {
   "cell_type": "code",
   "execution_count": 399,
   "metadata": {
    "scrolled": false
   },
   "outputs": [
    {
     "name": "stdout",
     "output_type": "stream",
     "text": [
      "OrderedDict([('PRIAGSD HK Equity', 0.99642), ('PRIGLGC HK Equity', 0.0), ('PRIHDSC HK Equity', 0.0), ('PRILTAC HK Equity', 0.0), ('PRILTGC HK Equity', 0.0), ('PRICAPC HK Equity', 0.0), ('PRASBON HK Equity', 0.0), ('PRISTYC HK Equity', 0.00358)])\n",
      "Performance of function 1a portfolio in train period:\n"
     ]
    },
    {
     "data": {
      "text/plain": [
       "<matplotlib.axes._subplots.AxesSubplot at 0x7fb59e52f8b0>"
      ]
     },
     "execution_count": 399,
     "metadata": {},
     "output_type": "execute_result"
    },
    {
     "data": {
      "image/png": "[encoded data removed]",
      "text/plain": [
       "<Figure size 360x360 with 1 Axes>"
      ]
     },
     "metadata": {},
     "output_type": "display_data"
    }
   ],
   "source": [
    "ef = EfficientFrontier(mu11, S11)\n",
    "\n",
    "weight1a = ef.max_sharpe() #raw weights\n",
    "cleanweight1a = ef.clean_weights() #cleaned weights\n",
    "print(cleanweight1a)\n",
    "print(\"Performance of function 1a portfolio in train period:\")\n",
    "pd.Series(cleanweight1a).plot.pie(figsize=(5,5))"
   ]
  },
  {
   "cell_type": "markdown",
   "metadata": {},
   "source": [
    "### Comparison - Performance of Portfolio during the Train period."
   ]
  },
  {
   "cell_type": "code",
   "execution_count": 400,
   "metadata": {
    "scrolled": false
   },
   "outputs": [
    {
     "name": "stdout",
     "output_type": "stream",
     "text": [
      "Expected annual return: 18.1%\n",
      "Annual volatility: 2.0%\n",
      "Sharpe Ratio: 8.22\n"
     ]
    },
    {
     "data": {
      "text/plain": [
       "<matplotlib.axes._subplots.AxesSubplot at 0x7fb59e697730>"
      ]
     },
     "execution_count": 400,
     "metadata": {},
     "output_type": "execute_result"
    },
    {
     "data": {
      "image/png": "[encoded data removed]",
      "text/plain": [
       "<Figure size 720x432 with 1 Axes>"
      ]
     },
     "metadata": {
      "needs_background": "light"
     },
     "output_type": "display_data"
    }
   ],
   "source": [
    "ret,vol,sharpe = ef.portfolio_performance(verbose=True)\n",
    "\n",
    "mu11.plot.barh(figsize=(10,6))    #return of each funds from 2010 to 2014."
   ]
  },
  {
   "cell_type": "code",
   "execution_count": 401,
   "metadata": {
    "scrolled": true
   },
   "outputs": [
    {
     "name": "stdout",
     "output_type": "stream",
     "text": [
      "Portfolio return in test year(%):\n",
      "-1.6335290157786064\n",
      "Portfolio return compared to train set (+- %):\n",
      "-19.693690080506308\n",
      "Percentage change compared to train set (+- %):\n",
      "-109.04493049604613\n",
      "Compare to benchmark (+- %):\n",
      "-6.733529015778606\n"
     ]
    },
    {
     "data": {
      "text/plain": [
       "<matplotlib.axes._subplots.AxesSubplot at 0x7fb59e374820>"
      ]
     },
     "execution_count": 401,
     "metadata": {},
     "output_type": "execute_result"
    },
    {
     "data": {
      "image/png": "[encoded data removed]",
      "text/plain": [
       "<Figure size 720x432 with 1 Axes>"
      ]
     },
     "metadata": {
      "needs_background": "light"
     },
     "output_type": "display_data"
    }
   ],
   "source": [
    "#calculate the asset returns in our portfolio.\n",
    "ret_data = televen.pct_change()[1:]\n",
    "\n",
    "#calculate the weighted returns of our assets.\n",
    "weighted_returns = (cleanweight1a * ret_data)\n",
    "\n",
    "#portfolio returns are simply the sum of the weighted returns of the assets. So lets add the rows.\n",
    "port_ret = weighted_returns.sum(axis=1)\n",
    "print(\"Portfolio return in test year(%):\")\n",
    "print(sum(port_ret)*100)\n",
    "print(\"Portfolio return compared to train set (+- %):\")\n",
    "diff11 = (sum(port_ret) - ret)*100\n",
    "print(diff11)\n",
    "print(\"Percentage change compared to train set (+- %):\")\n",
    "perch11 = diff11/ret\n",
    "print(perch11)\n",
    "compare11=((sum(port_ret)*100)-5.1)\n",
    "print(\"Compare to benchmark (+- %):\")\n",
    "print(compare11)\n",
    "\n",
    "tmu11.plot.barh(figsize=(10,6))  #return of each fund from 2014 to 2015. (test period)"
   ]
  },
  {
   "cell_type": "markdown",
   "metadata": {},
   "source": [
    "![green-divider](https://user-images.githubusercontent.com/7065401/52071924-c003ad80-2562-11e9-8297-1c6595f8a7ff.png)\n",
    "\n",
    "## 12th five-year Backtesting  (for Function 1a)"
   ]
  },
  {
   "cell_type": "markdown",
   "metadata": {},
   "source": [
    "### Run the function - what's the weighting for this period?"
   ]
  },
  {
   "cell_type": "code",
   "execution_count": 402,
   "metadata": {
    "scrolled": false
   },
   "outputs": [
    {
     "name": "stdout",
     "output_type": "stream",
     "text": [
      "OrderedDict([('PRIAGSD HK Equity', 0.0), ('PRIGLGC HK Equity', 0.81216), ('PRIHDSC HK Equity', 0.0), ('PRILTAC HK Equity', 0.0), ('PRILTGC HK Equity', 0.0), ('PRICAPC HK Equity', 0.0), ('PRASBON HK Equity', 0.0), ('PRISTYC HK Equity', 0.18784)])\n",
      "Performance of function 1a portfolio in train period:\n"
     ]
    },
    {
     "data": {
      "text/plain": [
       "<matplotlib.axes._subplots.AxesSubplot at 0x7fb59e51ae20>"
      ]
     },
     "execution_count": 402,
     "metadata": {},
     "output_type": "execute_result"
    },
    {
     "data": {
      "image/png": "[encoded data removed]",
      "text/plain": [
       "<Figure size 360x360 with 1 Axes>"
      ]
     },
     "metadata": {},
     "output_type": "display_data"
    }
   ],
   "source": [
    "ef = EfficientFrontier(mu12, S12)\n",
    "\n",
    "weight1a = ef.max_sharpe() #raw weights\n",
    "cleanweight1a = ef.clean_weights() #cleaned weights\n",
    "print(cleanweight1a)\n",
    "print(\"Performance of function 1a portfolio in train period:\")\n",
    "pd.Series(cleanweight1a).plot.pie(figsize=(5,5))"
   ]
  },
  {
   "cell_type": "markdown",
   "metadata": {},
   "source": [
    "### Comparison - Performance of Portfolio during the Train period."
   ]
  },
  {
   "cell_type": "code",
   "execution_count": 403,
   "metadata": {
    "scrolled": true
   },
   "outputs": [
    {
     "name": "stdout",
     "output_type": "stream",
     "text": [
      "Expected annual return: 8.0%\n",
      "Annual volatility: 6.5%\n",
      "Sharpe Ratio: 0.93\n"
     ]
    },
    {
     "data": {
      "text/plain": [
       "<matplotlib.axes._subplots.AxesSubplot at 0x7fb59f4de760>"
      ]
     },
     "execution_count": 403,
     "metadata": {},
     "output_type": "execute_result"
    },
    {
     "data": {
      "image/png": "[encoded data removed]",
      "text/plain": [
       "<Figure size 720x432 with 1 Axes>"
      ]
     },
     "metadata": {
      "needs_background": "light"
     },
     "output_type": "display_data"
    }
   ],
   "source": [
    "ret,vol,sharpe = ef.portfolio_performance(verbose=True)\n",
    "\n",
    "mu12.plot.barh(figsize=(10,6))    #return of each funds from 2010 to 2014."
   ]
  },
  {
   "cell_type": "code",
   "execution_count": 404,
   "metadata": {
    "scrolled": true
   },
   "outputs": [
    {
     "name": "stdout",
     "output_type": "stream",
     "text": [
      "Portfolio return in test year(%):\n",
      "11.341096841951012\n",
      "Portfolio return compared to train set (+- %):\n",
      "3.3402933891871047\n",
      "Percentage change compared to train set (+- %):\n",
      "41.74947439851416\n",
      "Compare to benchmark (+- %):\n",
      "6.241096841951013\n"
     ]
    },
    {
     "data": {
      "text/plain": [
       "<matplotlib.axes._subplots.AxesSubplot at 0x7fb59e211640>"
      ]
     },
     "execution_count": 404,
     "metadata": {},
     "output_type": "execute_result"
    },
    {
     "data": {
      "image/png": "[encoded data removed]",
      "text/plain": [
       "<Figure size 720x432 with 1 Axes>"
      ]
     },
     "metadata": {
      "needs_background": "light"
     },
     "output_type": "display_data"
    }
   ],
   "source": [
    "#calculate the asset returns in our portfolio.\n",
    "ret_data = ttwelve.pct_change()[1:]\n",
    "\n",
    "#calculate the weighted returns of our assets.\n",
    "weighted_returns = (cleanweight1a * ret_data)\n",
    "\n",
    "#portfolio returns are simply the sum of the weighted returns of the assets. So lets add the rows.\n",
    "port_ret = weighted_returns.sum(axis=1)\n",
    "print(\"Portfolio return in test year(%):\")\n",
    "print(sum(port_ret)*100)\n",
    "print(\"Portfolio return compared to train set (+- %):\")\n",
    "diff12 = (sum(port_ret) - ret)*100\n",
    "print(diff12)\n",
    "print(\"Percentage change compared to train set (+- %):\")\n",
    "perch12 = diff12/ret\n",
    "print(perch12)\n",
    "compare12=((sum(port_ret)*100)-5.1)\n",
    "print(\"Compare to benchmark (+- %):\")\n",
    "print(compare12)\n",
    "\n",
    "tmu12.plot.barh(figsize=(10,6))  #return of each fund from 2014 to 2015. (test period)"
   ]
  },
  {
   "cell_type": "markdown",
   "metadata": {},
   "source": [
    "![green-divider](https://user-images.githubusercontent.com/7065401/52071924-c003ad80-2562-11e9-8297-1c6595f8a7ff.png)\n",
    "\n",
    "## 13th five-year Backtesting  (for Function 1a)"
   ]
  },
  {
   "cell_type": "markdown",
   "metadata": {},
   "source": [
    "### Run the function - what's the weighting for this period?"
   ]
  },
  {
   "cell_type": "code",
   "execution_count": 405,
   "metadata": {
    "scrolled": false
   },
   "outputs": [
    {
     "name": "stdout",
     "output_type": "stream",
     "text": [
      "OrderedDict([('PRIAGSD HK Equity', 0.0), ('PRIGLGC HK Equity', 1.0), ('PRIHDSC HK Equity', 0.0), ('PRILTAC HK Equity', 0.0), ('PRILTGC HK Equity', 0.0), ('PRICAPC HK Equity', 0.0), ('PRASBON HK Equity', 0.0), ('PRISTYC HK Equity', 0.0)])\n",
      "Performance of function 1a portfolio in train period:\n"
     ]
    },
    {
     "data": {
      "text/plain": [
       "<matplotlib.axes._subplots.AxesSubplot at 0x7fb582c20220>"
      ]
     },
     "execution_count": 405,
     "metadata": {},
     "output_type": "execute_result"
    },
    {
     "data": {
      "image/png": "[encoded data removed]",
      "text/plain": [
       "<Figure size 360x360 with 1 Axes>"
      ]
     },
     "metadata": {},
     "output_type": "display_data"
    }
   ],
   "source": [
    "ef = EfficientFrontier(mu13, S13)\n",
    "\n",
    "weight1a = ef.max_sharpe() #raw weights\n",
    "cleanweight1a = ef.clean_weights() #cleaned weights\n",
    "print(cleanweight1a)\n",
    "print(\"Performance of function 1a portfolio in train period:\")\n",
    "pd.Series(cleanweight1a).plot.pie(figsize=(5,5))"
   ]
  },
  {
   "cell_type": "markdown",
   "metadata": {},
   "source": [
    "### Comparison - Performance of Portfolio during the Train period."
   ]
  },
  {
   "cell_type": "code",
   "execution_count": 406,
   "metadata": {
    "scrolled": false
   },
   "outputs": [
    {
     "name": "stdout",
     "output_type": "stream",
     "text": [
      "Expected annual return: 3.4%\n",
      "Annual volatility: 8.7%\n",
      "Sharpe Ratio: 0.16\n"
     ]
    },
    {
     "data": {
      "text/plain": [
       "<matplotlib.axes._subplots.AxesSubplot at 0x7fb582d62580>"
      ]
     },
     "execution_count": 406,
     "metadata": {},
     "output_type": "execute_result"
    },
    {
     "data": {
      "image/png": "[encoded data removed]",
      "text/plain": [
       "<Figure size 720x432 with 1 Axes>"
      ]
     },
     "metadata": {
      "needs_background": "light"
     },
     "output_type": "display_data"
    }
   ],
   "source": [
    "ret,vol,sharpe = ef.portfolio_performance(verbose=True)\n",
    "\n",
    "mu13.plot.barh(figsize=(10,6))    #return of each funds from 2010 to 2014."
   ]
  },
  {
   "cell_type": "code",
   "execution_count": 407,
   "metadata": {
    "scrolled": true
   },
   "outputs": [
    {
     "name": "stdout",
     "output_type": "stream",
     "text": [
      "Portfolio return in test year(%):\n",
      "20.09237087238037\n",
      "Portfolio return compared to train set (+- %):\n",
      "16.684412312217255\n",
      "Percentage change compared to train set (+- %):\n",
      "489.5720419622322\n",
      "Compare to benchmark (+- %):\n",
      "14.992370872380372\n"
     ]
    },
    {
     "data": {
      "text/plain": [
       "<matplotlib.axes._subplots.AxesSubplot at 0x7fb582e762b0>"
      ]
     },
     "execution_count": 407,
     "metadata": {},
     "output_type": "execute_result"
    },
    {
     "data": {
      "image/png": "[encoded data removed]",
      "text/plain": [
       "<Figure size 720x432 with 1 Axes>"
      ]
     },
     "metadata": {
      "needs_background": "light"
     },
     "output_type": "display_data"
    }
   ],
   "source": [
    "#calculate the asset returns in our portfolio.\n",
    "ret_data = tthirteen.pct_change()[1:]\n",
    "\n",
    "#calculate the weighted returns of our assets.\n",
    "weighted_returns = (cleanweight1a * ret_data)\n",
    "\n",
    "#portfolio returns are simply the sum of the weighted returns of the assets. So lets add the rows.\n",
    "port_ret = weighted_returns.sum(axis=1)\n",
    "print(\"Portfolio return in test year(%):\")\n",
    "print(sum(port_ret)*100)\n",
    "print(\"Portfolio return compared to train set (+- %):\")\n",
    "diff13 = (sum(port_ret) - ret)*100\n",
    "print(diff13)\n",
    "print(\"Percentage change compared to train set (+- %):\")\n",
    "perch13 = diff13 /ret\n",
    "print(perch13)\n",
    "compare13=((sum(port_ret)*100)-5.1)\n",
    "print(\"Compare to benchmark (+- %):\")\n",
    "print(compare13)\n",
    "\n",
    "tmu13.plot.barh(figsize=(10,6))  #return of each fund from 2014 to 2015. (test period)"
   ]
  },
  {
   "cell_type": "markdown",
   "metadata": {},
   "source": [
    "![green-divider](https://user-images.githubusercontent.com/7065401/52071924-c003ad80-2562-11e9-8297-1c6595f8a7ff.png)\n",
    "\n",
    "## 14th five-year Backtesting  (for Function 1a)"
   ]
  },
  {
   "cell_type": "markdown",
   "metadata": {},
   "source": [
    "### Run the function - what's the weighting for this period?"
   ]
  },
  {
   "cell_type": "code",
   "execution_count": 408,
   "metadata": {
    "scrolled": false
   },
   "outputs": [
    {
     "name": "stdout",
     "output_type": "stream",
     "text": [
      "OrderedDict([('PRIAGSD HK Equity', 1.0), ('PRIGLGC HK Equity', 0.0), ('PRIHDSC HK Equity', 0.0), ('PRILTAC HK Equity', 0.0), ('PRILTGC HK Equity', 0.0), ('PRICAPC HK Equity', 0.0), ('PRASBON HK Equity', 0.0), ('PRISTYC HK Equity', 0.0)])\n",
      "Performance of function 1a portfolio in train period:\n"
     ]
    },
    {
     "data": {
      "text/plain": [
       "<matplotlib.axes._subplots.AxesSubplot at 0x7fb582ff18b0>"
      ]
     },
     "execution_count": 408,
     "metadata": {},
     "output_type": "execute_result"
    },
    {
     "data": {
      "image/png": "[encoded data removed]",
      "text/plain": [
       "<Figure size 360x360 with 1 Axes>"
      ]
     },
     "metadata": {},
     "output_type": "display_data"
    }
   ],
   "source": [
    "ef = EfficientFrontier(mu14, S14)\n",
    "\n",
    "weight1a = ef.max_sharpe() #raw weights\n",
    "cleanweight1a = ef.clean_weights() #cleaned weights\n",
    "print(cleanweight1a)\n",
    "print(\"Performance of function 1a portfolio in train period:\")\n",
    "pd.Series(cleanweight1a).plot.pie(figsize=(5,5))"
   ]
  },
  {
   "cell_type": "markdown",
   "metadata": {},
   "source": [
    "### Comparison - Performance of Portfolio during the Train period."
   ]
  },
  {
   "cell_type": "code",
   "execution_count": 409,
   "metadata": {
    "scrolled": true
   },
   "outputs": [
    {
     "name": "stdout",
     "output_type": "stream",
     "text": [
      "Expected annual return: 4.8%\n",
      "Annual volatility: 10.9%\n",
      "Sharpe Ratio: 0.25\n"
     ]
    },
    {
     "data": {
      "text/plain": [
       "<matplotlib.axes._subplots.AxesSubplot at 0x7fb583140580>"
      ]
     },
     "execution_count": 409,
     "metadata": {},
     "output_type": "execute_result"
    },
    {
     "data": {
      "image/png": "[encoded data removed]",
      "text/plain": [
       "<Figure size 720x432 with 1 Axes>"
      ]
     },
     "metadata": {
      "needs_background": "light"
     },
     "output_type": "display_data"
    }
   ],
   "source": [
    "ret,vol,sharpe = ef.portfolio_performance(verbose=True)\n",
    "\n",
    "mu14.plot.barh(figsize=(10,6))    #return of each funds from 2010 to 2014."
   ]
  },
  {
   "cell_type": "code",
   "execution_count": 410,
   "metadata": {
    "scrolled": true
   },
   "outputs": [
    {
     "name": "stdout",
     "output_type": "stream",
     "text": [
      "Portfolio return in test year(%):\n",
      "3.4084129637321214\n",
      "Portfolio return compared to train set (+- %):\n",
      "-1.356197524871472\n",
      "Percentage change compared to train set (+- %):\n",
      "-28.463974717667735\n",
      "Compare to benchmark (+- %):\n",
      "-1.6915870362678782\n"
     ]
    },
    {
     "data": {
      "text/plain": [
       "<matplotlib.axes._subplots.AxesSubplot at 0x7fb58325b070>"
      ]
     },
     "execution_count": 410,
     "metadata": {},
     "output_type": "execute_result"
    },
    {
     "data": {
      "image/png": "[encoded data removed]",
      "text/plain": [
       "<Figure size 720x432 with 1 Axes>"
      ]
     },
     "metadata": {
      "needs_background": "light"
     },
     "output_type": "display_data"
    }
   ],
   "source": [
    "#calculate the asset returns in our portfolio.\n",
    "ret_data = tfourteen.pct_change()[1:]\n",
    "\n",
    "#calculate the weighted returns of our assets.\n",
    "weighted_returns = (cleanweight1a * ret_data)\n",
    "\n",
    "#portfolio returns are simply the sum of the weighted returns of the assets. So lets add the rows.\n",
    "port_ret = weighted_returns.sum(axis=1)\n",
    "print(\"Portfolio return in test year(%):\")\n",
    "print(sum(port_ret)*100)\n",
    "print(\"Portfolio return compared to train set (+- %):\")\n",
    "diff14 = (sum(port_ret) - ret)*100\n",
    "print(diff14)\n",
    "print(\"Percentage change compared to train set (+- %):\")\n",
    "perch14 = diff14 /ret\n",
    "print(perch14)\n",
    "compare14=((sum(port_ret)*100)-5.1)\n",
    "print(\"Compare to benchmark (+- %):\")\n",
    "print(compare14)\n",
    "\n",
    "tmu14.plot.barh(figsize=(10,6))  #return of each fund from 2014 to 2015. (test period)"
   ]
  },
  {
   "cell_type": "markdown",
   "metadata": {},
   "source": [
    "![green-divider](https://user-images.githubusercontent.com/7065401/52071924-c003ad80-2562-11e9-8297-1c6595f8a7ff.png)\n",
    "\n",
    "## 15th five-year Backtesting  (for Function 1a)"
   ]
  },
  {
   "cell_type": "markdown",
   "metadata": {},
   "source": [
    "### Run the function - what's the weighting for this period?"
   ]
  },
  {
   "cell_type": "code",
   "execution_count": 411,
   "metadata": {
    "scrolled": false
   },
   "outputs": [
    {
     "name": "stdout",
     "output_type": "stream",
     "text": [
      "OrderedDict([('PRIAGSD HK Equity', 0.37686), ('PRIGLGC HK Equity', 0.0), ('PRIHDSC HK Equity', 0.0), ('PRILTAC HK Equity', 0.0), ('PRILTGC HK Equity', 0.0), ('PRICAPC HK Equity', 0.0), ('PRASBON HK Equity', 0.0), ('PRISTYC HK Equity', 0.62314)])\n",
      "Performance of function 1a portfolio in train period:\n"
     ]
    },
    {
     "data": {
      "text/plain": [
       "<matplotlib.axes._subplots.AxesSubplot at 0x7fb5833b9100>"
      ]
     },
     "execution_count": 411,
     "metadata": {},
     "output_type": "execute_result"
    },
    {
     "data": {
      "image/png": "[encoded data removed]",
      "text/plain": [
       "<Figure size 360x360 with 1 Axes>"
      ]
     },
     "metadata": {},
     "output_type": "display_data"
    }
   ],
   "source": [
    "ef = EfficientFrontier(mu15, S15)\n",
    "\n",
    "weight1a = ef.max_sharpe() #raw weights\n",
    "cleanweight1a = ef.clean_weights() #cleaned weights\n",
    "print(cleanweight1a)\n",
    "print(\"Performance of function 1a portfolio in train period:\")\n",
    "pd.Series(cleanweight1a).plot.pie(figsize=(5,5))"
   ]
  },
  {
   "cell_type": "markdown",
   "metadata": {},
   "source": [
    "### Comparison - Performance of Portfolio during the Train period."
   ]
  },
  {
   "cell_type": "code",
   "execution_count": 412,
   "metadata": {
    "scrolled": false
   },
   "outputs": [
    {
     "name": "stdout",
     "output_type": "stream",
     "text": [
      "Expected annual return: 4.9%\n",
      "Annual volatility: 5.3%\n",
      "Sharpe Ratio: 0.56\n"
     ]
    },
    {
     "data": {
      "text/plain": [
       "<matplotlib.axes._subplots.AxesSubplot at 0x7fb599173d60>"
      ]
     },
     "execution_count": 412,
     "metadata": {},
     "output_type": "execute_result"
    },
    {
     "data": {
      "image/png": "[encoded data removed]",
      "text/plain": [
       "<Figure size 720x432 with 1 Axes>"
      ]
     },
     "metadata": {
      "needs_background": "light"
     },
     "output_type": "display_data"
    }
   ],
   "source": [
    "ret,vol,sharpe = ef.portfolio_performance(verbose=True)\n",
    "\n",
    "mu15.plot.barh(figsize=(10,6))    #return of each funds from 2010 to 2014."
   ]
  },
  {
   "cell_type": "code",
   "execution_count": 413,
   "metadata": {
    "scrolled": false
   },
   "outputs": [
    {
     "name": "stdout",
     "output_type": "stream",
     "text": [
      "Portfolio return in test year(%):\n",
      "5.738960990947949\n",
      "Portfolio return compared to train set (+- %):\n",
      "0.8093197432469341\n",
      "Percentage change compared to train set (+- %):\n",
      "16.417416655306674\n",
      "Compare to benchmark (+- %):\n",
      "0.6389609909479494\n"
     ]
    },
    {
     "data": {
      "text/plain": [
       "<matplotlib.axes._subplots.AxesSubplot at 0x7fb5833c6fd0>"
      ]
     },
     "execution_count": 413,
     "metadata": {},
     "output_type": "execute_result"
    },
    {
     "data": {
      "image/png": "[encoded data removed]",
      "text/plain": [
       "<Figure size 720x432 with 1 Axes>"
      ]
     },
     "metadata": {
      "needs_background": "light"
     },
     "output_type": "display_data"
    }
   ],
   "source": [
    "#calculate the asset returns in our portfolio.\n",
    "ret_data = tfifteen.pct_change()[1:]\n",
    "\n",
    "#calculate the weighted returns of our assets.\n",
    "weighted_returns = (cleanweight1a * ret_data)\n",
    "\n",
    "#portfolio returns are simply the sum of the weighted returns of the assets. So lets add the rows.\n",
    "port_ret = weighted_returns.sum(axis=1)\n",
    "print(\"Portfolio return in test year(%):\")\n",
    "print(sum(port_ret)*100)\n",
    "print(\"Portfolio return compared to train set (+- %):\")\n",
    "diff15 = (sum(port_ret) - ret)*100\n",
    "print(diff15)\n",
    "print(\"Percentage change compared to train set (+- %):\")\n",
    "perch15 = diff15/ret\n",
    "print(perch15)\n",
    "compare15=((sum(port_ret)*100)-5.1)\n",
    "print(\"Compare to benchmark (+- %):\")\n",
    "print(compare15)\n",
    "\n",
    "tmu15.plot.barh(figsize=(10,6))  #return of each fund from 2014 to 2015. (test period)"
   ]
  },
  {
   "cell_type": "markdown",
   "metadata": {},
   "source": [
    "## Summary of Backtesting of Function 1a"
   ]
  },
  {
   "cell_type": "code",
   "execution_count": 415,
   "metadata": {
    "scrolled": false
   },
   "outputs": [
    {
     "name": "stdout",
     "output_type": "stream",
     "text": [
      "Function 1a Average error (%): 49.363031757474\n",
      "Function 1a Average return compare to Benchmark(%): 1.252333456001074\n"
     ]
    }
   ],
   "source": [
    "perch_all = [perch1,perch2,perch3,perch4,perch5,perch6,perch7,perch8,perch9,perch10,perch11,perch12,perch13,perch14,perch15]\n",
    "compare_all = [compare1,compare2,compare3,compare4,compare5,compare6,compare7,compare8,compare9,compare10,compare11,compare12,compare13,compare14,compare15]\n",
    "mean_perch = sum(perch_all) / len(perch_all)\n",
    "mean_compare = sum(compare_all) / len(compare_all)\n",
    "print( \"Function 1a Average error (%): \" + str(mean_perch))\n",
    "print( \"Function 1a Average return compare to Benchmark(%): \" + str(mean_compare))\n",
    "#print( \"Function 1a Accuracy (%): \" + str(100-mean_perch))"
   ]
  },
  {
   "cell_type": "markdown",
   "metadata": {},
   "source": [
    "![green-divider](https://user-images.githubusercontent.com/7065401/52071924-c003ad80-2562-11e9-8297-1c6595f8a7ff.png)\n",
    "![green-divider](https://user-images.githubusercontent.com/7065401/52071924-c003ad80-2562-11e9-8297-1c6595f8a7ff.png)\n",
    "![green-divider](https://user-images.githubusercontent.com/7065401/52071924-c003ad80-2562-11e9-8297-1c6595f8a7ff.png)\n",
    "## Function 2a - Portfolio Optimization with given Risk Tolerance\n",
    "![green-divider](https://user-images.githubusercontent.com/7065401/52071924-c003ad80-2562-11e9-8297-1c6595f8a7ff.png)\n",
    "![green-divider](https://user-images.githubusercontent.com/7065401/52071924-c003ad80-2562-11e9-8297-1c6595f8a7ff.png)\n",
    "![green-divider](https://user-images.githubusercontent.com/7065401/52071924-c003ad80-2562-11e9-8297-1c6595f8a7ff.png)"
   ]
  },
  {
   "cell_type": "code",
   "execution_count": 117,
   "metadata": {},
   "outputs": [
    {
     "data": {
      "text/plain": [
       "Text(0.5, 1.0, 'Fund Portfolio')"
      ]
     },
     "execution_count": 117,
     "metadata": {},
     "output_type": "execute_result"
    },
    {
     "data": {
      "image/png": "[encoded data removed]",
      "text/plain": [
       "<Figure size 360x360 with 1 Axes>"
      ]
     },
     "metadata": {},
     "output_type": "display_data"
    }
   ],
   "source": [
    "ef = EfficientFrontier(mu1, S1)\n",
    "\n",
    "ef.efficient_risk(target_volatility=0.1) #input desired volatility - default as ten percent\n",
    "weights = ef.clean_weights()\n",
    "weights\n",
    "\n",
    "pd.Series(weights).plot.pie(figsize=(5,5))\n",
    "plt.title(\"Fund Portfolio\")"
   ]
  },
  {
   "cell_type": "markdown",
   "metadata": {},
   "source": [
    "![green-divider](https://user-images.githubusercontent.com/7065401/52071924-c003ad80-2562-11e9-8297-1c6595f8a7ff.png)\n",
    "\n",
    "## 1st five-year Backtesting  (for Function 2a)"
   ]
  },
  {
   "cell_type": "markdown",
   "metadata": {},
   "source": [
    "### Run the function - what's the weighting for this period?"
   ]
  },
  {
   "cell_type": "code",
   "execution_count": 118,
   "metadata": {},
   "outputs": [
    {
     "name": "stdout",
     "output_type": "stream",
     "text": [
      "OrderedDict([('PRIAGSD HK Equity', 0.0), ('PRIGLGC HK Equity', 0.0), ('PRIHDSC HK Equity', 0.0), ('PRILTAC HK Equity', 0.39732), ('PRILTGC HK Equity', 0.0), ('PRICAPC HK Equity', 0.0), ('PRASBON HK Equity', 0.0), ('PRISTYC HK Equity', 0.60268)])\n",
      "Performance of function 1a portfolio in train period:\n"
     ]
    },
    {
     "data": {
      "text/plain": [
       "<matplotlib.axes._subplots.AxesSubplot at 0x7f998d82dfd0>"
      ]
     },
     "execution_count": 118,
     "metadata": {},
     "output_type": "execute_result"
    },
    {
     "data": {
      "image/png": "[encoded data removed]",
      "text/plain": [
       "<Figure size 360x360 with 1 Axes>"
      ]
     },
     "metadata": {},
     "output_type": "display_data"
    }
   ],
   "source": [
    "ef = EfficientFrontier(mu15, S15)\n",
    "\n",
    "weight2a = ef.max_sharpe() #raw weights\n",
    "cleanweight1a = ef.clean_weights() #cleaned weights\n",
    "print(cleanweight1a)\n",
    "print(\"Performance of function 1a portfolio in train period:\")\n",
    "pd.Series(cleanweight1a).plot.pie(figsize=(5,5))"
   ]
  },
  {
   "cell_type": "markdown",
   "metadata": {},
   "source": [
    "![green-divider](https://user-images.githubusercontent.com/7065401/52071924-c003ad80-2562-11e9-8297-1c6595f8a7ff.png)\n",
    "![green-divider](https://user-images.githubusercontent.com/7065401/52071924-c003ad80-2562-11e9-8297-1c6595f8a7ff.png)\n",
    "![green-divider](https://user-images.githubusercontent.com/7065401/52071924-c003ad80-2562-11e9-8297-1c6595f8a7ff.png)\n",
    "![green-divider](https://user-images.githubusercontent.com/7065401/52071924-c003ad80-2562-11e9-8297-1c6595f8a7ff.png)\n",
    "![green-divider](https://user-images.githubusercontent.com/7065401/52071924-c003ad80-2562-11e9-8297-1c6595f8a7ff.png)\n",
    "![green-divider](https://user-images.githubusercontent.com/7065401/52071924-c003ad80-2562-11e9-8297-1c6595f8a7ff.png)\n",
    "\n",
    "## Function 3 - Minimise risk for a given return"
   ]
  },
  {
   "cell_type": "code",
   "execution_count": 119,
   "metadata": {},
   "outputs": [
    {
     "data": {
      "text/plain": [
       "OrderedDict([('PRIAGSD HK Equity', 0.4237),\n",
       "             ('PRIGLGC HK Equity', 0.03087),\n",
       "             ('PRIHDSC HK Equity', -0.68904),\n",
       "             ('PRILTAC HK Equity', 0.24745),\n",
       "             ('PRILTGC HK Equity', -0.20785),\n",
       "             ('PRICAPC HK Equity', -0.63026),\n",
       "             ('PRASBON HK Equity', 0.23079),\n",
       "             ('PRISTYC HK Equity', 0.59434)])"
      ]
     },
     "execution_count": 119,
     "metadata": {},
     "output_type": "execute_result"
    }
   ],
   "source": [
    "ef = EfficientFrontier(mu, S, weight_bounds=(None, None))\n",
    "ef.efficient_return(target_return=0.04, market_neutral=True)\n",
    "weights = ef.clean_weights()\n",
    "weights"
   ]
  },
  {
   "cell_type": "markdown",
   "metadata": {},
   "source": [
    "![green-divider](https://user-images.githubusercontent.com/7065401/52071924-c003ad80-2562-11e9-8297-1c6595f8a7ff.png)\n",
    "![green-divider](https://user-images.githubusercontent.com/7065401/52071924-c003ad80-2562-11e9-8297-1c6595f8a7ff.png)\n",
    "![green-divider](https://user-images.githubusercontent.com/7065401/52071924-c003ad80-2562-11e9-8297-1c6595f8a7ff.png)\n",
    "![green-divider](https://user-images.githubusercontent.com/7065401/52071924-c003ad80-2562-11e9-8297-1c6595f8a7ff.png)\n",
    "![green-divider](https://user-images.githubusercontent.com/7065401/52071924-c003ad80-2562-11e9-8297-1c6595f8a7ff.png)\n",
    "![green-divider](https://user-images.githubusercontent.com/7065401/52071924-c003ad80-2562-11e9-8297-1c6595f8a7ff.png)\n",
    "\n",
    "## Plotting Efficient Frontier"
   ]
  },
  {
   "cell_type": "code",
   "execution_count": 120,
   "metadata": {},
   "outputs": [
    {
     "name": "stdout",
     "output_type": "stream",
     "text": [
      "Expected annual return: 2.6%\n",
      "Annual volatility: 3.9%\n",
      "Sharpe Ratio: 0.16\n"
     ]
    }
   ],
   "source": [
    "from pypfopt import CLA, plotting\n",
    "\n",
    "cla = CLA(mu1, S1)\n",
    "cla.max_sharpe()\n",
    "cla.portfolio_performance(verbose=True);"
   ]
  },
  {
   "cell_type": "code",
   "execution_count": 121,
   "metadata": {},
   "outputs": [
    {
     "data": {
      "image/png": "[encoded data removed]",
      "text/plain": [
       "<Figure size 432x288 with 1 Axes>"
      ]
     },
     "metadata": {
      "needs_background": "light"
     },
     "output_type": "display_data"
    }
   ],
   "source": [
    "ax = plotting.plot_efficient_frontier(cla, showfig=False)"
   ]
  },
  {
   "cell_type": "markdown",
   "metadata": {},
   "source": [
    "![green-divider](https://user-images.githubusercontent.com/7065401/52071924-c003ad80-2562-11e9-8297-1c6595f8a7ff.png)\n",
    "![green-divider](https://user-images.githubusercontent.com/7065401/52071924-c003ad80-2562-11e9-8297-1c6595f8a7ff.png)\n",
    "![green-divider](https://user-images.githubusercontent.com/7065401/52071924-c003ad80-2562-11e9-8297-1c6595f8a7ff.png)\n",
    "![green-divider](https://user-images.githubusercontent.com/7065401/52071924-c003ad80-2562-11e9-8297-1c6595f8a7ff.png)\n",
    "![green-divider](https://user-images.githubusercontent.com/7065401/52071924-c003ad80-2562-11e9-8297-1c6595f8a7ff.png)\n",
    "![green-divider](https://user-images.githubusercontent.com/7065401/52071924-c003ad80-2562-11e9-8297-1c6595f8a7ff.png)\n",
    "\n",
    "# This scheme in a nutshell:"
   ]
  },
  {
   "cell_type": "markdown",
   "metadata": {},
   "source": [
    "##         Any portfolio with volatility higher than 11.1% is bad because you earn the same afterwards. The highest return you can get is 5.0%."
   ]
  },
  {
   "cell_type": "code",
   "execution_count": 75,
   "metadata": {},
   "outputs": [
    {
     "name": "stdout",
     "output_type": "stream",
     "text": [
      "Expected annual return: 2.0%\n",
      "Annual volatility: 2.0%\n",
      "Sharpe Ratio: -0.02\n",
      "Expected annual return: 2.0%\n",
      "Annual volatility: 2.1%\n",
      "Sharpe Ratio: 0.02\n",
      "Expected annual return: 2.1%\n",
      "Annual volatility: 2.2%\n",
      "Sharpe Ratio: 0.05\n",
      "Expected annual return: 2.2%\n",
      "Annual volatility: 2.3%\n",
      "Sharpe Ratio: 0.08\n",
      "Expected annual return: 2.3%\n",
      "Annual volatility: 2.4%\n",
      "Sharpe Ratio: 0.11\n",
      "Expected annual return: 2.3%\n",
      "Annual volatility: 2.5%\n",
      "Sharpe Ratio: 0.13\n",
      "Expected annual return: 2.4%\n",
      "Annual volatility: 2.6%\n",
      "Sharpe Ratio: 0.15\n",
      "Expected annual return: 2.5%\n",
      "Annual volatility: 2.7%\n",
      "Sharpe Ratio: 0.18\n",
      "Expected annual return: 2.5%\n",
      "Annual volatility: 2.8%\n",
      "Sharpe Ratio: 0.19\n",
      "Expected annual return: 2.6%\n",
      "Annual volatility: 2.9%\n",
      "Sharpe Ratio: 0.21\n",
      "Expected annual return: 2.7%\n",
      "Annual volatility: 3.0%\n",
      "Sharpe Ratio: 0.23\n",
      "Expected annual return: 2.8%\n",
      "Annual volatility: 3.1%\n",
      "Sharpe Ratio: 0.24\n",
      "Expected annual return: 2.8%\n",
      "Annual volatility: 3.2%\n",
      "Sharpe Ratio: 0.26\n",
      "Expected annual return: 2.9%\n",
      "Annual volatility: 3.3%\n",
      "Sharpe Ratio: 0.27\n",
      "Expected annual return: 3.0%\n",
      "Annual volatility: 3.4%\n",
      "Sharpe Ratio: 0.28\n",
      "Expected annual return: 3.0%\n",
      "Annual volatility: 3.5%\n",
      "Sharpe Ratio: 0.29\n",
      "Expected annual return: 3.1%\n",
      "Annual volatility: 3.6%\n",
      "Sharpe Ratio: 0.30\n",
      "Expected annual return: 3.2%\n",
      "Annual volatility: 3.7%\n",
      "Sharpe Ratio: 0.31\n",
      "Expected annual return: 3.2%\n",
      "Annual volatility: 3.8%\n",
      "Sharpe Ratio: 0.32\n",
      "Expected annual return: 3.3%\n",
      "Annual volatility: 3.9%\n",
      "Sharpe Ratio: 0.33\n",
      "Expected annual return: 3.3%\n",
      "Annual volatility: 4.0%\n",
      "Sharpe Ratio: 0.34\n",
      "Expected annual return: 3.4%\n",
      "Annual volatility: 4.1%\n",
      "Sharpe Ratio: 0.34\n",
      "Expected annual return: 3.5%\n",
      "Annual volatility: 4.2%\n",
      "Sharpe Ratio: 0.35\n",
      "Expected annual return: 3.5%\n",
      "Annual volatility: 4.3%\n",
      "Sharpe Ratio: 0.36\n",
      "Expected annual return: 3.6%\n",
      "Annual volatility: 4.4%\n",
      "Sharpe Ratio: 0.36\n",
      "Expected annual return: 3.6%\n",
      "Annual volatility: 4.5%\n",
      "Sharpe Ratio: 0.37\n",
      "Expected annual return: 3.7%\n",
      "Annual volatility: 4.6%\n",
      "Sharpe Ratio: 0.37\n",
      "Expected annual return: 3.8%\n",
      "Annual volatility: 4.7%\n",
      "Sharpe Ratio: 0.38\n",
      "Expected annual return: 3.8%\n",
      "Annual volatility: 4.8%\n",
      "Sharpe Ratio: 0.38\n",
      "Expected annual return: 3.9%\n",
      "Annual volatility: 4.9%\n",
      "Sharpe Ratio: 0.38\n",
      "Expected annual return: 3.9%\n",
      "Annual volatility: 5.0%\n",
      "Sharpe Ratio: 0.38\n",
      "Expected annual return: 4.0%\n",
      "Annual volatility: 5.1%\n",
      "Sharpe Ratio: 0.38\n",
      "Expected annual return: 4.0%\n",
      "Annual volatility: 5.2%\n",
      "Sharpe Ratio: 0.38\n",
      "Expected annual return: 4.0%\n",
      "Annual volatility: 5.3%\n",
      "Sharpe Ratio: 0.38\n",
      "Expected annual return: 4.0%\n",
      "Annual volatility: 5.4%\n",
      "Sharpe Ratio: 0.38\n",
      "Expected annual return: 4.1%\n",
      "Annual volatility: 5.5%\n",
      "Sharpe Ratio: 0.38\n",
      "Expected annual return: 4.1%\n",
      "Annual volatility: 5.6%\n",
      "Sharpe Ratio: 0.38\n",
      "Expected annual return: 4.1%\n",
      "Annual volatility: 5.7%\n",
      "Sharpe Ratio: 0.37\n",
      "Expected annual return: 4.1%\n",
      "Annual volatility: 5.8%\n",
      "Sharpe Ratio: 0.37\n",
      "Expected annual return: 4.2%\n",
      "Annual volatility: 5.9%\n",
      "Sharpe Ratio: 0.37\n",
      "Expected annual return: 4.2%\n",
      "Annual volatility: 6.0%\n",
      "Sharpe Ratio: 0.36\n",
      "Expected annual return: 4.2%\n",
      "Annual volatility: 6.1%\n",
      "Sharpe Ratio: 0.36\n",
      "Expected annual return: 4.2%\n",
      "Annual volatility: 6.2%\n",
      "Sharpe Ratio: 0.36\n",
      "Expected annual return: 4.2%\n",
      "Annual volatility: 6.3%\n",
      "Sharpe Ratio: 0.36\n",
      "Expected annual return: 4.3%\n",
      "Annual volatility: 6.4%\n",
      "Sharpe Ratio: 0.35\n",
      "Expected annual return: 4.3%\n",
      "Annual volatility: 6.5%\n",
      "Sharpe Ratio: 0.35\n",
      "Expected annual return: 4.3%\n",
      "Annual volatility: 6.6%\n",
      "Sharpe Ratio: 0.35\n",
      "Expected annual return: 4.3%\n",
      "Annual volatility: 6.7%\n",
      "Sharpe Ratio: 0.35\n",
      "Expected annual return: 4.3%\n",
      "Annual volatility: 6.8%\n",
      "Sharpe Ratio: 0.34\n",
      "Expected annual return: 4.4%\n",
      "Annual volatility: 6.9%\n",
      "Sharpe Ratio: 0.34\n",
      "Expected annual return: 4.4%\n",
      "Annual volatility: 7.0%\n",
      "Sharpe Ratio: 0.34\n",
      "Expected annual return: 4.4%\n",
      "Annual volatility: 7.1%\n",
      "Sharpe Ratio: 0.34\n",
      "Expected annual return: 4.4%\n",
      "Annual volatility: 7.2%\n",
      "Sharpe Ratio: 0.33\n",
      "Expected annual return: 4.4%\n",
      "Annual volatility: 7.3%\n",
      "Sharpe Ratio: 0.33\n",
      "Expected annual return: 4.4%\n",
      "Annual volatility: 7.4%\n",
      "Sharpe Ratio: 0.33\n",
      "Expected annual return: 4.5%\n",
      "Annual volatility: 7.5%\n",
      "Sharpe Ratio: 0.33\n",
      "Expected annual return: 4.5%\n",
      "Annual volatility: 7.6%\n",
      "Sharpe Ratio: 0.32\n",
      "Expected annual return: 4.5%\n",
      "Annual volatility: 7.7%\n",
      "Sharpe Ratio: 0.32\n",
      "Expected annual return: 4.5%\n",
      "Annual volatility: 7.8%\n",
      "Sharpe Ratio: 0.32\n",
      "Expected annual return: 4.5%\n",
      "Annual volatility: 7.9%\n",
      "Sharpe Ratio: 0.32\n",
      "Expected annual return: 4.5%\n",
      "Annual volatility: 8.0%\n",
      "Sharpe Ratio: 0.32\n",
      "Expected annual return: 4.5%\n",
      "Annual volatility: 8.1%\n",
      "Sharpe Ratio: 0.31\n",
      "Expected annual return: 4.6%\n",
      "Annual volatility: 8.2%\n",
      "Sharpe Ratio: 0.31\n",
      "Expected annual return: 4.6%\n",
      "Annual volatility: 8.3%\n",
      "Sharpe Ratio: 0.31\n",
      "Expected annual return: 4.6%\n",
      "Annual volatility: 8.4%\n",
      "Sharpe Ratio: 0.31\n",
      "Expected annual return: 4.6%\n",
      "Annual volatility: 8.5%\n",
      "Sharpe Ratio: 0.31\n",
      "Expected annual return: 4.6%\n",
      "Annual volatility: 8.6%\n",
      "Sharpe Ratio: 0.30\n",
      "Expected annual return: 4.6%\n",
      "Annual volatility: 8.7%\n",
      "Sharpe Ratio: 0.30\n",
      "Expected annual return: 4.6%\n",
      "Annual volatility: 8.8%\n",
      "Sharpe Ratio: 0.30\n",
      "Expected annual return: 4.7%\n",
      "Annual volatility: 8.9%\n",
      "Sharpe Ratio: 0.30\n",
      "Expected annual return: 4.7%\n",
      "Annual volatility: 9.0%\n",
      "Sharpe Ratio: 0.30\n",
      "Expected annual return: 4.7%\n",
      "Annual volatility: 9.1%\n",
      "Sharpe Ratio: 0.30\n",
      "Expected annual return: 4.7%\n",
      "Annual volatility: 9.2%\n",
      "Sharpe Ratio: 0.29\n",
      "Expected annual return: 4.7%\n",
      "Annual volatility: 9.3%\n",
      "Sharpe Ratio: 0.29\n",
      "Expected annual return: 4.7%\n",
      "Annual volatility: 9.4%\n",
      "Sharpe Ratio: 0.29\n",
      "Expected annual return: 4.7%\n",
      "Annual volatility: 9.5%\n",
      "Sharpe Ratio: 0.29\n",
      "Expected annual return: 4.8%\n",
      "Annual volatility: 9.6%\n",
      "Sharpe Ratio: 0.29\n",
      "Expected annual return: 4.8%\n",
      "Annual volatility: 9.7%\n",
      "Sharpe Ratio: 0.29\n",
      "Expected annual return: 4.8%\n",
      "Annual volatility: 9.8%\n",
      "Sharpe Ratio: 0.28\n",
      "Expected annual return: 4.8%\n",
      "Annual volatility: 9.9%\n",
      "Sharpe Ratio: 0.28\n",
      "Expected annual return: 4.8%\n",
      "Annual volatility: 10.0%\n",
      "Sharpe Ratio: 0.28\n",
      "Expected annual return: 4.8%\n",
      "Annual volatility: 10.1%\n",
      "Sharpe Ratio: 0.28\n",
      "Expected annual return: 4.8%\n",
      "Annual volatility: 10.2%\n",
      "Sharpe Ratio: 0.28\n",
      "Expected annual return: 4.9%\n",
      "Annual volatility: 10.3%\n",
      "Sharpe Ratio: 0.28\n",
      "Expected annual return: 4.9%\n",
      "Annual volatility: 10.4%\n",
      "Sharpe Ratio: 0.28\n",
      "Expected annual return: 4.9%\n",
      "Annual volatility: 10.5%\n",
      "Sharpe Ratio: 0.27\n",
      "Expected annual return: 4.9%\n",
      "Annual volatility: 10.6%\n",
      "Sharpe Ratio: 0.27\n",
      "Expected annual return: 4.9%\n",
      "Annual volatility: 10.7%\n",
      "Sharpe Ratio: 0.27\n",
      "Expected annual return: 4.9%\n",
      "Annual volatility: 10.8%\n",
      "Sharpe Ratio: 0.27\n",
      "Expected annual return: 4.9%\n",
      "Annual volatility: 10.9%\n",
      "Sharpe Ratio: 0.27\n",
      "Expected annual return: 4.9%\n",
      "Annual volatility: 11.0%\n",
      "Sharpe Ratio: 0.27\n",
      "Expected annual return: 5.0%\n",
      "Annual volatility: 11.1%\n",
      "Sharpe Ratio: 0.27\n",
      "Expected annual return: 5.0%\n",
      "Annual volatility: 11.2%\n",
      "Sharpe Ratio: 0.27\n",
      "Expected annual return: 5.0%\n",
      "Annual volatility: 11.3%\n",
      "Sharpe Ratio: 0.26\n",
      "Expected annual return: 5.0%\n",
      "Annual volatility: 11.4%\n",
      "Sharpe Ratio: 0.26\n",
      "Expected annual return: 5.0%\n",
      "Annual volatility: 11.5%\n",
      "Sharpe Ratio: 0.26\n",
      "Expected annual return: 5.0%\n",
      "Annual volatility: 11.5%\n",
      "Sharpe Ratio: 0.26\n",
      "Expected annual return: 5.0%\n",
      "Annual volatility: 11.5%\n",
      "Sharpe Ratio: 0.26\n",
      "Expected annual return: 5.0%\n",
      "Annual volatility: 11.5%\n",
      "Sharpe Ratio: 0.26\n",
      "Expected annual return: 5.0%\n",
      "Annual volatility: 11.5%\n",
      "Sharpe Ratio: 0.26\n",
      "Expected annual return: 5.0%\n",
      "Annual volatility: 11.5%\n",
      "Sharpe Ratio: 0.26\n",
      "Expected annual return: 5.0%\n",
      "Annual volatility: 11.5%\n",
      "Sharpe Ratio: 0.26\n",
      "Expected annual return: 5.0%\n",
      "Annual volatility: 11.5%\n",
      "Sharpe Ratio: 0.26\n",
      "Expected annual return: 5.0%\n",
      "Annual volatility: 11.5%\n",
      "Sharpe Ratio: 0.26\n",
      "Expected annual return: 5.0%\n",
      "Annual volatility: 11.5%\n",
      "Sharpe Ratio: 0.26\n",
      "Expected annual return: 5.0%\n",
      "Annual volatility: 11.5%\n",
      "Sharpe Ratio: 0.26\n",
      "Expected annual return: 5.0%\n",
      "Annual volatility: 11.5%\n",
      "Sharpe Ratio: 0.26\n",
      "Expected annual return: 5.0%\n",
      "Annual volatility: 11.5%\n",
      "Sharpe Ratio: 0.26\n",
      "Expected annual return: 5.0%\n",
      "Annual volatility: 11.5%\n",
      "Sharpe Ratio: 0.26\n",
      "Expected annual return: 5.0%\n",
      "Annual volatility: 11.5%\n",
      "Sharpe Ratio: 0.26\n",
      "Expected annual return: 5.0%\n",
      "Annual volatility: 11.5%\n",
      "Sharpe Ratio: 0.26\n",
      "Expected annual return: 5.0%\n",
      "Annual volatility: 11.5%\n",
      "Sharpe Ratio: 0.26\n",
      "Expected annual return: 5.0%\n",
      "Annual volatility: 11.5%\n",
      "Sharpe Ratio: 0.26\n",
      "Expected annual return: 5.0%\n",
      "Annual volatility: 11.5%\n",
      "Sharpe Ratio: 0.26\n",
      "Expected annual return: 5.0%\n",
      "Annual volatility: 11.5%\n",
      "Sharpe Ratio: 0.26\n",
      "Expected annual return: 5.0%\n",
      "Annual volatility: 11.5%\n",
      "Sharpe Ratio: 0.26\n",
      "Expected annual return: 5.0%\n",
      "Annual volatility: 11.5%\n",
      "Sharpe Ratio: 0.26\n"
     ]
    },
    {
     "name": "stdout",
     "output_type": "stream",
     "text": [
      "Expected annual return: 5.0%\n",
      "Annual volatility: 11.5%\n",
      "Sharpe Ratio: 0.26\n",
      "Expected annual return: 5.0%\n",
      "Annual volatility: 11.5%\n",
      "Sharpe Ratio: 0.26\n",
      "Expected annual return: 5.0%\n",
      "Annual volatility: 11.5%\n",
      "Sharpe Ratio: 0.26\n",
      "Expected annual return: 5.0%\n",
      "Annual volatility: 11.5%\n",
      "Sharpe Ratio: 0.26\n",
      "Expected annual return: 5.0%\n",
      "Annual volatility: 11.5%\n",
      "Sharpe Ratio: 0.26\n",
      "Expected annual return: 5.0%\n",
      "Annual volatility: 11.5%\n",
      "Sharpe Ratio: 0.26\n",
      "Expected annual return: 5.0%\n",
      "Annual volatility: 11.5%\n",
      "Sharpe Ratio: 0.26\n",
      "Expected annual return: 5.0%\n",
      "Annual volatility: 11.5%\n",
      "Sharpe Ratio: 0.26\n",
      "Expected annual return: 5.0%\n",
      "Annual volatility: 11.5%\n",
      "Sharpe Ratio: 0.26\n",
      "Expected annual return: 5.0%\n",
      "Annual volatility: 11.5%\n",
      "Sharpe Ratio: 0.26\n",
      "Expected annual return: 5.0%\n",
      "Annual volatility: 11.5%\n",
      "Sharpe Ratio: 0.26\n",
      "Expected annual return: 5.0%\n",
      "Annual volatility: 11.5%\n",
      "Sharpe Ratio: 0.26\n",
      "Expected annual return: 5.0%\n",
      "Annual volatility: 11.5%\n",
      "Sharpe Ratio: 0.26\n",
      "Expected annual return: 5.0%\n",
      "Annual volatility: 11.5%\n",
      "Sharpe Ratio: 0.26\n",
      "Expected annual return: 5.0%\n",
      "Annual volatility: 11.5%\n",
      "Sharpe Ratio: 0.26\n",
      "Expected annual return: 5.0%\n",
      "Annual volatility: 11.5%\n",
      "Sharpe Ratio: 0.26\n",
      "Expected annual return: 5.0%\n",
      "Annual volatility: 11.5%\n",
      "Sharpe Ratio: 0.26\n",
      "Expected annual return: 5.0%\n",
      "Annual volatility: 11.5%\n",
      "Sharpe Ratio: 0.26\n",
      "Expected annual return: 5.0%\n",
      "Annual volatility: 11.5%\n",
      "Sharpe Ratio: 0.26\n",
      "Expected annual return: 5.0%\n",
      "Annual volatility: 11.5%\n",
      "Sharpe Ratio: 0.26\n",
      "Expected annual return: 5.0%\n",
      "Annual volatility: 11.5%\n",
      "Sharpe Ratio: 0.26\n",
      "Expected annual return: 5.0%\n",
      "Annual volatility: 11.5%\n",
      "Sharpe Ratio: 0.26\n",
      "Expected annual return: 5.0%\n",
      "Annual volatility: 11.5%\n",
      "Sharpe Ratio: 0.26\n",
      "Expected annual return: 5.0%\n",
      "Annual volatility: 11.5%\n",
      "Sharpe Ratio: 0.26\n",
      "Expected annual return: 5.0%\n",
      "Annual volatility: 11.5%\n",
      "Sharpe Ratio: 0.26\n",
      "Expected annual return: 5.0%\n",
      "Annual volatility: 11.5%\n",
      "Sharpe Ratio: 0.26\n",
      "Expected annual return: 5.0%\n",
      "Annual volatility: 11.5%\n",
      "Sharpe Ratio: 0.26\n",
      "Expected annual return: 5.0%\n",
      "Annual volatility: 11.5%\n",
      "Sharpe Ratio: 0.26\n",
      "Expected annual return: 5.0%\n",
      "Annual volatility: 11.5%\n",
      "Sharpe Ratio: 0.26\n",
      "Expected annual return: 5.0%\n",
      "Annual volatility: 11.5%\n",
      "Sharpe Ratio: 0.26\n",
      "Expected annual return: 5.0%\n",
      "Annual volatility: 11.5%\n",
      "Sharpe Ratio: 0.26\n",
      "Expected annual return: 5.0%\n",
      "Annual volatility: 11.5%\n",
      "Sharpe Ratio: 0.26\n",
      "Expected annual return: 5.0%\n",
      "Annual volatility: 11.5%\n",
      "Sharpe Ratio: 0.26\n",
      "Expected annual return: 5.0%\n",
      "Annual volatility: 11.5%\n",
      "Sharpe Ratio: 0.26\n",
      "Expected annual return: 5.0%\n",
      "Annual volatility: 11.5%\n",
      "Sharpe Ratio: 0.26\n",
      "Expected annual return: 5.0%\n",
      "Annual volatility: 11.5%\n",
      "Sharpe Ratio: 0.26\n",
      "Expected annual return: 5.0%\n",
      "Annual volatility: 11.5%\n",
      "Sharpe Ratio: 0.26\n",
      "Expected annual return: 5.0%\n",
      "Annual volatility: 11.5%\n",
      "Sharpe Ratio: 0.26\n",
      "Expected annual return: 5.0%\n",
      "Annual volatility: 11.5%\n",
      "Sharpe Ratio: 0.26\n",
      "Expected annual return: 5.0%\n",
      "Annual volatility: 11.5%\n",
      "Sharpe Ratio: 0.26\n",
      "Expected annual return: 5.0%\n",
      "Annual volatility: 11.5%\n",
      "Sharpe Ratio: 0.26\n",
      "Expected annual return: 5.0%\n",
      "Annual volatility: 11.5%\n",
      "Sharpe Ratio: 0.26\n",
      "Expected annual return: 5.0%\n",
      "Annual volatility: 11.5%\n",
      "Sharpe Ratio: 0.26\n",
      "Expected annual return: 5.0%\n",
      "Annual volatility: 11.5%\n",
      "Sharpe Ratio: 0.26\n",
      "Expected annual return: 5.0%\n",
      "Annual volatility: 11.5%\n",
      "Sharpe Ratio: 0.26\n",
      "Expected annual return: 5.0%\n",
      "Annual volatility: 11.5%\n",
      "Sharpe Ratio: 0.26\n",
      "Expected annual return: 5.0%\n",
      "Annual volatility: 11.5%\n",
      "Sharpe Ratio: 0.26\n",
      "Expected annual return: 5.0%\n",
      "Annual volatility: 11.5%\n",
      "Sharpe Ratio: 0.26\n",
      "Expected annual return: 5.0%\n",
      "Annual volatility: 11.5%\n",
      "Sharpe Ratio: 0.26\n",
      "Expected annual return: 5.0%\n",
      "Annual volatility: 11.5%\n",
      "Sharpe Ratio: 0.26\n",
      "Expected annual return: 5.0%\n",
      "Annual volatility: 11.5%\n",
      "Sharpe Ratio: 0.26\n",
      "Expected annual return: 5.0%\n",
      "Annual volatility: 11.5%\n",
      "Sharpe Ratio: 0.26\n",
      "Expected annual return: 5.0%\n",
      "Annual volatility: 11.5%\n",
      "Sharpe Ratio: 0.26\n",
      "Expected annual return: 5.0%\n",
      "Annual volatility: 11.5%\n",
      "Sharpe Ratio: 0.26\n",
      "Expected annual return: 5.0%\n",
      "Annual volatility: 11.5%\n",
      "Sharpe Ratio: 0.26\n",
      "Expected annual return: 5.0%\n",
      "Annual volatility: 11.5%\n",
      "Sharpe Ratio: 0.26\n",
      "Expected annual return: 5.0%\n",
      "Annual volatility: 11.5%\n",
      "Sharpe Ratio: 0.26\n",
      "Expected annual return: 5.0%\n",
      "Annual volatility: 11.5%\n",
      "Sharpe Ratio: 0.26\n",
      "Expected annual return: 5.0%\n",
      "Annual volatility: 11.5%\n",
      "Sharpe Ratio: 0.26\n",
      "Expected annual return: 5.0%\n",
      "Annual volatility: 11.5%\n",
      "Sharpe Ratio: 0.26\n",
      "Expected annual return: 5.0%\n",
      "Annual volatility: 11.5%\n",
      "Sharpe Ratio: 0.26\n",
      "Expected annual return: 5.0%\n",
      "Annual volatility: 11.5%\n",
      "Sharpe Ratio: 0.26\n",
      "Expected annual return: 5.0%\n",
      "Annual volatility: 11.5%\n",
      "Sharpe Ratio: 0.26\n",
      "Expected annual return: 5.0%\n",
      "Annual volatility: 11.5%\n",
      "Sharpe Ratio: 0.26\n",
      "Expected annual return: 5.0%\n",
      "Annual volatility: 11.5%\n",
      "Sharpe Ratio: 0.26\n",
      "Expected annual return: 5.0%\n",
      "Annual volatility: 11.5%\n",
      "Sharpe Ratio: 0.26\n",
      "Expected annual return: 5.0%\n",
      "Annual volatility: 11.5%\n",
      "Sharpe Ratio: 0.26\n",
      "Expected annual return: 5.0%\n",
      "Annual volatility: 11.5%\n",
      "Sharpe Ratio: 0.26\n",
      "Expected annual return: 5.0%\n",
      "Annual volatility: 11.5%\n",
      "Sharpe Ratio: 0.26\n",
      "Expected annual return: 5.0%\n",
      "Annual volatility: 11.5%\n",
      "Sharpe Ratio: 0.26\n",
      "Expected annual return: 5.0%\n",
      "Annual volatility: 11.5%\n",
      "Sharpe Ratio: 0.26\n",
      "Expected annual return: 5.0%\n",
      "Annual volatility: 11.5%\n",
      "Sharpe Ratio: 0.26\n",
      "Expected annual return: 5.0%\n",
      "Annual volatility: 11.5%\n",
      "Sharpe Ratio: 0.26\n",
      "Expected annual return: 5.0%\n",
      "Annual volatility: 11.5%\n",
      "Sharpe Ratio: 0.26\n",
      "Expected annual return: 5.0%\n",
      "Annual volatility: 11.5%\n",
      "Sharpe Ratio: 0.26\n",
      "Expected annual return: 5.0%\n",
      "Annual volatility: 11.5%\n",
      "Sharpe Ratio: 0.26\n",
      "Expected annual return: 5.0%\n",
      "Annual volatility: 11.5%\n",
      "Sharpe Ratio: 0.26\n",
      "Expected annual return: 5.0%\n",
      "Annual volatility: 11.5%\n",
      "Sharpe Ratio: 0.26\n",
      "Expected annual return: 5.0%\n",
      "Annual volatility: 11.5%\n",
      "Sharpe Ratio: 0.26\n",
      "Expected annual return: 5.0%\n",
      "Annual volatility: 11.5%\n",
      "Sharpe Ratio: 0.26\n",
      "Expected annual return: 5.0%\n",
      "Annual volatility: 11.5%\n",
      "Sharpe Ratio: 0.26\n",
      "Expected annual return: 5.0%\n",
      "Annual volatility: 11.5%\n",
      "Sharpe Ratio: 0.26\n",
      "Expected annual return: 5.0%\n",
      "Annual volatility: 11.5%\n",
      "Sharpe Ratio: 0.26\n",
      "Expected annual return: 5.0%\n",
      "Annual volatility: 11.5%\n",
      "Sharpe Ratio: 0.26\n",
      "Expected annual return: 5.0%\n",
      "Annual volatility: 11.5%\n",
      "Sharpe Ratio: 0.26\n",
      "Expected annual return: 5.0%\n",
      "Annual volatility: 11.5%\n",
      "Sharpe Ratio: 0.26\n",
      "Expected annual return: 5.0%\n",
      "Annual volatility: 11.5%\n",
      "Sharpe Ratio: 0.26\n",
      "Expected annual return: 5.0%\n",
      "Annual volatility: 11.5%\n",
      "Sharpe Ratio: 0.26\n",
      "Expected annual return: 5.0%\n",
      "Annual volatility: 11.5%\n",
      "Sharpe Ratio: 0.26\n",
      "Expected annual return: 5.0%\n",
      "Annual volatility: 11.5%\n",
      "Sharpe Ratio: 0.26\n",
      "Expected annual return: 5.0%\n",
      "Annual volatility: 11.5%\n",
      "Sharpe Ratio: 0.26\n",
      "Expected annual return: 5.0%\n",
      "Annual volatility: 11.5%\n",
      "Sharpe Ratio: 0.26\n",
      "Expected annual return: 5.0%\n",
      "Annual volatility: 11.5%\n",
      "Sharpe Ratio: 0.26\n",
      "Expected annual return: 5.0%\n",
      "Annual volatility: 11.5%\n",
      "Sharpe Ratio: 0.26\n",
      "Expected annual return: 5.0%\n",
      "Annual volatility: 11.5%\n",
      "Sharpe Ratio: 0.26\n",
      "Expected annual return: 5.0%\n",
      "Annual volatility: 11.5%\n",
      "Sharpe Ratio: 0.26\n",
      "Expected annual return: 5.0%\n",
      "Annual volatility: 11.5%\n",
      "Sharpe Ratio: 0.26\n",
      "Expected annual return: 5.0%\n",
      "Annual volatility: 11.5%\n",
      "Sharpe Ratio: 0.26\n",
      "Expected annual return: 5.0%\n",
      "Annual volatility: 11.5%\n",
      "Sharpe Ratio: 0.26\n",
      "Expected annual return: 5.0%\n",
      "Annual volatility: 11.5%\n",
      "Sharpe Ratio: 0.26\n",
      "Expected annual return: 5.0%\n",
      "Annual volatility: 11.5%\n",
      "Sharpe Ratio: 0.26\n",
      "Expected annual return: 5.0%\n",
      "Annual volatility: 11.5%\n",
      "Sharpe Ratio: 0.26\n",
      "Expected annual return: 5.0%\n",
      "Annual volatility: 11.5%\n",
      "Sharpe Ratio: 0.26\n",
      "Expected annual return: 5.0%\n",
      "Annual volatility: 11.5%\n",
      "Sharpe Ratio: 0.26\n",
      "Expected annual return: 5.0%\n",
      "Annual volatility: 11.5%\n",
      "Sharpe Ratio: 0.26\n",
      "Expected annual return: 5.0%\n",
      "Annual volatility: 11.5%\n",
      "Sharpe Ratio: 0.26\n",
      "Expected annual return: 5.0%\n",
      "Annual volatility: 11.5%\n",
      "Sharpe Ratio: 0.26\n",
      "Expected annual return: 5.0%\n",
      "Annual volatility: 11.5%\n",
      "Sharpe Ratio: 0.26\n",
      "Expected annual return: 5.0%\n",
      "Annual volatility: 11.5%\n",
      "Sharpe Ratio: 0.26\n",
      "Expected annual return: 5.0%\n",
      "Annual volatility: 11.5%\n",
      "Sharpe Ratio: 0.26\n",
      "Expected annual return: 5.0%\n",
      "Annual volatility: 11.5%\n",
      "Sharpe Ratio: 0.26\n",
      "Expected annual return: 5.0%\n",
      "Annual volatility: 11.5%\n",
      "Sharpe Ratio: 0.26\n",
      "Expected annual return: 5.0%\n",
      "Annual volatility: 11.5%\n",
      "Sharpe Ratio: 0.26\n",
      "Expected annual return: 5.0%\n",
      "Annual volatility: 11.5%\n",
      "Sharpe Ratio: 0.26\n",
      "Expected annual return: 5.0%\n",
      "Annual volatility: 11.5%\n",
      "Sharpe Ratio: 0.26\n",
      "Expected annual return: 5.0%\n",
      "Annual volatility: 11.5%\n",
      "Sharpe Ratio: 0.26\n",
      "Expected annual return: 5.0%\n",
      "Annual volatility: 11.5%\n",
      "Sharpe Ratio: 0.26\n",
      "Expected annual return: 5.0%\n",
      "Annual volatility: 11.5%\n",
      "Sharpe Ratio: 0.26\n"
     ]
    },
    {
     "name": "stdout",
     "output_type": "stream",
     "text": [
      "Expected annual return: 5.0%\n",
      "Annual volatility: 11.5%\n",
      "Sharpe Ratio: 0.26\n",
      "Expected annual return: 5.0%\n",
      "Annual volatility: 11.5%\n",
      "Sharpe Ratio: 0.26\n",
      "Expected annual return: 5.0%\n",
      "Annual volatility: 11.5%\n",
      "Sharpe Ratio: 0.26\n",
      "Expected annual return: 5.0%\n",
      "Annual volatility: 11.5%\n",
      "Sharpe Ratio: 0.26\n",
      "Expected annual return: 5.0%\n",
      "Annual volatility: 11.5%\n",
      "Sharpe Ratio: 0.26\n",
      "Expected annual return: 5.0%\n",
      "Annual volatility: 11.5%\n",
      "Sharpe Ratio: 0.26\n",
      "Expected annual return: 5.0%\n",
      "Annual volatility: 11.5%\n",
      "Sharpe Ratio: 0.26\n",
      "Expected annual return: 5.0%\n",
      "Annual volatility: 11.5%\n",
      "Sharpe Ratio: 0.26\n",
      "Expected annual return: 5.0%\n",
      "Annual volatility: 11.5%\n",
      "Sharpe Ratio: 0.26\n",
      "Expected annual return: 5.0%\n",
      "Annual volatility: 11.5%\n",
      "Sharpe Ratio: 0.26\n",
      "Expected annual return: 5.0%\n",
      "Annual volatility: 11.5%\n",
      "Sharpe Ratio: 0.26\n",
      "Expected annual return: 5.0%\n",
      "Annual volatility: 11.5%\n",
      "Sharpe Ratio: 0.26\n",
      "Expected annual return: 5.0%\n",
      "Annual volatility: 11.5%\n",
      "Sharpe Ratio: 0.26\n",
      "Expected annual return: 5.0%\n",
      "Annual volatility: 11.5%\n",
      "Sharpe Ratio: 0.26\n",
      "Expected annual return: 5.0%\n",
      "Annual volatility: 11.5%\n",
      "Sharpe Ratio: 0.26\n",
      "Expected annual return: 5.0%\n",
      "Annual volatility: 11.5%\n",
      "Sharpe Ratio: 0.26\n",
      "Expected annual return: 5.0%\n",
      "Annual volatility: 11.5%\n",
      "Sharpe Ratio: 0.26\n",
      "Expected annual return: 5.0%\n",
      "Annual volatility: 11.5%\n",
      "Sharpe Ratio: 0.26\n",
      "Expected annual return: 5.0%\n",
      "Annual volatility: 11.5%\n",
      "Sharpe Ratio: 0.26\n",
      "Expected annual return: 5.0%\n",
      "Annual volatility: 11.5%\n",
      "Sharpe Ratio: 0.26\n",
      "Expected annual return: 5.0%\n",
      "Annual volatility: 11.5%\n",
      "Sharpe Ratio: 0.26\n",
      "Expected annual return: 5.0%\n",
      "Annual volatility: 11.5%\n",
      "Sharpe Ratio: 0.26\n",
      "Expected annual return: 5.0%\n",
      "Annual volatility: 11.5%\n",
      "Sharpe Ratio: 0.26\n",
      "Expected annual return: 5.0%\n",
      "Annual volatility: 11.5%\n",
      "Sharpe Ratio: 0.26\n",
      "Expected annual return: 5.0%\n",
      "Annual volatility: 11.5%\n",
      "Sharpe Ratio: 0.26\n",
      "Expected annual return: 5.0%\n",
      "Annual volatility: 11.5%\n",
      "Sharpe Ratio: 0.26\n",
      "Expected annual return: 5.0%\n",
      "Annual volatility: 11.5%\n",
      "Sharpe Ratio: 0.26\n",
      "Expected annual return: 5.0%\n",
      "Annual volatility: 11.5%\n",
      "Sharpe Ratio: 0.26\n",
      "Expected annual return: 5.0%\n",
      "Annual volatility: 11.5%\n",
      "Sharpe Ratio: 0.26\n",
      "Expected annual return: 5.0%\n",
      "Annual volatility: 11.5%\n",
      "Sharpe Ratio: 0.26\n",
      "Expected annual return: 5.0%\n",
      "Annual volatility: 11.5%\n",
      "Sharpe Ratio: 0.26\n",
      "Expected annual return: 5.0%\n",
      "Annual volatility: 11.5%\n",
      "Sharpe Ratio: 0.26\n",
      "Expected annual return: 5.0%\n",
      "Annual volatility: 11.5%\n",
      "Sharpe Ratio: 0.26\n",
      "Expected annual return: 5.0%\n",
      "Annual volatility: 11.5%\n",
      "Sharpe Ratio: 0.26\n",
      "Expected annual return: 5.0%\n",
      "Annual volatility: 11.5%\n",
      "Sharpe Ratio: 0.26\n",
      "Expected annual return: 5.0%\n",
      "Annual volatility: 11.5%\n",
      "Sharpe Ratio: 0.26\n",
      "Expected annual return: 5.0%\n",
      "Annual volatility: 11.5%\n",
      "Sharpe Ratio: 0.26\n",
      "Expected annual return: 5.0%\n",
      "Annual volatility: 11.5%\n",
      "Sharpe Ratio: 0.26\n",
      "Expected annual return: 5.0%\n",
      "Annual volatility: 11.5%\n",
      "Sharpe Ratio: 0.26\n",
      "Expected annual return: 5.0%\n",
      "Annual volatility: 11.5%\n",
      "Sharpe Ratio: 0.26\n",
      "Expected annual return: 5.0%\n",
      "Annual volatility: 11.5%\n",
      "Sharpe Ratio: 0.26\n",
      "Expected annual return: 5.0%\n",
      "Annual volatility: 11.5%\n",
      "Sharpe Ratio: 0.26\n",
      "Expected annual return: 5.0%\n",
      "Annual volatility: 11.5%\n",
      "Sharpe Ratio: 0.26\n",
      "Expected annual return: 5.0%\n",
      "Annual volatility: 11.5%\n",
      "Sharpe Ratio: 0.26\n",
      "Expected annual return: 5.0%\n",
      "Annual volatility: 11.5%\n",
      "Sharpe Ratio: 0.26\n",
      "Expected annual return: 5.0%\n",
      "Annual volatility: 11.5%\n",
      "Sharpe Ratio: 0.26\n",
      "Expected annual return: 5.0%\n",
      "Annual volatility: 11.5%\n",
      "Sharpe Ratio: 0.26\n",
      "Expected annual return: 5.0%\n",
      "Annual volatility: 11.5%\n",
      "Sharpe Ratio: 0.26\n",
      "Expected annual return: 5.0%\n",
      "Annual volatility: 11.5%\n",
      "Sharpe Ratio: 0.26\n",
      "Expected annual return: 5.0%\n",
      "Annual volatility: 11.5%\n",
      "Sharpe Ratio: 0.26\n",
      "Expected annual return: 5.0%\n",
      "Annual volatility: 11.5%\n",
      "Sharpe Ratio: 0.26\n",
      "Expected annual return: 5.0%\n",
      "Annual volatility: 11.5%\n",
      "Sharpe Ratio: 0.26\n",
      "Expected annual return: 5.0%\n",
      "Annual volatility: 11.5%\n",
      "Sharpe Ratio: 0.26\n",
      "Expected annual return: 5.0%\n",
      "Annual volatility: 11.5%\n",
      "Sharpe Ratio: 0.26\n",
      "Expected annual return: 5.0%\n",
      "Annual volatility: 11.5%\n",
      "Sharpe Ratio: 0.26\n",
      "Expected annual return: 5.0%\n",
      "Annual volatility: 11.5%\n",
      "Sharpe Ratio: 0.26\n",
      "Expected annual return: 5.0%\n",
      "Annual volatility: 11.5%\n",
      "Sharpe Ratio: 0.26\n",
      "Expected annual return: 5.0%\n",
      "Annual volatility: 11.5%\n",
      "Sharpe Ratio: 0.26\n",
      "Expected annual return: 5.0%\n",
      "Annual volatility: 11.5%\n",
      "Sharpe Ratio: 0.26\n",
      "Expected annual return: 5.0%\n",
      "Annual volatility: 11.5%\n",
      "Sharpe Ratio: 0.26\n",
      "Expected annual return: 5.0%\n",
      "Annual volatility: 11.5%\n",
      "Sharpe Ratio: 0.26\n",
      "Expected annual return: 5.0%\n",
      "Annual volatility: 11.5%\n",
      "Sharpe Ratio: 0.26\n",
      "Expected annual return: 5.0%\n",
      "Annual volatility: 11.5%\n",
      "Sharpe Ratio: 0.26\n",
      "Expected annual return: 5.0%\n",
      "Annual volatility: 11.5%\n",
      "Sharpe Ratio: 0.26\n",
      "Expected annual return: 5.0%\n",
      "Annual volatility: 11.5%\n",
      "Sharpe Ratio: 0.26\n",
      "Expected annual return: 5.0%\n",
      "Annual volatility: 11.5%\n",
      "Sharpe Ratio: 0.26\n",
      "Expected annual return: 5.0%\n",
      "Annual volatility: 11.5%\n",
      "Sharpe Ratio: 0.26\n",
      "Expected annual return: 5.0%\n",
      "Annual volatility: 11.5%\n",
      "Sharpe Ratio: 0.26\n",
      "Expected annual return: 5.0%\n",
      "Annual volatility: 11.5%\n",
      "Sharpe Ratio: 0.26\n",
      "Expected annual return: 5.0%\n",
      "Annual volatility: 11.5%\n",
      "Sharpe Ratio: 0.26\n",
      "Expected annual return: 5.0%\n",
      "Annual volatility: 11.5%\n",
      "Sharpe Ratio: 0.26\n",
      "Expected annual return: 5.0%\n",
      "Annual volatility: 11.5%\n",
      "Sharpe Ratio: 0.26\n",
      "Expected annual return: 5.0%\n",
      "Annual volatility: 11.5%\n",
      "Sharpe Ratio: 0.26\n",
      "Expected annual return: 5.0%\n",
      "Annual volatility: 11.5%\n",
      "Sharpe Ratio: 0.26\n",
      "Expected annual return: 5.0%\n",
      "Annual volatility: 11.5%\n",
      "Sharpe Ratio: 0.26\n",
      "Expected annual return: 5.0%\n",
      "Annual volatility: 11.5%\n",
      "Sharpe Ratio: 0.26\n",
      "Expected annual return: 5.0%\n",
      "Annual volatility: 11.5%\n",
      "Sharpe Ratio: 0.26\n",
      "Expected annual return: 5.0%\n",
      "Annual volatility: 11.5%\n",
      "Sharpe Ratio: 0.26\n",
      "Expected annual return: 5.0%\n",
      "Annual volatility: 11.5%\n",
      "Sharpe Ratio: 0.26\n",
      "Expected annual return: 5.0%\n",
      "Annual volatility: 11.5%\n",
      "Sharpe Ratio: 0.26\n",
      "Expected annual return: 5.0%\n",
      "Annual volatility: 11.5%\n",
      "Sharpe Ratio: 0.26\n",
      "Expected annual return: 5.0%\n",
      "Annual volatility: 11.5%\n",
      "Sharpe Ratio: 0.26\n",
      "Expected annual return: 5.0%\n",
      "Annual volatility: 11.5%\n",
      "Sharpe Ratio: 0.26\n",
      "Expected annual return: 5.0%\n",
      "Annual volatility: 11.5%\n",
      "Sharpe Ratio: 0.26\n",
      "Expected annual return: 5.0%\n",
      "Annual volatility: 11.5%\n",
      "Sharpe Ratio: 0.26\n",
      "Expected annual return: 5.0%\n",
      "Annual volatility: 11.5%\n",
      "Sharpe Ratio: 0.26\n",
      "Expected annual return: 5.0%\n",
      "Annual volatility: 11.5%\n",
      "Sharpe Ratio: 0.26\n",
      "Expected annual return: 5.0%\n",
      "Annual volatility: 11.5%\n",
      "Sharpe Ratio: 0.26\n",
      "Expected annual return: 5.0%\n",
      "Annual volatility: 11.5%\n",
      "Sharpe Ratio: 0.26\n",
      "Expected annual return: 5.0%\n",
      "Annual volatility: 11.5%\n",
      "Sharpe Ratio: 0.26\n",
      "Expected annual return: 5.0%\n",
      "Annual volatility: 11.5%\n",
      "Sharpe Ratio: 0.26\n",
      "Expected annual return: 5.0%\n",
      "Annual volatility: 11.5%\n",
      "Sharpe Ratio: 0.26\n",
      "Expected annual return: 5.0%\n",
      "Annual volatility: 11.5%\n",
      "Sharpe Ratio: 0.26\n",
      "Expected annual return: 5.0%\n",
      "Annual volatility: 11.5%\n",
      "Sharpe Ratio: 0.26\n",
      "Expected annual return: 5.0%\n",
      "Annual volatility: 11.5%\n",
      "Sharpe Ratio: 0.26\n",
      "Expected annual return: 5.0%\n",
      "Annual volatility: 11.5%\n",
      "Sharpe Ratio: 0.26\n",
      "Expected annual return: 5.0%\n",
      "Annual volatility: 11.5%\n",
      "Sharpe Ratio: 0.26\n",
      "Expected annual return: 5.0%\n",
      "Annual volatility: 11.5%\n",
      "Sharpe Ratio: 0.26\n",
      "Expected annual return: 5.0%\n",
      "Annual volatility: 11.5%\n",
      "Sharpe Ratio: 0.26\n",
      "Expected annual return: 5.0%\n",
      "Annual volatility: 11.5%\n",
      "Sharpe Ratio: 0.26\n",
      "Expected annual return: 5.0%\n",
      "Annual volatility: 11.5%\n",
      "Sharpe Ratio: 0.26\n",
      "Expected annual return: 5.0%\n",
      "Annual volatility: 11.5%\n",
      "Sharpe Ratio: 0.26\n",
      "Expected annual return: 5.0%\n",
      "Annual volatility: 11.5%\n",
      "Sharpe Ratio: 0.26\n",
      "Expected annual return: 5.0%\n",
      "Annual volatility: 11.5%\n",
      "Sharpe Ratio: 0.26\n",
      "Expected annual return: 5.0%\n",
      "Annual volatility: 11.5%\n",
      "Sharpe Ratio: 0.26\n",
      "Expected annual return: 5.0%\n",
      "Annual volatility: 11.5%\n",
      "Sharpe Ratio: 0.26\n",
      "Expected annual return: 5.0%\n",
      "Annual volatility: 11.5%\n",
      "Sharpe Ratio: 0.26\n",
      "Expected annual return: 5.0%\n",
      "Annual volatility: 11.5%\n",
      "Sharpe Ratio: 0.26\n",
      "Expected annual return: 5.0%\n",
      "Annual volatility: 11.5%\n",
      "Sharpe Ratio: 0.26\n",
      "Expected annual return: 5.0%\n",
      "Annual volatility: 11.5%\n",
      "Sharpe Ratio: 0.26\n",
      "Expected annual return: 5.0%\n",
      "Annual volatility: 11.5%\n",
      "Sharpe Ratio: 0.26\n",
      "Expected annual return: 5.0%\n",
      "Annual volatility: 11.5%\n",
      "Sharpe Ratio: 0.26\n",
      "Expected annual return: 5.0%\n",
      "Annual volatility: 11.5%\n",
      "Sharpe Ratio: 0.26\n",
      "Expected annual return: 5.0%\n",
      "Annual volatility: 11.5%\n",
      "Sharpe Ratio: 0.26\n"
     ]
    },
    {
     "name": "stdout",
     "output_type": "stream",
     "text": [
      "Expected annual return: 5.0%\n",
      "Annual volatility: 11.5%\n",
      "Sharpe Ratio: 0.26\n",
      "Expected annual return: 5.0%\n",
      "Annual volatility: 11.5%\n",
      "Sharpe Ratio: 0.26\n",
      "Expected annual return: 5.0%\n",
      "Annual volatility: 11.5%\n",
      "Sharpe Ratio: 0.26\n",
      "Expected annual return: 5.0%\n",
      "Annual volatility: 11.5%\n",
      "Sharpe Ratio: 0.26\n",
      "Expected annual return: 5.0%\n",
      "Annual volatility: 11.5%\n",
      "Sharpe Ratio: 0.26\n",
      "Expected annual return: 5.0%\n",
      "Annual volatility: 11.5%\n",
      "Sharpe Ratio: 0.26\n",
      "Expected annual return: 5.0%\n",
      "Annual volatility: 11.5%\n",
      "Sharpe Ratio: 0.26\n",
      "Expected annual return: 5.0%\n",
      "Annual volatility: 11.5%\n",
      "Sharpe Ratio: 0.26\n",
      "Expected annual return: 5.0%\n",
      "Annual volatility: 11.5%\n",
      "Sharpe Ratio: 0.26\n",
      "Expected annual return: 5.0%\n",
      "Annual volatility: 11.5%\n",
      "Sharpe Ratio: 0.26\n",
      "Expected annual return: 5.0%\n",
      "Annual volatility: 11.5%\n",
      "Sharpe Ratio: 0.26\n",
      "Expected annual return: 5.0%\n",
      "Annual volatility: 11.5%\n",
      "Sharpe Ratio: 0.26\n",
      "Expected annual return: 5.0%\n",
      "Annual volatility: 11.5%\n",
      "Sharpe Ratio: 0.26\n",
      "Expected annual return: 5.0%\n",
      "Annual volatility: 11.5%\n",
      "Sharpe Ratio: 0.26\n",
      "Expected annual return: 5.0%\n",
      "Annual volatility: 11.5%\n",
      "Sharpe Ratio: 0.26\n",
      "Expected annual return: 5.0%\n",
      "Annual volatility: 11.5%\n",
      "Sharpe Ratio: 0.26\n",
      "Expected annual return: 5.0%\n",
      "Annual volatility: 11.5%\n",
      "Sharpe Ratio: 0.26\n",
      "Expected annual return: 5.0%\n",
      "Annual volatility: 11.5%\n",
      "Sharpe Ratio: 0.26\n",
      "Expected annual return: 5.0%\n",
      "Annual volatility: 11.5%\n",
      "Sharpe Ratio: 0.26\n",
      "Expected annual return: 5.0%\n",
      "Annual volatility: 11.5%\n",
      "Sharpe Ratio: 0.26\n",
      "Expected annual return: 5.0%\n",
      "Annual volatility: 11.5%\n",
      "Sharpe Ratio: 0.26\n",
      "Expected annual return: 5.0%\n",
      "Annual volatility: 11.5%\n",
      "Sharpe Ratio: 0.26\n",
      "Expected annual return: 5.0%\n",
      "Annual volatility: 11.5%\n",
      "Sharpe Ratio: 0.26\n",
      "Expected annual return: 5.0%\n",
      "Annual volatility: 11.5%\n",
      "Sharpe Ratio: 0.26\n",
      "Expected annual return: 5.0%\n",
      "Annual volatility: 11.5%\n",
      "Sharpe Ratio: 0.26\n",
      "Expected annual return: 5.0%\n",
      "Annual volatility: 11.5%\n",
      "Sharpe Ratio: 0.26\n",
      "Expected annual return: 5.0%\n",
      "Annual volatility: 11.5%\n",
      "Sharpe Ratio: 0.26\n",
      "Expected annual return: 5.0%\n",
      "Annual volatility: 11.5%\n",
      "Sharpe Ratio: 0.26\n",
      "Expected annual return: 5.0%\n",
      "Annual volatility: 11.5%\n",
      "Sharpe Ratio: 0.26\n",
      "Expected annual return: 5.0%\n",
      "Annual volatility: 11.5%\n",
      "Sharpe Ratio: 0.26\n",
      "Expected annual return: 5.0%\n",
      "Annual volatility: 11.5%\n",
      "Sharpe Ratio: 0.26\n",
      "Expected annual return: 5.0%\n",
      "Annual volatility: 11.5%\n",
      "Sharpe Ratio: 0.26\n",
      "Expected annual return: 5.0%\n",
      "Annual volatility: 11.5%\n",
      "Sharpe Ratio: 0.26\n",
      "Expected annual return: 5.0%\n",
      "Annual volatility: 11.5%\n",
      "Sharpe Ratio: 0.26\n",
      "Expected annual return: 5.0%\n",
      "Annual volatility: 11.5%\n",
      "Sharpe Ratio: 0.26\n",
      "Expected annual return: 5.0%\n",
      "Annual volatility: 11.5%\n",
      "Sharpe Ratio: 0.26\n",
      "Expected annual return: 5.0%\n",
      "Annual volatility: 11.5%\n",
      "Sharpe Ratio: 0.26\n",
      "Expected annual return: 5.0%\n",
      "Annual volatility: 11.5%\n",
      "Sharpe Ratio: 0.26\n",
      "Expected annual return: 5.0%\n",
      "Annual volatility: 11.5%\n",
      "Sharpe Ratio: 0.26\n",
      "Expected annual return: 5.0%\n",
      "Annual volatility: 11.5%\n",
      "Sharpe Ratio: 0.26\n",
      "Expected annual return: 5.0%\n",
      "Annual volatility: 11.5%\n",
      "Sharpe Ratio: 0.26\n",
      "Expected annual return: 5.0%\n",
      "Annual volatility: 11.5%\n",
      "Sharpe Ratio: 0.26\n",
      "Expected annual return: 5.0%\n",
      "Annual volatility: 11.5%\n",
      "Sharpe Ratio: 0.26\n",
      "Expected annual return: 5.0%\n",
      "Annual volatility: 11.5%\n",
      "Sharpe Ratio: 0.26\n",
      "Expected annual return: 5.0%\n",
      "Annual volatility: 11.5%\n",
      "Sharpe Ratio: 0.26\n",
      "Expected annual return: 5.0%\n",
      "Annual volatility: 11.5%\n",
      "Sharpe Ratio: 0.26\n",
      "Expected annual return: 5.0%\n",
      "Annual volatility: 11.5%\n",
      "Sharpe Ratio: 0.26\n",
      "Expected annual return: 5.0%\n",
      "Annual volatility: 11.5%\n",
      "Sharpe Ratio: 0.26\n",
      "Expected annual return: 5.0%\n",
      "Annual volatility: 11.5%\n",
      "Sharpe Ratio: 0.26\n",
      "Expected annual return: 5.0%\n",
      "Annual volatility: 11.5%\n",
      "Sharpe Ratio: 0.26\n",
      "Expected annual return: 5.0%\n",
      "Annual volatility: 11.5%\n",
      "Sharpe Ratio: 0.26\n",
      "Expected annual return: 5.0%\n",
      "Annual volatility: 11.5%\n",
      "Sharpe Ratio: 0.26\n",
      "Expected annual return: 5.0%\n",
      "Annual volatility: 11.5%\n",
      "Sharpe Ratio: 0.26\n",
      "Expected annual return: 5.0%\n",
      "Annual volatility: 11.5%\n",
      "Sharpe Ratio: 0.26\n",
      "Expected annual return: 5.0%\n",
      "Annual volatility: 11.5%\n",
      "Sharpe Ratio: 0.26\n",
      "Expected annual return: 5.0%\n",
      "Annual volatility: 11.5%\n",
      "Sharpe Ratio: 0.26\n",
      "Expected annual return: 5.0%\n",
      "Annual volatility: 11.5%\n",
      "Sharpe Ratio: 0.26\n",
      "Expected annual return: 5.0%\n",
      "Annual volatility: 11.5%\n",
      "Sharpe Ratio: 0.26\n",
      "Expected annual return: 5.0%\n",
      "Annual volatility: 11.5%\n",
      "Sharpe Ratio: 0.26\n",
      "Expected annual return: 5.0%\n",
      "Annual volatility: 11.5%\n",
      "Sharpe Ratio: 0.26\n",
      "Expected annual return: 5.0%\n",
      "Annual volatility: 11.5%\n",
      "Sharpe Ratio: 0.26\n",
      "Expected annual return: 5.0%\n",
      "Annual volatility: 11.5%\n",
      "Sharpe Ratio: 0.26\n",
      "Expected annual return: 5.0%\n",
      "Annual volatility: 11.5%\n",
      "Sharpe Ratio: 0.26\n",
      "Expected annual return: 5.0%\n",
      "Annual volatility: 11.5%\n",
      "Sharpe Ratio: 0.26\n",
      "Expected annual return: 5.0%\n",
      "Annual volatility: 11.5%\n",
      "Sharpe Ratio: 0.26\n",
      "Expected annual return: 5.0%\n",
      "Annual volatility: 11.5%\n",
      "Sharpe Ratio: 0.26\n",
      "Expected annual return: 5.0%\n",
      "Annual volatility: 11.5%\n",
      "Sharpe Ratio: 0.26\n",
      "Expected annual return: 5.0%\n",
      "Annual volatility: 11.5%\n",
      "Sharpe Ratio: 0.26\n",
      "Expected annual return: 5.0%\n",
      "Annual volatility: 11.5%\n",
      "Sharpe Ratio: 0.26\n",
      "Expected annual return: 5.0%\n",
      "Annual volatility: 11.5%\n",
      "Sharpe Ratio: 0.26\n",
      "Expected annual return: 5.0%\n",
      "Annual volatility: 11.5%\n",
      "Sharpe Ratio: 0.26\n",
      "Expected annual return: 5.0%\n",
      "Annual volatility: 11.5%\n",
      "Sharpe Ratio: 0.26\n",
      "Expected annual return: 5.0%\n",
      "Annual volatility: 11.5%\n",
      "Sharpe Ratio: 0.26\n",
      "Expected annual return: 5.0%\n",
      "Annual volatility: 11.5%\n",
      "Sharpe Ratio: 0.26\n",
      "Expected annual return: 5.0%\n",
      "Annual volatility: 11.5%\n",
      "Sharpe Ratio: 0.26\n",
      "Expected annual return: 5.0%\n",
      "Annual volatility: 11.5%\n",
      "Sharpe Ratio: 0.26\n",
      "Expected annual return: 5.0%\n",
      "Annual volatility: 11.5%\n",
      "Sharpe Ratio: 0.26\n",
      "Expected annual return: 5.0%\n",
      "Annual volatility: 11.5%\n",
      "Sharpe Ratio: 0.26\n",
      "Expected annual return: 5.0%\n",
      "Annual volatility: 11.5%\n",
      "Sharpe Ratio: 0.26\n",
      "Expected annual return: 5.0%\n",
      "Annual volatility: 11.5%\n",
      "Sharpe Ratio: 0.26\n",
      "Expected annual return: 5.0%\n",
      "Annual volatility: 11.5%\n",
      "Sharpe Ratio: 0.26\n",
      "Expected annual return: 5.0%\n",
      "Annual volatility: 11.5%\n",
      "Sharpe Ratio: 0.26\n",
      "Expected annual return: 5.0%\n",
      "Annual volatility: 11.5%\n",
      "Sharpe Ratio: 0.26\n",
      "Expected annual return: 5.0%\n",
      "Annual volatility: 11.5%\n",
      "Sharpe Ratio: 0.26\n",
      "Expected annual return: 5.0%\n",
      "Annual volatility: 11.5%\n",
      "Sharpe Ratio: 0.26\n",
      "Expected annual return: 5.0%\n",
      "Annual volatility: 11.5%\n",
      "Sharpe Ratio: 0.26\n",
      "Expected annual return: 5.0%\n",
      "Annual volatility: 11.5%\n",
      "Sharpe Ratio: 0.26\n",
      "Expected annual return: 5.0%\n",
      "Annual volatility: 11.5%\n",
      "Sharpe Ratio: 0.26\n",
      "Expected annual return: 5.0%\n",
      "Annual volatility: 11.5%\n",
      "Sharpe Ratio: 0.26\n",
      "Expected annual return: 5.0%\n",
      "Annual volatility: 11.5%\n",
      "Sharpe Ratio: 0.26\n",
      "Expected annual return: 5.0%\n",
      "Annual volatility: 11.5%\n",
      "Sharpe Ratio: 0.26\n",
      "Expected annual return: 5.0%\n",
      "Annual volatility: 11.5%\n",
      "Sharpe Ratio: 0.26\n",
      "Expected annual return: 5.0%\n",
      "Annual volatility: 11.5%\n",
      "Sharpe Ratio: 0.26\n",
      "Expected annual return: 5.0%\n",
      "Annual volatility: 11.5%\n",
      "Sharpe Ratio: 0.26\n",
      "Expected annual return: 5.0%\n",
      "Annual volatility: 11.5%\n",
      "Sharpe Ratio: 0.26\n",
      "Expected annual return: 5.0%\n",
      "Annual volatility: 11.5%\n",
      "Sharpe Ratio: 0.26\n",
      "Expected annual return: 5.0%\n",
      "Annual volatility: 11.5%\n",
      "Sharpe Ratio: 0.26\n",
      "Expected annual return: 5.0%\n",
      "Annual volatility: 11.5%\n",
      "Sharpe Ratio: 0.26\n",
      "Expected annual return: 5.0%\n",
      "Annual volatility: 11.5%\n",
      "Sharpe Ratio: 0.26\n",
      "Expected annual return: 5.0%\n",
      "Annual volatility: 11.5%\n",
      "Sharpe Ratio: 0.26\n",
      "Expected annual return: 5.0%\n",
      "Annual volatility: 11.5%\n",
      "Sharpe Ratio: 0.26\n",
      "Expected annual return: 5.0%\n",
      "Annual volatility: 11.5%\n",
      "Sharpe Ratio: 0.26\n",
      "Expected annual return: 5.0%\n",
      "Annual volatility: 11.5%\n",
      "Sharpe Ratio: 0.26\n",
      "Expected annual return: 5.0%\n",
      "Annual volatility: 11.5%\n",
      "Sharpe Ratio: 0.26\n",
      "Expected annual return: 5.0%\n",
      "Annual volatility: 11.5%\n",
      "Sharpe Ratio: 0.26\n",
      "Expected annual return: 5.0%\n",
      "Annual volatility: 11.5%\n",
      "Sharpe Ratio: 0.26\n",
      "Expected annual return: 5.0%\n",
      "Annual volatility: 11.5%\n",
      "Sharpe Ratio: 0.26\n",
      "Expected annual return: 5.0%\n",
      "Annual volatility: 11.5%\n",
      "Sharpe Ratio: 0.26\n",
      "Expected annual return: 5.0%\n",
      "Annual volatility: 11.5%\n",
      "Sharpe Ratio: 0.26\n",
      "Expected annual return: 5.0%\n",
      "Annual volatility: 11.5%\n",
      "Sharpe Ratio: 0.26\n",
      "Expected annual return: 5.0%\n",
      "Annual volatility: 11.5%\n",
      "Sharpe Ratio: 0.26\n",
      "Expected annual return: 5.0%\n",
      "Annual volatility: 11.5%\n",
      "Sharpe Ratio: 0.26\n",
      "Expected annual return: 5.0%\n",
      "Annual volatility: 11.5%\n",
      "Sharpe Ratio: 0.26\n",
      "Expected annual return: 5.0%\n",
      "Annual volatility: 11.5%\n",
      "Sharpe Ratio: 0.26\n",
      "Expected annual return: 5.0%\n",
      "Annual volatility: 11.5%\n",
      "Sharpe Ratio: 0.26\n",
      "Expected annual return: 5.0%\n",
      "Annual volatility: 11.5%\n",
      "Sharpe Ratio: 0.26\n",
      "Expected annual return: 5.0%\n",
      "Annual volatility: 11.5%\n",
      "Sharpe Ratio: 0.26\n",
      "Expected annual return: 5.0%\n",
      "Annual volatility: 11.5%\n",
      "Sharpe Ratio: 0.26\n",
      "Expected annual return: 5.0%\n",
      "Annual volatility: 11.5%\n",
      "Sharpe Ratio: 0.26\n",
      "Expected annual return: 5.0%\n",
      "Annual volatility: 11.5%\n",
      "Sharpe Ratio: 0.26\n",
      "Expected annual return: 5.0%\n",
      "Annual volatility: 11.5%\n",
      "Sharpe Ratio: 0.26\n",
      "Expected annual return: 5.0%\n",
      "Annual volatility: 11.5%\n",
      "Sharpe Ratio: 0.26\n",
      "Expected annual return: 5.0%\n",
      "Annual volatility: 11.5%\n",
      "Sharpe Ratio: 0.26\n"
     ]
    },
    {
     "name": "stdout",
     "output_type": "stream",
     "text": [
      "Expected annual return: 5.0%\n",
      "Annual volatility: 11.5%\n",
      "Sharpe Ratio: 0.26\n",
      "Expected annual return: 5.0%\n",
      "Annual volatility: 11.5%\n",
      "Sharpe Ratio: 0.26\n",
      "Expected annual return: 5.0%\n",
      "Annual volatility: 11.5%\n",
      "Sharpe Ratio: 0.26\n",
      "Expected annual return: 5.0%\n",
      "Annual volatility: 11.5%\n",
      "Sharpe Ratio: 0.26\n",
      "Expected annual return: 5.0%\n",
      "Annual volatility: 11.5%\n",
      "Sharpe Ratio: 0.26\n",
      "Expected annual return: 5.0%\n",
      "Annual volatility: 11.5%\n",
      "Sharpe Ratio: 0.26\n",
      "Expected annual return: 5.0%\n",
      "Annual volatility: 11.5%\n",
      "Sharpe Ratio: 0.26\n",
      "Expected annual return: 5.0%\n",
      "Annual volatility: 11.5%\n",
      "Sharpe Ratio: 0.26\n",
      "Expected annual return: 5.0%\n",
      "Annual volatility: 11.5%\n",
      "Sharpe Ratio: 0.26\n",
      "Expected annual return: 5.0%\n",
      "Annual volatility: 11.5%\n",
      "Sharpe Ratio: 0.26\n",
      "Expected annual return: 5.0%\n",
      "Annual volatility: 11.5%\n",
      "Sharpe Ratio: 0.26\n",
      "Expected annual return: 5.0%\n",
      "Annual volatility: 11.5%\n",
      "Sharpe Ratio: 0.26\n",
      "Expected annual return: 5.0%\n",
      "Annual volatility: 11.5%\n",
      "Sharpe Ratio: 0.26\n",
      "Expected annual return: 5.0%\n",
      "Annual volatility: 11.5%\n",
      "Sharpe Ratio: 0.26\n",
      "Expected annual return: 5.0%\n",
      "Annual volatility: 11.5%\n",
      "Sharpe Ratio: 0.26\n",
      "Expected annual return: 5.0%\n",
      "Annual volatility: 11.5%\n",
      "Sharpe Ratio: 0.26\n",
      "Expected annual return: 5.0%\n",
      "Annual volatility: 11.5%\n",
      "Sharpe Ratio: 0.26\n",
      "Expected annual return: 5.0%\n",
      "Annual volatility: 11.5%\n",
      "Sharpe Ratio: 0.26\n",
      "Expected annual return: 5.0%\n",
      "Annual volatility: 11.5%\n",
      "Sharpe Ratio: 0.26\n",
      "Expected annual return: 5.0%\n",
      "Annual volatility: 11.5%\n",
      "Sharpe Ratio: 0.26\n",
      "Expected annual return: 5.0%\n",
      "Annual volatility: 11.5%\n",
      "Sharpe Ratio: 0.26\n",
      "Expected annual return: 5.0%\n",
      "Annual volatility: 11.5%\n",
      "Sharpe Ratio: 0.26\n",
      "Expected annual return: 5.0%\n",
      "Annual volatility: 11.5%\n",
      "Sharpe Ratio: 0.26\n",
      "Expected annual return: 5.0%\n",
      "Annual volatility: 11.5%\n",
      "Sharpe Ratio: 0.26\n",
      "Expected annual return: 5.0%\n",
      "Annual volatility: 11.5%\n",
      "Sharpe Ratio: 0.26\n",
      "Expected annual return: 5.0%\n",
      "Annual volatility: 11.5%\n",
      "Sharpe Ratio: 0.26\n",
      "Expected annual return: 5.0%\n",
      "Annual volatility: 11.5%\n",
      "Sharpe Ratio: 0.26\n",
      "Expected annual return: 5.0%\n",
      "Annual volatility: 11.5%\n",
      "Sharpe Ratio: 0.26\n",
      "Expected annual return: 5.0%\n",
      "Annual volatility: 11.5%\n",
      "Sharpe Ratio: 0.26\n",
      "Expected annual return: 5.0%\n",
      "Annual volatility: 11.5%\n",
      "Sharpe Ratio: 0.26\n",
      "Expected annual return: 5.0%\n",
      "Annual volatility: 11.5%\n",
      "Sharpe Ratio: 0.26\n",
      "Expected annual return: 5.0%\n",
      "Annual volatility: 11.5%\n",
      "Sharpe Ratio: 0.26\n",
      "Expected annual return: 5.0%\n",
      "Annual volatility: 11.5%\n",
      "Sharpe Ratio: 0.26\n",
      "Expected annual return: 5.0%\n",
      "Annual volatility: 11.5%\n",
      "Sharpe Ratio: 0.26\n",
      "Expected annual return: 5.0%\n",
      "Annual volatility: 11.5%\n",
      "Sharpe Ratio: 0.26\n",
      "Expected annual return: 5.0%\n",
      "Annual volatility: 11.5%\n",
      "Sharpe Ratio: 0.26\n",
      "Expected annual return: 5.0%\n",
      "Annual volatility: 11.5%\n",
      "Sharpe Ratio: 0.26\n",
      "Expected annual return: 5.0%\n",
      "Annual volatility: 11.5%\n",
      "Sharpe Ratio: 0.26\n",
      "Expected annual return: 5.0%\n",
      "Annual volatility: 11.5%\n",
      "Sharpe Ratio: 0.26\n",
      "Expected annual return: 5.0%\n",
      "Annual volatility: 11.5%\n",
      "Sharpe Ratio: 0.26\n",
      "Expected annual return: 5.0%\n",
      "Annual volatility: 11.5%\n",
      "Sharpe Ratio: 0.26\n",
      "Expected annual return: 5.0%\n",
      "Annual volatility: 11.5%\n",
      "Sharpe Ratio: 0.26\n",
      "Expected annual return: 5.0%\n",
      "Annual volatility: 11.5%\n",
      "Sharpe Ratio: 0.26\n",
      "Expected annual return: 5.0%\n",
      "Annual volatility: 11.5%\n",
      "Sharpe Ratio: 0.26\n",
      "Expected annual return: 5.0%\n",
      "Annual volatility: 11.5%\n",
      "Sharpe Ratio: 0.26\n",
      "Expected annual return: 5.0%\n",
      "Annual volatility: 11.5%\n",
      "Sharpe Ratio: 0.26\n",
      "Expected annual return: 5.0%\n",
      "Annual volatility: 11.5%\n",
      "Sharpe Ratio: 0.26\n",
      "Expected annual return: 5.0%\n",
      "Annual volatility: 11.5%\n",
      "Sharpe Ratio: 0.26\n",
      "Expected annual return: 5.0%\n",
      "Annual volatility: 11.5%\n",
      "Sharpe Ratio: 0.26\n",
      "Expected annual return: 5.0%\n",
      "Annual volatility: 11.5%\n",
      "Sharpe Ratio: 0.26\n",
      "Expected annual return: 5.0%\n",
      "Annual volatility: 11.5%\n",
      "Sharpe Ratio: 0.26\n",
      "Expected annual return: 5.0%\n",
      "Annual volatility: 11.5%\n",
      "Sharpe Ratio: 0.26\n",
      "Expected annual return: 5.0%\n",
      "Annual volatility: 11.5%\n",
      "Sharpe Ratio: 0.26\n",
      "Expected annual return: 5.0%\n",
      "Annual volatility: 11.5%\n",
      "Sharpe Ratio: 0.26\n",
      "Expected annual return: 5.0%\n",
      "Annual volatility: 11.5%\n",
      "Sharpe Ratio: 0.26\n",
      "Expected annual return: 5.0%\n",
      "Annual volatility: 11.5%\n",
      "Sharpe Ratio: 0.26\n",
      "Expected annual return: 5.0%\n",
      "Annual volatility: 11.5%\n",
      "Sharpe Ratio: 0.26\n",
      "Expected annual return: 5.0%\n",
      "Annual volatility: 11.5%\n",
      "Sharpe Ratio: 0.26\n",
      "Expected annual return: 5.0%\n",
      "Annual volatility: 11.5%\n",
      "Sharpe Ratio: 0.26\n",
      "Expected annual return: 5.0%\n",
      "Annual volatility: 11.5%\n",
      "Sharpe Ratio: 0.26\n",
      "Expected annual return: 5.0%\n",
      "Annual volatility: 11.5%\n",
      "Sharpe Ratio: 0.26\n",
      "Expected annual return: 5.0%\n",
      "Annual volatility: 11.5%\n",
      "Sharpe Ratio: 0.26\n",
      "Expected annual return: 5.0%\n",
      "Annual volatility: 11.5%\n",
      "Sharpe Ratio: 0.26\n",
      "Expected annual return: 5.0%\n",
      "Annual volatility: 11.5%\n",
      "Sharpe Ratio: 0.26\n",
      "Expected annual return: 5.0%\n",
      "Annual volatility: 11.5%\n",
      "Sharpe Ratio: 0.26\n",
      "Expected annual return: 5.0%\n",
      "Annual volatility: 11.5%\n",
      "Sharpe Ratio: 0.26\n",
      "Expected annual return: 5.0%\n",
      "Annual volatility: 11.5%\n",
      "Sharpe Ratio: 0.26\n",
      "Expected annual return: 5.0%\n",
      "Annual volatility: 11.5%\n",
      "Sharpe Ratio: 0.26\n",
      "Expected annual return: 5.0%\n",
      "Annual volatility: 11.5%\n",
      "Sharpe Ratio: 0.26\n",
      "Expected annual return: 5.0%\n",
      "Annual volatility: 11.5%\n",
      "Sharpe Ratio: 0.26\n",
      "Expected annual return: 5.0%\n",
      "Annual volatility: 11.5%\n",
      "Sharpe Ratio: 0.26\n",
      "Expected annual return: 5.0%\n",
      "Annual volatility: 11.5%\n",
      "Sharpe Ratio: 0.26\n",
      "Expected annual return: 5.0%\n",
      "Annual volatility: 11.5%\n",
      "Sharpe Ratio: 0.26\n",
      "Expected annual return: 5.0%\n",
      "Annual volatility: 11.5%\n",
      "Sharpe Ratio: 0.26\n",
      "Expected annual return: 5.0%\n",
      "Annual volatility: 11.5%\n",
      "Sharpe Ratio: 0.26\n",
      "Expected annual return: 5.0%\n",
      "Annual volatility: 11.5%\n",
      "Sharpe Ratio: 0.26\n",
      "Expected annual return: 5.0%\n",
      "Annual volatility: 11.5%\n",
      "Sharpe Ratio: 0.26\n",
      "Expected annual return: 5.0%\n",
      "Annual volatility: 11.5%\n",
      "Sharpe Ratio: 0.26\n",
      "Expected annual return: 5.0%\n",
      "Annual volatility: 11.5%\n",
      "Sharpe Ratio: 0.26\n",
      "Expected annual return: 5.0%\n",
      "Annual volatility: 11.5%\n",
      "Sharpe Ratio: 0.26\n",
      "Expected annual return: 5.0%\n",
      "Annual volatility: 11.5%\n",
      "Sharpe Ratio: 0.26\n",
      "Expected annual return: 5.0%\n",
      "Annual volatility: 11.5%\n",
      "Sharpe Ratio: 0.26\n",
      "Expected annual return: 5.0%\n",
      "Annual volatility: 11.5%\n",
      "Sharpe Ratio: 0.26\n",
      "Expected annual return: 5.0%\n",
      "Annual volatility: 11.5%\n",
      "Sharpe Ratio: 0.26\n",
      "Expected annual return: 5.0%\n",
      "Annual volatility: 11.5%\n",
      "Sharpe Ratio: 0.26\n",
      "Expected annual return: 5.0%\n",
      "Annual volatility: 11.5%\n",
      "Sharpe Ratio: 0.26\n",
      "Expected annual return: 5.0%\n",
      "Annual volatility: 11.5%\n",
      "Sharpe Ratio: 0.26\n",
      "Expected annual return: 5.0%\n",
      "Annual volatility: 11.5%\n",
      "Sharpe Ratio: 0.26\n",
      "Expected annual return: 5.0%\n",
      "Annual volatility: 11.5%\n",
      "Sharpe Ratio: 0.26\n",
      "Expected annual return: 5.0%\n",
      "Annual volatility: 11.5%\n",
      "Sharpe Ratio: 0.26\n",
      "Expected annual return: 5.0%\n",
      "Annual volatility: 11.5%\n",
      "Sharpe Ratio: 0.26\n",
      "Expected annual return: 5.0%\n",
      "Annual volatility: 11.5%\n",
      "Sharpe Ratio: 0.26\n",
      "Expected annual return: 5.0%\n",
      "Annual volatility: 11.5%\n",
      "Sharpe Ratio: 0.26\n",
      "Expected annual return: 5.0%\n",
      "Annual volatility: 11.5%\n",
      "Sharpe Ratio: 0.26\n",
      "Expected annual return: 5.0%\n",
      "Annual volatility: 11.5%\n",
      "Sharpe Ratio: 0.26\n",
      "Expected annual return: 5.0%\n",
      "Annual volatility: 11.5%\n",
      "Sharpe Ratio: 0.26\n",
      "Expected annual return: 5.0%\n",
      "Annual volatility: 11.5%\n",
      "Sharpe Ratio: 0.26\n",
      "Expected annual return: 5.0%\n",
      "Annual volatility: 11.5%\n",
      "Sharpe Ratio: 0.26\n",
      "Expected annual return: 5.0%\n",
      "Annual volatility: 11.5%\n",
      "Sharpe Ratio: 0.26\n",
      "Expected annual return: 5.0%\n",
      "Annual volatility: 11.5%\n",
      "Sharpe Ratio: 0.26\n",
      "Expected annual return: 5.0%\n",
      "Annual volatility: 11.5%\n",
      "Sharpe Ratio: 0.26\n",
      "Expected annual return: 5.0%\n",
      "Annual volatility: 11.5%\n",
      "Sharpe Ratio: 0.26\n",
      "Expected annual return: 5.0%\n",
      "Annual volatility: 11.5%\n",
      "Sharpe Ratio: 0.26\n",
      "Expected annual return: 5.0%\n",
      "Annual volatility: 11.5%\n",
      "Sharpe Ratio: 0.26\n",
      "Expected annual return: 5.0%\n",
      "Annual volatility: 11.5%\n",
      "Sharpe Ratio: 0.26\n",
      "Expected annual return: 5.0%\n",
      "Annual volatility: 11.5%\n",
      "Sharpe Ratio: 0.26\n",
      "Expected annual return: 5.0%\n",
      "Annual volatility: 11.5%\n",
      "Sharpe Ratio: 0.26\n",
      "Expected annual return: 5.0%\n",
      "Annual volatility: 11.5%\n",
      "Sharpe Ratio: 0.26\n",
      "Expected annual return: 5.0%\n",
      "Annual volatility: 11.5%\n",
      "Sharpe Ratio: 0.26\n",
      "Expected annual return: 5.0%\n",
      "Annual volatility: 11.5%\n",
      "Sharpe Ratio: 0.26\n",
      "Expected annual return: 5.0%\n",
      "Annual volatility: 11.5%\n",
      "Sharpe Ratio: 0.26\n",
      "Expected annual return: 5.0%\n",
      "Annual volatility: 11.5%\n",
      "Sharpe Ratio: 0.26\n",
      "Expected annual return: 5.0%\n",
      "Annual volatility: 11.5%\n",
      "Sharpe Ratio: 0.26\n",
      "Expected annual return: 5.0%\n",
      "Annual volatility: 11.5%\n",
      "Sharpe Ratio: 0.26\n",
      "Expected annual return: 5.0%\n",
      "Annual volatility: 11.5%\n",
      "Sharpe Ratio: 0.26\n",
      "Expected annual return: 5.0%\n",
      "Annual volatility: 11.5%\n",
      "Sharpe Ratio: 0.26\n",
      "Expected annual return: 5.0%\n",
      "Annual volatility: 11.5%\n",
      "Sharpe Ratio: 0.26\n",
      "Expected annual return: 5.0%\n",
      "Annual volatility: 11.5%\n",
      "Sharpe Ratio: 0.26\n",
      "Expected annual return: 5.0%\n",
      "Annual volatility: 11.5%\n",
      "Sharpe Ratio: 0.26\n",
      "Expected annual return: 5.0%\n",
      "Annual volatility: 11.5%\n",
      "Sharpe Ratio: 0.26\n",
      "Expected annual return: 5.0%\n",
      "Annual volatility: 11.5%\n",
      "Sharpe Ratio: 0.26\n",
      "Expected annual return: 5.0%\n",
      "Annual volatility: 11.5%\n",
      "Sharpe Ratio: 0.26\n"
     ]
    },
    {
     "name": "stdout",
     "output_type": "stream",
     "text": [
      "Expected annual return: 5.0%\n",
      "Annual volatility: 11.5%\n",
      "Sharpe Ratio: 0.26\n",
      "Expected annual return: 5.0%\n",
      "Annual volatility: 11.5%\n",
      "Sharpe Ratio: 0.26\n",
      "Expected annual return: 5.0%\n",
      "Annual volatility: 11.5%\n",
      "Sharpe Ratio: 0.26\n",
      "Expected annual return: 5.0%\n",
      "Annual volatility: 11.5%\n",
      "Sharpe Ratio: 0.26\n",
      "Expected annual return: 5.0%\n",
      "Annual volatility: 11.5%\n",
      "Sharpe Ratio: 0.26\n",
      "Expected annual return: 5.0%\n",
      "Annual volatility: 11.5%\n",
      "Sharpe Ratio: 0.26\n",
      "Expected annual return: 5.0%\n",
      "Annual volatility: 11.5%\n",
      "Sharpe Ratio: 0.26\n",
      "Expected annual return: 5.0%\n",
      "Annual volatility: 11.5%\n",
      "Sharpe Ratio: 0.26\n",
      "Expected annual return: 5.0%\n",
      "Annual volatility: 11.5%\n",
      "Sharpe Ratio: 0.26\n",
      "Expected annual return: 5.0%\n",
      "Annual volatility: 11.5%\n",
      "Sharpe Ratio: 0.26\n",
      "Expected annual return: 5.0%\n",
      "Annual volatility: 11.5%\n",
      "Sharpe Ratio: 0.26\n",
      "Expected annual return: 5.0%\n",
      "Annual volatility: 11.5%\n",
      "Sharpe Ratio: 0.26\n",
      "Expected annual return: 5.0%\n",
      "Annual volatility: 11.5%\n",
      "Sharpe Ratio: 0.26\n",
      "Expected annual return: 5.0%\n",
      "Annual volatility: 11.5%\n",
      "Sharpe Ratio: 0.26\n",
      "Expected annual return: 5.0%\n",
      "Annual volatility: 11.5%\n",
      "Sharpe Ratio: 0.26\n",
      "Expected annual return: 5.0%\n",
      "Annual volatility: 11.5%\n",
      "Sharpe Ratio: 0.26\n",
      "Expected annual return: 5.0%\n",
      "Annual volatility: 11.5%\n",
      "Sharpe Ratio: 0.26\n",
      "Expected annual return: 5.0%\n",
      "Annual volatility: 11.5%\n",
      "Sharpe Ratio: 0.26\n",
      "Expected annual return: 5.0%\n",
      "Annual volatility: 11.5%\n",
      "Sharpe Ratio: 0.26\n",
      "Expected annual return: 5.0%\n",
      "Annual volatility: 11.5%\n",
      "Sharpe Ratio: 0.26\n",
      "Expected annual return: 5.0%\n",
      "Annual volatility: 11.5%\n",
      "Sharpe Ratio: 0.26\n",
      "Expected annual return: 5.0%\n",
      "Annual volatility: 11.5%\n",
      "Sharpe Ratio: 0.26\n",
      "Expected annual return: 5.0%\n",
      "Annual volatility: 11.5%\n",
      "Sharpe Ratio: 0.26\n",
      "Expected annual return: 5.0%\n",
      "Annual volatility: 11.5%\n",
      "Sharpe Ratio: 0.26\n",
      "Expected annual return: 5.0%\n",
      "Annual volatility: 11.5%\n",
      "Sharpe Ratio: 0.26\n",
      "Expected annual return: 5.0%\n",
      "Annual volatility: 11.5%\n",
      "Sharpe Ratio: 0.26\n",
      "Expected annual return: 5.0%\n",
      "Annual volatility: 11.5%\n",
      "Sharpe Ratio: 0.26\n",
      "Expected annual return: 5.0%\n",
      "Annual volatility: 11.5%\n",
      "Sharpe Ratio: 0.26\n",
      "Expected annual return: 5.0%\n",
      "Annual volatility: 11.5%\n",
      "Sharpe Ratio: 0.26\n",
      "Expected annual return: 5.0%\n",
      "Annual volatility: 11.5%\n",
      "Sharpe Ratio: 0.26\n",
      "Expected annual return: 5.0%\n",
      "Annual volatility: 11.5%\n",
      "Sharpe Ratio: 0.26\n",
      "Expected annual return: 5.0%\n",
      "Annual volatility: 11.5%\n",
      "Sharpe Ratio: 0.26\n",
      "Expected annual return: 5.0%\n",
      "Annual volatility: 11.5%\n",
      "Sharpe Ratio: 0.26\n",
      "Expected annual return: 5.0%\n",
      "Annual volatility: 11.5%\n",
      "Sharpe Ratio: 0.26\n",
      "Expected annual return: 5.0%\n",
      "Annual volatility: 11.5%\n",
      "Sharpe Ratio: 0.26\n",
      "Expected annual return: 5.0%\n",
      "Annual volatility: 11.5%\n",
      "Sharpe Ratio: 0.26\n",
      "Expected annual return: 5.0%\n",
      "Annual volatility: 11.5%\n",
      "Sharpe Ratio: 0.26\n",
      "Expected annual return: 5.0%\n",
      "Annual volatility: 11.5%\n",
      "Sharpe Ratio: 0.26\n",
      "Expected annual return: 5.0%\n",
      "Annual volatility: 11.5%\n",
      "Sharpe Ratio: 0.26\n",
      "Expected annual return: 5.0%\n",
      "Annual volatility: 11.5%\n",
      "Sharpe Ratio: 0.26\n",
      "Expected annual return: 5.0%\n",
      "Annual volatility: 11.5%\n",
      "Sharpe Ratio: 0.26\n",
      "Expected annual return: 5.0%\n",
      "Annual volatility: 11.5%\n",
      "Sharpe Ratio: 0.26\n",
      "Expected annual return: 5.0%\n",
      "Annual volatility: 11.5%\n",
      "Sharpe Ratio: 0.26\n",
      "Expected annual return: 5.0%\n",
      "Annual volatility: 11.5%\n",
      "Sharpe Ratio: 0.26\n",
      "Expected annual return: 5.0%\n",
      "Annual volatility: 11.5%\n",
      "Sharpe Ratio: 0.26\n",
      "Expected annual return: 5.0%\n",
      "Annual volatility: 11.5%\n",
      "Sharpe Ratio: 0.26\n",
      "Expected annual return: 5.0%\n",
      "Annual volatility: 11.5%\n",
      "Sharpe Ratio: 0.26\n",
      "Expected annual return: 5.0%\n",
      "Annual volatility: 11.5%\n",
      "Sharpe Ratio: 0.26\n",
      "Expected annual return: 5.0%\n",
      "Annual volatility: 11.5%\n",
      "Sharpe Ratio: 0.26\n",
      "Expected annual return: 5.0%\n",
      "Annual volatility: 11.5%\n",
      "Sharpe Ratio: 0.26\n",
      "Expected annual return: 5.0%\n",
      "Annual volatility: 11.5%\n",
      "Sharpe Ratio: 0.26\n",
      "Expected annual return: 5.0%\n",
      "Annual volatility: 11.5%\n",
      "Sharpe Ratio: 0.26\n",
      "Expected annual return: 5.0%\n",
      "Annual volatility: 11.5%\n",
      "Sharpe Ratio: 0.26\n",
      "Expected annual return: 5.0%\n",
      "Annual volatility: 11.5%\n",
      "Sharpe Ratio: 0.26\n",
      "Expected annual return: 5.0%\n",
      "Annual volatility: 11.5%\n",
      "Sharpe Ratio: 0.26\n",
      "Expected annual return: 5.0%\n",
      "Annual volatility: 11.5%\n",
      "Sharpe Ratio: 0.26\n",
      "Expected annual return: 5.0%\n",
      "Annual volatility: 11.5%\n",
      "Sharpe Ratio: 0.26\n",
      "Expected annual return: 5.0%\n",
      "Annual volatility: 11.5%\n",
      "Sharpe Ratio: 0.26\n",
      "Expected annual return: 5.0%\n",
      "Annual volatility: 11.5%\n",
      "Sharpe Ratio: 0.26\n",
      "Expected annual return: 5.0%\n",
      "Annual volatility: 11.5%\n",
      "Sharpe Ratio: 0.26\n",
      "Expected annual return: 5.0%\n",
      "Annual volatility: 11.5%\n",
      "Sharpe Ratio: 0.26\n",
      "Expected annual return: 5.0%\n",
      "Annual volatility: 11.5%\n",
      "Sharpe Ratio: 0.26\n",
      "Expected annual return: 5.0%\n",
      "Annual volatility: 11.5%\n",
      "Sharpe Ratio: 0.26\n",
      "Expected annual return: 5.0%\n",
      "Annual volatility: 11.5%\n",
      "Sharpe Ratio: 0.26\n",
      "Expected annual return: 5.0%\n",
      "Annual volatility: 11.5%\n",
      "Sharpe Ratio: 0.26\n",
      "Expected annual return: 5.0%\n",
      "Annual volatility: 11.5%\n",
      "Sharpe Ratio: 0.26\n",
      "Expected annual return: 5.0%\n",
      "Annual volatility: 11.5%\n",
      "Sharpe Ratio: 0.26\n",
      "Expected annual return: 5.0%\n",
      "Annual volatility: 11.5%\n",
      "Sharpe Ratio: 0.26\n",
      "Expected annual return: 5.0%\n",
      "Annual volatility: 11.5%\n",
      "Sharpe Ratio: 0.26\n",
      "Expected annual return: 5.0%\n",
      "Annual volatility: 11.5%\n",
      "Sharpe Ratio: 0.26\n",
      "Expected annual return: 5.0%\n",
      "Annual volatility: 11.5%\n",
      "Sharpe Ratio: 0.26\n",
      "Expected annual return: 5.0%\n",
      "Annual volatility: 11.5%\n",
      "Sharpe Ratio: 0.26\n",
      "Expected annual return: 5.0%\n",
      "Annual volatility: 11.5%\n",
      "Sharpe Ratio: 0.26\n",
      "Expected annual return: 5.0%\n",
      "Annual volatility: 11.5%\n",
      "Sharpe Ratio: 0.26\n",
      "Expected annual return: 5.0%\n",
      "Annual volatility: 11.5%\n",
      "Sharpe Ratio: 0.26\n",
      "Expected annual return: 5.0%\n",
      "Annual volatility: 11.5%\n",
      "Sharpe Ratio: 0.26\n",
      "Expected annual return: 5.0%\n",
      "Annual volatility: 11.5%\n",
      "Sharpe Ratio: 0.26\n",
      "Expected annual return: 5.0%\n",
      "Annual volatility: 11.5%\n",
      "Sharpe Ratio: 0.26\n",
      "Expected annual return: 5.0%\n",
      "Annual volatility: 11.5%\n",
      "Sharpe Ratio: 0.26\n",
      "Expected annual return: 5.0%\n",
      "Annual volatility: 11.5%\n",
      "Sharpe Ratio: 0.26\n",
      "Expected annual return: 5.0%\n",
      "Annual volatility: 11.5%\n",
      "Sharpe Ratio: 0.26\n",
      "Expected annual return: 5.0%\n",
      "Annual volatility: 11.5%\n",
      "Sharpe Ratio: 0.26\n",
      "Expected annual return: 5.0%\n",
      "Annual volatility: 11.5%\n",
      "Sharpe Ratio: 0.26\n",
      "Expected annual return: 5.0%\n",
      "Annual volatility: 11.5%\n",
      "Sharpe Ratio: 0.26\n",
      "Expected annual return: 5.0%\n",
      "Annual volatility: 11.5%\n",
      "Sharpe Ratio: 0.26\n",
      "Expected annual return: 5.0%\n",
      "Annual volatility: 11.5%\n",
      "Sharpe Ratio: 0.26\n",
      "Expected annual return: 5.0%\n",
      "Annual volatility: 11.5%\n",
      "Sharpe Ratio: 0.26\n",
      "Expected annual return: 5.0%\n",
      "Annual volatility: 11.5%\n",
      "Sharpe Ratio: 0.26\n",
      "Expected annual return: 5.0%\n",
      "Annual volatility: 11.5%\n",
      "Sharpe Ratio: 0.26\n",
      "Expected annual return: 5.0%\n",
      "Annual volatility: 11.5%\n",
      "Sharpe Ratio: 0.26\n",
      "Expected annual return: 5.0%\n",
      "Annual volatility: 11.5%\n",
      "Sharpe Ratio: 0.26\n",
      "Expected annual return: 5.0%\n",
      "Annual volatility: 11.5%\n",
      "Sharpe Ratio: 0.26\n",
      "Expected annual return: 5.0%\n",
      "Annual volatility: 11.5%\n",
      "Sharpe Ratio: 0.26\n",
      "Expected annual return: 5.0%\n",
      "Annual volatility: 11.5%\n",
      "Sharpe Ratio: 0.26\n",
      "Expected annual return: 5.0%\n",
      "Annual volatility: 11.5%\n",
      "Sharpe Ratio: 0.26\n",
      "Expected annual return: 5.0%\n",
      "Annual volatility: 11.5%\n",
      "Sharpe Ratio: 0.26\n",
      "Expected annual return: 5.0%\n",
      "Annual volatility: 11.5%\n",
      "Sharpe Ratio: 0.26\n",
      "Expected annual return: 5.0%\n",
      "Annual volatility: 11.5%\n",
      "Sharpe Ratio: 0.26\n",
      "Expected annual return: 5.0%\n",
      "Annual volatility: 11.5%\n",
      "Sharpe Ratio: 0.26\n",
      "Expected annual return: 5.0%\n",
      "Annual volatility: 11.5%\n",
      "Sharpe Ratio: 0.26\n",
      "Expected annual return: 5.0%\n",
      "Annual volatility: 11.5%\n",
      "Sharpe Ratio: 0.26\n",
      "Expected annual return: 5.0%\n",
      "Annual volatility: 11.5%\n",
      "Sharpe Ratio: 0.26\n",
      "Expected annual return: 5.0%\n",
      "Annual volatility: 11.5%\n",
      "Sharpe Ratio: 0.26\n",
      "Expected annual return: 5.0%\n",
      "Annual volatility: 11.5%\n",
      "Sharpe Ratio: 0.26\n",
      "Expected annual return: 5.0%\n",
      "Annual volatility: 11.5%\n",
      "Sharpe Ratio: 0.26\n",
      "Expected annual return: 5.0%\n",
      "Annual volatility: 11.5%\n",
      "Sharpe Ratio: 0.26\n",
      "Expected annual return: 5.0%\n",
      "Annual volatility: 11.5%\n",
      "Sharpe Ratio: 0.26\n",
      "Expected annual return: 5.0%\n",
      "Annual volatility: 11.5%\n",
      "Sharpe Ratio: 0.26\n",
      "Expected annual return: 5.0%\n",
      "Annual volatility: 11.5%\n",
      "Sharpe Ratio: 0.26\n",
      "Expected annual return: 5.0%\n",
      "Annual volatility: 11.5%\n",
      "Sharpe Ratio: 0.26\n",
      "Expected annual return: 5.0%\n",
      "Annual volatility: 11.5%\n",
      "Sharpe Ratio: 0.26\n",
      "Expected annual return: 5.0%\n",
      "Annual volatility: 11.5%\n",
      "Sharpe Ratio: 0.26\n",
      "Expected annual return: 5.0%\n",
      "Annual volatility: 11.5%\n",
      "Sharpe Ratio: 0.26\n",
      "Expected annual return: 5.0%\n",
      "Annual volatility: 11.5%\n",
      "Sharpe Ratio: 0.26\n",
      "Expected annual return: 5.0%\n",
      "Annual volatility: 11.5%\n",
      "Sharpe Ratio: 0.26\n",
      "Expected annual return: 5.0%\n",
      "Annual volatility: 11.5%\n",
      "Sharpe Ratio: 0.26\n",
      "Expected annual return: 5.0%\n",
      "Annual volatility: 11.5%\n",
      "Sharpe Ratio: 0.26\n",
      "Expected annual return: 5.0%\n",
      "Annual volatility: 11.5%\n",
      "Sharpe Ratio: 0.26\n",
      "Expected annual return: 5.0%\n",
      "Annual volatility: 11.5%\n",
      "Sharpe Ratio: 0.26\n",
      "Expected annual return: 5.0%\n",
      "Annual volatility: 11.5%\n",
      "Sharpe Ratio: 0.26\n",
      "Expected annual return: 5.0%\n",
      "Annual volatility: 11.5%\n",
      "Sharpe Ratio: 0.26\n",
      "Expected annual return: 5.0%\n",
      "Annual volatility: 11.5%\n",
      "Sharpe Ratio: 0.26\n"
     ]
    },
    {
     "name": "stdout",
     "output_type": "stream",
     "text": [
      "Expected annual return: 5.0%\n",
      "Annual volatility: 11.5%\n",
      "Sharpe Ratio: 0.26\n",
      "Expected annual return: 5.0%\n",
      "Annual volatility: 11.5%\n",
      "Sharpe Ratio: 0.26\n",
      "Expected annual return: 5.0%\n",
      "Annual volatility: 11.5%\n",
      "Sharpe Ratio: 0.26\n",
      "Expected annual return: 5.0%\n",
      "Annual volatility: 11.5%\n",
      "Sharpe Ratio: 0.26\n",
      "Expected annual return: 5.0%\n",
      "Annual volatility: 11.5%\n",
      "Sharpe Ratio: 0.26\n",
      "Expected annual return: 5.0%\n",
      "Annual volatility: 11.5%\n",
      "Sharpe Ratio: 0.26\n",
      "Expected annual return: 5.0%\n",
      "Annual volatility: 11.5%\n",
      "Sharpe Ratio: 0.26\n",
      "Expected annual return: 5.0%\n",
      "Annual volatility: 11.5%\n",
      "Sharpe Ratio: 0.26\n",
      "Expected annual return: 5.0%\n",
      "Annual volatility: 11.5%\n",
      "Sharpe Ratio: 0.26\n",
      "Expected annual return: 5.0%\n",
      "Annual volatility: 11.5%\n",
      "Sharpe Ratio: 0.26\n",
      "Expected annual return: 5.0%\n",
      "Annual volatility: 11.5%\n",
      "Sharpe Ratio: 0.26\n",
      "Expected annual return: 5.0%\n",
      "Annual volatility: 11.5%\n",
      "Sharpe Ratio: 0.26\n",
      "Expected annual return: 5.0%\n",
      "Annual volatility: 11.5%\n",
      "Sharpe Ratio: 0.26\n",
      "Expected annual return: 5.0%\n",
      "Annual volatility: 11.5%\n",
      "Sharpe Ratio: 0.26\n",
      "Expected annual return: 5.0%\n",
      "Annual volatility: 11.5%\n",
      "Sharpe Ratio: 0.26\n",
      "Expected annual return: 5.0%\n",
      "Annual volatility: 11.5%\n",
      "Sharpe Ratio: 0.26\n",
      "Expected annual return: 5.0%\n",
      "Annual volatility: 11.5%\n",
      "Sharpe Ratio: 0.26\n",
      "Expected annual return: 5.0%\n",
      "Annual volatility: 11.5%\n",
      "Sharpe Ratio: 0.26\n",
      "Expected annual return: 5.0%\n",
      "Annual volatility: 11.5%\n",
      "Sharpe Ratio: 0.26\n",
      "Expected annual return: 5.0%\n",
      "Annual volatility: 11.5%\n",
      "Sharpe Ratio: 0.26\n",
      "Expected annual return: 5.0%\n",
      "Annual volatility: 11.5%\n",
      "Sharpe Ratio: 0.26\n",
      "Expected annual return: 5.0%\n",
      "Annual volatility: 11.5%\n",
      "Sharpe Ratio: 0.26\n",
      "Expected annual return: 5.0%\n",
      "Annual volatility: 11.5%\n",
      "Sharpe Ratio: 0.26\n",
      "Expected annual return: 5.0%\n",
      "Annual volatility: 11.5%\n",
      "Sharpe Ratio: 0.26\n",
      "Expected annual return: 5.0%\n",
      "Annual volatility: 11.5%\n",
      "Sharpe Ratio: 0.26\n",
      "Expected annual return: 5.0%\n",
      "Annual volatility: 11.5%\n",
      "Sharpe Ratio: 0.26\n",
      "Expected annual return: 5.0%\n",
      "Annual volatility: 11.5%\n",
      "Sharpe Ratio: 0.26\n",
      "Expected annual return: 5.0%\n",
      "Annual volatility: 11.5%\n",
      "Sharpe Ratio: 0.26\n",
      "Expected annual return: 5.0%\n",
      "Annual volatility: 11.5%\n",
      "Sharpe Ratio: 0.26\n",
      "Expected annual return: 5.0%\n",
      "Annual volatility: 11.5%\n",
      "Sharpe Ratio: 0.26\n",
      "Expected annual return: 5.0%\n",
      "Annual volatility: 11.5%\n",
      "Sharpe Ratio: 0.26\n",
      "Expected annual return: 5.0%\n",
      "Annual volatility: 11.5%\n",
      "Sharpe Ratio: 0.26\n",
      "Expected annual return: 5.0%\n",
      "Annual volatility: 11.5%\n",
      "Sharpe Ratio: 0.26\n",
      "Expected annual return: 5.0%\n",
      "Annual volatility: 11.5%\n",
      "Sharpe Ratio: 0.26\n",
      "Expected annual return: 5.0%\n",
      "Annual volatility: 11.5%\n",
      "Sharpe Ratio: 0.26\n",
      "Expected annual return: 5.0%\n",
      "Annual volatility: 11.5%\n",
      "Sharpe Ratio: 0.26\n",
      "Expected annual return: 5.0%\n",
      "Annual volatility: 11.5%\n",
      "Sharpe Ratio: 0.26\n",
      "Expected annual return: 5.0%\n",
      "Annual volatility: 11.5%\n",
      "Sharpe Ratio: 0.26\n",
      "Expected annual return: 5.0%\n",
      "Annual volatility: 11.5%\n",
      "Sharpe Ratio: 0.26\n",
      "Expected annual return: 5.0%\n",
      "Annual volatility: 11.5%\n",
      "Sharpe Ratio: 0.26\n",
      "Expected annual return: 5.0%\n",
      "Annual volatility: 11.5%\n",
      "Sharpe Ratio: 0.26\n",
      "Expected annual return: 5.0%\n",
      "Annual volatility: 11.5%\n",
      "Sharpe Ratio: 0.26\n",
      "Expected annual return: 5.0%\n",
      "Annual volatility: 11.5%\n",
      "Sharpe Ratio: 0.26\n",
      "Expected annual return: 5.0%\n",
      "Annual volatility: 11.5%\n",
      "Sharpe Ratio: 0.26\n",
      "Expected annual return: 5.0%\n",
      "Annual volatility: 11.5%\n",
      "Sharpe Ratio: 0.26\n",
      "Expected annual return: 5.0%\n",
      "Annual volatility: 11.5%\n",
      "Sharpe Ratio: 0.26\n",
      "Expected annual return: 5.0%\n",
      "Annual volatility: 11.5%\n",
      "Sharpe Ratio: 0.26\n",
      "Expected annual return: 5.0%\n",
      "Annual volatility: 11.5%\n",
      "Sharpe Ratio: 0.26\n",
      "Expected annual return: 5.0%\n",
      "Annual volatility: 11.5%\n",
      "Sharpe Ratio: 0.26\n",
      "Expected annual return: 5.0%\n",
      "Annual volatility: 11.5%\n",
      "Sharpe Ratio: 0.26\n",
      "Expected annual return: 5.0%\n",
      "Annual volatility: 11.5%\n",
      "Sharpe Ratio: 0.26\n",
      "Expected annual return: 5.0%\n",
      "Annual volatility: 11.5%\n",
      "Sharpe Ratio: 0.26\n",
      "Expected annual return: 5.0%\n",
      "Annual volatility: 11.5%\n",
      "Sharpe Ratio: 0.26\n",
      "Expected annual return: 5.0%\n",
      "Annual volatility: 11.5%\n",
      "Sharpe Ratio: 0.26\n",
      "Expected annual return: 5.0%\n",
      "Annual volatility: 11.5%\n",
      "Sharpe Ratio: 0.26\n",
      "Expected annual return: 5.0%\n",
      "Annual volatility: 11.5%\n",
      "Sharpe Ratio: 0.26\n",
      "Expected annual return: 5.0%\n",
      "Annual volatility: 11.5%\n",
      "Sharpe Ratio: 0.26\n",
      "Expected annual return: 5.0%\n",
      "Annual volatility: 11.5%\n",
      "Sharpe Ratio: 0.26\n",
      "Expected annual return: 5.0%\n",
      "Annual volatility: 11.5%\n",
      "Sharpe Ratio: 0.26\n",
      "Expected annual return: 5.0%\n",
      "Annual volatility: 11.5%\n",
      "Sharpe Ratio: 0.26\n",
      "Expected annual return: 5.0%\n",
      "Annual volatility: 11.5%\n",
      "Sharpe Ratio: 0.26\n",
      "Expected annual return: 5.0%\n",
      "Annual volatility: 11.5%\n",
      "Sharpe Ratio: 0.26\n",
      "Expected annual return: 5.0%\n",
      "Annual volatility: 11.5%\n",
      "Sharpe Ratio: 0.26\n",
      "Expected annual return: 5.0%\n",
      "Annual volatility: 11.5%\n",
      "Sharpe Ratio: 0.26\n",
      "Expected annual return: 5.0%\n",
      "Annual volatility: 11.5%\n",
      "Sharpe Ratio: 0.26\n",
      "Expected annual return: 5.0%\n",
      "Annual volatility: 11.5%\n",
      "Sharpe Ratio: 0.26\n",
      "Expected annual return: 5.0%\n",
      "Annual volatility: 11.5%\n",
      "Sharpe Ratio: 0.26\n",
      "Expected annual return: 5.0%\n",
      "Annual volatility: 11.5%\n",
      "Sharpe Ratio: 0.26\n",
      "Expected annual return: 5.0%\n",
      "Annual volatility: 11.5%\n",
      "Sharpe Ratio: 0.26\n",
      "Expected annual return: 5.0%\n",
      "Annual volatility: 11.5%\n",
      "Sharpe Ratio: 0.26\n",
      "Expected annual return: 5.0%\n",
      "Annual volatility: 11.5%\n",
      "Sharpe Ratio: 0.26\n",
      "Expected annual return: 5.0%\n",
      "Annual volatility: 11.5%\n",
      "Sharpe Ratio: 0.26\n",
      "Expected annual return: 5.0%\n",
      "Annual volatility: 11.5%\n",
      "Sharpe Ratio: 0.26\n",
      "Expected annual return: 5.0%\n",
      "Annual volatility: 11.5%\n",
      "Sharpe Ratio: 0.26\n",
      "Expected annual return: 5.0%\n",
      "Annual volatility: 11.5%\n",
      "Sharpe Ratio: 0.26\n",
      "Expected annual return: 5.0%\n",
      "Annual volatility: 11.5%\n",
      "Sharpe Ratio: 0.26\n",
      "Expected annual return: 5.0%\n",
      "Annual volatility: 11.5%\n",
      "Sharpe Ratio: 0.26\n",
      "Expected annual return: 5.0%\n",
      "Annual volatility: 11.5%\n",
      "Sharpe Ratio: 0.26\n",
      "Expected annual return: 5.0%\n",
      "Annual volatility: 11.5%\n",
      "Sharpe Ratio: 0.26\n",
      "Expected annual return: 5.0%\n",
      "Annual volatility: 11.5%\n",
      "Sharpe Ratio: 0.26\n",
      "Expected annual return: 5.0%\n",
      "Annual volatility: 11.5%\n",
      "Sharpe Ratio: 0.26\n",
      "Expected annual return: 5.0%\n",
      "Annual volatility: 11.5%\n",
      "Sharpe Ratio: 0.26\n",
      "Expected annual return: 5.0%\n",
      "Annual volatility: 11.5%\n",
      "Sharpe Ratio: 0.26\n",
      "Expected annual return: 5.0%\n",
      "Annual volatility: 11.5%\n",
      "Sharpe Ratio: 0.26\n",
      "Expected annual return: 5.0%\n",
      "Annual volatility: 11.5%\n",
      "Sharpe Ratio: 0.26\n",
      "Expected annual return: 5.0%\n",
      "Annual volatility: 11.5%\n",
      "Sharpe Ratio: 0.26\n",
      "Expected annual return: 5.0%\n",
      "Annual volatility: 11.5%\n",
      "Sharpe Ratio: 0.26\n",
      "Expected annual return: 5.0%\n",
      "Annual volatility: 11.5%\n",
      "Sharpe Ratio: 0.26\n",
      "Expected annual return: 5.0%\n",
      "Annual volatility: 11.5%\n",
      "Sharpe Ratio: 0.26\n",
      "Expected annual return: 5.0%\n",
      "Annual volatility: 11.5%\n",
      "Sharpe Ratio: 0.26\n",
      "Expected annual return: 5.0%\n",
      "Annual volatility: 11.5%\n",
      "Sharpe Ratio: 0.26\n",
      "Expected annual return: 5.0%\n",
      "Annual volatility: 11.5%\n",
      "Sharpe Ratio: 0.26\n",
      "Expected annual return: 5.0%\n",
      "Annual volatility: 11.5%\n",
      "Sharpe Ratio: 0.26\n",
      "Expected annual return: 5.0%\n",
      "Annual volatility: 11.5%\n",
      "Sharpe Ratio: 0.26\n",
      "Expected annual return: 5.0%\n",
      "Annual volatility: 11.5%\n",
      "Sharpe Ratio: 0.26\n",
      "Expected annual return: 5.0%\n",
      "Annual volatility: 11.5%\n",
      "Sharpe Ratio: 0.26\n",
      "Expected annual return: 5.0%\n",
      "Annual volatility: 11.5%\n",
      "Sharpe Ratio: 0.26\n",
      "Expected annual return: 5.0%\n",
      "Annual volatility: 11.5%\n",
      "Sharpe Ratio: 0.26\n",
      "Expected annual return: 5.0%\n",
      "Annual volatility: 11.5%\n",
      "Sharpe Ratio: 0.26\n",
      "Expected annual return: 5.0%\n",
      "Annual volatility: 11.5%\n",
      "Sharpe Ratio: 0.26\n",
      "Expected annual return: 5.0%\n",
      "Annual volatility: 11.5%\n",
      "Sharpe Ratio: 0.26\n",
      "Expected annual return: 5.0%\n",
      "Annual volatility: 11.5%\n",
      "Sharpe Ratio: 0.26\n",
      "Expected annual return: 5.0%\n",
      "Annual volatility: 11.5%\n",
      "Sharpe Ratio: 0.26\n",
      "Expected annual return: 5.0%\n",
      "Annual volatility: 11.5%\n",
      "Sharpe Ratio: 0.26\n",
      "Expected annual return: 5.0%\n",
      "Annual volatility: 11.5%\n",
      "Sharpe Ratio: 0.26\n",
      "Expected annual return: 5.0%\n",
      "Annual volatility: 11.5%\n",
      "Sharpe Ratio: 0.26\n",
      "Expected annual return: 5.0%\n",
      "Annual volatility: 11.5%\n",
      "Sharpe Ratio: 0.26\n",
      "Expected annual return: 5.0%\n",
      "Annual volatility: 11.5%\n",
      "Sharpe Ratio: 0.26\n",
      "Expected annual return: 5.0%\n",
      "Annual volatility: 11.5%\n",
      "Sharpe Ratio: 0.26\n",
      "Expected annual return: 5.0%\n",
      "Annual volatility: 11.5%\n",
      "Sharpe Ratio: 0.26\n",
      "Expected annual return: 5.0%\n",
      "Annual volatility: 11.5%\n",
      "Sharpe Ratio: 0.26\n",
      "Expected annual return: 5.0%\n",
      "Annual volatility: 11.5%\n",
      "Sharpe Ratio: 0.26\n",
      "Expected annual return: 5.0%\n",
      "Annual volatility: 11.5%\n",
      "Sharpe Ratio: 0.26\n",
      "Expected annual return: 5.0%\n",
      "Annual volatility: 11.5%\n",
      "Sharpe Ratio: 0.26\n",
      "Expected annual return: 5.0%\n",
      "Annual volatility: 11.5%\n",
      "Sharpe Ratio: 0.26\n",
      "Expected annual return: 5.0%\n",
      "Annual volatility: 11.5%\n",
      "Sharpe Ratio: 0.26\n",
      "Expected annual return: 5.0%\n",
      "Annual volatility: 11.5%\n",
      "Sharpe Ratio: 0.26\n",
      "Expected annual return: 5.0%\n",
      "Annual volatility: 11.5%\n",
      "Sharpe Ratio: 0.26\n",
      "Expected annual return: 5.0%\n",
      "Annual volatility: 11.5%\n",
      "Sharpe Ratio: 0.26\n",
      "Expected annual return: 5.0%\n",
      "Annual volatility: 11.5%\n",
      "Sharpe Ratio: 0.26\n",
      "Expected annual return: 5.0%\n",
      "Annual volatility: 11.5%\n",
      "Sharpe Ratio: 0.26\n",
      "Expected annual return: 5.0%\n",
      "Annual volatility: 11.5%\n",
      "Sharpe Ratio: 0.26\n"
     ]
    },
    {
     "name": "stdout",
     "output_type": "stream",
     "text": [
      "Expected annual return: 5.0%\n",
      "Annual volatility: 11.5%\n",
      "Sharpe Ratio: 0.26\n",
      "Expected annual return: 5.0%\n",
      "Annual volatility: 11.5%\n",
      "Sharpe Ratio: 0.26\n",
      "Expected annual return: 5.0%\n",
      "Annual volatility: 11.5%\n",
      "Sharpe Ratio: 0.26\n",
      "Expected annual return: 5.0%\n",
      "Annual volatility: 11.5%\n",
      "Sharpe Ratio: 0.26\n",
      "Expected annual return: 5.0%\n",
      "Annual volatility: 11.5%\n",
      "Sharpe Ratio: 0.26\n",
      "Expected annual return: 5.0%\n",
      "Annual volatility: 11.5%\n",
      "Sharpe Ratio: 0.26\n",
      "Expected annual return: 5.0%\n",
      "Annual volatility: 11.5%\n",
      "Sharpe Ratio: 0.26\n",
      "Expected annual return: 5.0%\n",
      "Annual volatility: 11.5%\n",
      "Sharpe Ratio: 0.26\n",
      "Expected annual return: 5.0%\n",
      "Annual volatility: 11.5%\n",
      "Sharpe Ratio: 0.26\n",
      "Expected annual return: 5.0%\n",
      "Annual volatility: 11.5%\n",
      "Sharpe Ratio: 0.26\n",
      "Expected annual return: 5.0%\n",
      "Annual volatility: 11.5%\n",
      "Sharpe Ratio: 0.26\n",
      "Expected annual return: 5.0%\n",
      "Annual volatility: 11.5%\n",
      "Sharpe Ratio: 0.26\n",
      "Expected annual return: 5.0%\n",
      "Annual volatility: 11.5%\n",
      "Sharpe Ratio: 0.26\n",
      "Expected annual return: 5.0%\n",
      "Annual volatility: 11.5%\n",
      "Sharpe Ratio: 0.26\n",
      "Expected annual return: 5.0%\n",
      "Annual volatility: 11.5%\n",
      "Sharpe Ratio: 0.26\n",
      "Expected annual return: 5.0%\n",
      "Annual volatility: 11.5%\n",
      "Sharpe Ratio: 0.26\n",
      "Expected annual return: 5.0%\n",
      "Annual volatility: 11.5%\n",
      "Sharpe Ratio: 0.26\n",
      "Expected annual return: 5.0%\n",
      "Annual volatility: 11.5%\n",
      "Sharpe Ratio: 0.26\n",
      "Expected annual return: 5.0%\n",
      "Annual volatility: 11.5%\n",
      "Sharpe Ratio: 0.26\n",
      "Expected annual return: 5.0%\n",
      "Annual volatility: 11.5%\n",
      "Sharpe Ratio: 0.26\n",
      "Expected annual return: 5.0%\n",
      "Annual volatility: 11.5%\n",
      "Sharpe Ratio: 0.26\n",
      "Expected annual return: 5.0%\n",
      "Annual volatility: 11.5%\n",
      "Sharpe Ratio: 0.26\n",
      "Expected annual return: 5.0%\n",
      "Annual volatility: 11.5%\n",
      "Sharpe Ratio: 0.26\n",
      "Expected annual return: 5.0%\n",
      "Annual volatility: 11.5%\n",
      "Sharpe Ratio: 0.26\n",
      "Expected annual return: 5.0%\n",
      "Annual volatility: 11.5%\n",
      "Sharpe Ratio: 0.26\n",
      "Expected annual return: 5.0%\n",
      "Annual volatility: 11.5%\n",
      "Sharpe Ratio: 0.26\n",
      "Expected annual return: 5.0%\n",
      "Annual volatility: 11.5%\n",
      "Sharpe Ratio: 0.26\n",
      "Expected annual return: 5.0%\n",
      "Annual volatility: 11.5%\n",
      "Sharpe Ratio: 0.26\n",
      "Expected annual return: 5.0%\n",
      "Annual volatility: 11.5%\n",
      "Sharpe Ratio: 0.26\n",
      "Expected annual return: 5.0%\n",
      "Annual volatility: 11.5%\n",
      "Sharpe Ratio: 0.26\n",
      "Expected annual return: 5.0%\n",
      "Annual volatility: 11.5%\n",
      "Sharpe Ratio: 0.26\n",
      "Expected annual return: 5.0%\n",
      "Annual volatility: 11.5%\n",
      "Sharpe Ratio: 0.26\n",
      "Expected annual return: 5.0%\n",
      "Annual volatility: 11.5%\n",
      "Sharpe Ratio: 0.26\n",
      "Expected annual return: 5.0%\n",
      "Annual volatility: 11.5%\n",
      "Sharpe Ratio: 0.26\n",
      "Expected annual return: 5.0%\n",
      "Annual volatility: 11.5%\n",
      "Sharpe Ratio: 0.26\n",
      "Expected annual return: 5.0%\n",
      "Annual volatility: 11.5%\n",
      "Sharpe Ratio: 0.26\n",
      "Expected annual return: 5.0%\n",
      "Annual volatility: 11.5%\n",
      "Sharpe Ratio: 0.26\n",
      "Expected annual return: 5.0%\n",
      "Annual volatility: 11.5%\n",
      "Sharpe Ratio: 0.26\n",
      "Expected annual return: 5.0%\n",
      "Annual volatility: 11.5%\n",
      "Sharpe Ratio: 0.26\n",
      "Expected annual return: 5.0%\n",
      "Annual volatility: 11.5%\n",
      "Sharpe Ratio: 0.26\n",
      "Expected annual return: 5.0%\n",
      "Annual volatility: 11.5%\n",
      "Sharpe Ratio: 0.26\n",
      "Expected annual return: 5.0%\n",
      "Annual volatility: 11.5%\n",
      "Sharpe Ratio: 0.26\n",
      "Expected annual return: 5.0%\n",
      "Annual volatility: 11.5%\n",
      "Sharpe Ratio: 0.26\n",
      "Expected annual return: 5.0%\n",
      "Annual volatility: 11.5%\n",
      "Sharpe Ratio: 0.26\n",
      "Expected annual return: 5.0%\n",
      "Annual volatility: 11.5%\n",
      "Sharpe Ratio: 0.26\n",
      "Expected annual return: 5.0%\n",
      "Annual volatility: 11.5%\n",
      "Sharpe Ratio: 0.26\n",
      "Expected annual return: 5.0%\n",
      "Annual volatility: 11.5%\n",
      "Sharpe Ratio: 0.26\n",
      "Expected annual return: 5.0%\n",
      "Annual volatility: 11.5%\n",
      "Sharpe Ratio: 0.26\n",
      "Expected annual return: 5.0%\n",
      "Annual volatility: 11.5%\n",
      "Sharpe Ratio: 0.26\n",
      "Expected annual return: 5.0%\n",
      "Annual volatility: 11.5%\n",
      "Sharpe Ratio: 0.26\n",
      "Expected annual return: 5.0%\n",
      "Annual volatility: 11.5%\n",
      "Sharpe Ratio: 0.26\n",
      "Expected annual return: 5.0%\n",
      "Annual volatility: 11.5%\n",
      "Sharpe Ratio: 0.26\n",
      "Expected annual return: 5.0%\n",
      "Annual volatility: 11.5%\n",
      "Sharpe Ratio: 0.26\n",
      "Expected annual return: 5.0%\n",
      "Annual volatility: 11.5%\n",
      "Sharpe Ratio: 0.26\n",
      "Expected annual return: 5.0%\n",
      "Annual volatility: 11.5%\n",
      "Sharpe Ratio: 0.26\n",
      "Expected annual return: 5.0%\n",
      "Annual volatility: 11.5%\n",
      "Sharpe Ratio: 0.26\n",
      "Expected annual return: 5.0%\n",
      "Annual volatility: 11.5%\n",
      "Sharpe Ratio: 0.26\n",
      "Expected annual return: 5.0%\n",
      "Annual volatility: 11.5%\n",
      "Sharpe Ratio: 0.26\n",
      "Expected annual return: 5.0%\n",
      "Annual volatility: 11.5%\n",
      "Sharpe Ratio: 0.26\n",
      "Expected annual return: 5.0%\n",
      "Annual volatility: 11.5%\n",
      "Sharpe Ratio: 0.26\n",
      "Expected annual return: 5.0%\n",
      "Annual volatility: 11.5%\n",
      "Sharpe Ratio: 0.26\n",
      "Expected annual return: 5.0%\n",
      "Annual volatility: 11.5%\n",
      "Sharpe Ratio: 0.26\n",
      "Expected annual return: 5.0%\n",
      "Annual volatility: 11.5%\n",
      "Sharpe Ratio: 0.26\n",
      "Expected annual return: 5.0%\n",
      "Annual volatility: 11.5%\n",
      "Sharpe Ratio: 0.26\n",
      "Expected annual return: 5.0%\n",
      "Annual volatility: 11.5%\n",
      "Sharpe Ratio: 0.26\n",
      "Expected annual return: 5.0%\n",
      "Annual volatility: 11.5%\n",
      "Sharpe Ratio: 0.26\n",
      "Expected annual return: 5.0%\n",
      "Annual volatility: 11.5%\n",
      "Sharpe Ratio: 0.26\n",
      "Expected annual return: 5.0%\n",
      "Annual volatility: 11.5%\n",
      "Sharpe Ratio: 0.26\n",
      "Expected annual return: 5.0%\n",
      "Annual volatility: 11.5%\n",
      "Sharpe Ratio: 0.26\n",
      "Expected annual return: 5.0%\n",
      "Annual volatility: 11.5%\n",
      "Sharpe Ratio: 0.26\n",
      "Expected annual return: 5.0%\n",
      "Annual volatility: 11.5%\n",
      "Sharpe Ratio: 0.26\n",
      "Expected annual return: 5.0%\n",
      "Annual volatility: 11.5%\n",
      "Sharpe Ratio: 0.26\n",
      "Expected annual return: 5.0%\n",
      "Annual volatility: 11.5%\n",
      "Sharpe Ratio: 0.26\n",
      "Expected annual return: 5.0%\n",
      "Annual volatility: 11.5%\n",
      "Sharpe Ratio: 0.26\n",
      "Expected annual return: 5.0%\n",
      "Annual volatility: 11.5%\n",
      "Sharpe Ratio: 0.26\n",
      "Expected annual return: 5.0%\n",
      "Annual volatility: 11.5%\n",
      "Sharpe Ratio: 0.26\n",
      "Expected annual return: 5.0%\n",
      "Annual volatility: 11.5%\n",
      "Sharpe Ratio: 0.26\n",
      "Expected annual return: 5.0%\n",
      "Annual volatility: 11.5%\n",
      "Sharpe Ratio: 0.26\n",
      "Expected annual return: 5.0%\n",
      "Annual volatility: 11.5%\n",
      "Sharpe Ratio: 0.26\n",
      "Expected annual return: 5.0%\n",
      "Annual volatility: 11.5%\n",
      "Sharpe Ratio: 0.26\n",
      "Expected annual return: 5.0%\n",
      "Annual volatility: 11.5%\n",
      "Sharpe Ratio: 0.26\n",
      "Expected annual return: 5.0%\n",
      "Annual volatility: 11.5%\n",
      "Sharpe Ratio: 0.26\n",
      "Expected annual return: 5.0%\n",
      "Annual volatility: 11.5%\n",
      "Sharpe Ratio: 0.26\n",
      "Expected annual return: 5.0%\n",
      "Annual volatility: 11.5%\n",
      "Sharpe Ratio: 0.26\n",
      "Expected annual return: 5.0%\n",
      "Annual volatility: 11.5%\n",
      "Sharpe Ratio: 0.26\n",
      "Expected annual return: 5.0%\n",
      "Annual volatility: 11.5%\n",
      "Sharpe Ratio: 0.26\n",
      "Expected annual return: 5.0%\n",
      "Annual volatility: 11.5%\n",
      "Sharpe Ratio: 0.26\n",
      "Expected annual return: 5.0%\n",
      "Annual volatility: 11.5%\n",
      "Sharpe Ratio: 0.26\n",
      "Expected annual return: 5.0%\n",
      "Annual volatility: 11.5%\n",
      "Sharpe Ratio: 0.26\n",
      "Expected annual return: 5.0%\n",
      "Annual volatility: 11.5%\n",
      "Sharpe Ratio: 0.26\n",
      "Expected annual return: 5.0%\n",
      "Annual volatility: 11.5%\n",
      "Sharpe Ratio: 0.26\n",
      "Expected annual return: 5.0%\n",
      "Annual volatility: 11.5%\n",
      "Sharpe Ratio: 0.26\n",
      "Expected annual return: 5.0%\n",
      "Annual volatility: 11.5%\n",
      "Sharpe Ratio: 0.26\n",
      "Expected annual return: 5.0%\n",
      "Annual volatility: 11.5%\n",
      "Sharpe Ratio: 0.26\n",
      "Expected annual return: 5.0%\n",
      "Annual volatility: 11.5%\n",
      "Sharpe Ratio: 0.26\n",
      "Expected annual return: 5.0%\n",
      "Annual volatility: 11.5%\n",
      "Sharpe Ratio: 0.26\n",
      "Expected annual return: 5.0%\n",
      "Annual volatility: 11.5%\n",
      "Sharpe Ratio: 0.26\n",
      "Expected annual return: 5.0%\n",
      "Annual volatility: 11.5%\n",
      "Sharpe Ratio: 0.26\n",
      "Expected annual return: 5.0%\n",
      "Annual volatility: 11.5%\n",
      "Sharpe Ratio: 0.26\n",
      "Expected annual return: 5.0%\n",
      "Annual volatility: 11.5%\n",
      "Sharpe Ratio: 0.26\n",
      "Expected annual return: 5.0%\n",
      "Annual volatility: 11.5%\n",
      "Sharpe Ratio: 0.26\n",
      "Expected annual return: 5.0%\n",
      "Annual volatility: 11.5%\n",
      "Sharpe Ratio: 0.26\n",
      "Expected annual return: 5.0%\n",
      "Annual volatility: 11.5%\n",
      "Sharpe Ratio: 0.26\n",
      "Expected annual return: 5.0%\n",
      "Annual volatility: 11.5%\n",
      "Sharpe Ratio: 0.26\n",
      "Expected annual return: 5.0%\n",
      "Annual volatility: 11.5%\n",
      "Sharpe Ratio: 0.26\n",
      "Expected annual return: 5.0%\n",
      "Annual volatility: 11.5%\n",
      "Sharpe Ratio: 0.26\n",
      "Expected annual return: 5.0%\n",
      "Annual volatility: 11.5%\n",
      "Sharpe Ratio: 0.26\n",
      "Expected annual return: 5.0%\n",
      "Annual volatility: 11.5%\n",
      "Sharpe Ratio: 0.26\n",
      "Expected annual return: 5.0%\n",
      "Annual volatility: 11.5%\n",
      "Sharpe Ratio: 0.26\n",
      "Expected annual return: 5.0%\n",
      "Annual volatility: 11.5%\n",
      "Sharpe Ratio: 0.26\n",
      "Expected annual return: 5.0%\n",
      "Annual volatility: 11.5%\n",
      "Sharpe Ratio: 0.26\n",
      "Expected annual return: 5.0%\n",
      "Annual volatility: 11.5%\n",
      "Sharpe Ratio: 0.26\n",
      "Expected annual return: 5.0%\n",
      "Annual volatility: 11.5%\n",
      "Sharpe Ratio: 0.26\n",
      "Expected annual return: 5.0%\n",
      "Annual volatility: 11.5%\n",
      "Sharpe Ratio: 0.26\n",
      "Expected annual return: 5.0%\n",
      "Annual volatility: 11.5%\n",
      "Sharpe Ratio: 0.26\n",
      "Expected annual return: 5.0%\n",
      "Annual volatility: 11.5%\n",
      "Sharpe Ratio: 0.26\n",
      "Expected annual return: 5.0%\n",
      "Annual volatility: 11.5%\n",
      "Sharpe Ratio: 0.26\n",
      "Expected annual return: 5.0%\n",
      "Annual volatility: 11.5%\n",
      "Sharpe Ratio: 0.26\n",
      "Expected annual return: 5.0%\n",
      "Annual volatility: 11.5%\n",
      "Sharpe Ratio: 0.26\n",
      "Expected annual return: 5.0%\n",
      "Annual volatility: 11.5%\n",
      "Sharpe Ratio: 0.26\n"
     ]
    },
    {
     "name": "stdout",
     "output_type": "stream",
     "text": [
      "Expected annual return: 5.0%\n",
      "Annual volatility: 11.5%\n",
      "Sharpe Ratio: 0.26\n",
      "Expected annual return: 5.0%\n",
      "Annual volatility: 11.5%\n",
      "Sharpe Ratio: 0.26\n",
      "Expected annual return: 5.0%\n",
      "Annual volatility: 11.5%\n",
      "Sharpe Ratio: 0.26\n",
      "Expected annual return: 5.0%\n",
      "Annual volatility: 11.5%\n",
      "Sharpe Ratio: 0.26\n",
      "Expected annual return: 5.0%\n",
      "Annual volatility: 11.5%\n",
      "Sharpe Ratio: 0.26\n",
      "Expected annual return: 5.0%\n",
      "Annual volatility: 11.5%\n",
      "Sharpe Ratio: 0.26\n",
      "Expected annual return: 5.0%\n",
      "Annual volatility: 11.5%\n",
      "Sharpe Ratio: 0.26\n",
      "Expected annual return: 5.0%\n",
      "Annual volatility: 11.5%\n",
      "Sharpe Ratio: 0.26\n",
      "Expected annual return: 5.0%\n",
      "Annual volatility: 11.5%\n",
      "Sharpe Ratio: 0.26\n",
      "Expected annual return: 5.0%\n",
      "Annual volatility: 11.5%\n",
      "Sharpe Ratio: 0.26\n",
      "Expected annual return: 5.0%\n",
      "Annual volatility: 11.5%\n",
      "Sharpe Ratio: 0.26\n",
      "Expected annual return: 5.0%\n",
      "Annual volatility: 11.5%\n",
      "Sharpe Ratio: 0.26\n",
      "Expected annual return: 5.0%\n",
      "Annual volatility: 11.5%\n",
      "Sharpe Ratio: 0.26\n",
      "Expected annual return: 5.0%\n",
      "Annual volatility: 11.5%\n",
      "Sharpe Ratio: 0.26\n",
      "Expected annual return: 5.0%\n",
      "Annual volatility: 11.5%\n",
      "Sharpe Ratio: 0.26\n",
      "Expected annual return: 5.0%\n",
      "Annual volatility: 11.5%\n",
      "Sharpe Ratio: 0.26\n",
      "Expected annual return: 5.0%\n",
      "Annual volatility: 11.5%\n",
      "Sharpe Ratio: 0.26\n",
      "Expected annual return: 5.0%\n",
      "Annual volatility: 11.5%\n",
      "Sharpe Ratio: 0.26\n",
      "Expected annual return: 5.0%\n",
      "Annual volatility: 11.5%\n",
      "Sharpe Ratio: 0.26\n",
      "Expected annual return: 5.0%\n",
      "Annual volatility: 11.5%\n",
      "Sharpe Ratio: 0.26\n",
      "Expected annual return: 5.0%\n",
      "Annual volatility: 11.5%\n",
      "Sharpe Ratio: 0.26\n",
      "Expected annual return: 5.0%\n",
      "Annual volatility: 11.5%\n",
      "Sharpe Ratio: 0.26\n"
     ]
    }
   ],
   "source": [
    "risktolerance, annualreturn = [], []\n",
    "for rt2 in np.arange(0.02, 1, 0.001):\n",
    "    ef = EfficientFrontier(mu, S)\n",
    "    ef.efficient_risk(target_volatility=rt2)\n",
    "    weights = ef.clean_weights()\n",
    "    ret, volatility, Sharpe = ef.portfolio_performance(verbose=True)\n",
    "    annualreturn.append(ret)\n",
    "    risktolerance.append(rt2)\n"
   ]
  },
  {
   "cell_type": "code",
   "execution_count": 76,
   "metadata": {},
   "outputs": [
    {
     "data": {
      "text/plain": [
       "[<matplotlib.lines.Line2D at 0x7fbefe1f5f40>]"
      ]
     },
     "execution_count": 76,
     "metadata": {},
     "output_type": "execute_result"
    },
    {
     "data": {
      "image/png": "[encoded data removed]",
      "text/plain": [
       "<Figure size 432x288 with 1 Axes>"
      ]
     },
     "metadata": {
      "needs_background": "light"
     },
     "output_type": "display_data"
    }
   ],
   "source": [
    "plt.plot(annualreturn, risktolerance)"
   ]
  },
  {
   "cell_type": "markdown",
   "metadata": {},
   "source": [
    "![purple-divider](https://user-images.githubusercontent.com/7065401/52071927-c1cd7100-2562-11e9-908a-dde91ba14e59.png)"
   ]
  }
 ],
 "metadata": {
  "kernelspec": {
   "display_name": "Python 3",
   "language": "python",
   "name": "python3"
  },
  "language_info": {
   "codemirror_mode": {
    "name": "ipython",
    "version": 3
   },
   "file_extension": ".py",
   "mimetype": "text/x-python",
   "name": "python",
   "nbconvert_exporter": "python",
   "pygments_lexer": "ipython3",
   "version": "3.8.3"
  }
 },
 "nbformat": 4,
 "nbformat_minor": 4
}
