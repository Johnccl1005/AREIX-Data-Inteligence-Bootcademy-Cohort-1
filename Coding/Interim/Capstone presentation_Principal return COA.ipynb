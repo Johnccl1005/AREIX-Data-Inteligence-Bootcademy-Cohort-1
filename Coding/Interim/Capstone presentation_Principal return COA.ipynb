{
 "cells": [
  {
   "cell_type": "markdown",
   "metadata": {},
   "source": [
    "\n",
    "\n",
    "<hr style=\"margin-bottom: 40px;\">\n",
    "\n",
    "# Principal - Backtesting"
   ]
  },
  {
   "cell_type": "markdown",
   "metadata": {},
   "source": [
    "![green-divider](https://user-images.githubusercontent.com/7065401/52071924-c003ad80-2562-11e9-8297-1c6595f8a7ff.png)\n",
    "\n",
    "## (A) (B) Simplified"
   ]
  },
  {
   "cell_type": "code",
   "execution_count": null,
   "metadata": {},
   "outputs": [],
   "source": [
    "import pandas as pd\n",
    "import numpy as np\n",
    "from datetime import datetime\n",
    "from matplotlib import pyplot as plt\n",
    "\n",
    "df = pd.read_excel(\"Principal1.xlsx\", parse_dates=True, index_col=\"date\")\n",
    "df.apply(pd.to_numeric, errors='ignore')\n",
    "df = df.rename(columns=lambda x: x.strip())\n",
    "df = df.dropna(axis=\"index\",how=\"all\") #drop NaN values. The earliest data starts from 2001-11-20.\n",
    "\n"
   ]
  },
  {
   "cell_type": "code",
   "execution_count": null,
   "metadata": {},
   "outputs": [],
   "source": [
    "from pypfopt.efficient_frontier import EfficientFrontier\n",
    "from pypfopt import risk_models\n",
    "from pypfopt import expected_returns\n",
    "from pypfopt import plotting\n",
    "from pypfopt.risk_models import CovarianceShrinkage\n",
    "from pypfopt.expected_returns import mean_historical_return"
   ]
  },
  {
   "cell_type": "code",
   "execution_count": null,
   "metadata": {},
   "outputs": [],
   "source": [
    "describe = df.describe()\n",
    "describe = pd.DataFrame(describe)\n",
    "describe = describe.T\n",
    "describe"
   ]
  },
  {
   "cell_type": "code",
   "execution_count": null,
   "metadata": {},
   "outputs": [],
   "source": [
    "# get a list of all the column names \n",
    "indexNamesArr = describe.index.values\n",
    "# convert ndarray to list\n",
    "listOfRowIndexLabels = list(indexNamesArr)\n",
    "\n",
    "coord = [(0.038802, 1.598254),( 0.023617, 0.745137),( 0.025753, 0.802417),( 0.045350, 2.066649),( 0.106415, 0.574546),( 0.053244, 0.432762),( 0.039204, 1.853161),( 0.059571, 0.444722),( 0.024976, 2.706996),( 0.012862, 0.312357),( 0.039587, 2.285998),( 0.001826, 0.044556),( 0.027979, 1.050875),( 0.032775, 1.438767),( 0.040590, 2.009521),( 0.042759, 2.400255)]\n",
    "labels = listOfRowIndexLabels\n",
    "\n",
    "def plot_with_labels(coord, labels):\n",
    "    assert len(coord) == len(labels), 'coord len is not equal to labels len'\n",
    "    plt.figure(figsize=(10,30))\n",
    "    plt.xlabel('Mean historic return')\n",
    "    plt.ylabel('volatility')\n",
    "    plt.title(\"Performance of Principal Funds\")\n",
    "    plt\n",
    "    for i, label in enumerate(labels): #get (0, label)\n",
    "        x, y = coord[i] #2 dim\n",
    "        plt.scatter(x, y,)\n",
    "                #\n",
    "        plt.annotate(label,\n",
    "                xy=(x, y), #show point \n",
    "                xytext=(5, 2), #show annotate\n",
    "                textcoords='offset points',\n",
    "                ha='right',\n",
    "                va='bottom')\n",
    "    plt.show()\n",
    "    \n",
    "plot_with_labels(coord, labels)"
   ]
  },
  {
   "cell_type": "markdown",
   "metadata": {},
   "source": [
    "![green-divider](https://user-images.githubusercontent.com/7065401/52071924-c003ad80-2562-11e9-8297-1c6595f8a7ff.png)\n",
    "\n",
    "## (C) - Backtesting and Optimization\n",
    "\n",
    "### Split training set and test set\n",
    "\n",
    "1. Split data in train and test set given a Date (i.e. test set is what happens after 31 July 2020 not included).\n",
    "\n",
    "2. Further split train set into train set and validation set (i.e. what happens before 31 July 2020 included) in 6 consecutive time folds.\n",
    "\n",
    "Then, in order not lo lose the time information, perform the following steps:\n",
    " \n",
    "one = Train on fold 10,11,12,13 (2010-08-01 to 2014-07-31) –>  Test on fold 14 (2014-08-01 to 2015-07-31)\n",
    "\n",
    "two = Train on fold 11,12,13,14 –>  Test on fold 15 \n",
    "\n",
    "three = Train on fold 12,13,14,15 –>  Test on fold 16\n",
    "\n",
    "four = Train on fold 13,14,15,16 –>  Test on fold 17\n",
    "\n",
    "five = Train on fold 14,15,16,17 –>  Test on fold 18\n",
    "\n",
    "six = Train on fold 15,16,17,18 –>  Test on fold 19 (2019-08-01 to 2020-07-31)\n",
    "\n",
    "Compute the average of the accuracies of the 6 test folds."
   ]
  },
  {
   "cell_type": "code",
   "execution_count": 40,
   "metadata": {},
   "outputs": [],
   "source": [
    "S = CovarianceShrinkage(df).ledoit_wolf()\n",
    "mu = mean_historical_return(df)\n",
    "from datetime import date\n",
    "one = df[(df.index > pd.Timestamp(date(2017,8,1))) & (df.index < pd.Timestamp(date(2018,8,1)))]\n",
    "two = df[(df.index > pd.Timestamp(date(2018,8,1))) & (df.index < pd.Timestamp(date(202,8,1)))]\n",
    "three = df[(df.index > pd.Timestamp(date(2019,8,1))) & (df.index < pd.Timestamp(date(2020,8,1)))]\n",
    "\n"
   ]
  },
  {
   "cell_type": "code",
   "execution_count": 41,
   "metadata": {},
   "outputs": [
    {
     "data": {
      "text/plain": [
       "'plot and show them for the presentation.\\nmu1\\nmu1.plot.barh(figsize=(10,6))\\n(same for others)\\n'"
      ]
     },
     "execution_count": 41,
     "metadata": {},
     "output_type": "execute_result"
    }
   ],
   "source": [
    "#Calculating risk (covariance matrix) for different train periods.\n",
    "S1 = CovarianceShrinkage(one).ledoit_wolf()\n",
    "S2 = CovarianceShrinkage(two).ledoit_wolf()\n",
    "S3 = CovarianceShrinkage(three).ledoit_wolf()\n",
    "\n",
    "'''plot them for the presentation.\n",
    "plotting.plot_covariance(S1, plot_correlation=True)\n",
    "plotting.plot_covariance(S2, plot_correlation=True)\n",
    "plotting.plot_covariance(S3, plot_correlation=True)\n",
    "plotting.plot_covariance(S4, plot_correlation=True)\n",
    "plotting.plot_covariance(S5, plot_correlation=True)\n",
    "plotting.plot_covariance(S6, plot_correlation=True)\n",
    "'''\n",
    "\n",
    "#Calculating the expected returns for different train periods.\n",
    "mu1 = mean_historical_return(one)\n",
    "mu2 = mean_historical_return(two)\n",
    "mu3 = mean_historical_return(three)\n",
    "\n",
    "'''plot and show them for the presentation.\n",
    "mu1\n",
    "mu1.plot.barh(figsize=(10,6))\n",
    "(same for others)\n",
    "'''"
   ]
  },
  {
   "cell_type": "markdown",
   "metadata": {},
   "source": [
    "![green-divider](https://user-images.githubusercontent.com/7065401/52071924-c003ad80-2562-11e9-8297-1c6595f8a7ff.png)\n",
    "![green-divider](https://user-images.githubusercontent.com/7065401/52071924-c003ad80-2562-11e9-8297-1c6595f8a7ff.png)\n",
    "![green-divider](https://user-images.githubusercontent.com/7065401/52071924-c003ad80-2562-11e9-8297-1c6595f8a7ff.png)\n",
    "## Function 1a - Portfolio Optimization for maximal Sharpe ratio\n",
    "![green-divider](https://user-images.githubusercontent.com/7065401/52071924-c003ad80-2562-11e9-8297-1c6595f8a7ff.png)\n",
    "![green-divider](https://user-images.githubusercontent.com/7065401/52071924-c003ad80-2562-11e9-8297-1c6595f8a7ff.png)\n",
    "![green-divider](https://user-images.githubusercontent.com/7065401/52071924-c003ad80-2562-11e9-8297-1c6595f8a7ff.png)\n",
    "![green-divider](https://user-images.githubusercontent.com/7065401/52071924-c003ad80-2562-11e9-8297-1c6595f8a7ff.png)\n"
   ]
  },
  {
   "cell_type": "markdown",
   "metadata": {},
   "source": [
    "\n",
    "## 1st five-year Backtesting (for Function 1a)\n",
    "### Run the function - what's the weighting for this period?"
   ]
  },
  {
   "cell_type": "code",
   "execution_count": 42,
   "metadata": {},
   "outputs": [
    {
     "name": "stdout",
     "output_type": "stream",
     "text": [
      "OrderedDict([('PRSSCOA HK Equity', 1.0)])\n",
      "Performance of function 1a portfolio in train period:\n"
     ]
    },
    {
     "data": {
      "text/plain": [
       "<matplotlib.axes._subplots.AxesSubplot at 0x7fa2cf6735b0>"
      ]
     },
     "execution_count": 42,
     "metadata": {},
     "output_type": "execute_result"
    },
    {
     "data": {
      "image/png": "[encoded data removed]",
      "text/plain": [
       "<Figure size 360x360 with 1 Axes>"
      ]
     },
     "metadata": {},
     "output_type": "display_data"
    }
   ],
   "source": [
    "ef = EfficientFrontier(mu1, S1)\n",
    "\n",
    "weight1a = ef.max_sharpe() #raw weights\n",
    "cleanweight1a = ef.clean_weights() #cleaned weights\n",
    "print(cleanweight1a)\n",
    "print(\"Performance of function 1a portfolio in train period:\")\n",
    "pd.Series(cleanweight1a).plot.pie(figsize=(5,5))"
   ]
  },
  {
   "cell_type": "markdown",
   "metadata": {},
   "source": [
    "### Comparison - Performance of Portfolio during the Train period."
   ]
  },
  {
   "cell_type": "code",
   "execution_count": 43,
   "metadata": {},
   "outputs": [
    {
     "name": "stdout",
     "output_type": "stream",
     "text": [
      "Expected annual return: 5.3%\n",
      "Annual volatility: 10.3%\n",
      "Sharpe Ratio: 0.33\n"
     ]
    },
    {
     "data": {
      "text/plain": [
       "<matplotlib.axes._subplots.AxesSubplot at 0x7fa2cf1970d0>"
      ]
     },
     "execution_count": 43,
     "metadata": {},
     "output_type": "execute_result"
    },
    {
     "data": {
      "image/png": "[encoded data removed]",
      "text/plain": [
       "<Figure size 720x432 with 1 Axes>"
      ]
     },
     "metadata": {
      "needs_background": "light"
     },
     "output_type": "display_data"
    }
   ],
   "source": [
    "ret,vol,sharpe = ef.portfolio_performance(verbose=True)\n",
    "\n",
    "mu1.plot.barh(figsize=(10,6))    #return of each funds from 2010 to 2014."
   ]
  },
  {
   "cell_type": "markdown",
   "metadata": {},
   "source": [
    "![green-divider](https://user-images.githubusercontent.com/7065401/52071924-c003ad80-2562-11e9-8297-1c6595f8a7ff.png)\n",
    "\n",
    "## 2nd five-year Backtesting  (for Function 1a)"
   ]
  },
  {
   "cell_type": "markdown",
   "metadata": {},
   "source": [
    "### Run the function - what's the weighting for this period?"
   ]
  },
  {
   "cell_type": "code",
   "execution_count": 44,
   "metadata": {
    "scrolled": true
   },
   "outputs": [
    {
     "name": "stdout",
     "output_type": "stream",
     "text": [
      "OrderedDict([('PRSSCOA HK Equity', 1.0)])\n",
      "Performance of function 1a portfolio in train period:\n"
     ]
    },
    {
     "data": {
      "text/plain": [
       "<matplotlib.axes._subplots.AxesSubplot at 0x7fa2cf278cd0>"
      ]
     },
     "execution_count": 44,
     "metadata": {},
     "output_type": "execute_result"
    },
    {
     "data": {
      "image/png": "[encoded data removed]",
      "text/plain": [
       "<Figure size 360x360 with 1 Axes>"
      ]
     },
     "metadata": {},
     "output_type": "display_data"
    }
   ],
   "source": [
    "ef = EfficientFrontier(mu2, S2)\n",
    "\n",
    "weight1a = ef.max_sharpe() #raw weights\n",
    "cleanweight1a = ef.clean_weights() #cleaned weights\n",
    "print(cleanweight1a)\n",
    "print(\"Performance of function 1a portfolio in train period:\")\n",
    "pd.Series(cleanweight1a).plot.pie(figsize=(5,5))"
   ]
  },
  {
   "cell_type": "markdown",
   "metadata": {},
   "source": [
    "### Comparison - Performance of Portfolio during the Train period."
   ]
  },
  {
   "cell_type": "code",
   "execution_count": 45,
   "metadata": {},
   "outputs": [
    {
     "name": "stdout",
     "output_type": "stream",
     "text": [
      "Expected annual return: 5.1%\n",
      "Annual volatility: 12.0%\n",
      "Sharpe Ratio: 0.26\n"
     ]
    },
    {
     "data": {
      "text/plain": [
       "<matplotlib.axes._subplots.AxesSubplot at 0x7fa2cf552310>"
      ]
     },
     "execution_count": 45,
     "metadata": {},
     "output_type": "execute_result"
    },
    {
     "data": {
      "image/png": "[encoded data removed]",
      "text/plain": [
       "<Figure size 720x432 with 1 Axes>"
      ]
     },
     "metadata": {
      "needs_background": "light"
     },
     "output_type": "display_data"
    }
   ],
   "source": [
    "ret,vol,sharpe = ef.portfolio_performance(verbose=True)\n",
    "\n",
    "mu2.plot.barh(figsize=(10,6))    #return of each funds from 2010 to 2014."
   ]
  },
  {
   "cell_type": "markdown",
   "metadata": {},
   "source": [
    "![green-divider](https://user-images.githubusercontent.com/7065401/52071924-c003ad80-2562-11e9-8297-1c6595f8a7ff.png)\n",
    "\n",
    "## 3rd five-year Backtesting  (for Function 1a)"
   ]
  },
  {
   "cell_type": "markdown",
   "metadata": {},
   "source": [
    "### Run the function - what's the weighting for this period?"
   ]
  },
  {
   "cell_type": "code",
   "execution_count": 46,
   "metadata": {},
   "outputs": [
    {
     "name": "stdout",
     "output_type": "stream",
     "text": [
      "OrderedDict([('PRSSCOA HK Equity', 1.0)])\n",
      "Performance of function 1a portfolio in train period:\n"
     ]
    },
    {
     "data": {
      "text/plain": [
       "<matplotlib.axes._subplots.AxesSubplot at 0x7fa2cfeda550>"
      ]
     },
     "execution_count": 46,
     "metadata": {},
     "output_type": "execute_result"
    },
    {
     "data": {
      "image/png": "[encoded data removed]",
      "text/plain": [
       "<Figure size 360x360 with 1 Axes>"
      ]
     },
     "metadata": {},
     "output_type": "display_data"
    }
   ],
   "source": [
    "ef = EfficientFrontier(mu3, S3)\n",
    "\n",
    "weight1a = ef.max_sharpe() #raw weights\n",
    "cleanweight1a = ef.clean_weights() #cleaned weights\n",
    "print(cleanweight1a)\n",
    "print(\"Performance of function 1a portfolio in train period:\")\n",
    "pd.Series(cleanweight1a).plot.pie(figsize=(5,5))"
   ]
  },
  {
   "cell_type": "markdown",
   "metadata": {},
   "source": [
    "### Comparison - Performance of Portfolio during the Train period."
   ]
  },
  {
   "cell_type": "code",
   "execution_count": 47,
   "metadata": {
    "scrolled": false
   },
   "outputs": [
    {
     "name": "stdout",
     "output_type": "stream",
     "text": [
      "Expected annual return: 7.4%\n",
      "Annual volatility: 15.4%\n",
      "Sharpe Ratio: 0.35\n"
     ]
    },
    {
     "data": {
      "text/plain": [
       "<matplotlib.axes._subplots.AxesSubplot at 0x7fa2d01ad1f0>"
      ]
     },
     "execution_count": 47,
     "metadata": {},
     "output_type": "execute_result"
    },
    {
     "data": {
      "image/png": "[encoded data removed]",
      "text/plain": [
       "<Figure size 720x432 with 1 Axes>"
      ]
     },
     "metadata": {
      "needs_background": "light"
     },
     "output_type": "display_data"
    }
   ],
   "source": [
    "ret,vol,sharpe = ef.portfolio_performance(verbose=True)\n",
    "\n",
    "mu3.plot.barh(figsize=(10,6))    #return of each funds from 2010 to 2014."
   ]
  },
  {
   "cell_type": "markdown",
   "metadata": {},
   "source": [
    "![purple-divider](https://user-images.githubusercontent.com/7065401/52071927-c1cd7100-2562-11e9-908a-dde91ba14e59.png)"
   ]
  }
 ],
 "metadata": {
  "kernelspec": {
   "display_name": "Python 3",
   "language": "python",
   "name": "python3"
  },
  "language_info": {
   "codemirror_mode": {
    "name": "ipython",
    "version": 3
   },
   "file_extension": ".py",
   "mimetype": "text/x-python",
   "name": "python",
   "nbconvert_exporter": "python",
   "pygments_lexer": "ipython3",
   "version": "3.8.3"
  }
 },
 "nbformat": 4,
 "nbformat_minor": 4
}
