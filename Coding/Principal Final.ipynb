{
 "cells": [
  {
   "cell_type": "code",
   "execution_count": 1,
   "metadata": {
    "scrolled": true
   },
   "outputs": [
    {
     "name": "stdout",
     "output_type": "stream",
     "text": [
      "Requirement already satisfied: yfinance in /opt/anaconda3/lib/python3.8/site-packages (0.1.54)\n",
      "Requirement already satisfied: PyPortfolioOpt in /opt/anaconda3/lib/python3.8/site-packages (1.2.7)\n",
      "Requirement already satisfied: requests>=2.20 in /opt/anaconda3/lib/python3.8/site-packages (from yfinance) (2.24.0)\n",
      "Requirement already satisfied: numpy>=1.15 in /opt/anaconda3/lib/python3.8/site-packages (from yfinance) (1.18.5)\n",
      "Requirement already satisfied: multitasking>=0.0.7 in /opt/anaconda3/lib/python3.8/site-packages (from yfinance) (0.0.9)\n",
      "Requirement already satisfied: pandas>=0.24 in /opt/anaconda3/lib/python3.8/site-packages (from yfinance) (1.0.5)\n",
      "Requirement already satisfied: scipy<2.0,>=1.3 in /opt/anaconda3/lib/python3.8/site-packages (from PyPortfolioOpt) (1.5.0)\n",
      "Requirement already satisfied: cvxopt<2.0,>=1.2 in /opt/anaconda3/lib/python3.8/site-packages (from PyPortfolioOpt) (1.2.5)\n",
      "Requirement already satisfied: cvxpy<2.0,>=1.0 in /opt/anaconda3/lib/python3.8/site-packages (from PyPortfolioOpt) (1.1.7)\n",
      "Requirement already satisfied: chardet<4,>=3.0.2 in /opt/anaconda3/lib/python3.8/site-packages (from requests>=2.20->yfinance) (3.0.4)\n",
      "Requirement already satisfied: urllib3!=1.25.0,!=1.25.1,<1.26,>=1.21.1 in /opt/anaconda3/lib/python3.8/site-packages (from requests>=2.20->yfinance) (1.25.9)\n",
      "Requirement already satisfied: certifi>=2017.4.17 in /opt/anaconda3/lib/python3.8/site-packages (from requests>=2.20->yfinance) (2020.6.20)\n",
      "Requirement already satisfied: idna<3,>=2.5 in /opt/anaconda3/lib/python3.8/site-packages (from requests>=2.20->yfinance) (2.10)\n",
      "Requirement already satisfied: pytz>=2017.2 in /opt/anaconda3/lib/python3.8/site-packages (from pandas>=0.24->yfinance) (2020.1)\n",
      "Requirement already satisfied: python-dateutil>=2.6.1 in /opt/anaconda3/lib/python3.8/site-packages (from pandas>=0.24->yfinance) (2.8.1)\n",
      "Requirement already satisfied: scs>=1.1.6 in /opt/anaconda3/lib/python3.8/site-packages (from cvxpy<2.0,>=1.0->PyPortfolioOpt) (2.1.2)\n",
      "Requirement already satisfied: osqp>=0.4.1 in /opt/anaconda3/lib/python3.8/site-packages (from cvxpy<2.0,>=1.0->PyPortfolioOpt) (0.6.1)\n",
      "Requirement already satisfied: ecos>=2 in /opt/anaconda3/lib/python3.8/site-packages (from cvxpy<2.0,>=1.0->PyPortfolioOpt) (2.0.7.post1)\n",
      "Requirement already satisfied: six>=1.5 in /opt/anaconda3/lib/python3.8/site-packages (from python-dateutil>=2.6.1->pandas>=0.24->yfinance) (1.15.0)\n",
      "Requirement already satisfied: future in /opt/anaconda3/lib/python3.8/site-packages (from osqp>=0.4.1->cvxpy<2.0,>=1.0->PyPortfolioOpt) (0.18.2)\n",
      "Note: you may need to restart the kernel to use updated packages.\n"
     ]
    }
   ],
   "source": [
    "pip install yfinance PyPortfolioOpt"
   ]
  },
  {
   "cell_type": "code",
   "execution_count": 2,
   "metadata": {},
   "outputs": [],
   "source": [
    "from pypfopt.efficient_frontier import EfficientFrontier\n",
    "from pypfopt import risk_models\n",
    "from pypfopt import expected_returns\n",
    "from pypfopt import plotting\n",
    "from pypfopt.risk_models import CovarianceShrinkage\n",
    "from pypfopt.expected_returns import mean_historical_return"
   ]
  },
  {
   "cell_type": "code",
   "execution_count": 3,
   "metadata": {
    "scrolled": true
   },
   "outputs": [
    {
     "name": "stdout",
     "output_type": "stream",
     "text": [
      "            Principal China Equity Fund I  \\\n",
      "Date                                        \n",
      "2018-02-09                         16.022   \n",
      "2018-02-12                         16.064   \n",
      "2018-02-13                         16.341   \n",
      "2018-02-14                         16.677   \n",
      "2018-02-15                         17.052   \n",
      "...                                   ...   \n",
      "2021-01-29                         20.751   \n",
      "2021-02-01                         21.326   \n",
      "2021-02-02                         21.834   \n",
      "2021-02-03                         22.059   \n",
      "2021-02-05                         21.778   \n",
      "\n",
      "            Principal Hang Seng Index Tracking Fund N  \\\n",
      "Date                                                    \n",
      "2018-02-09                                     15.728   \n",
      "2018-02-12                                     15.727   \n",
      "2018-02-13                                     15.963   \n",
      "2018-02-14                                     16.279   \n",
      "2018-02-15                                     16.567   \n",
      "...                                               ...   \n",
      "2021-01-29                                     16.116   \n",
      "2021-02-01                                     16.453   \n",
      "2021-02-02                                     16.656   \n",
      "2021-02-03                                     16.679   \n",
      "2021-02-05                                     16.689   \n",
      "\n",
      "            Principal Hong Kong Equity Fund I  Principal Asian Equity Fund I  \\\n",
      "Date                                                                           \n",
      "2018-02-09                             28.279                         43.019   \n",
      "2018-02-12                             28.323                         43.474   \n",
      "2018-02-13                             28.814                         44.022   \n",
      "2018-02-14                             29.378                         44.650   \n",
      "2018-02-15                             29.898                         45.379   \n",
      "...                                       ...                            ...   \n",
      "2021-01-29                             34.489                         51.281   \n",
      "2021-02-01                             35.363                         52.595   \n",
      "2021-02-02                             36.162                         53.648   \n",
      "2021-02-03                             36.481                         54.045   \n",
      "2021-02-05                             36.173                         53.908   \n",
      "\n",
      "            Principal US Equity Fund I  Principal International Equity Fund I  \\\n",
      "Date                                                                            \n",
      "2018-02-09                      16.826                                 17.248   \n",
      "2018-02-12                      17.053                                 17.431   \n",
      "2018-02-13                      17.110                                 17.476   \n",
      "2018-02-14                      17.379                                 17.709   \n",
      "2018-02-15                      17.570                                 17.951   \n",
      "...                                ...                                    ...   \n",
      "2021-01-29                      22.073                                 20.899   \n",
      "2021-02-01                      22.410                                 21.264   \n",
      "2021-02-02                      22.682                                 21.513   \n",
      "2021-02-03                      22.678                                 21.578   \n",
      "2021-02-05                      23.017                                 21.812   \n",
      "\n",
      "            Principal Global Growth Fund I  \\\n",
      "Date                                         \n",
      "2018-02-09                          24.203   \n",
      "2018-02-12                          24.324   \n",
      "2018-02-13                          24.451   \n",
      "2018-02-14                          24.694   \n",
      "2018-02-15                          25.003   \n",
      "...                                    ...   \n",
      "2021-01-29                          28.372   \n",
      "2021-02-01                          28.806   \n",
      "2021-02-02                          29.120   \n",
      "2021-02-03                          29.242   \n",
      "2021-02-05                          29.243   \n",
      "\n",
      "            Principal Long Term Accumulation Fund I  \\\n",
      "Date                                                  \n",
      "2018-02-09                                   19.462   \n",
      "2018-02-12                                   19.529   \n",
      "2018-02-13                                   19.603   \n",
      "2018-02-14                                   19.736   \n",
      "2018-02-15                                   19.940   \n",
      "...                                             ...   \n",
      "2021-01-29                                   22.440   \n",
      "2021-02-01                                   22.694   \n",
      "2021-02-02                                   22.856   \n",
      "2021-02-03                                   22.918   \n",
      "2021-02-05                                   22.895   \n",
      "\n",
      "            Principal Stable Yield Fund I  \\\n",
      "Date                                        \n",
      "2018-02-09                         17.952   \n",
      "2018-02-12                         17.986   \n",
      "2018-02-13                         18.031   \n",
      "2018-02-14                         18.099   \n",
      "2018-02-15                         18.242   \n",
      "...                                   ...   \n",
      "2021-01-29                         20.175   \n",
      "2021-02-01                         20.319   \n",
      "2021-02-02                         20.391   \n",
      "2021-02-03                         20.416   \n",
      "2021-02-05                         20.388   \n",
      "\n",
      "            Principal International Bond Fund I  \\\n",
      "Date                                              \n",
      "2018-02-09                               17.256   \n",
      "2018-02-12                               17.247   \n",
      "2018-02-13                               17.259   \n",
      "2018-02-14                               17.243   \n",
      "2018-02-15                               17.332   \n",
      "...                                         ...   \n",
      "2021-01-29                               18.904   \n",
      "2021-02-01                               18.925   \n",
      "2021-02-02                               18.877   \n",
      "2021-02-03                               18.854   \n",
      "2021-02-05                               18.793   \n",
      "\n",
      "            Principal Long Term Guaranteed Fund I  \\\n",
      "Date                                                \n",
      "2018-02-09                                 12.451   \n",
      "2018-02-12                                 12.462   \n",
      "2018-02-13                                 12.466   \n",
      "2018-02-14                                 12.472   \n",
      "2018-02-15                                 12.494   \n",
      "...                                           ...   \n",
      "2021-01-29                                 13.403   \n",
      "2021-02-01                                 13.439   \n",
      "2021-02-02                                 13.456   \n",
      "2021-02-03                                 13.451   \n",
      "2021-02-05                                 13.466   \n",
      "\n",
      "            Principal Hong Kong Bond Fund N  \\\n",
      "Date                                          \n",
      "2018-02-09                           10.540   \n",
      "2018-02-12                           10.544   \n",
      "2018-02-13                           10.554   \n",
      "2018-02-14                           10.553   \n",
      "2018-02-15                           10.531   \n",
      "...                                     ...   \n",
      "2021-01-29                           11.689   \n",
      "2021-02-01                           11.685   \n",
      "2021-02-02                           11.677   \n",
      "2021-02-03                           11.665   \n",
      "2021-02-05                           11.662   \n",
      "\n",
      "            Principal HK Dollar Savings Fund I  \\\n",
      "Date                                             \n",
      "2018-02-09                              10.881   \n",
      "2018-02-12                              10.882   \n",
      "2018-02-13                              10.884   \n",
      "2018-02-14                              10.884   \n",
      "2018-02-15                              10.883   \n",
      "...                                        ...   \n",
      "2021-01-29                              11.275   \n",
      "2021-02-01                              11.275   \n",
      "2021-02-02                              11.276   \n",
      "2021-02-03                              11.276   \n",
      "2021-02-05                              11.275   \n",
      "\n",
      "            Principal MPF Conservative Fund N  \\\n",
      "Date                                            \n",
      "2018-02-09                             11.231   \n",
      "2018-02-12                             11.231   \n",
      "2018-02-13                             11.232   \n",
      "2018-02-14                             11.232   \n",
      "2018-02-15                             11.232   \n",
      "...                                       ...   \n",
      "2021-01-29                             11.516   \n",
      "2021-02-01                             11.516   \n",
      "2021-02-02                             11.516   \n",
      "2021-02-03                             11.516   \n",
      "2021-02-05                             11.516   \n",
      "\n",
      "            Principal Capital Guaranteed Fund I  \n",
      "Date                                             \n",
      "2018-02-09                               11.407  \n",
      "2018-02-12                               11.407  \n",
      "2018-02-13                               11.407  \n",
      "2018-02-14                               11.407  \n",
      "2018-02-15                               11.407  \n",
      "...                                         ...  \n",
      "2021-01-29                               11.608  \n",
      "2021-02-01                               11.608  \n",
      "2021-02-02                               11.608  \n",
      "2021-02-03                               11.608  \n",
      "2021-02-05                               11.608  \n",
      "\n",
      "[713 rows x 15 columns]\n"
     ]
    }
   ],
   "source": [
    "import yfinance as yf\n",
    "\n",
    "mpf1 = yf.Ticker(\"0P0000V1BK.HK\")  \n",
    "hist1 = mpf1.history(period=\"3y\")\n",
    "ChinaEquity = hist1.drop (columns=[\"Open\",\"High\",\"Low\",\"Volume\",\"Dividends\",\"Stock Splits\"],axis=1)\n",
    "ChinaEquity.rename(columns={'Close':'Principal China Equity Fund I'}, inplace=True)\n",
    "\n",
    "mpf2 = yf.Ticker(\"0P0000VTVJ.HK\")  \n",
    "hist2 = mpf2.history(period=\"3y\")\n",
    "HSITracking = hist2.drop (columns=[\"Open\",\"High\",\"Low\",\"Volume\",\"Dividends\",\"Stock Splits\"],axis=1)\n",
    "HSITracking.rename(columns={'Close':'Principal Hang Seng Index Tracking Fund N'}, inplace=True)\n",
    "\n",
    "mpf3 = yf.Ticker(\"0P0000V1BL.HK\")  \n",
    "hist3 = mpf3.history(period=\"3y\")\n",
    "HKEquity = hist3.drop (columns=[\"Open\",\"High\",\"Low\",\"Volume\",\"Dividends\",\"Stock Splits\"],axis=1)\n",
    "HKEquity.rename(columns={'Close':'Principal Hong Kong Equity Fund I'}, inplace=True)\n",
    "\n",
    "mpf4 = yf.Ticker(\"0P0000V1BR.HK\")\n",
    "hist4 = mpf4.history(period=\"3y\")\n",
    "AsianEquity = hist4.drop (columns=[\"Open\",\"High\",\"Low\",\"Volume\",\"Dividends\",\"Stock Splits\"],axis=1)\n",
    "AsianEquity.rename(columns={'Close':'Principal Asian Equity Fund I'}, inplace=True)\n",
    "\n",
    "mpf5 = yf.Ticker(\"0P0000V1C0.HK\")  \n",
    "hist5 = mpf5.history(period=\"3y\")\n",
    "USEquity = hist5.drop (columns=[\"Open\",\"High\",\"Low\",\"Volume\",\"Dividends\",\"Stock Splits\"],axis=1)\n",
    "USEquity.rename(columns={'Close':'Principal US Equity Fund I'}, inplace=True)\n",
    "\n",
    "mpf6 = yf.Ticker(\"0P0000V1BW.HK\")  \n",
    "hist6 = mpf6.history(period=\"3y\")\n",
    "IntEquity = hist6.drop (columns=[\"Open\",\"High\",\"Low\",\"Volume\",\"Dividends\",\"Stock Splits\"],axis=1)\n",
    "IntEquity.rename(columns={'Close':'Principal International Equity Fund I'}, inplace=True)\n",
    "\n",
    "mpf7 = yf.Ticker(\"0P0000V1BT.HK\")\n",
    "hist7= mpf7.history(period=\"3y\")\n",
    "GlobalGrowth = hist7.drop (columns=[\"Open\",\"High\",\"Low\",\"Volume\",\"Dividends\",\"Stock Splits\"],axis=1)\n",
    "GlobalGrowth.rename(columns={'Close':'Principal Global Growth Fund I'}, inplace=True)\n",
    "\n",
    "mpf8 = yf.Ticker(\"0P0000V1BX.HK\")  \n",
    "hist8 = mpf8.history(period=\"3y\")\n",
    "LTAccum = hist8.drop (columns=[\"Open\",\"High\",\"Low\",\"Volume\",\"Dividends\",\"Stock Splits\"],axis=1)\n",
    "LTAccum.rename(columns={'Close':'Principal Long Term Accumulation Fund I'}, inplace=True)\n",
    "\n",
    "mpf9 = yf.Ticker(\"0P0000V1BZ.HK\")  \n",
    "hist9 = mpf9.history(period=\"3y\")\n",
    "StableYield = hist9.drop (columns=[\"Open\",\"High\",\"Low\",\"Volume\",\"Dividends\",\"Stock Splits\"],axis=1)\n",
    "StableYield.rename(columns={'Close':'Principal Stable Yield Fund I'}, inplace=True)\n",
    "\n",
    "mpf10 = yf.Ticker(\"0P0000V1BV.HK\")  \n",
    "hist10 = mpf10.history(period=\"3y\")\n",
    "IntBond = hist10.drop (columns=[\"Open\",\"High\",\"Low\",\"Volume\",\"Dividends\",\"Stock Splits\"],axis=1)\n",
    "IntBond.rename(columns={'Close':'Principal International Bond Fund I'}, inplace=True)\n",
    "\n",
    "mpf11 = yf.Ticker(\"0P0000V1BY.HK\")  \n",
    "hist11 = mpf11.history(period=\"3y\")\n",
    "LTGuranteed = hist11.drop (columns=[\"Open\",\"High\",\"Low\",\"Volume\",\"Dividends\",\"Stock Splits\"],axis=1)\n",
    "LTGuranteed.rename(columns={'Close':'Principal Long Term Guaranteed Fund I'}, inplace=True)\n",
    "\n",
    "mpf12 = yf.Ticker(\"0P0000VTVM.HK\")  \n",
    "hist12 = mpf12.history(period=\"3y\")\n",
    "HKBond = hist12.drop (columns=[\"Open\",\"High\",\"Low\",\"Volume\",\"Dividends\",\"Stock Splits\"],axis=1)\n",
    "HKBond.rename(columns={'Close':'Principal Hong Kong Bond Fund N'}, inplace=True)\n",
    "\n",
    "mpf13 = yf.Ticker(\"0P0000V1BU.HK\")  \n",
    "hist13 = mpf13.history(period=\"3y\")\n",
    "HKDSavings = hist13.drop (columns=[\"Open\",\"High\",\"Low\",\"Volume\",\"Dividends\",\"Stock Splits\"],axis=1)\n",
    "HKDSavings.rename(columns={'Close':'Principal HK Dollar Savings Fund I'}, inplace=True)\n",
    "\n",
    "mpf14 = yf.Ticker(\"0P00008SQR.HK\")  \n",
    "hist14 = mpf14.history(period=\"3y\")\n",
    "Conservative = hist14.drop (columns=[\"Open\",\"High\",\"Low\",\"Volume\",\"Dividends\",\"Stock Splits\"],axis=1)\n",
    "Conservative.rename(columns={'Close':'Principal MPF Conservative Fund N'}, inplace=True)\n",
    "\n",
    "mpf15 = yf.Ticker(\"0P0000V1BS.HK\")  \n",
    "hist15 = mpf15.history(period=\"3y\")\n",
    "CapGuranteed = hist15.drop (columns=[\"Open\",\"High\",\"Low\",\"Volume\",\"Dividends\",\"Stock Splits\"],axis=1)\n",
    "CapGuranteed.rename(columns={'Close':'Principal Capital Guaranteed Fund I'}, inplace=True)                        \n",
    "                             \n",
    "import pandas as pd\n",
    "df = pd.concat([ChinaEquity, HSITracking, HKEquity, AsianEquity, USEquity, IntEquity, GlobalGrowth, LTAccum, StableYield,\n",
    "IntBond,LTGuranteed,HKBond,HKDSavings,Conservative,CapGuranteed], join='inner', axis=1)\n",
    "print(df)\n",
    "\n"
   ]
  },
  {
   "cell_type": "code",
   "execution_count": 4,
   "metadata": {},
   "outputs": [],
   "source": [
    "## Summary"
   ]
  },
  {
   "cell_type": "code",
   "execution_count": 5,
   "metadata": {
    "scrolled": true
   },
   "outputs": [
    {
     "data": {
      "text/html": [
       "<div>\n",
       "<style scoped>\n",
       "    .dataframe tbody tr th:only-of-type {\n",
       "        vertical-align: middle;\n",
       "    }\n",
       "\n",
       "    .dataframe tbody tr th {\n",
       "        vertical-align: top;\n",
       "    }\n",
       "\n",
       "    .dataframe thead th {\n",
       "        text-align: right;\n",
       "    }\n",
       "</style>\n",
       "<table border=\"1\" class=\"dataframe\">\n",
       "  <thead>\n",
       "    <tr style=\"text-align: right;\">\n",
       "      <th></th>\n",
       "      <th>count</th>\n",
       "      <th>mean</th>\n",
       "      <th>std</th>\n",
       "      <th>min</th>\n",
       "      <th>25%</th>\n",
       "      <th>50%</th>\n",
       "      <th>75%</th>\n",
       "      <th>max</th>\n",
       "    </tr>\n",
       "  </thead>\n",
       "  <tbody>\n",
       "    <tr>\n",
       "      <th>Principal China Equity Fund I</th>\n",
       "      <td>713.0</td>\n",
       "      <td>15.746832</td>\n",
       "      <td>1.604468</td>\n",
       "      <td>12.401</td>\n",
       "      <td>14.601</td>\n",
       "      <td>15.432</td>\n",
       "      <td>16.801</td>\n",
       "      <td>22.533</td>\n",
       "    </tr>\n",
       "    <tr>\n",
       "      <th>Principal Hang Seng Index Tracking Fund N</th>\n",
       "      <td>713.0</td>\n",
       "      <td>15.036262</td>\n",
       "      <td>0.967180</td>\n",
       "      <td>12.215</td>\n",
       "      <td>14.324</td>\n",
       "      <td>15.045</td>\n",
       "      <td>15.764</td>\n",
       "      <td>17.148</td>\n",
       "    </tr>\n",
       "    <tr>\n",
       "      <th>Principal Hong Kong Equity Fund I</th>\n",
       "      <td>713.0</td>\n",
       "      <td>27.569572</td>\n",
       "      <td>2.330894</td>\n",
       "      <td>21.600</td>\n",
       "      <td>25.957</td>\n",
       "      <td>27.399</td>\n",
       "      <td>28.952</td>\n",
       "      <td>37.357</td>\n",
       "    </tr>\n",
       "    <tr>\n",
       "      <th>Principal Asian Equity Fund I</th>\n",
       "      <td>713.0</td>\n",
       "      <td>40.007842</td>\n",
       "      <td>4.315907</td>\n",
       "      <td>27.129</td>\n",
       "      <td>37.256</td>\n",
       "      <td>39.327</td>\n",
       "      <td>42.323</td>\n",
       "      <td>54.843</td>\n",
       "    </tr>\n",
       "    <tr>\n",
       "      <th>Principal US Equity Fund I</th>\n",
       "      <td>713.0</td>\n",
       "      <td>18.596302</td>\n",
       "      <td>1.463579</td>\n",
       "      <td>13.752</td>\n",
       "      <td>17.731</td>\n",
       "      <td>18.450</td>\n",
       "      <td>19.288</td>\n",
       "      <td>23.017</td>\n",
       "    </tr>\n",
       "    <tr>\n",
       "      <th>Principal International Equity Fund I</th>\n",
       "      <td>713.0</td>\n",
       "      <td>17.441832</td>\n",
       "      <td>1.444274</td>\n",
       "      <td>11.951</td>\n",
       "      <td>16.744</td>\n",
       "      <td>17.447</td>\n",
       "      <td>18.146</td>\n",
       "      <td>21.842</td>\n",
       "    </tr>\n",
       "    <tr>\n",
       "      <th>Principal Global Growth Fund I</th>\n",
       "      <td>713.0</td>\n",
       "      <td>24.144345</td>\n",
       "      <td>1.544596</td>\n",
       "      <td>19.309</td>\n",
       "      <td>23.250</td>\n",
       "      <td>24.028</td>\n",
       "      <td>24.906</td>\n",
       "      <td>29.587</td>\n",
       "    </tr>\n",
       "    <tr>\n",
       "      <th>Principal Long Term Accumulation Fund I</th>\n",
       "      <td>713.0</td>\n",
       "      <td>19.600285</td>\n",
       "      <td>1.039564</td>\n",
       "      <td>16.721</td>\n",
       "      <td>19.074</td>\n",
       "      <td>19.460</td>\n",
       "      <td>19.949</td>\n",
       "      <td>23.171</td>\n",
       "    </tr>\n",
       "    <tr>\n",
       "      <th>Principal Stable Yield Fund I</th>\n",
       "      <td>713.0</td>\n",
       "      <td>18.212212</td>\n",
       "      <td>0.765240</td>\n",
       "      <td>16.532</td>\n",
       "      <td>17.783</td>\n",
       "      <td>18.101</td>\n",
       "      <td>18.473</td>\n",
       "      <td>20.605</td>\n",
       "    </tr>\n",
       "    <tr>\n",
       "      <th>Principal International Bond Fund I</th>\n",
       "      <td>713.0</td>\n",
       "      <td>17.770163</td>\n",
       "      <td>0.705907</td>\n",
       "      <td>16.649</td>\n",
       "      <td>17.114</td>\n",
       "      <td>17.798</td>\n",
       "      <td>18.245</td>\n",
       "      <td>19.165</td>\n",
       "    </tr>\n",
       "    <tr>\n",
       "      <th>Principal Long Term Guaranteed Fund I</th>\n",
       "      <td>713.0</td>\n",
       "      <td>12.614613</td>\n",
       "      <td>0.380408</td>\n",
       "      <td>11.777</td>\n",
       "      <td>12.342</td>\n",
       "      <td>12.591</td>\n",
       "      <td>12.804</td>\n",
       "      <td>13.497</td>\n",
       "    </tr>\n",
       "    <tr>\n",
       "      <th>Principal Hong Kong Bond Fund N</th>\n",
       "      <td>713.0</td>\n",
       "      <td>11.017198</td>\n",
       "      <td>0.436261</td>\n",
       "      <td>10.412</td>\n",
       "      <td>10.538</td>\n",
       "      <td>11.018</td>\n",
       "      <td>11.486</td>\n",
       "      <td>11.705</td>\n",
       "    </tr>\n",
       "    <tr>\n",
       "      <th>Principal HK Dollar Savings Fund I</th>\n",
       "      <td>713.0</td>\n",
       "      <td>11.070097</td>\n",
       "      <td>0.134983</td>\n",
       "      <td>10.878</td>\n",
       "      <td>10.937</td>\n",
       "      <td>11.067</td>\n",
       "      <td>11.206</td>\n",
       "      <td>11.277</td>\n",
       "    </tr>\n",
       "    <tr>\n",
       "      <th>Principal MPF Conservative Fund N</th>\n",
       "      <td>713.0</td>\n",
       "      <td>11.383595</td>\n",
       "      <td>0.101122</td>\n",
       "      <td>11.231</td>\n",
       "      <td>11.286</td>\n",
       "      <td>11.383</td>\n",
       "      <td>11.490</td>\n",
       "      <td>11.516</td>\n",
       "    </tr>\n",
       "    <tr>\n",
       "      <th>Principal Capital Guaranteed Fund I</th>\n",
       "      <td>713.0</td>\n",
       "      <td>11.509959</td>\n",
       "      <td>0.071284</td>\n",
       "      <td>11.407</td>\n",
       "      <td>11.438</td>\n",
       "      <td>11.512</td>\n",
       "      <td>11.581</td>\n",
       "      <td>11.608</td>\n",
       "    </tr>\n",
       "  </tbody>\n",
       "</table>\n",
       "</div>"
      ],
      "text/plain": [
       "                                           count       mean       std     min  \\\n",
       "Principal China Equity Fund I              713.0  15.746832  1.604468  12.401   \n",
       "Principal Hang Seng Index Tracking Fund N  713.0  15.036262  0.967180  12.215   \n",
       "Principal Hong Kong Equity Fund I          713.0  27.569572  2.330894  21.600   \n",
       "Principal Asian Equity Fund I              713.0  40.007842  4.315907  27.129   \n",
       "Principal US Equity Fund I                 713.0  18.596302  1.463579  13.752   \n",
       "Principal International Equity Fund I      713.0  17.441832  1.444274  11.951   \n",
       "Principal Global Growth Fund I             713.0  24.144345  1.544596  19.309   \n",
       "Principal Long Term Accumulation Fund I    713.0  19.600285  1.039564  16.721   \n",
       "Principal Stable Yield Fund I              713.0  18.212212  0.765240  16.532   \n",
       "Principal International Bond Fund I        713.0  17.770163  0.705907  16.649   \n",
       "Principal Long Term Guaranteed Fund I      713.0  12.614613  0.380408  11.777   \n",
       "Principal Hong Kong Bond Fund N            713.0  11.017198  0.436261  10.412   \n",
       "Principal HK Dollar Savings Fund I         713.0  11.070097  0.134983  10.878   \n",
       "Principal MPF Conservative Fund N          713.0  11.383595  0.101122  11.231   \n",
       "Principal Capital Guaranteed Fund I        713.0  11.509959  0.071284  11.407   \n",
       "\n",
       "                                              25%     50%     75%     max  \n",
       "Principal China Equity Fund I              14.601  15.432  16.801  22.533  \n",
       "Principal Hang Seng Index Tracking Fund N  14.324  15.045  15.764  17.148  \n",
       "Principal Hong Kong Equity Fund I          25.957  27.399  28.952  37.357  \n",
       "Principal Asian Equity Fund I              37.256  39.327  42.323  54.843  \n",
       "Principal US Equity Fund I                 17.731  18.450  19.288  23.017  \n",
       "Principal International Equity Fund I      16.744  17.447  18.146  21.842  \n",
       "Principal Global Growth Fund I             23.250  24.028  24.906  29.587  \n",
       "Principal Long Term Accumulation Fund I    19.074  19.460  19.949  23.171  \n",
       "Principal Stable Yield Fund I              17.783  18.101  18.473  20.605  \n",
       "Principal International Bond Fund I        17.114  17.798  18.245  19.165  \n",
       "Principal Long Term Guaranteed Fund I      12.342  12.591  12.804  13.497  \n",
       "Principal Hong Kong Bond Fund N            10.538  11.018  11.486  11.705  \n",
       "Principal HK Dollar Savings Fund I         10.937  11.067  11.206  11.277  \n",
       "Principal MPF Conservative Fund N          11.286  11.383  11.490  11.516  \n",
       "Principal Capital Guaranteed Fund I        11.438  11.512  11.581  11.608  "
      ]
     },
     "execution_count": 5,
     "metadata": {},
     "output_type": "execute_result"
    }
   ],
   "source": [
    "describe = df.describe()\n",
    "describe = pd.DataFrame(describe)\n",
    "describe = describe.T\n",
    "describe"
   ]
  },
  {
   "cell_type": "code",
   "execution_count": 7,
   "metadata": {},
   "outputs": [],
   "source": [
    "mu = mean_historical_return(df)\n",
    "S = CovarianceShrinkage(df).ledoit_wolf()"
   ]
  },
  {
   "cell_type": "code",
   "execution_count": 8,
   "metadata": {
    "scrolled": true
   },
   "outputs": [
    {
     "data": {
      "text/plain": [
       "<matplotlib.axes._subplots.AxesSubplot at 0x7fdadc355340>"
      ]
     },
     "execution_count": 8,
     "metadata": {},
     "output_type": "execute_result"
    },
    {
     "data": {
      "image/png": "[encoded data removed]",
      "text/plain": [
       "<Figure size 720x432 with 1 Axes>"
      ]
     },
     "metadata": {
      "needs_background": "light"
     },
     "output_type": "display_data"
    }
   ],
   "source": [
    "mu.plot.barh(figsize=(10,6))"
   ]
  },
  {
   "cell_type": "code",
   "execution_count": 9,
   "metadata": {},
   "outputs": [],
   "source": [
    "## Function 1 - Portfolio Optimization for maximal Sharpe ratio"
   ]
  },
  {
   "cell_type": "code",
   "execution_count": 10,
   "metadata": {
    "scrolled": true
   },
   "outputs": [
    {
     "name": "stdout",
     "output_type": "stream",
     "text": [
      "OrderedDict([('Principal China Equity Fund I', 0.05708), ('Principal Hang Seng Index Tracking Fund N', 0.0), ('Principal Hong Kong Equity Fund I', 0.0), ('Principal Asian Equity Fund I', 0.0), ('Principal US Equity Fund I', 0.06607), ('Principal International Equity Fund I', 0.0), ('Principal Global Growth Fund I', 0.0), ('Principal Long Term Accumulation Fund I', 0.0), ('Principal Stable Yield Fund I', 0.0), ('Principal International Bond Fund I', 0.0), ('Principal Long Term Guaranteed Fund I', 0.0), ('Principal Hong Kong Bond Fund N', 0.87685), ('Principal HK Dollar Savings Fund I', 0.0), ('Principal MPF Conservative Fund N', 0.0), ('Principal Capital Guaranteed Fund I', 0.0)])\n"
     ]
    },
    {
     "data": {
      "text/plain": [
       "<matplotlib.axes._subplots.AxesSubplot at 0x7fdadc42a160>"
      ]
     },
     "execution_count": 10,
     "metadata": {},
     "output_type": "execute_result"
    },
    {
     "data": {
      "image/png": "[encoded data removed]",
      "text/plain": [
       "<Figure size 360x360 with 1 Axes>"
      ]
     },
     "metadata": {},
     "output_type": "display_data"
    }
   ],
   "source": [
    "ef1 = EfficientFrontier(mu, S)\n",
    "\n",
    "weight = ef1.max_sharpe() #raw weights\n",
    "cleanweight1 = ef1.clean_weights() #cleaned weights\n",
    "print(cleanweight1)\n",
    "pd.Series(cleanweight1).plot.pie(figsize=(5,5))"
   ]
  },
  {
   "cell_type": "code",
   "execution_count": 22,
   "metadata": {
    "scrolled": true
   },
   "outputs": [
    {
     "name": "stdout",
     "output_type": "stream",
     "text": [
      "Performance of portfolio:\n",
      "Expected annual return: 4.6%\n",
      "Annual volatility: 3.1%\n",
      "Sharpe Ratio: 0.84\n"
     ]
    }
   ],
   "source": [
    "print(\"Performance of portfolio:\")\n",
    "ret,vol,sharpe = ef1.portfolio_performance(verbose=True)"
   ]
  },
  {
   "cell_type": "code",
   "execution_count": 23,
   "metadata": {},
   "outputs": [],
   "source": [
    "## Function 2- Portfolio Optimization with given Risk Tolerance"
   ]
  },
  {
   "cell_type": "code",
   "execution_count": 24,
   "metadata": {
    "scrolled": false
   },
   "outputs": [
    {
     "name": "stdout",
     "output_type": "stream",
     "text": [
      "OrderedDict([('Principal China Equity Fund I', 0.26428), ('Principal Hang Seng Index Tracking Fund N', 0.0), ('Principal Hong Kong Equity Fund I', 0.0), ('Principal Asian Equity Fund I', 0.0), ('Principal US Equity Fund I', 0.29844), ('Principal International Equity Fund I', 0.0), ('Principal Global Growth Fund I', 0.0), ('Principal Long Term Accumulation Fund I', 0.0), ('Principal Stable Yield Fund I', 0.0), ('Principal International Bond Fund I', 0.0), ('Principal Long Term Guaranteed Fund I', 0.0), ('Principal Hong Kong Bond Fund N', 0.43729), ('Principal HK Dollar Savings Fund I', 0.0), ('Principal MPF Conservative Fund N', 0.0), ('Principal Capital Guaranteed Fund I', 0.0)])\n"
     ]
    },
    {
     "data": {
      "text/plain": [
       "<matplotlib.axes._subplots.AxesSubplot at 0x7fdadc5b4f70>"
      ]
     },
     "execution_count": 24,
     "metadata": {},
     "output_type": "execute_result"
    },
    {
     "data": {
      "image/png": "[encoded data removed]",
      "text/plain": [
       "<Figure size 360x360 with 1 Axes>"
      ]
     },
     "metadata": {},
     "output_type": "display_data"
    }
   ],
   "source": [
    "ef2 = EfficientFrontier(mu, S)\n",
    "\n",
    "ef2.efficient_risk(target_volatility=0.1) #input desired volatility - default as ten percent\n",
    "cleanweight2 = ef2.clean_weights()\n",
    "print(cleanweight2)\n",
    "pd.Series(cleanweight2).plot.pie(figsize=(5,5))"
   ]
  },
  {
   "cell_type": "code",
   "execution_count": 25,
   "metadata": {
    "scrolled": true
   },
   "outputs": [
    {
     "name": "stdout",
     "output_type": "stream",
     "text": [
      "Performance of portfolio:\n",
      "Expected annual return: 8.1%\n",
      "Annual volatility: 10.0%\n",
      "Sharpe Ratio: 0.61\n"
     ]
    }
   ],
   "source": [
    "print(\"Performance of portfolio:\")\n",
    "ret,vol,sharpe = ef2.portfolio_performance(verbose=True)"
   ]
  },
  {
   "cell_type": "code",
   "execution_count": 15,
   "metadata": {},
   "outputs": [],
   "source": [
    "## Function 3 - Minimise risk for a given return"
   ]
  },
  {
   "cell_type": "code",
   "execution_count": 16,
   "metadata": {
    "scrolled": false
   },
   "outputs": [
    {
     "name": "stdout",
     "output_type": "stream",
     "text": [
      "OrderedDict([('Principal China Equity Fund I', 0.37517), ('Principal Hang Seng Index Tracking Fund N', 0.0), ('Principal Hong Kong Equity Fund I', 0.0), ('Principal Asian Equity Fund I', 0.0), ('Principal US Equity Fund I', 0.4228), ('Principal International Equity Fund I', 0.0), ('Principal Global Growth Fund I', 0.0), ('Principal Long Term Accumulation Fund I', 0.0), ('Principal Stable Yield Fund I', 0.0), ('Principal International Bond Fund I', 0.0), ('Principal Long Term Guaranteed Fund I', 0.0), ('Principal Hong Kong Bond Fund N', 0.20203), ('Principal HK Dollar Savings Fund I', 0.0), ('Principal MPF Conservative Fund N', 0.0), ('Principal Capital Guaranteed Fund I', 0.0)])\n"
     ]
    },
    {
     "data": {
      "text/plain": [
       "<matplotlib.axes._subplots.AxesSubplot at 0x7fdadc742eb0>"
      ]
     },
     "execution_count": 16,
     "metadata": {},
     "output_type": "execute_result"
    },
    {
     "data": {
      "image/png": "[encoded data removed]",
      "text/plain": [
       "<Figure size 360x360 with 1 Axes>"
      ]
     },
     "metadata": {},
     "output_type": "display_data"
    }
   ],
   "source": [
    "ef3 = EfficientFrontier(mu, S)\n",
    "ef3.efficient_return(target_return=0.1) #input desired return - default as ten percent\n",
    "cleanweight3 = ef3.clean_weights()\n",
    "print(cleanweight3)\n",
    "pd.Series(cleanweight3).plot.pie(figsize=(5,5))"
   ]
  },
  {
   "cell_type": "code",
   "execution_count": 17,
   "metadata": {},
   "outputs": [
    {
     "name": "stdout",
     "output_type": "stream",
     "text": [
      "Performance of portfolio:\n",
      "Expected annual return: 10.0%\n",
      "Annual volatility: 14.2%\n",
      "Sharpe Ratio: 0.56\n"
     ]
    }
   ],
   "source": [
    "print(\"Performance of portfolio:\")\n",
    "ret,vol,sharpe = ef3.portfolio_performance(verbose=True)"
   ]
  }
 ],
 "metadata": {
  "kernelspec": {
   "display_name": "Python 3",
   "language": "python",
   "name": "python3"
  }
 },
 "nbformat": 4,
 "nbformat_minor": 4
}
